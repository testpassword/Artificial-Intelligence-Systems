{
  "nbformat": 4,
  "nbformat_minor": 0,
  "metadata": {
    "kernelspec": {
      "display_name": "Python 3",
      "language": "python",
      "name": "python3"
    },
    "language_info": {
      "codemirror_mode": {
        "name": "ipython",
        "version": 3
      },
      "file_extension": ".py",
      "mimetype": "text/x-python",
      "name": "python",
      "nbconvert_exporter": "python",
      "pygments_lexer": "ipython3",
      "version": "3.7.0"
    },
    "colab": {
      "name": "Lab0-Part2.ipynb",
      "provenance": [],
      "collapsed_sections": []
    },
    "widgets": {
      "application/vnd.jupyter.widget-state+json": {
        "a57698cc9b004c4a9a1f6f9e2ee0e97d": {
          "model_module": "@jupyter-widgets/controls",
          "model_name": "VBoxModel",
          "state": {
            "_view_name": "VBoxView",
            "_dom_classes": [
              "widget-interact"
            ],
            "_model_name": "VBoxModel",
            "_view_module": "@jupyter-widgets/controls",
            "_model_module_version": "1.5.0",
            "_view_count": null,
            "_view_module_version": "1.5.0",
            "box_style": "",
            "layout": "IPY_MODEL_328c29c1b42b4dd4aeced4495ef2a5d7",
            "_model_module": "@jupyter-widgets/controls",
            "children": [
              "IPY_MODEL_82b488e69dcd42f1b700ec8736c321e0",
              "IPY_MODEL_b10abf0165a24358b671019676643fcd",
              "IPY_MODEL_9095027fc2764a4fbfe58ba00bda47b4",
              "IPY_MODEL_7314543e3f3f4715971d4f32ffc2b46d",
              "IPY_MODEL_f92e3a8be6b944e2b9203415ba8d0f24",
              "IPY_MODEL_adfa8a831e0e48668b2fd455f2285989",
              "IPY_MODEL_71947344282c4cffb83a52dd9f530602",
              "IPY_MODEL_23e2b8d086254f70b1795cff82bbee0c",
              "IPY_MODEL_521dd3662e794421b11c2ee916126a98",
              "IPY_MODEL_17212b4cb8b047ae85051db6b949d977",
              "IPY_MODEL_bb45c32d75884745bef8fd7d9291ca5b",
              "IPY_MODEL_b6816ef9056245998bff2ef52a43e438",
              "IPY_MODEL_8b88819c32cf457c8d5fdcb9742352fb",
              "IPY_MODEL_e37c9f3d8733454f89c93f0bca389459",
              "IPY_MODEL_c4b4a5a638ba46049fda7f8487bcaa8e"
            ]
          }
        },
        "328c29c1b42b4dd4aeced4495ef2a5d7": {
          "model_module": "@jupyter-widgets/base",
          "model_name": "LayoutModel",
          "state": {
            "_view_name": "LayoutView",
            "grid_template_rows": null,
            "right": null,
            "justify_content": null,
            "_view_module": "@jupyter-widgets/base",
            "overflow": null,
            "_model_module_version": "1.2.0",
            "_view_count": null,
            "flex_flow": null,
            "width": null,
            "min_width": null,
            "border": null,
            "align_items": null,
            "bottom": null,
            "_model_module": "@jupyter-widgets/base",
            "top": null,
            "grid_column": null,
            "overflow_y": null,
            "overflow_x": null,
            "grid_auto_flow": null,
            "grid_area": null,
            "grid_template_columns": null,
            "flex": null,
            "_model_name": "LayoutModel",
            "justify_items": null,
            "grid_row": null,
            "max_height": null,
            "align_content": null,
            "visibility": null,
            "align_self": null,
            "height": null,
            "min_height": null,
            "padding": null,
            "grid_auto_rows": null,
            "grid_gap": null,
            "max_width": null,
            "order": null,
            "_view_module_version": "1.2.0",
            "grid_template_areas": null,
            "object_position": null,
            "object_fit": null,
            "grid_auto_columns": null,
            "margin": null,
            "display": null,
            "left": null
          }
        },
        "82b488e69dcd42f1b700ec8736c321e0": {
          "model_module": "@jupyter-widgets/controls",
          "model_name": "IntSliderModel",
          "state": {
            "_view_name": "IntSliderView",
            "style": "IPY_MODEL_eea291d63cfb40458e69b74133f423ce",
            "_dom_classes": [],
            "description": "Layers: ",
            "step": 1,
            "_model_name": "IntSliderModel",
            "orientation": "horizontal",
            "max": 4,
            "_view_module": "@jupyter-widgets/controls",
            "_model_module_version": "1.5.0",
            "value": 2,
            "_view_count": null,
            "disabled": false,
            "_view_module_version": "1.5.0",
            "min": 0,
            "continuous_update": true,
            "readout_format": "d",
            "description_tooltip": null,
            "readout": true,
            "_model_module": "@jupyter-widgets/controls",
            "layout": "IPY_MODEL_1c96418ba37b4c6885c1bbe35e96d8dd"
          }
        },
        "b10abf0165a24358b671019676643fcd": {
          "model_module": "@jupyter-widgets/controls",
          "model_name": "DropdownModel",
          "state": {
            "_options_labels": [
              "Standard deviation",
              "Mean absolute deviation",
              "Binary crossentropy",
              "Categorical crossentropy"
            ],
            "_view_name": "DropdownView",
            "style": "IPY_MODEL_a070a67c5836420eafaf07fe5cb10398",
            "_dom_classes": [],
            "description": "Loss function: ",
            "_model_name": "DropdownModel",
            "index": 3,
            "_view_module": "@jupyter-widgets/controls",
            "_model_module_version": "1.5.0",
            "_view_count": null,
            "disabled": false,
            "_view_module_version": "1.5.0",
            "description_tooltip": null,
            "_model_module": "@jupyter-widgets/controls",
            "layout": "IPY_MODEL_fc16ecaeaa064ce1a85e85b717f76450"
          }
        },
        "9095027fc2764a4fbfe58ba00bda47b4": {
          "model_module": "@jupyter-widgets/controls",
          "model_name": "BoundedIntTextModel",
          "state": {
            "_view_name": "IntTextView",
            "style": "IPY_MODEL_f1a77be3a8d54a3198e09966721d06ae",
            "_dom_classes": [],
            "description": "Batch size: ",
            "_model_name": "BoundedIntTextModel",
            "max": 50000,
            "_view_module": "@jupyter-widgets/controls",
            "_model_module_version": "1.5.0",
            "value": 100,
            "_view_count": null,
            "disabled": false,
            "_view_module_version": "1.5.0",
            "min": 0,
            "continuous_update": false,
            "step": 1,
            "description_tooltip": null,
            "_model_module": "@jupyter-widgets/controls",
            "layout": "IPY_MODEL_1817a9dd15004baf9243bd0341b12376"
          }
        },
        "7314543e3f3f4715971d4f32ffc2b46d": {
          "model_module": "@jupyter-widgets/controls",
          "model_name": "ToggleButtonsModel",
          "state": {
            "_options_labels": [
              "-0.1",
              "0",
              "0.001",
              "0.01",
              "0.05",
              "0.1",
              "0.5",
              "1",
              "5"
            ],
            "_view_name": "ToggleButtonsView",
            "style": "IPY_MODEL_4af9133d1c324a5aa384540a35741251",
            "_dom_classes": [],
            "description": "Learn rate: ",
            "_model_name": "ToggleButtonsModel",
            "tooltips": [],
            "index": 4,
            "button_style": "",
            "_view_module": "@jupyter-widgets/controls",
            "_model_module_version": "1.5.0",
            "_view_count": null,
            "disabled": false,
            "_view_module_version": "1.5.0",
            "icons": [],
            "description_tooltip": null,
            "_model_module": "@jupyter-widgets/controls",
            "layout": "IPY_MODEL_138717f827754fd89250952ef3f65d31"
          }
        },
        "f92e3a8be6b944e2b9203415ba8d0f24": {
          "model_module": "@jupyter-widgets/controls",
          "model_name": "ToggleButtonsModel",
          "state": {
            "_options_labels": [
              "-0.1",
              "0",
              "0.0001",
              "0.0005",
              "0.001",
              "0.005",
              "0.01",
              "0.05",
              "0.1"
            ],
            "_view_name": "ToggleButtonsView",
            "style": "IPY_MODEL_23e7f2c07b1747c9b741452f586ec568",
            "_dom_classes": [],
            "description": "Regularization  L1: ",
            "_model_name": "ToggleButtonsModel",
            "tooltips": [],
            "index": 4,
            "button_style": "",
            "_view_module": "@jupyter-widgets/controls",
            "_model_module_version": "1.5.0",
            "_view_count": null,
            "disabled": false,
            "_view_module_version": "1.5.0",
            "icons": [],
            "description_tooltip": null,
            "_model_module": "@jupyter-widgets/controls",
            "layout": "IPY_MODEL_daeee090910b40dcbeb547755c6154a8"
          }
        },
        "adfa8a831e0e48668b2fd455f2285989": {
          "model_module": "@jupyter-widgets/controls",
          "model_name": "ToggleButtonsModel",
          "state": {
            "_options_labels": [
              "-0.1",
              "0",
              "0.0001",
              "0.0005",
              "0.001",
              "0.005",
              "0.01",
              "0.05",
              "0.1"
            ],
            "_view_name": "ToggleButtonsView",
            "style": "IPY_MODEL_a1a389cbde2f4451af374674e21d0cd5",
            "_dom_classes": [],
            "description": "Regularization  L2: ",
            "_model_name": "ToggleButtonsModel",
            "tooltips": [],
            "index": 2,
            "button_style": "",
            "_view_module": "@jupyter-widgets/controls",
            "_model_module_version": "1.5.0",
            "_view_count": null,
            "disabled": false,
            "_view_module_version": "1.5.0",
            "icons": [],
            "description_tooltip": null,
            "_model_module": "@jupyter-widgets/controls",
            "layout": "IPY_MODEL_66383874aa34457f90a350842c05ede9"
          }
        },
        "71947344282c4cffb83a52dd9f530602": {
          "model_module": "@jupyter-widgets/controls",
          "model_name": "DropdownModel",
          "state": {
            "_options_labels": [
              "softmax",
              "relu",
              "tanh",
              "sigmoid",
              "linear"
            ],
            "_view_name": "DropdownView",
            "style": "IPY_MODEL_15f3546688274871adb9d7be244e2a06",
            "_dom_classes": [],
            "description": "Output layer activation type: ",
            "_model_name": "DropdownModel",
            "index": 3,
            "_view_module": "@jupyter-widgets/controls",
            "_model_module_version": "1.5.0",
            "_view_count": null,
            "disabled": false,
            "_view_module_version": "1.5.0",
            "description_tooltip": null,
            "_model_module": "@jupyter-widgets/controls",
            "layout": "IPY_MODEL_dd9a08cd49334af0b9d34dd239a3a6b5"
          }
        },
        "23e2b8d086254f70b1795cff82bbee0c": {
          "model_module": "@jupyter-widgets/controls",
          "model_name": "IntSliderModel",
          "state": {
            "_view_name": "IntSliderView",
            "style": "IPY_MODEL_fd5eb77bffc74afeadf50c4d9d21666b",
            "_dom_classes": [],
            "description": "Epoch count: ",
            "step": 10,
            "_model_name": "IntSliderModel",
            "orientation": "horizontal",
            "max": 100,
            "_view_module": "@jupyter-widgets/controls",
            "_model_module_version": "1.5.0",
            "value": 20,
            "_view_count": null,
            "disabled": false,
            "_view_module_version": "1.5.0",
            "min": 10,
            "continuous_update": true,
            "readout_format": "d",
            "description_tooltip": null,
            "readout": true,
            "_model_module": "@jupyter-widgets/controls",
            "layout": "IPY_MODEL_d9d4c0c33a604ef89c1ef3ac5a037b18"
          }
        },
        "521dd3662e794421b11c2ee916126a98": {
          "model_module": "@jupyter-widgets/controls",
          "model_name": "IntSliderModel",
          "state": {
            "_view_name": "IntSliderView",
            "style": "IPY_MODEL_4cc15571cd87422583aacdbd4614be14",
            "_dom_classes": [],
            "description": "Neurons per layer: ",
            "step": 1,
            "_model_name": "IntSliderModel",
            "orientation": "horizontal",
            "max": 20,
            "_view_module": "@jupyter-widgets/controls",
            "_model_module_version": "1.5.0",
            "value": 6,
            "_view_count": null,
            "disabled": false,
            "_view_module_version": "1.5.0",
            "min": 0,
            "continuous_update": true,
            "readout_format": "d",
            "description_tooltip": null,
            "readout": true,
            "_model_module": "@jupyter-widgets/controls",
            "layout": "IPY_MODEL_34ba58c128104f87b7136661bce32a11"
          }
        },
        "17212b4cb8b047ae85051db6b949d977": {
          "model_module": "@jupyter-widgets/controls",
          "model_name": "DropdownModel",
          "state": {
            "_options_labels": [
              "softmax",
              "relu",
              "tanh",
              "sigmoid",
              "linear"
            ],
            "_view_name": "DropdownView",
            "style": "IPY_MODEL_913772231c47408b9ca4f6a9b9f1f05d",
            "_dom_classes": [],
            "description": "Layer 1 activation type: ",
            "_model_name": "DropdownModel",
            "index": 1,
            "_view_module": "@jupyter-widgets/controls",
            "_model_module_version": "1.5.0",
            "_view_count": null,
            "disabled": false,
            "_view_module_version": "1.5.0",
            "description_tooltip": null,
            "_model_module": "@jupyter-widgets/controls",
            "layout": "IPY_MODEL_ca588d8228a449fbba28c9d7985facce"
          }
        },
        "bb45c32d75884745bef8fd7d9291ca5b": {
          "model_module": "@jupyter-widgets/controls",
          "model_name": "DropdownModel",
          "state": {
            "_options_labels": [
              "softmax",
              "relu",
              "tanh",
              "sigmoid",
              "linear"
            ],
            "_view_name": "DropdownView",
            "style": "IPY_MODEL_3ec96ef3b8e74601ae035f1014213da1",
            "_dom_classes": [],
            "description": "Layer 2 activation type ",
            "_model_name": "DropdownModel",
            "index": 1,
            "_view_module": "@jupyter-widgets/controls",
            "_model_module_version": "1.5.0",
            "_view_count": null,
            "disabled": false,
            "_view_module_version": "1.5.0",
            "description_tooltip": null,
            "_model_module": "@jupyter-widgets/controls",
            "layout": "IPY_MODEL_833eed881528428e887d3ba5fbeda857"
          }
        },
        "b6816ef9056245998bff2ef52a43e438": {
          "model_module": "@jupyter-widgets/controls",
          "model_name": "DropdownModel",
          "state": {
            "_options_labels": [
              "softmax",
              "relu",
              "tanh",
              "sigmoid",
              "linear"
            ],
            "_view_name": "DropdownView",
            "style": "IPY_MODEL_0f157a4b95334974893ae0dbd7a5d1a0",
            "_dom_classes": [],
            "description": "Layer 3 activation type: ",
            "_model_name": "DropdownModel",
            "index": 1,
            "_view_module": "@jupyter-widgets/controls",
            "_model_module_version": "1.5.0",
            "_view_count": null,
            "disabled": false,
            "_view_module_version": "1.5.0",
            "description_tooltip": null,
            "_model_module": "@jupyter-widgets/controls",
            "layout": "IPY_MODEL_43693ec71f134eafae4b5b5cc601176d"
          }
        },
        "8b88819c32cf457c8d5fdcb9742352fb": {
          "model_module": "@jupyter-widgets/controls",
          "model_name": "DropdownModel",
          "state": {
            "_options_labels": [
              "softmax",
              "relu",
              "tanh",
              "sigmoid",
              "linear"
            ],
            "_view_name": "DropdownView",
            "style": "IPY_MODEL_b2d3a8da3a1d4b4995c95a5f78e20b0c",
            "_dom_classes": [],
            "description": "Layer 4 activation type: ",
            "_model_name": "DropdownModel",
            "index": 1,
            "_view_module": "@jupyter-widgets/controls",
            "_model_module_version": "1.5.0",
            "_view_count": null,
            "disabled": false,
            "_view_module_version": "1.5.0",
            "description_tooltip": null,
            "_model_module": "@jupyter-widgets/controls",
            "layout": "IPY_MODEL_25d3044071c843d381fb80e72d3a53ce"
          }
        },
        "e37c9f3d8733454f89c93f0bca389459": {
          "model_module": "@jupyter-widgets/controls",
          "model_name": "ButtonModel",
          "state": {
            "_view_name": "ButtonView",
            "style": "IPY_MODEL_314f02f2d0a04d6c9ffdc26927eda03e",
            "_dom_classes": [],
            "description": "Run Interact",
            "_model_name": "ButtonModel",
            "button_style": "",
            "_view_module": "@jupyter-widgets/controls",
            "_model_module_version": "1.5.0",
            "tooltip": "",
            "_view_count": null,
            "disabled": false,
            "_view_module_version": "1.5.0",
            "layout": "IPY_MODEL_69da50080ee4493c8b3d213697045763",
            "_model_module": "@jupyter-widgets/controls",
            "icon": ""
          }
        },
        "c4b4a5a638ba46049fda7f8487bcaa8e": {
          "model_module": "@jupyter-widgets/output",
          "model_name": "OutputModel",
          "state": {
            "_view_name": "OutputView",
            "msg_id": "",
            "_dom_classes": [],
            "_model_name": "OutputModel",
            "outputs": [
              {
                "output_type": "stream",
                "metadata": {
                  "tags": []
                },
                "text": "Epoch 1/20\n",
                "stream": "stdout"
              },
              {
                "output_type": "stream",
                "metadata": {
                  "tags": []
                },
                "text": "\r  1/500 [..............................] - ETA: 0s - loss: 867.2555 - acc: 0.5700",
                "stream": "stdout"
              },
              {
                "output_type": "stream",
                "metadata": {
                  "tags": []
                },
                "text": "\b\b\b\b\b\b\b\b\b\b\b\b\b\b\b\b\b\b\b\b\b\b\b\b\b\b\b\b\b\b\b\b\b\b\b\b\b\b\b\b\b\b\b\b\b\b\b\b\b\b\b\b\b\b\b\b\b\b\b\b\b\b\b\b\b\b\b\b\b\b\b\b\b\b\b\b\b\b\b\b\b\r 16/500 [..............................] - ETA: 1s - loss: 508.6124 - acc: 0.0356",
                "stream": "stdout"
              },
              {
                "output_type": "stream",
                "metadata": {
                  "tags": []
                },
                "text": "\b\b\b\b\b\b\b\b\b\b\b\b\b\b\b\b\b\b\b\b\b\b\b\b\b\b\b\b\b\b\b\b\b\b\b\b\b\b\b\b\b\b\b\b\b\b\b\b\b\b\b\b\b\b\b\b\b\b\b\b\b\b\b\b\b\b\b\b\b\b\b\b\b\b\b\b\b\b\b\b\b\r 32/500 [>.............................] - ETA: 1s - loss: 496.6464 - acc: 0.0178",
                "stream": "stdout"
              },
              {
                "output_type": "stream",
                "metadata": {
                  "tags": []
                },
                "text": "\b\b\b\b\b\b\b\b\b\b\b\b\b\b\b\b\b\b\b\b\b\b\b\b\b\b\b\b\b\b\b\b\b\b\b\b\b\b\b\b\b\b\b\b\b\b\b\b\b\b\b\b\b\b\b\b\b\b\b\b\b\b\b\b\b\b\b\b\b\b\b\b\b\b\b\b\b\b\b\b\b\r 48/500 [=>............................] - ETA: 1s - loss: 492.6501 - acc: 0.0119",
                "stream": "stdout"
              },
              {
                "output_type": "stream",
                "metadata": {
                  "tags": []
                },
                "text": "\b\b\b\b\b\b\b\b\b\b\b\b\b\b\b\b\b\b\b\b\b\b\b\b\b\b\b\b\b\b\b\b\b\b\b\b\b\b\b\b\b\b\b\b\b\b\b\b\b\b\b\b\b\b\b\b\b\b\b\b\b\b\b\b\b\b\b\b\b\b\b\b\b\b\b\b\b\b\b\b\b\r 64/500 [==>...........................] - ETA: 1s - loss: 490.6462 - acc: 0.0089",
                "stream": "stdout"
              },
              {
                "output_type": "stream",
                "metadata": {
                  "tags": []
                },
                "text": "\b\b\b\b\b\b\b\b\b\b\b\b\b\b\b\b\b\b\b\b\b\b\b\b\b\b\b\b\b\b\b\b\b\b\b\b\b\b\b\b\b\b\b\b\b\b\b\b\b\b\b\b\b\b\b\b\b\b\b\b\b\b\b\b\b\b\b\b\b\b\b\b\b\b\b\b\b\b\b\b\b\r 80/500 [===>..........................] - ETA: 1s - loss: 489.4394 - acc: 0.0071",
                "stream": "stdout"
              },
              {
                "output_type": "stream",
                "metadata": {
                  "tags": []
                },
                "text": "\b\b\b\b\b\b\b\b\b\b\b\b\b\b\b\b\b\b\b\b\b\b\b\b\b\b\b\b\b\b\b\b\b\b\b\b\b\b\b\b\b\b\b\b\b\b\b\b\b\b\b\b\b\b\b\b\b\b\b\b\b\b\b\b\b\b\b\b\b\b\b\b\b\b\b\b\b\b\b\b\b\r 94/500 [====>.........................] - ETA: 1s - loss: 488.7172 - acc: 0.0061",
                "stream": "stdout"
              },
              {
                "output_type": "stream",
                "metadata": {
                  "tags": []
                },
                "text": "\b\b\b\b\b\b\b\b\b\b\b\b\b\b\b\b\b\b\b\b\b\b\b\b\b\b\b\b\b\b\b\b\b\b\b\b\b\b\b\b\b\b\b\b\b\b\b\b\b\b\b\b\b\b\b\b\b\b\b\b\b\b\b\b\b\b\b\b\b\b\b\b\b\b\b\b\b\b\b\b\b\r105/500 [=====>........................] - ETA: 1s - loss: 488.2831 - acc: 0.0054",
                "stream": "stdout"
              },
              {
                "output_type": "stream",
                "metadata": {
                  "tags": []
                },
                "text": "\b\b\b\b\b\b\b\b\b\b\b\b\b\b\b\b\b\b\b\b\b\b\b\b\b\b\b\b\b\b\b\b\b\b\b\b\b\b\b\b\b\b\b\b\b\b\b\b\b\b\b\b\b\b\b\b\b\b\b\b\b\b\b\b\b\b\b\b\b\b\b\b\b\b\b\b\b\b\b\b\b\r120/500 [======>.......................] - ETA: 1s - loss: 487.8170 - acc: 0.0047",
                "stream": "stdout"
              },
              {
                "output_type": "stream",
                "metadata": {
                  "tags": []
                },
                "text": "\b\b\b\b\b\b\b\b\b\b\b\b\b\b\b\b\b\b\b\b\b\b\b\b\b\b\b\b\b\b\b\b\b\b\b\b\b\b\b\b\b\b\b\b\b\b\b\b\b\b\b\b\b\b\b\b\b\b\b\b\b\b\b\b\b\b\b\b\b\b\b\b\b\b\b\b\b\b\b\b\b\r135/500 [=======>......................] - ETA: 1s - loss: 487.4522 - acc: 0.0042",
                "stream": "stdout"
              },
              {
                "output_type": "stream",
                "metadata": {
                  "tags": []
                },
                "text": "\b\b\b\b\b\b\b\b\b\b\b\b\b\b\b\b\b\b\b\b\b\b\b\b\b\b\b\b\b\b\b\b\b\b\b\b\b\b\b\b\b\b\b\b\b\b\b\b\b\b\b\b\b\b\b\b\b\b\b\b\b\b\b\b\b\b\b\b\b\b\b\b\b\b\b\b\b\b\b\b\b\r150/500 [========>.....................] - ETA: 1s - loss: 487.1582 - acc: 0.0038",
                "stream": "stdout"
              },
              {
                "output_type": "stream",
                "metadata": {
                  "tags": []
                },
                "text": "\b\b\b\b\b\b\b\b\b\b\b\b\b\b\b\b\b\b\b\b\b\b\b\b\b\b\b\b\b\b\b\b\b\b\b\b\b\b\b\b\b\b\b\b\b\b\b\b\b\b\b\b\b\b\b\b\b\b\b\b\b\b\b\b\b\b\b\b\b\b\b\b\b\b\b\b\b\b\b\b\b\r165/500 [========>.....................] - ETA: 1s - loss: 486.9158 - acc: 0.0035",
                "stream": "stdout"
              },
              {
                "output_type": "stream",
                "metadata": {
                  "tags": []
                },
                "text": "\b\b\b\b\b\b\b\b\b\b\b\b\b\b\b\b\b\b\b\b\b\b\b\b\b\b\b\b\b\b\b\b\b\b\b\b\b\b\b\b\b\b\b\b\b\b\b\b\b\b\b\b\b\b\b\b\b\b\b\b\b\b\b\b\b\b\b\b\b\b\b\b\b\b\b\b\b\b\b\b\b\r180/500 [=========>....................] - ETA: 1s - loss: 486.7121 - acc: 0.0032",
                "stream": "stdout"
              },
              {
                "output_type": "stream",
                "metadata": {
                  "tags": []
                },
                "text": "\b\b\b\b\b\b\b\b\b\b\b\b\b\b\b\b\b\b\b\b\b\b\b\b\b\b\b\b\b\b\b\b\b\b\b\b\b\b\b\b\b\b\b\b\b\b\b\b\b\b\b\b\b\b\b\b\b\b\b\b\b\b\b\b\b\b\b\b\b\b\b\b\b\b\b\b\b\b\b\b\b\r192/500 [==========>...................] - ETA: 1s - loss: 486.5708 - acc: 0.0030",
                "stream": "stdout"
              },
              {
                "output_type": "stream",
                "metadata": {
                  "tags": []
                },
                "text": "\b\b\b\b\b\b\b\b\b\b\b\b\b\b\b\b\b\b\b\b\b\b\b\b\b\b\b\b\b\b\b\b\b\b\b\b\b\b\b\b\b\b\b\b\b\b\b\b\b\b\b\b\b\b\b\b\b\b\b\b\b\b\b\b\b\b\b\b\b\b\b\b\b\b\b\b\b\b\b\b\b\r208/500 [===========>..................] - ETA: 1s - loss: 486.4063 - acc: 0.0027",
                "stream": "stdout"
              },
              {
                "output_type": "stream",
                "metadata": {
                  "tags": []
                },
                "text": "\b\b\b\b\b\b\b\b\b\b\b\b\b\b\b\b\b\b\b\b\b\b\b\b\b\b\b\b\b\b\b\b\b\b\b\b\b\b\b\b\b\b\b\b\b\b\b\b\b\b\b\b\b\b\b\b\b\b\b\b\b\b\b\b\b\b\b\b\b\b\b\b\b\b\b\b\b\b\b\b\b\r224/500 [============>.................] - ETA: 0s - loss: 486.2638 - acc: 0.0025",
                "stream": "stdout"
              },
              {
                "output_type": "stream",
                "metadata": {
                  "tags": []
                },
                "text": "\b\b\b\b\b\b\b\b\b\b\b\b\b\b\b\b\b\b\b\b\b\b\b\b\b\b\b\b\b\b\b\b\b\b\b\b\b\b\b\b\b\b\b\b\b\b\b\b\b\b\b\b\b\b\b\b\b\b\b\b\b\b\b\b\b\b\b\b\b\b\b\b\b\b\b\b\b\b\b\b\b\r240/500 [=============>................] - ETA: 0s - loss: 486.1388 - acc: 0.0024",
                "stream": "stdout"
              },
              {
                "output_type": "stream",
                "metadata": {
                  "tags": []
                },
                "text": "\b\b\b\b\b\b\b\b\b\b\b\b\b\b\b\b\b\b\b\b\b\b\b\b\b\b\b\b\b\b\b\b\b\b\b\b\b\b\b\b\b\b\b\b\b\b\b\b\b\b\b\b\b\b\b\b\b\b\b\b\b\b\b\b\b\b\b\b\b\b\b\b\b\b\b\b\b\b\b\b\b\r256/500 [==============>...............] - ETA: 0s - loss: 486.0280 - acc: 0.0022",
                "stream": "stdout"
              },
              {
                "output_type": "stream",
                "metadata": {
                  "tags": []
                },
                "text": "\b\b\b\b\b\b\b\b\b\b\b\b\b\b\b\b\b\b\b\b\b\b\b\b\b\b\b\b\b\b\b\b\b\b\b\b\b\b\b\b\b\b\b\b\b\b\b\b\b\b\b\b\b\b\b\b\b\b\b\b\b\b\b\b\b\b\b\b\b\b\b\b\b\b\b\b\b\b\b\b\b\r271/500 [===============>..............] - ETA: 0s - loss: 485.9349 - acc: 0.0021",
                "stream": "stdout"
              },
              {
                "output_type": "stream",
                "metadata": {
                  "tags": []
                },
                "text": "\b\b\b\b\b\b\b\b\b\b\b\b\b\b\b\b\b\b\b\b\b\b\b\b\b\b\b\b\b\b\b\b\b\b\b\b\b\b\b\b\b\b\b\b\b\b\b\b\b\b\b\b\b\b\b\b\b\b\b\b\b\b\b\b\b\b\b\b\b\b\b\b\b\b\b\b\b\b\b\b\b\r287/500 [================>.............] - ETA: 0s - loss: 485.8452 - acc: 0.0020",
                "stream": "stdout"
              },
              {
                "output_type": "stream",
                "metadata": {
                  "tags": []
                },
                "text": "\b\b\b\b\b\b\b\b\b\b\b\b\b\b\b\b\b\b\b\b\b\b\b\b\b\b\b\b\b\b\b\b\b\b\b\b\b\b\b\b\b\b\b\b\b\b\b\b\b\b\b\b\b\b\b\b\b\b\b\b\b\b\b\b\b\b\b\b\b\b\b\b\b\b\b\b\b\b\b\b\b\r303/500 [=================>............] - ETA: 0s - loss: 485.7637 - acc: 0.0019",
                "stream": "stdout"
              },
              {
                "output_type": "stream",
                "metadata": {
                  "tags": []
                },
                "text": "\b\b\b\b\b\b\b\b\b\b\b\b\b\b\b\b\b\b\b\b\b\b\b\b\b\b\b\b\b\b\b\b\b\b\b\b\b\b\b\b\b\b\b\b\b\b\b\b\b\b\b\b\b\b\b\b\b\b\b\b\b\b\b\b\b\b\b\b\b\b\b\b\b\b\b\b\b\b\b\b\b\r320/500 [==================>...........] - ETA: 0s - loss: 485.6849 - acc: 0.0018",
                "stream": "stdout"
              },
              {
                "output_type": "stream",
                "metadata": {
                  "tags": []
                },
                "text": "\b\b\b\b\b\b\b\b\b\b\b\b\b\b\b\b\b\b\b\b\b\b\b\b\b\b\b\b\b\b\b\b\b\b\b\b\b\b\b\b\b\b\b\b\b\b\b\b\b\b\b\b\b\b\b\b\b\b\b\b\b\b\b\b\b\b\b\b\b\b\b\b\b\b\b\b\b\b\b\b\b\r336/500 [===================>..........] - ETA: 0s - loss: 485.6169 - acc: 0.0017",
                "stream": "stdout"
              },
              {
                "output_type": "stream",
                "metadata": {
                  "tags": []
                },
                "text": "\b\b\b\b\b\b\b\b\b\b\b\b\b\b\b\b\b\b\b\b\b\b\b\b\b\b\b\b\b\b\b\b\b\b\b\b\b\b\b\b\b\b\b\b\b\b\b\b\b\b\b\b\b\b\b\b\b\b\b\b\b\b\b\b\b\b\b\b\b\b\b\b\b\b\b\b\b\b\b\b\b\r351/500 [====================>.........] - ETA: 0s - loss: 485.5580 - acc: 0.0016",
                "stream": "stdout"
              },
              {
                "output_type": "stream",
                "metadata": {
                  "tags": []
                },
                "text": "\b\b\b\b\b\b\b\b\b\b\b\b\b\b\b\b\b\b\b\b\b\b\b\b\b\b\b\b\b\b\b\b\b\b\b\b\b\b\b\b\b\b\b\b\b\b\b\b\b\b\b\b\b\b\b\b\b\b\b\b\b\b\b\b\b\b\b\b\b\b\b\b\b\b\b\b\b\b\b\b\b\r366/500 [====================>.........] - ETA: 0s - loss: 485.5031 - acc: 0.0016",
                "stream": "stdout"
              },
              {
                "output_type": "stream",
                "metadata": {
                  "tags": []
                },
                "text": "\b\b\b\b\b\b\b\b\b\b\b\b\b\b\b\b\b\b\b\b\b\b\b\b\b\b\b\b\b\b\b\b\b\b\b\b\b\b\b\b\b\b\b\b\b\b\b\b\b\b\b\b\b\b\b\b\b\b\b\b\b\b\b\b\b\b\b\b\b\b\b\b\b\b\b\b\b\b\b\b\b\r382/500 [=====================>........] - ETA: 0s - loss: 485.4483 - acc: 0.0015",
                "stream": "stdout"
              },
              {
                "output_type": "stream",
                "metadata": {
                  "tags": []
                },
                "text": "\b\b\b\b\b\b\b\b\b\b\b\b\b\b\b\b\b\b\b\b\b\b\b\b\b\b\b\b\b\b\b\b\b\b\b\b\b\b\b\b\b\b\b\b\b\b\b\b\b\b\b\b\b\b\b\b\b\b\b\b\b\b\b\b\b\b\b\b\b\b\b\b\b\b\b\b\b\b\b\b\b\r395/500 [======================>.......] - ETA: 0s - loss: 485.4065 - acc: 0.0014",
                "stream": "stdout"
              },
              {
                "output_type": "stream",
                "metadata": {
                  "tags": []
                },
                "text": "\b\b\b\b\b\b\b\b\b\b\b\b\b\b\b\b\b\b\b\b\b\b\b\b\b\b\b\b\b\b\b\b\b\b\b\b\b\b\b\b\b\b\b\b\b\b\b\b\b\b\b\b\b\b\b\b\b\b\b\b\b\b\b\b\b\b\b\b\b\b\b\b\b\b\b\b\b\b\b\b\b\r409/500 [=======================>......] - ETA: 0s - loss: 485.3639 - acc: 0.0014",
                "stream": "stdout"
              },
              {
                "output_type": "stream",
                "metadata": {
                  "tags": []
                },
                "text": "\b\b\b\b\b\b\b\b\b\b\b\b\b\b\b\b\b\b\b\b\b\b\b\b\b\b\b\b\b\b\b\b\b\b\b\b\b\b\b\b\b\b\b\b\b\b\b\b\b\b\b\b\b\b\b\b\b\b\b\b\b\b\b\b\b\b\b\b\b\b\b\b\b\b\b\b\b\b\b\b\b\r422/500 [========================>.....] - ETA: 0s - loss: 485.3262 - acc: 0.0014",
                "stream": "stdout"
              },
              {
                "output_type": "stream",
                "metadata": {
                  "tags": []
                },
                "text": "\b\b\b\b\b\b\b\b\b\b\b\b\b\b\b\b\b\b\b\b\b\b\b\b\b\b\b\b\b\b\b\b\b\b\b\b\b\b\b\b\b\b\b\b\b\b\b\b\b\b\b\b\b\b\b\b\b\b\b\b\b\b\b\b\b\b\b\b\b\b\b\b\b\b\b\b\b\b\b\b\b\r438/500 [=========================>....] - ETA: 0s - loss: 485.2822 - acc: 0.0013",
                "stream": "stdout"
              },
              {
                "output_type": "stream",
                "metadata": {
                  "tags": []
                },
                "text": "\b\b\b\b\b\b\b\b\b\b\b\b\b\b\b\b\b\b\b\b\b\b\b\b\b\b\b\b\b\b\b\b\b\b\b\b\b\b\b\b\b\b\b\b\b\b\b\b\b\b\b\b\b\b\b\b\b\b\b\b\b\b\b\b\b\b\b\b\b\b\b\b\b\b\b\b\b\b\b\b\b\r454/500 [==========================>...] - ETA: 0s - loss: 485.2406 - acc: 0.0013",
                "stream": "stdout"
              },
              {
                "output_type": "stream",
                "metadata": {
                  "tags": []
                },
                "text": "\b\b\b\b\b\b\b\b\b\b\b\b\b\b\b\b\b\b\b\b\b\b\b\b\b\b\b\b\b\b\b\b\b\b\b\b\b\b\b\b\b\b\b\b\b\b\b\b\b\b\b\b\b\b\b\b\b\b\b\b\b\b\b\b\b\b\b\b\b\b\b\b\b\b\b\b\b\b\b\b\b\r469/500 [===========================>..] - ETA: 0s - loss: 485.2035 - acc: 0.0012",
                "stream": "stdout"
              },
              {
                "output_type": "stream",
                "metadata": {
                  "tags": []
                },
                "text": "\b\b\b\b\b\b\b\b\b\b\b\b\b\b\b\b\b\b\b\b\b\b\b\b\b\b\b\b\b\b\b\b\b\b\b\b\b\b\b\b\b\b\b\b\b\b\b\b\b\b\b\b\b\b\b\b\b\b\b\b\b\b\b\b\b\b\b\b\b\b\b\b\b\b\b\b\b\b\b\b\b\r485/500 [============================>.] - ETA: 0s - loss: 485.1658 - acc: 0.0012",
                "stream": "stdout"
              },
              {
                "output_type": "stream",
                "metadata": {
                  "tags": []
                },
                "text": "\b\b\b\b\b\b\b\b\b\b\b\b\b\b\b\b\b\b\b\b\b\b\b\b\b\b\b\b\b\b\b\b\b\b\b\b\b\b\b\b\b\b\b\b\b\b\b\b\b\b\b\b\b\b\b\b\b\b\b\b\b\b\b\b\b\b\b\b\b\b\b\b\b\b\b\b\b\b\b\b\b\r499/500 [============================>.] - ETA: 0s - loss: 485.1342 - acc: 0.0011",
                "stream": "stdout"
              },
              {
                "output_type": "stream",
                "metadata": {
                  "tags": []
                },
                "text": "\b\b\b\b\b\b\b\b\b\b\b\b\b\b\b\b\b\b\b\b\b\b\b\b\b\b\b\b\b\b\b\b\b\b\b\b\b\b\b\b\b\b\b\b\b\b\b\b\b\b\b\b\b\b\b\b\b\b\b\b\b\b\b\b\b\b\b\b\b\b\b\b\b\b\b\b\b\b\b\b\b\r500/500 [==============================] - 2s 4ms/step - loss: 485.1320 - acc: 0.0011 - val_loss: 484.0299 - val_acc: 0.0000e+00\n",
                "stream": "stdout"
              },
              {
                "output_type": "stream",
                "metadata": {
                  "tags": []
                },
                "text": "Epoch 2/20\n\r  1/500 [..............................] - ETA: 0s - loss: 484.0296 - acc: 0.0000e+00",
                "stream": "stdout"
              },
              {
                "output_type": "stream",
                "metadata": {
                  "tags": []
                },
                "text": "\b\b\b\b\b\b\b\b\b\b\b\b\b\b\b\b\b\b\b\b\b\b\b\b\b\b\b\b\b\b\b\b\b\b\b\b\b\b\b\b\b\b\b\b\b\b\b\b\b\b\b\b\b\b\b\b\b\b\b\b\b\b\b\b\b\b\b\b\b\b\b\b\b\b\b\b\b\b\b\b\b\b\b\b\b\r 17/500 [>.............................] - ETA: 1s - loss: 484.0192 - acc: 0.0000e+00",
                "stream": "stdout"
              },
              {
                "output_type": "stream",
                "metadata": {
                  "tags": []
                },
                "text": "\b\b\b\b\b\b\b\b\b\b\b\b\b\b\b\b\b\b\b\b\b\b\b\b\b\b\b\b\b\b\b\b\b\b\b\b\b\b\b\b\b\b\b\b\b\b\b\b\b\b\b\b\b\b\b\b\b\b\b\b\b\b\b\b\b\b\b\b\b\b\b\b\b\b\b\b\b\b\b\b\b\b\b\b\b\r 34/500 [=>............................] - ETA: 1s - loss: 484.0081 - acc: 0.0000e+00",
                "stream": "stdout"
              },
              {
                "output_type": "stream",
                "metadata": {
                  "tags": []
                },
                "text": "\b\b\b\b\b\b\b\b\b\b\b\b\b\b\b\b\b\b\b\b\b\b\b\b\b\b\b\b\b\b\b\b\b\b\b\b\b\b\b\b\b\b\b\b\b\b\b\b\b\b\b\b\b\b\b\b\b\b\b\b\b\b\b\b\b\b\b\b\b\b\b\b\b\b\b\b\b\b\b\b\b\b\b\b\b\r 50/500 [==>...........................] - ETA: 1s - loss: 483.9977 - acc: 0.0000e+00",
                "stream": "stdout"
              },
              {
                "output_type": "stream",
                "metadata": {
                  "tags": []
                },
                "text": "\b\b\b\b\b\b\b\b\b\b\b\b\b\b\b\b\b\b\b\b\b\b\b\b\b\b\b\b\b\b\b\b\b\b\b\b\b\b\b\b\b\b\b\b\b\b\b\b\b\b\b\b\b\b\b\b\b\b\b\b\b\b\b\b\b\b\b\b\b\b\b\b\b\b\b\b\b\b\b\b\b\b\b\b\b\r 64/500 [==>...........................] - ETA: 1s - loss: 483.9886 - acc: 0.0000e+00",
                "stream": "stdout"
              },
              {
                "output_type": "stream",
                "metadata": {
                  "tags": []
                },
                "text": "\b\b\b\b\b\b\b\b\b\b\b\b\b\b\b\b\b\b\b\b\b\b\b\b\b\b\b\b\b\b\b\b\b\b\b\b\b\b\b\b\b\b\b\b\b\b\b\b\b\b\b\b\b\b\b\b\b\b\b\b\b\b\b\b\b\b\b\b\b\b\b\b\b\b\b\b\b\b\b\b\b\b\b\b\b\r 80/500 [===>..........................] - ETA: 1s - loss: 483.9784 - acc: 0.0000e+00",
                "stream": "stdout"
              },
              {
                "output_type": "stream",
                "metadata": {
                  "tags": []
                },
                "text": "\b\b\b\b\b\b\b\b\b\b\b\b\b\b\b\b\b\b\b\b\b\b\b\b\b\b\b\b\b\b\b\b\b\b\b\b\b\b\b\b\b\b\b\b\b\b\b\b\b\b\b\b\b\b\b\b\b\b\b\b\b\b\b\b\b\b\b\b\b\b\b\b\b\b\b\b\b\b\b\b\b\b\b\b\b\r 96/500 [====>.........................] - ETA: 1s - loss: 483.9681 - acc: 0.0000e+00",
                "stream": "stdout"
              },
              {
                "output_type": "stream",
                "metadata": {
                  "tags": []
                },
                "text": "\b\b\b\b\b\b\b\b\b\b\b\b\b\b\b\b\b\b\b\b\b\b\b\b\b\b\b\b\b\b\b\b\b\b\b\b\b\b\b\b\b\b\b\b\b\b\b\b\b\b\b\b\b\b\b\b\b\b\b\b\b\b\b\b\b\b\b\b\b\b\b\b\b\b\b\b\b\b\b\b\b\b\b\b\b\r111/500 [=====>........................] - ETA: 1s - loss: 483.9585 - acc: 0.0000e+00",
                "stream": "stdout"
              },
              {
                "output_type": "stream",
                "metadata": {
                  "tags": []
                },
                "text": "\b\b\b\b\b\b\b\b\b\b\b\b\b\b\b\b\b\b\b\b\b\b\b\b\b\b\b\b\b\b\b\b\b\b\b\b\b\b\b\b\b\b\b\b\b\b\b\b\b\b\b\b\b\b\b\b\b\b\b\b\b\b\b\b\b\b\b\b\b\b\b\b\b\b\b\b\b\b\b\b\b\b\b\b\b\r127/500 [======>.......................] - ETA: 1s - loss: 483.9483 - acc: 0.0000e+00",
                "stream": "stdout"
              },
              {
                "output_type": "stream",
                "metadata": {
                  "tags": []
                },
                "text": "\b\b\b\b\b\b\b\b\b\b\b\b\b\b\b\b\b\b\b\b\b\b\b\b\b\b\b\b\b\b\b\b\b\b\b\b\b\b\b\b\b\b\b\b\b\b\b\b\b\b\b\b\b\b\b\b\b\b\b\b\b\b\b\b\b\b\b\b\b\b\b\b\b\b\b\b\b\b\b\b\b\b\b\b\b\r143/500 [=======>......................] - ETA: 1s - loss: 483.9380 - acc: 0.0000e+00",
                "stream": "stdout"
              },
              {
                "output_type": "stream",
                "metadata": {
                  "tags": []
                },
                "text": "\b\b\b\b\b\b\b\b\b\b\b\b\b\b\b\b\b\b\b\b\b\b\b\b\b\b\b\b\b\b\b\b\b\b\b\b\b\b\b\b\b\b\b\b\b\b\b\b\b\b\b\b\b\b\b\b\b\b\b\b\b\b\b\b\b\b\b\b\b\b\b\b\b\b\b\b\b\b\b\b\b\b\b\b\b\r158/500 [========>.....................] - ETA: 1s - loss: 483.9284 - acc: 0.0000e+00",
                "stream": "stdout"
              },
              {
                "output_type": "stream",
                "metadata": {
                  "tags": []
                },
                "text": "\b\b\b\b\b\b\b\b\b\b\b\b\b\b\b\b\b\b\b\b\b\b\b\b\b\b\b\b\b\b\b\b\b\b\b\b\b\b\b\b\b\b\b\b\b\b\b\b\b\b\b\b\b\b\b\b\b\b\b\b\b\b\b\b\b\b\b\b\b\b\b\b\b\b\b\b\b\b\b\b\b\b\b\b\b\r174/500 [=========>....................] - ETA: 1s - loss: 483.9182 - acc: 0.0000e+00",
                "stream": "stdout"
              },
              {
                "output_type": "stream",
                "metadata": {
                  "tags": []
                },
                "text": "\b\b\b\b\b\b\b\b\b\b\b\b\b\b\b\b\b\b\b\b\b\b\b\b\b\b\b\b\b\b\b\b\b\b\b\b\b\b\b\b\b\b\b\b\b\b\b\b\b\b\b\b\b\b\b\b\b\b\b\b\b\b\b\b\b\b\b\b\b\b\b\b\b\b\b\b\b\b\b\b\b\b\b\b\b\r189/500 [==========>...................] - ETA: 1s - loss: 483.9086 - acc: 0.0000e+00",
                "stream": "stdout"
              },
              {
                "output_type": "stream",
                "metadata": {
                  "tags": []
                },
                "text": "\b\b\b\b\b\b\b\b\b\b\b\b\b\b\b\b\b\b\b\b\b\b\b\b\b\b\b\b\b\b\b\b\b\b\b\b\b\b\b\b\b\b\b\b\b\b\b\b\b\b\b\b\b\b\b\b\b\b\b\b\b\b\b\b\b\b\b\b\b\b\b\b\b\b\b\b\b\b\b\b\b\b\b\b\b\r203/500 [===========>..................] - ETA: 0s - loss: 483.8997 - acc: 0.0000e+00",
                "stream": "stdout"
              },
              {
                "output_type": "stream",
                "metadata": {
                  "tags": []
                },
                "text": "\b\b\b\b\b\b\b\b\b\b\b\b\b\b\b\b\b\b\b\b\b\b\b\b\b\b\b\b\b\b\b\b\b\b\b\b\b\b\b\b\b\b\b\b\b\b\b\b\b\b\b\b\b\b\b\b\b\b\b\b\b\b\b\b\b\b\b\b\b\b\b\b\b\b\b\b\b\b\b\b\b\b\b\b\b\r220/500 [============>.................] - ETA: 0s - loss: 483.8890 - acc: 0.0000e+00",
                "stream": "stdout"
              },
              {
                "output_type": "stream",
                "metadata": {
                  "tags": []
                },
                "text": "\b\b\b\b\b\b\b\b\b\b\b\b\b\b\b\b\b\b\b\b\b\b\b\b\b\b\b\b\b\b\b\b\b\b\b\b\b\b\b\b\b\b\b\b\b\b\b\b\b\b\b\b\b\b\b\b\b\b\b\b\b\b\b\b\b\b\b\b\b\b\b\b\b\b\b\b\b\b\b\b\b\b\b\b\b\r235/500 [=============>................] - ETA: 0s - loss: 483.8795 - acc: 0.0000e+00",
                "stream": "stdout"
              },
              {
                "output_type": "stream",
                "metadata": {
                  "tags": []
                },
                "text": "\b\b\b\b\b\b\b\b\b\b\b\b\b\b\b\b\b\b\b\b\b\b\b\b\b\b\b\b\b\b\b\b\b\b\b\b\b\b\b\b\b\b\b\b\b\b\b\b\b\b\b\b\b\b\b\b\b\b\b\b\b\b\b\b\b\b\b\b\b\b\b\b\b\b\b\b\b\b\b\b\b\b\b\b\b\r249/500 [=============>................] - ETA: 0s - loss: 483.8707 - acc: 0.0000e+00",
                "stream": "stdout"
              },
              {
                "output_type": "stream",
                "metadata": {
                  "tags": []
                },
                "text": "\b\b\b\b\b\b\b\b\b\b\b\b\b\b\b\b\b\b\b\b\b\b\b\b\b\b\b\b\b\b\b\b\b\b\b\b\b\b\b\b\b\b\b\b\b\b\b\b\b\b\b\b\b\b\b\b\b\b\b\b\b\b\b\b\b\b\b\b\b\b\b\b\b\b\b\b\b\b\b\b\b\b\b\b\b\r264/500 [==============>...............] - ETA: 0s - loss: 483.8613 - acc: 0.0000e+00",
                "stream": "stdout"
              },
              {
                "output_type": "stream",
                "metadata": {
                  "tags": []
                },
                "text": "\b\b\b\b\b\b\b\b\b\b\b\b\b\b\b\b\b\b\b\b\b\b\b\b\b\b\b\b\b\b\b\b\b\b\b\b\b\b\b\b\b\b\b\b\b\b\b\b\b\b\b\b\b\b\b\b\b\b\b\b\b\b\b\b\b\b\b\b\b\b\b\b\b\b\b\b\b\b\b\b\b\b\b\b\b\r280/500 [===============>..............] - ETA: 0s - loss: 483.8513 - acc: 0.0000e+00",
                "stream": "stdout"
              },
              {
                "output_type": "stream",
                "metadata": {
                  "tags": []
                },
                "text": "\b\b\b\b\b\b\b\b\b\b\b\b\b\b\b\b\b\b\b\b\b\b\b\b\b\b\b\b\b\b\b\b\b\b\b\b\b\b\b\b\b\b\b\b\b\b\b\b\b\b\b\b\b\b\b\b\b\b\b\b\b\b\b\b\b\b\b\b\b\b\b\b\b\b\b\b\b\b\b\b\b\b\b\b\b\r296/500 [================>.............] - ETA: 0s - loss: 483.8412 - acc: 0.0000e+00",
                "stream": "stdout"
              },
              {
                "output_type": "stream",
                "metadata": {
                  "tags": []
                },
                "text": "\b\b\b\b\b\b\b\b\b\b\b\b\b\b\b\b\b\b\b\b\b\b\b\b\b\b\b\b\b\b\b\b\b\b\b\b\b\b\b\b\b\b\b\b\b\b\b\b\b\b\b\b\b\b\b\b\b\b\b\b\b\b\b\b\b\b\b\b\b\b\b\b\b\b\b\b\b\b\b\b\b\b\b\b\b\r311/500 [=================>............] - ETA: 0s - loss: 483.8319 - acc: 0.0000e+00",
                "stream": "stdout"
              },
              {
                "output_type": "stream",
                "metadata": {
                  "tags": []
                },
                "text": "\b\b\b\b\b\b\b\b\b\b\b\b\b\b\b\b\b\b\b\b\b\b\b\b\b\b\b\b\b\b\b\b\b\b\b\b\b\b\b\b\b\b\b\b\b\b\b\b\b\b\b\b\b\b\b\b\b\b\b\b\b\b\b\b\b\b\b\b\b\b\b\b\b\b\b\b\b\b\b\b\b\b\b\b\b\r327/500 [==================>...........] - ETA: 0s - loss: 483.8219 - acc: 0.0000e+00",
                "stream": "stdout"
              },
              {
                "output_type": "stream",
                "metadata": {
                  "tags": []
                },
                "text": "\b\b\b\b\b\b\b\b\b\b\b\b\b\b\b\b\b\b\b\b\b\b\b\b\b\b\b\b\b\b\b\b\b\b\b\b\b\b\b\b\b\b\b\b\b\b\b\b\b\b\b\b\b\b\b\b\b\b\b\b\b\b\b\b\b\b\b\b\b\b\b\b\b\b\b\b\b\b\b\b\b\b\b\b\b\r343/500 [===================>..........] - ETA: 0s - loss: 483.8120 - acc: 0.0000e+00",
                "stream": "stdout"
              },
              {
                "output_type": "stream",
                "metadata": {
                  "tags": []
                },
                "text": "\b\b\b\b\b\b\b\b\b\b\b\b\b\b\b\b\b\b\b\b\b\b\b\b\b\b\b\b\b\b\b\b\b\b\b\b\b\b\b\b\b\b\b\b\b\b\b\b\b\b\b\b\b\b\b\b\b\b\b\b\b\b\b\b\b\b\b\b\b\b\b\b\b\b\b\b\b\b\b\b\b\b\b\b\b\r360/500 [====================>.........] - ETA: 0s - loss: 483.8014 - acc: 0.0000e+00",
                "stream": "stdout"
              },
              {
                "output_type": "stream",
                "metadata": {
                  "tags": []
                },
                "text": "\b\b\b\b\b\b\b\b\b\b\b\b\b\b\b\b\b\b\b\b\b\b\b\b\b\b\b\b\b\b\b\b\b\b\b\b\b\b\b\b\b\b\b\b\b\b\b\b\b\b\b\b\b\b\b\b\b\b\b\b\b\b\b\b\b\b\b\b\b\b\b\b\b\b\b\b\b\b\b\b\b\b\b\b\b\r376/500 [=====================>........] - ETA: 0s - loss: 483.7915 - acc: 0.0000e+00",
                "stream": "stdout"
              },
              {
                "output_type": "stream",
                "metadata": {
                  "tags": []
                },
                "text": "\b\b\b\b\b\b\b\b\b\b\b\b\b\b\b\b\b\b\b\b\b\b\b\b\b\b\b\b\b\b\b\b\b\b\b\b\b\b\b\b\b\b\b\b\b\b\b\b\b\b\b\b\b\b\b\b\b\b\b\b\b\b\b\b\b\b\b\b\b\b\b\b\b\b\b\b\b\b\b\b\b\b\b\b\b\r391/500 [======================>.......] - ETA: 0s - loss: 483.7822 - acc: 0.0000e+00",
                "stream": "stdout"
              },
              {
                "output_type": "stream",
                "metadata": {
                  "tags": []
                },
                "text": "\b\b\b\b\b\b\b\b\b\b\b\b\b\b\b\b\b\b\b\b\b\b\b\b\b\b\b\b\b\b\b\b\b\b\b\b\b\b\b\b\b\b\b\b\b\b\b\b\b\b\b\b\b\b\b\b\b\b\b\b\b\b\b\b\b\b\b\b\b\b\b\b\b\b\b\b\b\b\b\b\b\b\b\b\b\r406/500 [=======================>......] - ETA: 0s - loss: 483.7729 - acc: 0.0000e+00",
                "stream": "stdout"
              },
              {
                "output_type": "stream",
                "metadata": {
                  "tags": []
                },
                "text": "\b\b\b\b\b\b\b\b\b\b\b\b\b\b\b\b\b\b\b\b\b\b\b\b\b\b\b\b\b\b\b\b\b\b\b\b\b\b\b\b\b\b\b\b\b\b\b\b\b\b\b\b\b\b\b\b\b\b\b\b\b\b\b\b\b\b\b\b\b\b\b\b\b\b\b\b\b\b\b\b\b\b\b\b\b\r421/500 [========================>.....] - ETA: 0s - loss: 483.7638 - acc: 0.0000e+00",
                "stream": "stdout"
              },
              {
                "output_type": "stream",
                "metadata": {
                  "tags": []
                },
                "text": "\b\b\b\b\b\b\b\b\b\b\b\b\b\b\b\b\b\b\b\b\b\b\b\b\b\b\b\b\b\b\b\b\b\b\b\b\b\b\b\b\b\b\b\b\b\b\b\b\b\b\b\b\b\b\b\b\b\b\b\b\b\b\b\b\b\b\b\b\b\b\b\b\b\b\b\b\b\b\b\b\b\b\b\b\b\r437/500 [=========================>....] - ETA: 0s - loss: 483.7539 - acc: 0.0114    ",
                "stream": "stdout"
              },
              {
                "output_type": "stream",
                "metadata": {
                  "tags": []
                },
                "text": "\b\b\b\b\b\b\b\b\b\b\b\b\b\b\b\b\b\b\b\b\b\b\b\b\b\b\b\b\b\b\b\b\b\b\b\b\b\b\b\b\b\b\b\b\b\b\b\b\b\b\b\b\b\b\b\b\b\b\b\b\b\b\b\b\b\b\b\b\b\b\b\b\b\b\b\b\b\b\b\b\b\r453/500 [==========================>...] - ETA: 0s - loss: 483.7441 - acc: 0.0287",
                "stream": "stdout"
              },
              {
                "output_type": "stream",
                "metadata": {
                  "tags": []
                },
                "text": "\b\b\b\b\b\b\b\b\b\b\b\b\b\b\b\b\b\b\b\b\b\b\b\b\b\b\b\b\b\b\b\b\b\b\b\b\b\b\b\b\b\b\b\b\b\b\b\b\b\b\b\b\b\b\b\b\b\b\b\b\b\b\b\b\b\b\b\b\b\b\b\b\b\b\b\b\b\b\b\b\b\r470/500 [===========================>..] - ETA: 0s - loss: 483.7337 - acc: 0.0447",
                "stream": "stdout"
              },
              {
                "output_type": "stream",
                "metadata": {
                  "tags": []
                },
                "text": "\b\b\b\b\b\b\b\b\b\b\b\b\b\b\b\b\b\b\b\b\b\b\b\b\b\b\b\b\b\b\b\b\b\b\b\b\b\b\b\b\b\b\b\b\b\b\b\b\b\b\b\b\b\b\b\b\b\b\b\b\b\b\b\b\b\b\b\b\b\b\b\b\b\b\b\b\b\b\b\b\b\r486/500 [============================>.] - ETA: 0s - loss: 483.7239 - acc: 0.0597",
                "stream": "stdout"
              },
              {
                "output_type": "stream",
                "metadata": {
                  "tags": []
                },
                "text": "\b\b\b\b\b\b\b\b\b\b\b\b\b\b\b\b\b\b\b\b\b\b\b\b\b\b\b\b\b\b\b\b\b\b\b\b\b\b\b\b\b\b\b\b\b\b\b\b\b\b\b\b\b\b\b\b\b\b\b\b\b\b\b\b\b\b\b\b\b\b\b\b\b\b\b\b\b\b\b\b\b\r500/500 [==============================] - 2s 4ms/step - loss: 483.7155 - acc: 0.0720 - val_loss: 483.4099 - val_acc: 1.0000\n",
                "stream": "stdout"
              },
              {
                "output_type": "stream",
                "metadata": {
                  "tags": []
                },
                "text": "Epoch 3/20\n\r  1/500 [..............................] - ETA: 0s - loss: 483.4098 - acc: 1.0000",
                "stream": "stdout"
              },
              {
                "output_type": "stream",
                "metadata": {
                  "tags": []
                },
                "text": "\b\b\b\b\b\b\b\b\b\b\b\b\b\b\b\b\b\b\b\b\b\b\b\b\b\b\b\b\b\b\b\b\b\b\b\b\b\b\b\b\b\b\b\b\b\b\b\b\b\b\b\b\b\b\b\b\b\b\b\b\b\b\b\b\b\b\b\b\b\b\b\b\b\b\b\b\b\b\b\b\b\r 17/500 [>.............................] - ETA: 1s - loss: 483.4003 - acc: 0.5294",
                "stream": "stdout"
              },
              {
                "output_type": "stream",
                "metadata": {
                  "tags": []
                },
                "text": "\b\b\b\b\b\b\b\b\b\b\b\b\b\b\b\b\b\b\b\b\b\b\b\b\b\b\b\b\b\b\b\b\b\b\b\b\b\b\b\b\b\b\b\b\b\b\b\b\b\b\b\b\b\b\b\b\b\b\b\b\b\b\b\b\b\b\b\b\b\b\b\b\b\b\b\b\b\b\b\b\b\r 34/500 [=>............................] - ETA: 1s - loss: 483.3901 - acc: 0.5000",
                "stream": "stdout"
              },
              {
                "output_type": "stream",
                "metadata": {
                  "tags": []
                },
                "text": "\b\b\b\b\b\b\b\b\b\b\b\b\b\b\b\b\b\b\b\b\b\b\b\b\b\b\b\b\b\b\b\b\b\b\b\b\b\b\b\b\b\b\b\b\b\b\b\b\b\b\b\b\b\b\b\b\b\b\b\b\b\b\b\b\b\b\b\b\b\b\b\b\b\b\b\b\b\b\b\b\b\r 51/500 [==>...........................] - ETA: 1s - loss: 483.3801 - acc: 0.5098",
                "stream": "stdout"
              },
              {
                "output_type": "stream",
                "metadata": {
                  "tags": []
                },
                "text": "\b\b\b\b\b\b\b\b\b\b\b\b\b\b\b\b\b\b\b\b\b\b\b\b\b\b\b\b\b\b\b\b\b\b\b\b\b\b\b\b\b\b\b\b\b\b\b\b\b\b\b\b\b\b\b\b\b\b\b\b\b\b\b\b\b\b\b\b\b\b\b\b\b\b\b\b\b\b\b\b\b\r 68/500 [===>..........................] - ETA: 1s - loss: 483.3700 - acc: 0.5000",
                "stream": "stdout"
              },
              {
                "output_type": "stream",
                "metadata": {
                  "tags": []
                },
                "text": "\b\b\b\b\b\b\b\b\b\b\b\b\b\b\b\b\b\b\b\b\b\b\b\b\b\b\b\b\b\b\b\b\b\b\b\b\b\b\b\b\b\b\b\b\b\b\b\b\b\b\b\b\b\b\b\b\b\b\b\b\b\b\b\b\b\b\b\b\b\b\b\b\b\b\b\b\b\b\b\b\b\r 85/500 [====>.........................] - ETA: 1s - loss: 483.3600 - acc: 0.5059",
                "stream": "stdout"
              },
              {
                "output_type": "stream",
                "metadata": {
                  "tags": []
                },
                "text": "\b\b\b\b\b\b\b\b\b\b\b\b\b\b\b\b\b\b\b\b\b\b\b\b\b\b\b\b\b\b\b\b\b\b\b\b\b\b\b\b\b\b\b\b\b\b\b\b\b\b\b\b\b\b\b\b\b\b\b\b\b\b\b\b\b\b\b\b\b\b\b\b\b\b\b\b\b\b\b\b\b\r101/500 [=====>........................] - ETA: 1s - loss: 483.3505 - acc: 0.5050",
                "stream": "stdout"
              },
              {
                "output_type": "stream",
                "metadata": {
                  "tags": []
                },
                "text": "\b\b\b\b\b\b\b\b\b\b\b\b\b\b\b\b\b\b\b\b\b\b\b\b\b\b\b\b\b\b\b\b\b\b\b\b\b\b\b\b\b\b\b\b\b\b\b\b\b\b\b\b\b\b\b\b\b\b\b\b\b\b\b\b\b\b\b\b\b\b\b\b\b\b\b\b\b\b\b\b\b\r117/500 [======>.......................] - ETA: 1s - loss: 483.3411 - acc: 0.5043",
                "stream": "stdout"
              },
              {
                "output_type": "stream",
                "metadata": {
                  "tags": []
                },
                "text": "\b\b\b\b\b\b\b\b\b\b\b\b\b\b\b\b\b\b\b\b\b\b\b\b\b\b\b\b\b\b\b\b\b\b\b\b\b\b\b\b\b\b\b\b\b\b\b\b\b\b\b\b\b\b\b\b\b\b\b\b\b\b\b\b\b\b\b\b\b\b\b\b\b\b\b\b\b\b\b\b\b\r134/500 [=======>......................] - ETA: 1s - loss: 483.3311 - acc: 0.5000",
                "stream": "stdout"
              },
              {
                "output_type": "stream",
                "metadata": {
                  "tags": []
                },
                "text": "\b\b\b\b\b\b\b\b\b\b\b\b\b\b\b\b\b\b\b\b\b\b\b\b\b\b\b\b\b\b\b\b\b\b\b\b\b\b\b\b\b\b\b\b\b\b\b\b\b\b\b\b\b\b\b\b\b\b\b\b\b\b\b\b\b\b\b\b\b\b\b\b\b\b\b\b\b\b\b\b\b\r151/500 [========>.....................] - ETA: 1s - loss: 483.3210 - acc: 0.5033",
                "stream": "stdout"
              },
              {
                "output_type": "stream",
                "metadata": {
                  "tags": []
                },
                "text": "\b\b\b\b\b\b\b\b\b\b\b\b\b\b\b\b\b\b\b\b\b\b\b\b\b\b\b\b\b\b\b\b\b\b\b\b\b\b\b\b\b\b\b\b\b\b\b\b\b\b\b\b\b\b\b\b\b\b\b\b\b\b\b\b\b\b\b\b\b\b\b\b\b\b\b\b\b\b\b\b\b\r166/500 [========>.....................] - ETA: 1s - loss: 483.3122 - acc: 0.5000",
                "stream": "stdout"
              },
              {
                "output_type": "stream",
                "metadata": {
                  "tags": []
                },
                "text": "\b\b\b\b\b\b\b\b\b\b\b\b\b\b\b\b\b\b\b\b\b\b\b\b\b\b\b\b\b\b\b\b\b\b\b\b\b\b\b\b\b\b\b\b\b\b\b\b\b\b\b\b\b\b\b\b\b\b\b\b\b\b\b\b\b\b\b\b\b\b\b\b\b\b\b\b\b\b\b\b\b\r180/500 [=========>....................] - ETA: 1s - loss: 483.3039 - acc: 0.5000",
                "stream": "stdout"
              },
              {
                "output_type": "stream",
                "metadata": {
                  "tags": []
                },
                "text": "\b\b\b\b\b\b\b\b\b\b\b\b\b\b\b\b\b\b\b\b\b\b\b\b\b\b\b\b\b\b\b\b\b\b\b\b\b\b\b\b\b\b\b\b\b\b\b\b\b\b\b\b\b\b\b\b\b\b\b\b\b\b\b\b\b\b\b\b\b\b\b\b\b\b\b\b\b\b\b\b\b\r196/500 [==========>...................] - ETA: 0s - loss: 483.2945 - acc: 0.5000",
                "stream": "stdout"
              },
              {
                "output_type": "stream",
                "metadata": {
                  "tags": []
                },
                "text": "\b\b\b\b\b\b\b\b\b\b\b\b\b\b\b\b\b\b\b\b\b\b\b\b\b\b\b\b\b\b\b\b\b\b\b\b\b\b\b\b\b\b\b\b\b\b\b\b\b\b\b\b\b\b\b\b\b\b\b\b\b\b\b\b\b\b\b\b\b\b\b\b\b\b\b\b\b\b\b\b\b\r212/500 [===========>..................] - ETA: 0s - loss: 483.2851 - acc: 0.5000",
                "stream": "stdout"
              },
              {
                "output_type": "stream",
                "metadata": {
                  "tags": []
                },
                "text": "\b\b\b\b\b\b\b\b\b\b\b\b\b\b\b\b\b\b\b\b\b\b\b\b\b\b\b\b\b\b\b\b\b\b\b\b\b\b\b\b\b\b\b\b\b\b\b\b\b\b\b\b\b\b\b\b\b\b\b\b\b\b\b\b\b\b\b\b\b\b\b\b\b\b\b\b\b\b\b\b\b\r229/500 [============>.................] - ETA: 0s - loss: 483.2751 - acc: 0.5022",
                "stream": "stdout"
              },
              {
                "output_type": "stream",
                "metadata": {
                  "tags": []
                },
                "text": "\b\b\b\b\b\b\b\b\b\b\b\b\b\b\b\b\b\b\b\b\b\b\b\b\b\b\b\b\b\b\b\b\b\b\b\b\b\b\b\b\b\b\b\b\b\b\b\b\b\b\b\b\b\b\b\b\b\b\b\b\b\b\b\b\b\b\b\b\b\b\b\b\b\b\b\b\b\b\b\b\b\r245/500 [=============>................] - ETA: 0s - loss: 483.2658 - acc: 0.5020",
                "stream": "stdout"
              },
              {
                "output_type": "stream",
                "metadata": {
                  "tags": []
                },
                "text": "\b\b\b\b\b\b\b\b\b\b\b\b\b\b\b\b\b\b\b\b\b\b\b\b\b\b\b\b\b\b\b\b\b\b\b\b\b\b\b\b\b\b\b\b\b\b\b\b\b\b\b\b\b\b\b\b\b\b\b\b\b\b\b\b\b\b\b\b\b\b\b\b\b\b\b\b\b\b\b\b\b\r261/500 [==============>...............] - ETA: 0s - loss: 483.2564 - acc: 0.5019",
                "stream": "stdout"
              },
              {
                "output_type": "stream",
                "metadata": {
                  "tags": []
                },
                "text": "\b\b\b\b\b\b\b\b\b\b\b\b\b\b\b\b\b\b\b\b\b\b\b\b\b\b\b\b\b\b\b\b\b\b\b\b\b\b\b\b\b\b\b\b\b\b\b\b\b\b\b\b\b\b\b\b\b\b\b\b\b\b\b\b\b\b\b\b\b\b\b\b\b\b\b\b\b\b\b\b\b\r277/500 [===============>..............] - ETA: 0s - loss: 483.2471 - acc: 0.5018",
                "stream": "stdout"
              },
              {
                "output_type": "stream",
                "metadata": {
                  "tags": []
                },
                "text": "\b\b\b\b\b\b\b\b\b\b\b\b\b\b\b\b\b\b\b\b\b\b\b\b\b\b\b\b\b\b\b\b\b\b\b\b\b\b\b\b\b\b\b\b\b\b\b\b\b\b\b\b\b\b\b\b\b\b\b\b\b\b\b\b\b\b\b\b\b\b\b\b\b\b\b\b\b\b\b\b\b\r292/500 [================>.............] - ETA: 0s - loss: 483.2383 - acc: 0.5000",
                "stream": "stdout"
              },
              {
                "output_type": "stream",
                "metadata": {
                  "tags": []
                },
                "text": "\b\b\b\b\b\b\b\b\b\b\b\b\b\b\b\b\b\b\b\b\b\b\b\b\b\b\b\b\b\b\b\b\b\b\b\b\b\b\b\b\b\b\b\b\b\b\b\b\b\b\b\b\b\b\b\b\b\b\b\b\b\b\b\b\b\b\b\b\b\b\b\b\b\b\b\b\b\b\b\b\b\r309/500 [=================>............] - ETA: 0s - loss: 483.2284 - acc: 0.5016",
                "stream": "stdout"
              },
              {
                "output_type": "stream",
                "metadata": {
                  "tags": []
                },
                "text": "\b\b\b\b\b\b\b\b\b\b\b\b\b\b\b\b\b\b\b\b\b\b\b\b\b\b\b\b\b\b\b\b\b\b\b\b\b\b\b\b\b\b\b\b\b\b\b\b\b\b\b\b\b\b\b\b\b\b\b\b\b\b\b\b\b\b\b\b\b\b\b\b\b\b\b\b\b\b\b\b\b\r325/500 [==================>...........] - ETA: 0s - loss: 483.2191 - acc: 0.5015",
                "stream": "stdout"
              },
              {
                "output_type": "stream",
                "metadata": {
                  "tags": []
                },
                "text": "\b\b\b\b\b\b\b\b\b\b\b\b\b\b\b\b\b\b\b\b\b\b\b\b\b\b\b\b\b\b\b\b\b\b\b\b\b\b\b\b\b\b\b\b\b\b\b\b\b\b\b\b\b\b\b\b\b\b\b\b\b\b\b\b\b\b\b\b\b\b\b\b\b\b\b\b\b\b\b\b\b\r338/500 [===================>..........] - ETA: 0s - loss: 483.2116 - acc: 0.5000",
                "stream": "stdout"
              },
              {
                "output_type": "stream",
                "metadata": {
                  "tags": []
                },
                "text": "\b\b\b\b\b\b\b\b\b\b\b\b\b\b\b\b\b\b\b\b\b\b\b\b\b\b\b\b\b\b\b\b\b\b\b\b\b\b\b\b\b\b\b\b\b\b\b\b\b\b\b\b\b\b\b\b\b\b\b\b\b\b\b\b\b\b\b\b\b\b\b\b\b\b\b\b\b\b\b\b\b\r353/500 [====================>.........] - ETA: 0s - loss: 483.2028 - acc: 0.5014",
                "stream": "stdout"
              },
              {
                "output_type": "stream",
                "metadata": {
                  "tags": []
                },
                "text": "\b\b\b\b\b\b\b\b\b\b\b\b\b\b\b\b\b\b\b\b\b\b\b\b\b\b\b\b\b\b\b\b\b\b\b\b\b\b\b\b\b\b\b\b\b\b\b\b\b\b\b\b\b\b\b\b\b\b\b\b\b\b\b\b\b\b\b\b\b\b\b\b\b\b\b\b\b\b\b\b\b\r368/500 [=====================>........] - ETA: 0s - loss: 483.1941 - acc: 0.5000",
                "stream": "stdout"
              },
              {
                "output_type": "stream",
                "metadata": {
                  "tags": []
                },
                "text": "\b\b\b\b\b\b\b\b\b\b\b\b\b\b\b\b\b\b\b\b\b\b\b\b\b\b\b\b\b\b\b\b\b\b\b\b\b\b\b\b\b\b\b\b\b\b\b\b\b\b\b\b\b\b\b\b\b\b\b\b\b\b\b\b\b\b\b\b\b\b\b\b\b\b\b\b\b\b\b\b\b\r384/500 [======================>.......] - ETA: 0s - loss: 483.1848 - acc: 0.5000",
                "stream": "stdout"
              },
              {
                "output_type": "stream",
                "metadata": {
                  "tags": []
                },
                "text": "\b\b\b\b\b\b\b\b\b\b\b\b\b\b\b\b\b\b\b\b\b\b\b\b\b\b\b\b\b\b\b\b\b\b\b\b\b\b\b\b\b\b\b\b\b\b\b\b\b\b\b\b\b\b\b\b\b\b\b\b\b\b\b\b\b\b\b\b\b\b\b\b\b\b\b\b\b\b\b\b\b\r399/500 [======================>.......] - ETA: 0s - loss: 483.1762 - acc: 0.5013",
                "stream": "stdout"
              },
              {
                "output_type": "stream",
                "metadata": {
                  "tags": []
                },
                "text": "\b\b\b\b\b\b\b\b\b\b\b\b\b\b\b\b\b\b\b\b\b\b\b\b\b\b\b\b\b\b\b\b\b\b\b\b\b\b\b\b\b\b\b\b\b\b\b\b\b\b\b\b\b\b\b\b\b\b\b\b\b\b\b\b\b\b\b\b\b\b\b\b\b\b\b\b\b\b\b\b\b\r415/500 [=======================>......] - ETA: 0s - loss: 483.1669 - acc: 0.5012",
                "stream": "stdout"
              },
              {
                "output_type": "stream",
                "metadata": {
                  "tags": []
                },
                "text": "\b\b\b\b\b\b\b\b\b\b\b\b\b\b\b\b\b\b\b\b\b\b\b\b\b\b\b\b\b\b\b\b\b\b\b\b\b\b\b\b\b\b\b\b\b\b\b\b\b\b\b\b\b\b\b\b\b\b\b\b\b\b\b\b\b\b\b\b\b\b\b\b\b\b\b\b\b\b\b\b\b\r430/500 [========================>.....] - ETA: 0s - loss: 483.1583 - acc: 0.5000",
                "stream": "stdout"
              },
              {
                "output_type": "stream",
                "metadata": {
                  "tags": []
                },
                "text": "\b\b\b\b\b\b\b\b\b\b\b\b\b\b\b\b\b\b\b\b\b\b\b\b\b\b\b\b\b\b\b\b\b\b\b\b\b\b\b\b\b\b\b\b\b\b\b\b\b\b\b\b\b\b\b\b\b\b\b\b\b\b\b\b\b\b\b\b\b\b\b\b\b\b\b\b\b\b\b\b\b\r446/500 [=========================>....] - ETA: 0s - loss: 483.1490 - acc: 0.5000",
                "stream": "stdout"
              },
              {
                "output_type": "stream",
                "metadata": {
                  "tags": []
                },
                "text": "\b\b\b\b\b\b\b\b\b\b\b\b\b\b\b\b\b\b\b\b\b\b\b\b\b\b\b\b\b\b\b\b\b\b\b\b\b\b\b\b\b\b\b\b\b\b\b\b\b\b\b\b\b\b\b\b\b\b\b\b\b\b\b\b\b\b\b\b\b\b\b\b\b\b\b\b\b\b\b\b\b\r460/500 [==========================>...] - ETA: 0s - loss: 483.1409 - acc: 0.5000",
                "stream": "stdout"
              },
              {
                "output_type": "stream",
                "metadata": {
                  "tags": []
                },
                "text": "\b\b\b\b\b\b\b\b\b\b\b\b\b\b\b\b\b\b\b\b\b\b\b\b\b\b\b\b\b\b\b\b\b\b\b\b\b\b\b\b\b\b\b\b\b\b\b\b\b\b\b\b\b\b\b\b\b\b\b\b\b\b\b\b\b\b\b\b\b\b\b\b\b\b\b\b\b\b\b\b\b\r475/500 [===========================>..] - ETA: 0s - loss: 483.1323 - acc: 0.5095",
                "stream": "stdout"
              },
              {
                "output_type": "stream",
                "metadata": {
                  "tags": []
                },
                "text": "\b\b\b\b\b\b\b\b\b\b\b\b\b\b\b\b\b\b\b\b\b\b\b\b\b\b\b\b\b\b\b\b\b\b\b\b\b\b\b\b\b\b\b\b\b\b\b\b\b\b\b\b\b\b\b\b\b\b\b\b\b\b\b\b\b\b\b\b\b\b\b\b\b\b\b\b\b\b\b\b\b\r490/500 [============================>.] - ETA: 0s - loss: 483.1237 - acc: 0.5224",
                "stream": "stdout"
              },
              {
                "output_type": "stream",
                "metadata": {
                  "tags": []
                },
                "text": "\b\b\b\b\b\b\b\b\b\b\b\b\b\b\b\b\b\b\b\b\b\b\b\b\b\b\b\b\b\b\b\b\b\b\b\b\b\b\b\b\b\b\b\b\b\b\b\b\b\b\b\b\b\b\b\b\b\b\b\b\b\b\b\b\b\b\b\b\b\b\b\b\b\b\b\b\b\b\b\b\b\r500/500 [==============================] - 2s 4ms/step - loss: 483.1180 - acc: 0.5320 - val_loss: 482.8300 - val_acc: 1.0000\n",
                "stream": "stdout"
              },
              {
                "output_type": "stream",
                "metadata": {
                  "tags": []
                },
                "text": "Epoch 4/20\n\r  1/500 [..............................] - ETA: 0s - loss: 482.8302 - acc: 1.0000",
                "stream": "stdout"
              },
              {
                "output_type": "stream",
                "metadata": {
                  "tags": []
                },
                "text": "\b\b\b\b\b\b\b\b\b\b\b\b\b\b\b\b\b\b\b\b\b\b\b\b\b\b\b\b\b\b\b\b\b\b\b\b\b\b\b\b\b\b\b\b\b\b\b\b\b\b\b\b\b\b\b\b\b\b\b\b\b\b\b\b\b\b\b\b\b\b\b\b\b\b\b\b\b\b\b\b\b\r 18/500 [>.............................] - ETA: 1s - loss: 482.8202 - acc: 0.9444",
                "stream": "stdout"
              },
              {
                "output_type": "stream",
                "metadata": {
                  "tags": []
                },
                "text": "\b\b\b\b\b\b\b\b\b\b\b\b\b\b\b\b\b\b\b\b\b\b\b\b\b\b\b\b\b\b\b\b\b\b\b\b\b\b\b\b\b\b\b\b\b\b\b\b\b\b\b\b\b\b\b\b\b\b\b\b\b\b\b\b\b\b\b\b\b\b\b\b\b\b\b\b\b\b\b\b\b\r 34/500 [=>............................] - ETA: 1s - loss: 482.8188 - acc: 0.8515",
                "stream": "stdout"
              },
              {
                "output_type": "stream",
                "metadata": {
                  "tags": []
                },
                "text": "\b\b\b\b\b\b\b\b\b\b\b\b\b\b\b\b\b\b\b\b\b\b\b\b\b\b\b\b\b\b\b\b\b\b\b\b\b\b\b\b\b\b\b\b\b\b\b\b\b\b\b\b\b\b\b\b\b\b\b\b\b\b\b\b\b\b\b\b\b\b\b\b\b\b\b\b\b\b\b\b\b\r 51/500 [==>...........................] - ETA: 1s - loss: 482.8279 - acc: 0.5676",
                "stream": "stdout"
              },
              {
                "output_type": "stream",
                "metadata": {
                  "tags": []
                },
                "text": "\b\b\b\b\b\b\b\b\b\b\b\b\b\b\b\b\b\b\b\b\b\b\b\b\b\b\b\b\b\b\b\b\b\b\b\b\b\b\b\b\b\b\b\b\b\b\b\b\b\b\b\b\b\b\b\b\b\b\b\b\b\b\b\b\b\b\b\b\b\b\b\b\b\b\b\b\b\b\b\b\b\r 69/500 [===>..........................] - ETA: 1s - loss: 482.8268 - acc: 0.4196",
                "stream": "stdout"
              },
              {
                "output_type": "stream",
                "metadata": {
                  "tags": []
                },
                "text": "\b\b\b\b\b\b\b\b\b\b\b\b\b\b\b\b\b\b\b\b\b\b\b\b\b\b\b\b\b\b\b\b\b\b\b\b\b\b\b\b\b\b\b\b\b\b\b\b\b\b\b\b\b\b\b\b\b\b\b\b\b\b\b\b\b\b\b\b\b\b\b\b\b\b\b\b\b\b\b\b\b\r 86/500 [====>.........................] - ETA: 1s - loss: 482.8219 - acc: 0.3366",
                "stream": "stdout"
              },
              {
                "output_type": "stream",
                "metadata": {
                  "tags": []
                },
                "text": "\b\b\b\b\b\b\b\b\b\b\b\b\b\b\b\b\b\b\b\b\b\b\b\b\b\b\b\b\b\b\b\b\b\b\b\b\b\b\b\b\b\b\b\b\b\b\b\b\b\b\b\b\b\b\b\b\b\b\b\b\b\b\b\b\b\b\b\b\b\b\b\b\b\b\b\b\b\b\b\b\b\r103/500 [=====>........................] - ETA: 1s - loss: 482.8151 - acc: 0.2811",
                "stream": "stdout"
              },
              {
                "output_type": "stream",
                "metadata": {
                  "tags": []
                },
                "text": "\b\b\b\b\b\b\b\b\b\b\b\b\b\b\b\b\b\b\b\b\b\b\b\b\b\b\b\b\b\b\b\b\b\b\b\b\b\b\b\b\b\b\b\b\b\b\b\b\b\b\b\b\b\b\b\b\b\b\b\b\b\b\b\b\b\b\b\b\b\b\b\b\b\b\b\b\b\b\b\b\b\r119/500 [======>.......................] - ETA: 1s - loss: 482.8077 - acc: 0.2433",
                "stream": "stdout"
              },
              {
                "output_type": "stream",
                "metadata": {
                  "tags": []
                },
                "text": "\b\b\b\b\b\b\b\b\b\b\b\b\b\b\b\b\b\b\b\b\b\b\b\b\b\b\b\b\b\b\b\b\b\b\b\b\b\b\b\b\b\b\b\b\b\b\b\b\b\b\b\b\b\b\b\b\b\b\b\b\b\b\b\b\b\b\b\b\b\b\b\b\b\b\b\b\b\b\b\b\b\r135/500 [=======>......................] - ETA: 1s - loss: 482.7997 - acc: 0.2144",
                "stream": "stdout"
              },
              {
                "output_type": "stream",
                "metadata": {
                  "tags": []
                },
                "text": "\b\b\b\b\b\b\b\b\b\b\b\b\b\b\b\b\b\b\b\b\b\b\b\b\b\b\b\b\b\b\b\b\b\b\b\b\b\b\b\b\b\b\b\b\b\b\b\b\b\b\b\b\b\b\b\b\b\b\b\b\b\b\b\b\b\b\b\b\b\b\b\b\b\b\b\b\b\b\b\b\b\r151/500 [========>.....................] - ETA: 1s - loss: 482.7912 - acc: 0.1917",
                "stream": "stdout"
              },
              {
                "output_type": "stream",
                "metadata": {
                  "tags": []
                },
                "text": "\b\b\b\b\b\b\b\b\b\b\b\b\b\b\b\b\b\b\b\b\b\b\b\b\b\b\b\b\b\b\b\b\b\b\b\b\b\b\b\b\b\b\b\b\b\b\b\b\b\b\b\b\b\b\b\b\b\b\b\b\b\b\b\b\b\b\b\b\b\b\b\b\b\b\b\b\b\b\b\b\b\r168/500 [=========>....................] - ETA: 1s - loss: 482.7819 - acc: 0.1723",
                "stream": "stdout"
              },
              {
                "output_type": "stream",
                "metadata": {
                  "tags": []
                },
                "text": "\b\b\b\b\b\b\b\b\b\b\b\b\b\b\b\b\b\b\b\b\b\b\b\b\b\b\b\b\b\b\b\b\b\b\b\b\b\b\b\b\b\b\b\b\b\b\b\b\b\b\b\b\b\b\b\b\b\b\b\b\b\b\b\b\b\b\b\b\b\b\b\b\b\b\b\b\b\b\b\b\b\r185/500 [==========>...................] - ETA: 0s - loss: 482.7724 - acc: 0.1835",
                "stream": "stdout"
              },
              {
                "output_type": "stream",
                "metadata": {
                  "tags": []
                },
                "text": "\b\b\b\b\b\b\b\b\b\b\b\b\b\b\b\b\b\b\b\b\b\b\b\b\b\b\b\b\b\b\b\b\b\b\b\b\b\b\b\b\b\b\b\b\b\b\b\b\b\b\b\b\b\b\b\b\b\b\b\b\b\b\b\b\b\b\b\b\b\b\b\b\b\b\b\b\b\b\b\b\b\r201/500 [===========>..................] - ETA: 0s - loss: 482.7633 - acc: 0.1938",
                "stream": "stdout"
              },
              {
                "output_type": "stream",
                "metadata": {
                  "tags": []
                },
                "text": "\b\b\b\b\b\b\b\b\b\b\b\b\b\b\b\b\b\b\b\b\b\b\b\b\b\b\b\b\b\b\b\b\b\b\b\b\b\b\b\b\b\b\b\b\b\b\b\b\b\b\b\b\b\b\b\b\b\b\b\b\b\b\b\b\b\b\b\b\b\b\b\b\b\b\b\b\b\b\b\b\b\r218/500 [============>.................] - ETA: 0s - loss: 482.7535 - acc: 0.2108",
                "stream": "stdout"
              },
              {
                "output_type": "stream",
                "metadata": {
                  "tags": []
                },
                "text": "\b\b\b\b\b\b\b\b\b\b\b\b\b\b\b\b\b\b\b\b\b\b\b\b\b\b\b\b\b\b\b\b\b\b\b\b\b\b\b\b\b\b\b\b\b\b\b\b\b\b\b\b\b\b\b\b\b\b\b\b\b\b\b\b\b\b\b\b\b\b\b\b\b\b\b\b\b\b\b\b\b\r235/500 [=============>................] - ETA: 0s - loss: 482.7436 - acc: 0.2381",
                "stream": "stdout"
              },
              {
                "output_type": "stream",
                "metadata": {
                  "tags": []
                },
                "text": "\b\b\b\b\b\b\b\b\b\b\b\b\b\b\b\b\b\b\b\b\b\b\b\b\b\b\b\b\b\b\b\b\b\b\b\b\b\b\b\b\b\b\b\b\b\b\b\b\b\b\b\b\b\b\b\b\b\b\b\b\b\b\b\b\b\b\b\b\b\b\b\b\b\b\b\b\b\b\b\b\b\r246/500 [=============>................] - ETA: 0s - loss: 482.7372 - acc: 0.2559",
                "stream": "stdout"
              },
              {
                "output_type": "stream",
                "metadata": {
                  "tags": []
                },
                "text": "\b\b\b\b\b\b\b\b\b\b\b\b\b\b\b\b\b\b\b\b\b\b\b\b\b\b\b\b\b\b\b\b\b\b\b\b\b\b\b\b\b\b\b\b\b\b\b\b\b\b\b\b\b\b\b\b\b\b\b\b\b\b\b\b\b\b\b\b\b\b\b\b\b\b\b\b\b\b\b\b\b\r262/500 [==============>...............] - ETA: 0s - loss: 482.7278 - acc: 0.2823",
                "stream": "stdout"
              },
              {
                "output_type": "stream",
                "metadata": {
                  "tags": []
                },
                "text": "\b\b\b\b\b\b\b\b\b\b\b\b\b\b\b\b\b\b\b\b\b\b\b\b\b\b\b\b\b\b\b\b\b\b\b\b\b\b\b\b\b\b\b\b\b\b\b\b\b\b\b\b\b\b\b\b\b\b\b\b\b\b\b\b\b\b\b\b\b\b\b\b\b\b\b\b\b\b\b\b\b\r278/500 [===============>..............] - ETA: 0s - loss: 482.7184 - acc: 0.3236",
                "stream": "stdout"
              },
              {
                "output_type": "stream",
                "metadata": {
                  "tags": []
                },
                "text": "\b\b\b\b\b\b\b\b\b\b\b\b\b\b\b\b\b\b\b\b\b\b\b\b\b\b\b\b\b\b\b\b\b\b\b\b\b\b\b\b\b\b\b\b\b\b\b\b\b\b\b\b\b\b\b\b\b\b\b\b\b\b\b\b\b\b\b\b\b\b\b\b\b\b\b\b\b\b\b\b\b\r294/500 [================>.............] - ETA: 0s - loss: 482.7089 - acc: 0.3570",
                "stream": "stdout"
              },
              {
                "output_type": "stream",
                "metadata": {
                  "tags": []
                },
                "text": "\b\b\b\b\b\b\b\b\b\b\b\b\b\b\b\b\b\b\b\b\b\b\b\b\b\b\b\b\b\b\b\b\b\b\b\b\b\b\b\b\b\b\b\b\b\b\b\b\b\b\b\b\b\b\b\b\b\b\b\b\b\b\b\b\b\b\b\b\b\b\b\b\b\b\b\b\b\b\b\b\b\r309/500 [=================>............] - ETA: 0s - loss: 482.7000 - acc: 0.3623",
                "stream": "stdout"
              },
              {
                "output_type": "stream",
                "metadata": {
                  "tags": []
                },
                "text": "\b\b\b\b\b\b\b\b\b\b\b\b\b\b\b\b\b\b\b\b\b\b\b\b\b\b\b\b\b\b\b\b\b\b\b\b\b\b\b\b\b\b\b\b\b\b\b\b\b\b\b\b\b\b\b\b\b\b\b\b\b\b\b\b\b\b\b\b\b\b\b\b\b\b\b\b\b\b\b\b\b\r324/500 [==================>...........] - ETA: 0s - loss: 482.6910 - acc: 0.3918",
                "stream": "stdout"
              },
              {
                "output_type": "stream",
                "metadata": {
                  "tags": []
                },
                "text": "\b\b\b\b\b\b\b\b\b\b\b\b\b\b\b\b\b\b\b\b\b\b\b\b\b\b\b\b\b\b\b\b\b\b\b\b\b\b\b\b\b\b\b\b\b\b\b\b\b\b\b\b\b\b\b\b\b\b\b\b\b\b\b\b\b\b\b\b\b\b\b\b\b\b\b\b\b\b\b\b\b\r340/500 [===================>..........] - ETA: 0s - loss: 482.6815 - acc: 0.4204",
                "stream": "stdout"
              },
              {
                "output_type": "stream",
                "metadata": {
                  "tags": []
                },
                "text": "\b\b\b\b\b\b\b\b\b\b\b\b\b\b\b\b\b\b\b\b\b\b\b\b\b\b\b\b\b\b\b\b\b\b\b\b\b\b\b\b\b\b\b\b\b\b\b\b\b\b\b\b\b\b\b\b\b\b\b\b\b\b\b\b\b\b\b\b\b\b\b\b\b\b\b\b\b\b\b\b\b\r355/500 [====================>.........] - ETA: 0s - loss: 482.6725 - acc: 0.4196",
                "stream": "stdout"
              },
              {
                "output_type": "stream",
                "metadata": {
                  "tags": []
                },
                "text": "\b\b\b\b\b\b\b\b\b\b\b\b\b\b\b\b\b\b\b\b\b\b\b\b\b\b\b\b\b\b\b\b\b\b\b\b\b\b\b\b\b\b\b\b\b\b\b\b\b\b\b\b\b\b\b\b\b\b\b\b\b\b\b\b\b\b\b\b\b\b\b\b\b\b\b\b\b\b\b\b\b\r369/500 [=====================>........] - ETA: 0s - loss: 482.6641 - acc: 0.4416",
                "stream": "stdout"
              },
              {
                "output_type": "stream",
                "metadata": {
                  "tags": []
                },
                "text": "\b\b\b\b\b\b\b\b\b\b\b\b\b\b\b\b\b\b\b\b\b\b\b\b\b\b\b\b\b\b\b\b\b\b\b\b\b\b\b\b\b\b\b\b\b\b\b\b\b\b\b\b\b\b\b\b\b\b\b\b\b\b\b\b\b\b\b\b\b\b\b\b\b\b\b\b\b\b\b\b\b\r384/500 [======================>.......] - ETA: 0s - loss: 482.6552 - acc: 0.4634",
                "stream": "stdout"
              },
              {
                "output_type": "stream",
                "metadata": {
                  "tags": []
                },
                "text": "\b\b\b\b\b\b\b\b\b\b\b\b\b\b\b\b\b\b\b\b\b\b\b\b\b\b\b\b\b\b\b\b\b\b\b\b\b\b\b\b\b\b\b\b\b\b\b\b\b\b\b\b\b\b\b\b\b\b\b\b\b\b\b\b\b\b\b\b\b\b\b\b\b\b\b\b\b\b\b\b\b\r401/500 [=======================>......] - ETA: 0s - loss: 482.6450 - acc: 0.4862",
                "stream": "stdout"
              },
              {
                "output_type": "stream",
                "metadata": {
                  "tags": []
                },
                "text": "\b\b\b\b\b\b\b\b\b\b\b\b\b\b\b\b\b\b\b\b\b\b\b\b\b\b\b\b\b\b\b\b\b\b\b\b\b\b\b\b\b\b\b\b\b\b\b\b\b\b\b\b\b\b\b\b\b\b\b\b\b\b\b\b\b\b\b\b\b\b\b\b\b\b\b\b\b\b\b\b\b\r418/500 [========================>.....] - ETA: 0s - loss: 482.6348 - acc: 0.5071",
                "stream": "stdout"
              },
              {
                "output_type": "stream",
                "metadata": {
                  "tags": []
                },
                "text": "\b\b\b\b\b\b\b\b\b\b\b\b\b\b\b\b\b\b\b\b\b\b\b\b\b\b\b\b\b\b\b\b\b\b\b\b\b\b\b\b\b\b\b\b\b\b\b\b\b\b\b\b\b\b\b\b\b\b\b\b\b\b\b\b\b\b\b\b\b\b\b\b\b\b\b\b\b\b\b\b\b\r434/500 [=========================>....] - ETA: 0s - loss: 482.6252 - acc: 0.5252",
                "stream": "stdout"
              },
              {
                "output_type": "stream",
                "metadata": {
                  "tags": []
                },
                "text": "\b\b\b\b\b\b\b\b\b\b\b\b\b\b\b\b\b\b\b\b\b\b\b\b\b\b\b\b\b\b\b\b\b\b\b\b\b\b\b\b\b\b\b\b\b\b\b\b\b\b\b\b\b\b\b\b\b\b\b\b\b\b\b\b\b\b\b\b\b\b\b\b\b\b\b\b\b\b\b\b\b\r450/500 [==========================>...] - ETA: 0s - loss: 482.6157 - acc: 0.5354",
                "stream": "stdout"
              },
              {
                "output_type": "stream",
                "metadata": {
                  "tags": []
                },
                "text": "\b\b\b\b\b\b\b\b\b\b\b\b\b\b\b\b\b\b\b\b\b\b\b\b\b\b\b\b\b\b\b\b\b\b\b\b\b\b\b\b\b\b\b\b\b\b\b\b\b\b\b\b\b\b\b\b\b\b\b\b\b\b\b\b\b\b\b\b\b\b\b\b\b\b\b\b\b\b\b\b\b\r466/500 [==========================>...] - ETA: 0s - loss: 482.6061 - acc: 0.5342",
                "stream": "stdout"
              },
              {
                "output_type": "stream",
                "metadata": {
                  "tags": []
                },
                "text": "\b\b\b\b\b\b\b\b\b\b\b\b\b\b\b\b\b\b\b\b\b\b\b\b\b\b\b\b\b\b\b\b\b\b\b\b\b\b\b\b\b\b\b\b\b\b\b\b\b\b\b\b\b\b\b\b\b\b\b\b\b\b\b\b\b\b\b\b\b\b\b\b\b\b\b\b\b\b\b\b\b\r481/500 [===========================>..] - ETA: 0s - loss: 482.5972 - acc: 0.5342",
                "stream": "stdout"
              },
              {
                "output_type": "stream",
                "metadata": {
                  "tags": []
                },
                "text": "\b\b\b\b\b\b\b\b\b\b\b\b\b\b\b\b\b\b\b\b\b\b\b\b\b\b\b\b\b\b\b\b\b\b\b\b\b\b\b\b\b\b\b\b\b\b\b\b\b\b\b\b\b\b\b\b\b\b\b\b\b\b\b\b\b\b\b\b\b\b\b\b\b\b\b\b\b\b\b\b\b\r497/500 [============================>.] - ETA: 0s - loss: 482.5876 - acc: 0.5331",
                "stream": "stdout"
              },
              {
                "output_type": "stream",
                "metadata": {
                  "tags": []
                },
                "text": "\b\b\b\b\b\b\b\b\b\b\b\b\b\b\b\b\b\b\b\b\b\b\b\b\b\b\b\b\b\b\b\b\b\b\b\b\b\b\b\b\b\b\b\b\b\b\b\b\b\b\b\b\b\b\b\b\b\b\b\b\b\b\b\b\b\b\b\b\b\b\b\b\b\b\b\b\b\b\b\b\b\r500/500 [==============================] - 2s 4ms/step - loss: 482.5858 - acc: 0.5319 - val_loss: 482.2867 - val_acc: 1.0000\n",
                "stream": "stdout"
              },
              {
                "output_type": "stream",
                "metadata": {
                  "tags": []
                },
                "text": "Epoch 5/20\n",
                "stream": "stdout"
              },
              {
                "output_type": "stream",
                "metadata": {
                  "tags": []
                },
                "text": "\r  1/500 [..............................] - ETA: 0s - loss: 482.2863 - acc: 1.0000",
                "stream": "stdout"
              },
              {
                "output_type": "stream",
                "metadata": {
                  "tags": []
                },
                "text": "\b\b\b\b\b\b\b\b\b\b\b\b\b\b\b\b\b\b\b\b\b\b\b\b\b\b\b\b\b\b\b\b\b\b\b\b\b\b\b\b\b\b\b\b\b\b\b\b\b\b\b\b\b\b\b\b\b\b\b\b\b\b\b\b\b\b\b\b\b\b\b\b\b\b\b\b\b\b\b\b\b\r 17/500 [>.............................] - ETA: 1s - loss: 482.2769 - acc: 0.5294",
                "stream": "stdout"
              },
              {
                "output_type": "stream",
                "metadata": {
                  "tags": []
                },
                "text": "\b\b\b\b\b\b\b\b\b\b\b\b\b\b\b\b\b\b\b\b\b\b\b\b\b\b\b\b\b\b\b\b\b\b\b\b\b\b\b\b\b\b\b\b\b\b\b\b\b\b\b\b\b\b\b\b\b\b\b\b\b\b\b\b\b\b\b\b\b\b\b\b\b\b\b\b\b\b\b\b\b\r 34/500 [=>............................] - ETA: 1s - loss: 482.2669 - acc: 0.5000",
                "stream": "stdout"
              },
              {
                "output_type": "stream",
                "metadata": {
                  "tags": []
                },
                "text": "\b\b\b\b\b\b\b\b\b\b\b\b\b\b\b\b\b\b\b\b\b\b\b\b\b\b\b\b\b\b\b\b\b\b\b\b\b\b\b\b\b\b\b\b\b\b\b\b\b\b\b\b\b\b\b\b\b\b\b\b\b\b\b\b\b\b\b\b\b\b\b\b\b\b\b\b\b\b\b\b\b\r 49/500 [=>............................] - ETA: 1s - loss: 482.2580 - acc: 0.5102",
                "stream": "stdout"
              },
              {
                "output_type": "stream",
                "metadata": {
                  "tags": []
                },
                "text": "\b\b\b\b\b\b\b\b\b\b\b\b\b\b\b\b\b\b\b\b\b\b\b\b\b\b\b\b\b\b\b\b\b\b\b\b\b\b\b\b\b\b\b\b\b\b\b\b\b\b\b\b\b\b\b\b\b\b\b\b\b\b\b\b\b\b\b\b\b\b\b\b\b\b\b\b\b\b\b\b\b\r 65/500 [==>...........................] - ETA: 1s - loss: 482.2487 - acc: 0.5077",
                "stream": "stdout"
              },
              {
                "output_type": "stream",
                "metadata": {
                  "tags": []
                },
                "text": "\b\b\b\b\b\b\b\b\b\b\b\b\b\b\b\b\b\b\b\b\b\b\b\b\b\b\b\b\b\b\b\b\b\b\b\b\b\b\b\b\b\b\b\b\b\b\b\b\b\b\b\b\b\b\b\b\b\b\b\b\b\b\b\b\b\b\b\b\b\b\b\b\b\b\b\b\b\b\b\b\b\r 81/500 [===>..........................] - ETA: 1s - loss: 482.2393 - acc: 0.5062",
                "stream": "stdout"
              },
              {
                "output_type": "stream",
                "metadata": {
                  "tags": []
                },
                "text": "\b\b\b\b\b\b\b\b\b\b\b\b\b\b\b\b\b\b\b\b\b\b\b\b\b\b\b\b\b\b\b\b\b\b\b\b\b\b\b\b\b\b\b\b\b\b\b\b\b\b\b\b\b\b\b\b\b\b\b\b\b\b\b\b\b\b\b\b\b\b\b\b\b\b\b\b\b\b\b\b\b\r 98/500 [====>.........................] - ETA: 1s - loss: 482.2295 - acc: 0.5000",
                "stream": "stdout"
              },
              {
                "output_type": "stream",
                "metadata": {
                  "tags": []
                },
                "text": "\b\b\b\b\b\b\b\b\b\b\b\b\b\b\b\b\b\b\b\b\b\b\b\b\b\b\b\b\b\b\b\b\b\b\b\b\b\b\b\b\b\b\b\b\b\b\b\b\b\b\b\b\b\b\b\b\b\b\b\b\b\b\b\b\b\b\b\b\b\b\b\b\b\b\b\b\b\b\b\b\b\r114/500 [=====>........................] - ETA: 1s - loss: 482.2202 - acc: 0.5000",
                "stream": "stdout"
              },
              {
                "output_type": "stream",
                "metadata": {
                  "tags": []
                },
                "text": "\b\b\b\b\b\b\b\b\b\b\b\b\b\b\b\b\b\b\b\b\b\b\b\b\b\b\b\b\b\b\b\b\b\b\b\b\b\b\b\b\b\b\b\b\b\b\b\b\b\b\b\b\b\b\b\b\b\b\b\b\b\b\b\b\b\b\b\b\b\b\b\b\b\b\b\b\b\b\b\b\b\r130/500 [======>.......................] - ETA: 1s - loss: 482.2109 - acc: 0.5000",
                "stream": "stdout"
              },
              {
                "output_type": "stream",
                "metadata": {
                  "tags": []
                },
                "text": "\b\b\b\b\b\b\b\b\b\b\b\b\b\b\b\b\b\b\b\b\b\b\b\b\b\b\b\b\b\b\b\b\b\b\b\b\b\b\b\b\b\b\b\b\b\b\b\b\b\b\b\b\b\b\b\b\b\b\b\b\b\b\b\b\b\b\b\b\b\b\b\b\b\b\b\b\b\b\b\b\b\r146/500 [=======>......................] - ETA: 1s - loss: 482.2016 - acc: 0.5000",
                "stream": "stdout"
              },
              {
                "output_type": "stream",
                "metadata": {
                  "tags": []
                },
                "text": "\b\b\b\b\b\b\b\b\b\b\b\b\b\b\b\b\b\b\b\b\b\b\b\b\b\b\b\b\b\b\b\b\b\b\b\b\b\b\b\b\b\b\b\b\b\b\b\b\b\b\b\b\b\b\b\b\b\b\b\b\b\b\b\b\b\b\b\b\b\b\b\b\b\b\b\b\b\b\b\b\b\r162/500 [========>.....................] - ETA: 1s - loss: 482.1924 - acc: 0.5000",
                "stream": "stdout"
              },
              {
                "output_type": "stream",
                "metadata": {
                  "tags": []
                },
                "text": "\b\b\b\b\b\b\b\b\b\b\b\b\b\b\b\b\b\b\b\b\b\b\b\b\b\b\b\b\b\b\b\b\b\b\b\b\b\b\b\b\b\b\b\b\b\b\b\b\b\b\b\b\b\b\b\b\b\b\b\b\b\b\b\b\b\b\b\b\b\b\b\b\b\b\b\b\b\b\b\b\b\r178/500 [=========>....................] - ETA: 1s - loss: 482.1831 - acc: 0.5000",
                "stream": "stdout"
              },
              {
                "output_type": "stream",
                "metadata": {
                  "tags": []
                },
                "text": "\b\b\b\b\b\b\b\b\b\b\b\b\b\b\b\b\b\b\b\b\b\b\b\b\b\b\b\b\b\b\b\b\b\b\b\b\b\b\b\b\b\b\b\b\b\b\b\b\b\b\b\b\b\b\b\b\b\b\b\b\b\b\b\b\b\b\b\b\b\b\b\b\b\b\b\b\b\b\b\b\b\r195/500 [==========>...................] - ETA: 0s - loss: 482.1733 - acc: 0.5026",
                "stream": "stdout"
              },
              {
                "output_type": "stream",
                "metadata": {
                  "tags": []
                },
                "text": "\b\b\b\b\b\b\b\b\b\b\b\b\b\b\b\b\b\b\b\b\b\b\b\b\b\b\b\b\b\b\b\b\b\b\b\b\b\b\b\b\b\b\b\b\b\b\b\b\b\b\b\b\b\b\b\b\b\b\b\b\b\b\b\b\b\b\b\b\b\b\b\b\b\b\b\b\b\b\b\b\b\r210/500 [===========>..................] - ETA: 0s - loss: 482.1648 - acc: 0.5000",
                "stream": "stdout"
              },
              {
                "output_type": "stream",
                "metadata": {
                  "tags": []
                },
                "text": "\b\b\b\b\b\b\b\b\b\b\b\b\b\b\b\b\b\b\b\b\b\b\b\b\b\b\b\b\b\b\b\b\b\b\b\b\b\b\b\b\b\b\b\b\b\b\b\b\b\b\b\b\b\b\b\b\b\b\b\b\b\b\b\b\b\b\b\b\b\b\b\b\b\b\b\b\b\b\b\b\b\r227/500 [============>.................] - ETA: 0s - loss: 482.1550 - acc: 0.5022",
                "stream": "stdout"
              },
              {
                "output_type": "stream",
                "metadata": {
                  "tags": []
                },
                "text": "\b\b\b\b\b\b\b\b\b\b\b\b\b\b\b\b\b\b\b\b\b\b\b\b\b\b\b\b\b\b\b\b\b\b\b\b\b\b\b\b\b\b\b\b\b\b\b\b\b\b\b\b\b\b\b\b\b\b\b\b\b\b\b\b\b\b\b\b\b\b\b\b\b\b\b\b\b\b\b\b\b\r242/500 [=============>................] - ETA: 0s - loss: 482.1464 - acc: 0.5000",
                "stream": "stdout"
              },
              {
                "output_type": "stream",
                "metadata": {
                  "tags": []
                },
                "text": "\b\b\b\b\b\b\b\b\b\b\b\b\b\b\b\b\b\b\b\b\b\b\b\b\b\b\b\b\b\b\b\b\b\b\b\b\b\b\b\b\b\b\b\b\b\b\b\b\b\b\b\b\b\b\b\b\b\b\b\b\b\b\b\b\b\b\b\b\b\b\b\b\b\b\b\b\b\b\b\b\b\r258/500 [==============>...............] - ETA: 0s - loss: 482.1522 - acc: 0.4816",
                "stream": "stdout"
              },
              {
                "output_type": "stream",
                "metadata": {
                  "tags": []
                },
                "text": "\b\b\b\b\b\b\b\b\b\b\b\b\b\b\b\b\b\b\b\b\b\b\b\b\b\b\b\b\b\b\b\b\b\b\b\b\b\b\b\b\b\b\b\b\b\b\b\b\b\b\b\b\b\b\b\b\b\b\b\b\b\b\b\b\b\b\b\b\b\b\b\b\b\b\b\b\b\b\b\b\b\r275/500 [===============>..............] - ETA: 0s - loss: 482.1680 - acc: 0.4519",
                "stream": "stdout"
              },
              {
                "output_type": "stream",
                "metadata": {
                  "tags": []
                },
                "text": "\b\b\b\b\b\b\b\b\b\b\b\b\b\b\b\b\b\b\b\b\b\b\b\b\b\b\b\b\b\b\b\b\b\b\b\b\b\b\b\b\b\b\b\b\b\b\b\b\b\b\b\b\b\b\b\b\b\b\b\b\b\b\b\b\b\b\b\b\b\b\b\b\b\b\b\b\b\b\b\b\b\r292/500 [================>.............] - ETA: 0s - loss: 482.1807 - acc: 0.4255",
                "stream": "stdout"
              },
              {
                "output_type": "stream",
                "metadata": {
                  "tags": []
                },
                "text": "\b\b\b\b\b\b\b\b\b\b\b\b\b\b\b\b\b\b\b\b\b\b\b\b\b\b\b\b\b\b\b\b\b\b\b\b\b\b\b\b\b\b\b\b\b\b\b\b\b\b\b\b\b\b\b\b\b\b\b\b\b\b\b\b\b\b\b\b\b\b\b\b\b\b\b\b\b\b\b\b\b\r307/500 [=================>............] - ETA: 0s - loss: 482.1897 - acc: 0.4048",
                "stream": "stdout"
              },
              {
                "output_type": "stream",
                "metadata": {
                  "tags": []
                },
                "text": "\b\b\b\b\b\b\b\b\b\b\b\b\b\b\b\b\b\b\b\b\b\b\b\b\b\b\b\b\b\b\b\b\b\b\b\b\b\b\b\b\b\b\b\b\b\b\b\b\b\b\b\b\b\b\b\b\b\b\b\b\b\b\b\b\b\b\b\b\b\b\b\b\b\b\b\b\b\b\b\b\b\r323/500 [==================>...........] - ETA: 0s - loss: 482.1974 - acc: 0.3847",
                "stream": "stdout"
              },
              {
                "output_type": "stream",
                "metadata": {
                  "tags": []
                },
                "text": "\b\b\b\b\b\b\b\b\b\b\b\b\b\b\b\b\b\b\b\b\b\b\b\b\b\b\b\b\b\b\b\b\b\b\b\b\b\b\b\b\b\b\b\b\b\b\b\b\b\b\b\b\b\b\b\b\b\b\b\b\b\b\b\b\b\b\b\b\b\b\b\b\b\b\b\b\b\b\b\b\b\r338/500 [===================>..........] - ETA: 0s - loss: 482.2032 - acc: 0.3676",
                "stream": "stdout"
              },
              {
                "output_type": "stream",
                "metadata": {
                  "tags": []
                },
                "text": "\b\b\b\b\b\b\b\b\b\b\b\b\b\b\b\b\b\b\b\b\b\b\b\b\b\b\b\b\b\b\b\b\b\b\b\b\b\b\b\b\b\b\b\b\b\b\b\b\b\b\b\b\b\b\b\b\b\b\b\b\b\b\b\b\b\b\b\b\b\b\b\b\b\b\b\b\b\b\b\b\b\r355/500 [====================>.........] - ETA: 0s - loss: 482.2082 - acc: 0.3500",
                "stream": "stdout"
              },
              {
                "output_type": "stream",
                "metadata": {
                  "tags": []
                },
                "text": "\b\b\b\b\b\b\b\b\b\b\b\b\b\b\b\b\b\b\b\b\b\b\b\b\b\b\b\b\b\b\b\b\b\b\b\b\b\b\b\b\b\b\b\b\b\b\b\b\b\b\b\b\b\b\b\b\b\b\b\b\b\b\b\b\b\b\b\b\b\b\b\b\b\b\b\b\b\b\b\b\b\r371/500 [=====================>........] - ETA: 0s - loss: 482.2116 - acc: 0.3349",
                "stream": "stdout"
              },
              {
                "output_type": "stream",
                "metadata": {
                  "tags": []
                },
                "text": "\b\b\b\b\b\b\b\b\b\b\b\b\b\b\b\b\b\b\b\b\b\b\b\b\b\b\b\b\b\b\b\b\b\b\b\b\b\b\b\b\b\b\b\b\b\b\b\b\b\b\b\b\b\b\b\b\b\b\b\b\b\b\b\b\b\b\b\b\b\b\b\b\b\b\b\b\b\b\b\b\b\r388/500 [======================>.......] - ETA: 0s - loss: 482.2140 - acc: 0.3280",
                "stream": "stdout"
              },
              {
                "output_type": "stream",
                "metadata": {
                  "tags": []
                },
                "text": "\b\b\b\b\b\b\b\b\b\b\b\b\b\b\b\b\b\b\b\b\b\b\b\b\b\b\b\b\b\b\b\b\b\b\b\b\b\b\b\b\b\b\b\b\b\b\b\b\b\b\b\b\b\b\b\b\b\b\b\b\b\b\b\b\b\b\b\b\b\b\b\b\b\b\b\b\b\b\b\b\b\r405/500 [=======================>......] - ETA: 0s - loss: 482.2154 - acc: 0.3290",
                "stream": "stdout"
              },
              {
                "output_type": "stream",
                "metadata": {
                  "tags": []
                },
                "text": "\b\b\b\b\b\b\b\b\b\b\b\b\b\b\b\b\b\b\b\b\b\b\b\b\b\b\b\b\b\b\b\b\b\b\b\b\b\b\b\b\b\b\b\b\b\b\b\b\b\b\b\b\b\b\b\b\b\b\b\b\b\b\b\b\b\b\b\b\b\b\b\b\b\b\b\b\b\b\b\b\b\r421/500 [========================>.....] - ETA: 0s - loss: 482.2157 - acc: 0.3332",
                "stream": "stdout"
              },
              {
                "output_type": "stream",
                "metadata": {
                  "tags": []
                },
                "text": "\b\b\b\b\b\b\b\b\b\b\b\b\b\b\b\b\b\b\b\b\b\b\b\b\b\b\b\b\b\b\b\b\b\b\b\b\b\b\b\b\b\b\b\b\b\b\b\b\b\b\b\b\b\b\b\b\b\b\b\b\b\b\b\b\b\b\b\b\b\b\b\b\b\b\b\b\b\b\b\b\b\r438/500 [=========================>....] - ETA: 0s - loss: 482.2153 - acc: 0.3408",
                "stream": "stdout"
              },
              {
                "output_type": "stream",
                "metadata": {
                  "tags": []
                },
                "text": "\b\b\b\b\b\b\b\b\b\b\b\b\b\b\b\b\b\b\b\b\b\b\b\b\b\b\b\b\b\b\b\b\b\b\b\b\b\b\b\b\b\b\b\b\b\b\b\b\b\b\b\b\b\b\b\b\b\b\b\b\b\b\b\b\b\b\b\b\b\b\b\b\b\b\b\b\b\b\b\b\b\r455/500 [==========================>...] - ETA: 0s - loss: 482.2141 - acc: 0.3522",
                "stream": "stdout"
              },
              {
                "output_type": "stream",
                "metadata": {
                  "tags": []
                },
                "text": "\b\b\b\b\b\b\b\b\b\b\b\b\b\b\b\b\b\b\b\b\b\b\b\b\b\b\b\b\b\b\b\b\b\b\b\b\b\b\b\b\b\b\b\b\b\b\b\b\b\b\b\b\b\b\b\b\b\b\b\b\b\b\b\b\b\b\b\b\b\b\b\b\b\b\b\b\b\b\b\b\b\r470/500 [===========================>..] - ETA: 0s - loss: 482.2126 - acc: 0.3644",
                "stream": "stdout"
              },
              {
                "output_type": "stream",
                "metadata": {
                  "tags": []
                },
                "text": "\b\b\b\b\b\b\b\b\b\b\b\b\b\b\b\b\b\b\b\b\b\b\b\b\b\b\b\b\b\b\b\b\b\b\b\b\b\b\b\b\b\b\b\b\b\b\b\b\b\b\b\b\b\b\b\b\b\b\b\b\b\b\b\b\b\b\b\b\b\b\b\b\b\b\b\b\b\b\b\b\b\r486/500 [============================>.] - ETA: 0s - loss: 482.2103 - acc: 0.3791",
                "stream": "stdout"
              },
              {
                "output_type": "stream",
                "metadata": {
                  "tags": []
                },
                "text": "\b\b\b\b\b\b\b\b\b\b\b\b\b\b\b\b\b\b\b\b\b\b\b\b\b\b\b\b\b\b\b\b\b\b\b\b\b\b\b\b\b\b\b\b\b\b\b\b\b\b\b\b\b\b\b\b\b\b\b\b\b\b\b\b\b\b\b\b\b\b\b\b\b\b\b\b\b\b\b\b\b\r500/500 [==============================] - 2s 4ms/step - loss: 482.2079 - acc: 0.3905 - val_loss: 482.1179 - val_acc: 1.0000\n",
                "stream": "stdout"
              },
              {
                "output_type": "stream",
                "metadata": {
                  "tags": []
                },
                "text": "Epoch 6/20\n\r  1/500 [..............................] - ETA: 0s - loss: 482.1176 - acc: 1.0000",
                "stream": "stdout"
              },
              {
                "output_type": "stream",
                "metadata": {
                  "tags": []
                },
                "text": "\b\b\b\b\b\b\b\b\b\b\b\b\b\b\b\b\b\b\b\b\b\b\b\b\b\b\b\b\b\b\b\b\b\b\b\b\b\b\b\b\b\b\b\b\b\b\b\b\b\b\b\b\b\b\b\b\b\b\b\b\b\b\b\b\b\b\b\b\b\b\b\b\b\b\b\b\b\b\b\b\b\r 17/500 [>.............................] - ETA: 1s - loss: 482.1076 - acc: 0.8235",
                "stream": "stdout"
              },
              {
                "output_type": "stream",
                "metadata": {
                  "tags": []
                },
                "text": "\b\b\b\b\b\b\b\b\b\b\b\b\b\b\b\b\b\b\b\b\b\b\b\b\b\b\b\b\b\b\b\b\b\b\b\b\b\b\b\b\b\b\b\b\b\b\b\b\b\b\b\b\b\b\b\b\b\b\b\b\b\b\b\b\b\b\b\b\b\b\b\b\b\b\b\b\b\b\b\b\b\r 33/500 [>.............................] - ETA: 1s - loss: 482.0977 - acc: 0.8485",
                "stream": "stdout"
              },
              {
                "output_type": "stream",
                "metadata": {
                  "tags": []
                },
                "text": "\b\b\b\b\b\b\b\b\b\b\b\b\b\b\b\b\b\b\b\b\b\b\b\b\b\b\b\b\b\b\b\b\b\b\b\b\b\b\b\b\b\b\b\b\b\b\b\b\b\b\b\b\b\b\b\b\b\b\b\b\b\b\b\b\b\b\b\b\b\b\b\b\b\b\b\b\b\b\b\b\b\r 48/500 [=>............................] - ETA: 1s - loss: 482.0886 - acc: 0.8542",
                "stream": "stdout"
              },
              {
                "output_type": "stream",
                "metadata": {
                  "tags": []
                },
                "text": "\b\b\b\b\b\b\b\b\b\b\b\b\b\b\b\b\b\b\b\b\b\b\b\b\b\b\b\b\b\b\b\b\b\b\b\b\b\b\b\b\b\b\b\b\b\b\b\b\b\b\b\b\b\b\b\b\b\b\b\b\b\b\b\b\b\b\b\b\b\b\b\b\b\b\b\b\b\b\b\b\b\r 61/500 [==>...........................] - ETA: 1s - loss: 482.0805 - acc: 0.8689",
                "stream": "stdout"
              },
              {
                "output_type": "stream",
                "metadata": {
                  "tags": []
                },
                "text": "\b\b\b\b\b\b\b\b\b\b\b\b\b\b\b\b\b\b\b\b\b\b\b\b\b\b\b\b\b\b\b\b\b\b\b\b\b\b\b\b\b\b\b\b\b\b\b\b\b\b\b\b\b\b\b\b\b\b\b\b\b\b\b\b\b\b\b\b\b\b\b\b\b\b\b\b\b\b\b\b\b\r 74/500 [===>..........................] - ETA: 1s - loss: 482.0726 - acc: 0.8784",
                "stream": "stdout"
              },
              {
                "output_type": "stream",
                "metadata": {
                  "tags": []
                },
                "text": "\b\b\b\b\b\b\b\b\b\b\b\b\b\b\b\b\b\b\b\b\b\b\b\b\b\b\b\b\b\b\b\b\b\b\b\b\b\b\b\b\b\b\b\b\b\b\b\b\b\b\b\b\b\b\b\b\b\b\b\b\b\b\b\b\b\b\b\b\b\b\b\b\b\b\b\b\b\b\b\b\b\r 90/500 [====>.........................] - ETA: 1s - loss: 482.0628 - acc: 0.8889",
                "stream": "stdout"
              },
              {
                "output_type": "stream",
                "metadata": {
                  "tags": []
                },
                "text": "\b\b\b\b\b\b\b\b\b\b\b\b\b\b\b\b\b\b\b\b\b\b\b\b\b\b\b\b\b\b\b\b\b\b\b\b\b\b\b\b\b\b\b\b\b\b\b\b\b\b\b\b\b\b\b\b\b\b\b\b\b\b\b\b\b\b\b\b\b\b\b\b\b\b\b\b\b\b\b\b\b\r106/500 [=====>........................] - ETA: 1s - loss: 482.0530 - acc: 0.8962",
                "stream": "stdout"
              },
              {
                "output_type": "stream",
                "metadata": {
                  "tags": []
                },
                "text": "\b\b\b\b\b\b\b\b\b\b\b\b\b\b\b\b\b\b\b\b\b\b\b\b\b\b\b\b\b\b\b\b\b\b\b\b\b\b\b\b\b\b\b\b\b\b\b\b\b\b\b\b\b\b\b\b\b\b\b\b\b\b\b\b\b\b\b\b\b\b\b\b\b\b\b\b\b\b\b\b\b\r121/500 [======>.......................] - ETA: 1s - loss: 482.0438 - acc: 0.9008",
                "stream": "stdout"
              },
              {
                "output_type": "stream",
                "metadata": {
                  "tags": []
                },
                "text": "\b\b\b\b\b\b\b\b\b\b\b\b\b\b\b\b\b\b\b\b\b\b\b\b\b\b\b\b\b\b\b\b\b\b\b\b\b\b\b\b\b\b\b\b\b\b\b\b\b\b\b\b\b\b\b\b\b\b\b\b\b\b\b\b\b\b\b\b\b\b\b\b\b\b\b\b\b\b\b\b\b\r137/500 [=======>......................] - ETA: 1s - loss: 482.0340 - acc: 0.9051",
                "stream": "stdout"
              },
              {
                "output_type": "stream",
                "metadata": {
                  "tags": []
                },
                "text": "\b\b\b\b\b\b\b\b\b\b\b\b\b\b\b\b\b\b\b\b\b\b\b\b\b\b\b\b\b\b\b\b\b\b\b\b\b\b\b\b\b\b\b\b\b\b\b\b\b\b\b\b\b\b\b\b\b\b\b\b\b\b\b\b\b\b\b\b\b\b\b\b\b\b\b\b\b\b\b\b\b\r152/500 [========>.....................] - ETA: 1s - loss: 482.0248 - acc: 0.9145",
                "stream": "stdout"
              },
              {
                "output_type": "stream",
                "metadata": {
                  "tags": []
                },
                "text": "\b\b\b\b\b\b\b\b\b\b\b\b\b\b\b\b\b\b\b\b\b\b\b\b\b\b\b\b\b\b\b\b\b\b\b\b\b\b\b\b\b\b\b\b\b\b\b\b\b\b\b\b\b\b\b\b\b\b\b\b\b\b\b\b\b\b\b\b\b\b\b\b\b\b\b\b\b\b\b\b\b\r168/500 [=========>....................] - ETA: 1s - loss: 482.0150 - acc: 0.9226",
                "stream": "stdout"
              },
              {
                "output_type": "stream",
                "metadata": {
                  "tags": []
                },
                "text": "\b\b\b\b\b\b\b\b\b\b\b\b\b\b\b\b\b\b\b\b\b\b\b\b\b\b\b\b\b\b\b\b\b\b\b\b\b\b\b\b\b\b\b\b\b\b\b\b\b\b\b\b\b\b\b\b\b\b\b\b\b\b\b\b\b\b\b\b\b\b\b\b\b\b\b\b\b\b\b\b\b\r184/500 [==========>...................] - ETA: 1s - loss: 482.0052 - acc: 0.9293",
                "stream": "stdout"
              },
              {
                "output_type": "stream",
                "metadata": {
                  "tags": []
                },
                "text": "\b\b\b\b\b\b\b\b\b\b\b\b\b\b\b\b\b\b\b\b\b\b\b\b\b\b\b\b\b\b\b\b\b\b\b\b\b\b\b\b\b\b\b\b\b\b\b\b\b\b\b\b\b\b\b\b\b\b\b\b\b\b\b\b\b\b\b\b\b\b\b\b\b\b\b\b\b\b\b\b\b\r200/500 [===========>..................] - ETA: 1s - loss: 481.9954 - acc: 0.9250",
                "stream": "stdout"
              },
              {
                "output_type": "stream",
                "metadata": {
                  "tags": []
                },
                "text": "\b\b\b\b\b\b\b\b\b\b\b\b\b\b\b\b\b\b\b\b\b\b\b\b\b\b\b\b\b\b\b\b\b\b\b\b\b\b\b\b\b\b\b\b\b\b\b\b\b\b\b\b\b\b\b\b\b\b\b\b\b\b\b\b\b\b\b\b\b\b\b\b\b\b\b\b\b\b\b\b\b\r215/500 [===========>..................] - ETA: 0s - loss: 481.9862 - acc: 0.9302",
                "stream": "stdout"
              },
              {
                "output_type": "stream",
                "metadata": {
                  "tags": []
                },
                "text": "\b\b\b\b\b\b\b\b\b\b\b\b\b\b\b\b\b\b\b\b\b\b\b\b\b\b\b\b\b\b\b\b\b\b\b\b\b\b\b\b\b\b\b\b\b\b\b\b\b\b\b\b\b\b\b\b\b\b\b\b\b\b\b\b\b\b\b\b\b\b\b\b\b\b\b\b\b\b\b\b\b\r231/500 [============>.................] - ETA: 0s - loss: 481.9764 - acc: 0.9351",
                "stream": "stdout"
              },
              {
                "output_type": "stream",
                "metadata": {
                  "tags": []
                },
                "text": "\b\b\b\b\b\b\b\b\b\b\b\b\b\b\b\b\b\b\b\b\b\b\b\b\b\b\b\b\b\b\b\b\b\b\b\b\b\b\b\b\b\b\b\b\b\b\b\b\b\b\b\b\b\b\b\b\b\b\b\b\b\b\b\b\b\b\b\b\b\b\b\b\b\b\b\b\b\b\b\b\b\r247/500 [=============>................] - ETA: 0s - loss: 481.9666 - acc: 0.9352",
                "stream": "stdout"
              },
              {
                "output_type": "stream",
                "metadata": {
                  "tags": []
                },
                "text": "\b\b\b\b\b\b\b\b\b\b\b\b\b\b\b\b\b\b\b\b\b\b\b\b\b\b\b\b\b\b\b\b\b\b\b\b\b\b\b\b\b\b\b\b\b\b\b\b\b\b\b\b\b\b\b\b\b\b\b\b\b\b\b\b\b\b\b\b\b\b\b\b\b\b\b\b\b\b\b\b\b\r264/500 [==============>...............] - ETA: 0s - loss: 481.9562 - acc: 0.9394",
                "stream": "stdout"
              },
              {
                "output_type": "stream",
                "metadata": {
                  "tags": []
                },
                "text": "\b\b\b\b\b\b\b\b\b\b\b\b\b\b\b\b\b\b\b\b\b\b\b\b\b\b\b\b\b\b\b\b\b\b\b\b\b\b\b\b\b\b\b\b\b\b\b\b\b\b\b\b\b\b\b\b\b\b\b\b\b\b\b\b\b\b\b\b\b\b\b\b\b\b\b\b\b\b\b\b\b\r280/500 [===============>..............] - ETA: 0s - loss: 481.9464 - acc: 0.9429",
                "stream": "stdout"
              },
              {
                "output_type": "stream",
                "metadata": {
                  "tags": []
                },
                "text": "\b\b\b\b\b\b\b\b\b\b\b\b\b\b\b\b\b\b\b\b\b\b\b\b\b\b\b\b\b\b\b\b\b\b\b\b\b\b\b\b\b\b\b\b\b\b\b\b\b\b\b\b\b\b\b\b\b\b\b\b\b\b\b\b\b\b\b\b\b\b\b\b\b\b\b\b\b\b\b\b\b\r295/500 [================>.............] - ETA: 0s - loss: 481.9372 - acc: 0.9458",
                "stream": "stdout"
              },
              {
                "output_type": "stream",
                "metadata": {
                  "tags": []
                },
                "text": "\b\b\b\b\b\b\b\b\b\b\b\b\b\b\b\b\b\b\b\b\b\b\b\b\b\b\b\b\b\b\b\b\b\b\b\b\b\b\b\b\b\b\b\b\b\b\b\b\b\b\b\b\b\b\b\b\b\b\b\b\b\b\b\b\b\b\b\b\b\b\b\b\b\b\b\b\b\b\b\b\b\r311/500 [=================>............] - ETA: 0s - loss: 481.9275 - acc: 0.9486",
                "stream": "stdout"
              },
              {
                "output_type": "stream",
                "metadata": {
                  "tags": []
                },
                "text": "\b\b\b\b\b\b\b\b\b\b\b\b\b\b\b\b\b\b\b\b\b\b\b\b\b\b\b\b\b\b\b\b\b\b\b\b\b\b\b\b\b\b\b\b\b\b\b\b\b\b\b\b\b\b\b\b\b\b\b\b\b\b\b\b\b\b\b\b\b\b\b\b\b\b\b\b\b\b\b\b\b\r327/500 [==================>...........] - ETA: 0s - loss: 481.9177 - acc: 0.9511",
                "stream": "stdout"
              },
              {
                "output_type": "stream",
                "metadata": {
                  "tags": []
                },
                "text": "\b\b\b\b\b\b\b\b\b\b\b\b\b\b\b\b\b\b\b\b\b\b\b\b\b\b\b\b\b\b\b\b\b\b\b\b\b\b\b\b\b\b\b\b\b\b\b\b\b\b\b\b\b\b\b\b\b\b\b\b\b\b\b\b\b\b\b\b\b\b\b\b\b\b\b\b\b\b\b\b\b\r343/500 [===================>..........] - ETA: 0s - loss: 481.9079 - acc: 0.9534",
                "stream": "stdout"
              },
              {
                "output_type": "stream",
                "metadata": {
                  "tags": []
                },
                "text": "\b\b\b\b\b\b\b\b\b\b\b\b\b\b\b\b\b\b\b\b\b\b\b\b\b\b\b\b\b\b\b\b\b\b\b\b\b\b\b\b\b\b\b\b\b\b\b\b\b\b\b\b\b\b\b\b\b\b\b\b\b\b\b\b\b\b\b\b\b\b\b\b\b\b\b\b\b\b\b\b\b\r358/500 [====================>.........] - ETA: 0s - loss: 481.8987 - acc: 0.9553",
                "stream": "stdout"
              },
              {
                "output_type": "stream",
                "metadata": {
                  "tags": []
                },
                "text": "\b\b\b\b\b\b\b\b\b\b\b\b\b\b\b\b\b\b\b\b\b\b\b\b\b\b\b\b\b\b\b\b\b\b\b\b\b\b\b\b\b\b\b\b\b\b\b\b\b\b\b\b\b\b\b\b\b\b\b\b\b\b\b\b\b\b\b\b\b\b\b\b\b\b\b\b\b\b\b\b\b\r371/500 [=====================>........] - ETA: 0s - loss: 481.8908 - acc: 0.9569",
                "stream": "stdout"
              },
              {
                "output_type": "stream",
                "metadata": {
                  "tags": []
                },
                "text": "\b\b\b\b\b\b\b\b\b\b\b\b\b\b\b\b\b\b\b\b\b\b\b\b\b\b\b\b\b\b\b\b\b\b\b\b\b\b\b\b\b\b\b\b\b\b\b\b\b\b\b\b\b\b\b\b\b\b\b\b\b\b\b\b\b\b\b\b\b\b\b\b\b\b\b\b\b\b\b\b\b\r387/500 [======================>.......] - ETA: 0s - loss: 481.8811 - acc: 0.9587",
                "stream": "stdout"
              },
              {
                "output_type": "stream",
                "metadata": {
                  "tags": []
                },
                "text": "\b\b\b\b\b\b\b\b\b\b\b\b\b\b\b\b\b\b\b\b\b\b\b\b\b\b\b\b\b\b\b\b\b\b\b\b\b\b\b\b\b\b\b\b\b\b\b\b\b\b\b\b\b\b\b\b\b\b\b\b\b\b\b\b\b\b\b\b\b\b\b\b\b\b\b\b\b\b\b\b\b\r403/500 [=======================>......] - ETA: 0s - loss: 481.8714 - acc: 0.9553",
                "stream": "stdout"
              },
              {
                "output_type": "stream",
                "metadata": {
                  "tags": []
                },
                "text": "\b\b\b\b\b\b\b\b\b\b\b\b\b\b\b\b\b\b\b\b\b\b\b\b\b\b\b\b\b\b\b\b\b\b\b\b\b\b\b\b\b\b\b\b\b\b\b\b\b\b\b\b\b\b\b\b\b\b\b\b\b\b\b\b\b\b\b\b\b\b\b\b\b\b\b\b\b\b\b\b\b\r420/500 [========================>.....] - ETA: 0s - loss: 481.8610 - acc: 0.9357",
                "stream": "stdout"
              },
              {
                "output_type": "stream",
                "metadata": {
                  "tags": []
                },
                "text": "\b\b\b\b\b\b\b\b\b\b\b\b\b\b\b\b\b\b\b\b\b\b\b\b\b\b\b\b\b\b\b\b\b\b\b\b\b\b\b\b\b\b\b\b\b\b\b\b\b\b\b\b\b\b\b\b\b\b\b\b\b\b\b\b\b\b\b\b\b\b\b\b\b\b\b\b\b\b\b\b\b\r435/500 [=========================>....] - ETA: 0s - loss: 481.8519 - acc: 0.9218",
                "stream": "stdout"
              },
              {
                "output_type": "stream",
                "metadata": {
                  "tags": []
                },
                "text": "\b\b\b\b\b\b\b\b\b\b\b\b\b\b\b\b\b\b\b\b\b\b\b\b\b\b\b\b\b\b\b\b\b\b\b\b\b\b\b\b\b\b\b\b\b\b\b\b\b\b\b\b\b\b\b\b\b\b\b\b\b\b\b\b\b\b\b\b\b\b\b\b\b\b\b\b\b\b\b\b\b\r451/500 [==========================>...] - ETA: 0s - loss: 481.8422 - acc: 0.9069",
                "stream": "stdout"
              },
              {
                "output_type": "stream",
                "metadata": {
                  "tags": []
                },
                "text": "\b\b\b\b\b\b\b\b\b\b\b\b\b\b\b\b\b\b\b\b\b\b\b\b\b\b\b\b\b\b\b\b\b\b\b\b\b\b\b\b\b\b\b\b\b\b\b\b\b\b\b\b\b\b\b\b\b\b\b\b\b\b\b\b\b\b\b\b\b\b\b\b\b\b\b\b\b\b\b\b\b\r468/500 [===========================>..] - ETA: 0s - loss: 481.8318 - acc: 0.8910",
                "stream": "stdout"
              },
              {
                "output_type": "stream",
                "metadata": {
                  "tags": []
                },
                "text": "\b\b\b\b\b\b\b\b\b\b\b\b\b\b\b\b\b\b\b\b\b\b\b\b\b\b\b\b\b\b\b\b\b\b\b\b\b\b\b\b\b\b\b\b\b\b\b\b\b\b\b\b\b\b\b\b\b\b\b\b\b\b\b\b\b\b\b\b\b\b\b\b\b\b\b\b\b\b\b\b\b\r485/500 [============================>.] - ETA: 0s - loss: 481.8215 - acc: 0.8784",
                "stream": "stdout"
              },
              {
                "output_type": "stream",
                "metadata": {
                  "tags": []
                },
                "text": "\b\b\b\b\b\b\b\b\b\b\b\b\b\b\b\b\b\b\b\b\b\b\b\b\b\b\b\b\b\b\b\b\b\b\b\b\b\b\b\b\b\b\b\b\b\b\b\b\b\b\b\b\b\b\b\b\b\b\b\b\b\b\b\b\b\b\b\b\b\b\b\b\b\b\b\b\b\b\b\b\b\r500/500 [==============================] - 2s 4ms/step - loss: 481.8124 - acc: 0.8660 - val_loss: 481.5078 - val_acc: 0.9999\n",
                "stream": "stdout"
              },
              {
                "output_type": "stream",
                "metadata": {
                  "tags": []
                },
                "text": "Epoch 7/20\n\r  1/500 [..............................] - ETA: 0s - loss: 481.5077 - acc: 1.0000",
                "stream": "stdout"
              },
              {
                "output_type": "stream",
                "metadata": {
                  "tags": []
                },
                "text": "\b\b\b\b\b\b\b\b\b\b\b\b\b\b\b\b\b\b\b\b\b\b\b\b\b\b\b\b\b\b\b\b\b\b\b\b\b\b\b\b\b\b\b\b\b\b\b\b\b\b\b\b\b\b\b\b\b\b\b\b\b\b\b\b\b\b\b\b\b\b\b\b\b\b\b\b\b\b\b\b\b\r 17/500 [>.............................] - ETA: 1s - loss: 481.4980 - acc: 0.5294",
                "stream": "stdout"
              },
              {
                "output_type": "stream",
                "metadata": {
                  "tags": []
                },
                "text": "\b\b\b\b\b\b\b\b\b\b\b\b\b\b\b\b\b\b\b\b\b\b\b\b\b\b\b\b\b\b\b\b\b\b\b\b\b\b\b\b\b\b\b\b\b\b\b\b\b\b\b\b\b\b\b\b\b\b\b\b\b\b\b\b\b\b\b\b\b\b\b\b\b\b\b\b\b\b\b\b\b\r 33/500 [>.............................] - ETA: 1s - loss: 481.4884 - acc: 0.5152",
                "stream": "stdout"
              },
              {
                "output_type": "stream",
                "metadata": {
                  "tags": []
                },
                "text": "\b\b\b\b\b\b\b\b\b\b\b\b\b\b\b\b\b\b\b\b\b\b\b\b\b\b\b\b\b\b\b\b\b\b\b\b\b\b\b\b\b\b\b\b\b\b\b\b\b\b\b\b\b\b\b\b\b\b\b\b\b\b\b\b\b\b\b\b\b\b\b\b\b\b\b\b\b\b\b\b\b\r 48/500 [=>............................] - ETA: 1s - loss: 481.4793 - acc: 0.5000",
                "stream": "stdout"
              },
              {
                "output_type": "stream",
                "metadata": {
                  "tags": []
                },
                "text": "\b\b\b\b\b\b\b\b\b\b\b\b\b\b\b\b\b\b\b\b\b\b\b\b\b\b\b\b\b\b\b\b\b\b\b\b\b\b\b\b\b\b\b\b\b\b\b\b\b\b\b\b\b\b\b\b\b\b\b\b\b\b\b\b\b\b\b\b\b\b\b\b\b\b\b\b\b\b\b\b\b\r 65/500 [==>...........................] - ETA: 1s - loss: 481.4691 - acc: 0.5077",
                "stream": "stdout"
              },
              {
                "output_type": "stream",
                "metadata": {
                  "tags": []
                },
                "text": "\b\b\b\b\b\b\b\b\b\b\b\b\b\b\b\b\b\b\b\b\b\b\b\b\b\b\b\b\b\b\b\b\b\b\b\b\b\b\b\b\b\b\b\b\b\b\b\b\b\b\b\b\b\b\b\b\b\b\b\b\b\b\b\b\b\b\b\b\b\b\b\b\b\b\b\b\b\b\b\b\b\r 81/500 [===>..........................] - ETA: 1s - loss: 481.4594 - acc: 0.5062",
                "stream": "stdout"
              },
              {
                "output_type": "stream",
                "metadata": {
                  "tags": []
                },
                "text": "\b\b\b\b\b\b\b\b\b\b\b\b\b\b\b\b\b\b\b\b\b\b\b\b\b\b\b\b\b\b\b\b\b\b\b\b\b\b\b\b\b\b\b\b\b\b\b\b\b\b\b\b\b\b\b\b\b\b\b\b\b\b\b\b\b\b\b\b\b\b\b\b\b\b\b\b\b\b\b\b\b\r 97/500 [====>.........................] - ETA: 1s - loss: 481.4498 - acc: 0.5052",
                "stream": "stdout"
              },
              {
                "output_type": "stream",
                "metadata": {
                  "tags": []
                },
                "text": "\b\b\b\b\b\b\b\b\b\b\b\b\b\b\b\b\b\b\b\b\b\b\b\b\b\b\b\b\b\b\b\b\b\b\b\b\b\b\b\b\b\b\b\b\b\b\b\b\b\b\b\b\b\b\b\b\b\b\b\b\b\b\b\b\b\b\b\b\b\b\b\b\b\b\b\b\b\b\b\b\b\r114/500 [=====>........................] - ETA: 1s - loss: 481.4395 - acc: 0.5000",
                "stream": "stdout"
              },
              {
                "output_type": "stream",
                "metadata": {
                  "tags": []
                },
                "text": "\b\b\b\b\b\b\b\b\b\b\b\b\b\b\b\b\b\b\b\b\b\b\b\b\b\b\b\b\b\b\b\b\b\b\b\b\b\b\b\b\b\b\b\b\b\b\b\b\b\b\b\b\b\b\b\b\b\b\b\b\b\b\b\b\b\b\b\b\b\b\b\b\b\b\b\b\b\b\b\b\b\r128/500 [======>.......................] - ETA: 1s - loss: 481.4311 - acc: 0.5000",
                "stream": "stdout"
              },
              {
                "output_type": "stream",
                "metadata": {
                  "tags": []
                },
                "text": "\b\b\b\b\b\b\b\b\b\b\b\b\b\b\b\b\b\b\b\b\b\b\b\b\b\b\b\b\b\b\b\b\b\b\b\b\b\b\b\b\b\b\b\b\b\b\b\b\b\b\b\b\b\b\b\b\b\b\b\b\b\b\b\b\b\b\b\b\b\b\b\b\b\b\b\b\b\b\b\b\b\r144/500 [=======>......................] - ETA: 1s - loss: 481.4214 - acc: 0.5000",
                "stream": "stdout"
              },
              {
                "output_type": "stream",
                "metadata": {
                  "tags": []
                },
                "text": "\b\b\b\b\b\b\b\b\b\b\b\b\b\b\b\b\b\b\b\b\b\b\b\b\b\b\b\b\b\b\b\b\b\b\b\b\b\b\b\b\b\b\b\b\b\b\b\b\b\b\b\b\b\b\b\b\b\b\b\b\b\b\b\b\b\b\b\b\b\b\b\b\b\b\b\b\b\b\b\b\b\r161/500 [========>.....................] - ETA: 1s - loss: 481.4112 - acc: 0.5031",
                "stream": "stdout"
              },
              {
                "output_type": "stream",
                "metadata": {
                  "tags": []
                },
                "text": "\b\b\b\b\b\b\b\b\b\b\b\b\b\b\b\b\b\b\b\b\b\b\b\b\b\b\b\b\b\b\b\b\b\b\b\b\b\b\b\b\b\b\b\b\b\b\b\b\b\b\b\b\b\b\b\b\b\b\b\b\b\b\b\b\b\b\b\b\b\b\b\b\b\b\b\b\b\b\b\b\b\r178/500 [=========>....................] - ETA: 1s - loss: 481.4009 - acc: 0.5000",
                "stream": "stdout"
              },
              {
                "output_type": "stream",
                "metadata": {
                  "tags": []
                },
                "text": "\b\b\b\b\b\b\b\b\b\b\b\b\b\b\b\b\b\b\b\b\b\b\b\b\b\b\b\b\b\b\b\b\b\b\b\b\b\b\b\b\b\b\b\b\b\b\b\b\b\b\b\b\b\b\b\b\b\b\b\b\b\b\b\b\b\b\b\b\b\b\b\b\b\b\b\b\b\b\b\b\b\r193/500 [==========>...................] - ETA: 0s - loss: 481.3919 - acc: 0.5026",
                "stream": "stdout"
              },
              {
                "output_type": "stream",
                "metadata": {
                  "tags": []
                },
                "text": "\b\b\b\b\b\b\b\b\b\b\b\b\b\b\b\b\b\b\b\b\b\b\b\b\b\b\b\b\b\b\b\b\b\b\b\b\b\b\b\b\b\b\b\b\b\b\b\b\b\b\b\b\b\b\b\b\b\b\b\b\b\b\b\b\b\b\b\b\b\b\b\b\b\b\b\b\b\b\b\b\b\r210/500 [===========>..................] - ETA: 0s - loss: 481.3817 - acc: 0.5000",
                "stream": "stdout"
              },
              {
                "output_type": "stream",
                "metadata": {
                  "tags": []
                },
                "text": "\b\b\b\b\b\b\b\b\b\b\b\b\b\b\b\b\b\b\b\b\b\b\b\b\b\b\b\b\b\b\b\b\b\b\b\b\b\b\b\b\b\b\b\b\b\b\b\b\b\b\b\b\b\b\b\b\b\b\b\b\b\b\b\b\b\b\b\b\b\b\b\b\b\b\b\b\b\b\b\b\b\r227/500 [============>.................] - ETA: 0s - loss: 481.3715 - acc: 0.5022",
                "stream": "stdout"
              },
              {
                "output_type": "stream",
                "metadata": {
                  "tags": []
                },
                "text": "\b\b\b\b\b\b\b\b\b\b\b\b\b\b\b\b\b\b\b\b\b\b\b\b\b\b\b\b\b\b\b\b\b\b\b\b\b\b\b\b\b\b\b\b\b\b\b\b\b\b\b\b\b\b\b\b\b\b\b\b\b\b\b\b\b\b\b\b\b\b\b\b\b\b\b\b\b\b\b\b\b\r244/500 [=============>................] - ETA: 0s - loss: 481.3613 - acc: 0.5000",
                "stream": "stdout"
              },
              {
                "output_type": "stream",
                "metadata": {
                  "tags": []
                },
                "text": "\b\b\b\b\b\b\b\b\b\b\b\b\b\b\b\b\b\b\b\b\b\b\b\b\b\b\b\b\b\b\b\b\b\b\b\b\b\b\b\b\b\b\b\b\b\b\b\b\b\b\b\b\b\b\b\b\b\b\b\b\b\b\b\b\b\b\b\b\b\b\b\b\b\b\b\b\b\b\b\b\b\r261/500 [==============>...............] - ETA: 0s - loss: 481.3510 - acc: 0.5019",
                "stream": "stdout"
              },
              {
                "output_type": "stream",
                "metadata": {
                  "tags": []
                },
                "text": "\b\b\b\b\b\b\b\b\b\b\b\b\b\b\b\b\b\b\b\b\b\b\b\b\b\b\b\b\b\b\b\b\b\b\b\b\b\b\b\b\b\b\b\b\b\b\b\b\b\b\b\b\b\b\b\b\b\b\b\b\b\b\b\b\b\b\b\b\b\b\b\b\b\b\b\b\b\b\b\b\b\r277/500 [===============>..............] - ETA: 0s - loss: 481.3414 - acc: 0.5018",
                "stream": "stdout"
              },
              {
                "output_type": "stream",
                "metadata": {
                  "tags": []
                },
                "text": "\b\b\b\b\b\b\b\b\b\b\b\b\b\b\b\b\b\b\b\b\b\b\b\b\b\b\b\b\b\b\b\b\b\b\b\b\b\b\b\b\b\b\b\b\b\b\b\b\b\b\b\b\b\b\b\b\b\b\b\b\b\b\b\b\b\b\b\b\b\b\b\b\b\b\b\b\b\b\b\b\b\r293/500 [================>.............] - ETA: 0s - loss: 481.3318 - acc: 0.5017",
                "stream": "stdout"
              },
              {
                "output_type": "stream",
                "metadata": {
                  "tags": []
                },
                "text": "\b\b\b\b\b\b\b\b\b\b\b\b\b\b\b\b\b\b\b\b\b\b\b\b\b\b\b\b\b\b\b\b\b\b\b\b\b\b\b\b\b\b\b\b\b\b\b\b\b\b\b\b\b\b\b\b\b\b\b\b\b\b\b\b\b\b\b\b\b\b\b\b\b\b\b\b\b\b\b\b\b\r310/500 [=================>............] - ETA: 0s - loss: 481.3216 - acc: 0.5000",
                "stream": "stdout"
              },
              {
                "output_type": "stream",
                "metadata": {
                  "tags": []
                },
                "text": "\b\b\b\b\b\b\b\b\b\b\b\b\b\b\b\b\b\b\b\b\b\b\b\b\b\b\b\b\b\b\b\b\b\b\b\b\b\b\b\b\b\b\b\b\b\b\b\b\b\b\b\b\b\b\b\b\b\b\b\b\b\b\b\b\b\b\b\b\b\b\b\b\b\b\b\b\b\b\b\b\b\r326/500 [==================>...........] - ETA: 0s - loss: 481.3120 - acc: 0.5000",
                "stream": "stdout"
              },
              {
                "output_type": "stream",
                "metadata": {
                  "tags": []
                },
                "text": "\b\b\b\b\b\b\b\b\b\b\b\b\b\b\b\b\b\b\b\b\b\b\b\b\b\b\b\b\b\b\b\b\b\b\b\b\b\b\b\b\b\b\b\b\b\b\b\b\b\b\b\b\b\b\b\b\b\b\b\b\b\b\b\b\b\b\b\b\b\b\b\b\b\b\b\b\b\b\b\b\b\r342/500 [===================>..........] - ETA: 0s - loss: 481.3024 - acc: 0.5000",
                "stream": "stdout"
              },
              {
                "output_type": "stream",
                "metadata": {
                  "tags": []
                },
                "text": "\b\b\b\b\b\b\b\b\b\b\b\b\b\b\b\b\b\b\b\b\b\b\b\b\b\b\b\b\b\b\b\b\b\b\b\b\b\b\b\b\b\b\b\b\b\b\b\b\b\b\b\b\b\b\b\b\b\b\b\b\b\b\b\b\b\b\b\b\b\b\b\b\b\b\b\b\b\b\b\b\b\r358/500 [====================>.........] - ETA: 0s - loss: 481.2927 - acc: 0.5000",
                "stream": "stdout"
              },
              {
                "output_type": "stream",
                "metadata": {
                  "tags": []
                },
                "text": "\b\b\b\b\b\b\b\b\b\b\b\b\b\b\b\b\b\b\b\b\b\b\b\b\b\b\b\b\b\b\b\b\b\b\b\b\b\b\b\b\b\b\b\b\b\b\b\b\b\b\b\b\b\b\b\b\b\b\b\b\b\b\b\b\b\b\b\b\b\b\b\b\b\b\b\b\b\b\b\b\b\r373/500 [=====================>........] - ETA: 0s - loss: 481.2837 - acc: 0.5013",
                "stream": "stdout"
              },
              {
                "output_type": "stream",
                "metadata": {
                  "tags": []
                },
                "text": "\b\b\b\b\b\b\b\b\b\b\b\b\b\b\b\b\b\b\b\b\b\b\b\b\b\b\b\b\b\b\b\b\b\b\b\b\b\b\b\b\b\b\b\b\b\b\b\b\b\b\b\b\b\b\b\b\b\b\b\b\b\b\b\b\b\b\b\b\b\b\b\b\b\b\b\b\b\b\b\b\b\r389/500 [======================>.......] - ETA: 0s - loss: 481.2741 - acc: 0.5013",
                "stream": "stdout"
              },
              {
                "output_type": "stream",
                "metadata": {
                  "tags": []
                },
                "text": "\b\b\b\b\b\b\b\b\b\b\b\b\b\b\b\b\b\b\b\b\b\b\b\b\b\b\b\b\b\b\b\b\b\b\b\b\b\b\b\b\b\b\b\b\b\b\b\b\b\b\b\b\b\b\b\b\b\b\b\b\b\b\b\b\b\b\b\b\b\b\b\b\b\b\b\b\b\b\b\b\b\r405/500 [=======================>......] - ETA: 0s - loss: 481.2645 - acc: 0.5012",
                "stream": "stdout"
              },
              {
                "output_type": "stream",
                "metadata": {
                  "tags": []
                },
                "text": "\b\b\b\b\b\b\b\b\b\b\b\b\b\b\b\b\b\b\b\b\b\b\b\b\b\b\b\b\b\b\b\b\b\b\b\b\b\b\b\b\b\b\b\b\b\b\b\b\b\b\b\b\b\b\b\b\b\b\b\b\b\b\b\b\b\b\b\b\b\b\b\b\b\b\b\b\b\b\b\b\b\r418/500 [========================>.....] - ETA: 0s - loss: 481.2567 - acc: 0.5000",
                "stream": "stdout"
              },
              {
                "output_type": "stream",
                "metadata": {
                  "tags": []
                },
                "text": "\b\b\b\b\b\b\b\b\b\b\b\b\b\b\b\b\b\b\b\b\b\b\b\b\b\b\b\b\b\b\b\b\b\b\b\b\b\b\b\b\b\b\b\b\b\b\b\b\b\b\b\b\b\b\b\b\b\b\b\b\b\b\b\b\b\b\b\b\b\b\b\b\b\b\b\b\b\b\b\b\b\r433/500 [========================>.....] - ETA: 0s - loss: 481.2478 - acc: 0.5012",
                "stream": "stdout"
              },
              {
                "output_type": "stream",
                "metadata": {
                  "tags": []
                },
                "text": "\b\b\b\b\b\b\b\b\b\b\b\b\b\b\b\b\b\b\b\b\b\b\b\b\b\b\b\b\b\b\b\b\b\b\b\b\b\b\b\b\b\b\b\b\b\b\b\b\b\b\b\b\b\b\b\b\b\b\b\b\b\b\b\b\b\b\b\b\b\b\b\b\b\b\b\b\b\b\b\b\b\r446/500 [=========================>....] - ETA: 0s - loss: 481.2400 - acc: 0.5000",
                "stream": "stdout"
              },
              {
                "output_type": "stream",
                "metadata": {
                  "tags": []
                },
                "text": "\b\b\b\b\b\b\b\b\b\b\b\b\b\b\b\b\b\b\b\b\b\b\b\b\b\b\b\b\b\b\b\b\b\b\b\b\b\b\b\b\b\b\b\b\b\b\b\b\b\b\b\b\b\b\b\b\b\b\b\b\b\b\b\b\b\b\b\b\b\b\b\b\b\b\b\b\b\b\b\b\b\r463/500 [==========================>...] - ETA: 0s - loss: 481.2298 - acc: 0.5119",
                "stream": "stdout"
              },
              {
                "output_type": "stream",
                "metadata": {
                  "tags": []
                },
                "text": "\b\b\b\b\b\b\b\b\b\b\b\b\b\b\b\b\b\b\b\b\b\b\b\b\b\b\b\b\b\b\b\b\b\b\b\b\b\b\b\b\b\b\b\b\b\b\b\b\b\b\b\b\b\b\b\b\b\b\b\b\b\b\b\b\b\b\b\b\b\b\b\b\b\b\b\b\b\b\b\b\b\r480/500 [===========================>..] - ETA: 0s - loss: 481.2196 - acc: 0.5104",
                "stream": "stdout"
              },
              {
                "output_type": "stream",
                "metadata": {
                  "tags": []
                },
                "text": "\b\b\b\b\b\b\b\b\b\b\b\b\b\b\b\b\b\b\b\b\b\b\b\b\b\b\b\b\b\b\b\b\b\b\b\b\b\b\b\b\b\b\b\b\b\b\b\b\b\b\b\b\b\b\b\b\b\b\b\b\b\b\b\b\b\b\b\b\b\b\b\b\b\b\b\b\b\b\b\b\b\r496/500 [============================>.] - ETA: 0s - loss: 481.2101 - acc: 0.5121",
                "stream": "stdout"
              },
              {
                "output_type": "stream",
                "metadata": {
                  "tags": []
                },
                "text": "\b\b\b\b\b\b\b\b\b\b\b\b\b\b\b\b\b\b\b\b\b\b\b\b\b\b\b\b\b\b\b\b\b\b\b\b\b\b\b\b\b\b\b\b\b\b\b\b\b\b\b\b\b\b\b\b\b\b\b\b\b\b\b\b\b\b\b\b\b\b\b\b\b\b\b\b\b\b\b\b\b\r500/500 [==============================] - 2s 4ms/step - loss: 481.2077 - acc: 0.5160 - val_loss: 480.9078 - val_acc: 0.9999\n",
                "stream": "stdout"
              },
              {
                "output_type": "stream",
                "metadata": {
                  "tags": []
                },
                "text": "Epoch 8/20\n",
                "stream": "stdout"
              },
              {
                "output_type": "stream",
                "metadata": {
                  "tags": []
                },
                "text": "\r  1/500 [..............................] - ETA: 0s - loss: 480.9077 - acc: 1.0000",
                "stream": "stdout"
              },
              {
                "output_type": "stream",
                "metadata": {
                  "tags": []
                },
                "text": "\b\b\b\b\b\b\b\b\b\b\b\b\b\b\b\b\b\b\b\b\b\b\b\b\b\b\b\b\b\b\b\b\b\b\b\b\b\b\b\b\b\b\b\b\b\b\b\b\b\b\b\b\b\b\b\b\b\b\b\b\b\b\b\b\b\b\b\b\b\b\b\b\b\b\b\b\b\b\b\b\b\r 15/500 [..............................] - ETA: 1s - loss: 480.8993 - acc: 0.8667",
                "stream": "stdout"
              },
              {
                "output_type": "stream",
                "metadata": {
                  "tags": []
                },
                "text": "\b\b\b\b\b\b\b\b\b\b\b\b\b\b\b\b\b\b\b\b\b\b\b\b\b\b\b\b\b\b\b\b\b\b\b\b\b\b\b\b\b\b\b\b\b\b\b\b\b\b\b\b\b\b\b\b\b\b\b\b\b\b\b\b\b\b\b\b\b\b\b\b\b\b\b\b\b\b\b\b\b\r 31/500 [>.............................] - ETA: 1s - loss: 480.8898 - acc: 0.8384",
                "stream": "stdout"
              },
              {
                "output_type": "stream",
                "metadata": {
                  "tags": []
                },
                "text": "\b\b\b\b\b\b\b\b\b\b\b\b\b\b\b\b\b\b\b\b\b\b\b\b\b\b\b\b\b\b\b\b\b\b\b\b\b\b\b\b\b\b\b\b\b\b\b\b\b\b\b\b\b\b\b\b\b\b\b\b\b\b\b\b\b\b\b\b\b\b\b\b\b\b\b\b\b\b\b\b\b\r 47/500 [=>............................] - ETA: 1s - loss: 480.8803 - acc: 0.7019",
                "stream": "stdout"
              },
              {
                "output_type": "stream",
                "metadata": {
                  "tags": []
                },
                "text": "\b\b\b\b\b\b\b\b\b\b\b\b\b\b\b\b\b\b\b\b\b\b\b\b\b\b\b\b\b\b\b\b\b\b\b\b\b\b\b\b\b\b\b\b\b\b\b\b\b\b\b\b\b\b\b\b\b\b\b\b\b\b\b\b\b\b\b\b\b\b\b\b\b\b\b\b\b\b\b\b\b\r 63/500 [==>...........................] - ETA: 1s - loss: 480.8708 - acc: 0.5237",
                "stream": "stdout"
              },
              {
                "output_type": "stream",
                "metadata": {
                  "tags": []
                },
                "text": "\b\b\b\b\b\b\b\b\b\b\b\b\b\b\b\b\b\b\b\b\b\b\b\b\b\b\b\b\b\b\b\b\b\b\b\b\b\b\b\b\b\b\b\b\b\b\b\b\b\b\b\b\b\b\b\b\b\b\b\b\b\b\b\b\b\b\b\b\b\b\b\b\b\b\b\b\b\b\b\b\b\r 80/500 [===>..........................] - ETA: 1s - loss: 480.8606 - acc: 0.4124",
                "stream": "stdout"
              },
              {
                "output_type": "stream",
                "metadata": {
                  "tags": []
                },
                "text": "\b\b\b\b\b\b\b\b\b\b\b\b\b\b\b\b\b\b\b\b\b\b\b\b\b\b\b\b\b\b\b\b\b\b\b\b\b\b\b\b\b\b\b\b\b\b\b\b\b\b\b\b\b\b\b\b\b\b\b\b\b\b\b\b\b\b\b\b\b\b\b\b\b\b\b\b\b\b\b\b\b\r 97/500 [====>.........................] - ETA: 1s - loss: 480.8505 - acc: 0.4329",
                "stream": "stdout"
              },
              {
                "output_type": "stream",
                "metadata": {
                  "tags": []
                },
                "text": "\b\b\b\b\b\b\b\b\b\b\b\b\b\b\b\b\b\b\b\b\b\b\b\b\b\b\b\b\b\b\b\b\b\b\b\b\b\b\b\b\b\b\b\b\b\b\b\b\b\b\b\b\b\b\b\b\b\b\b\b\b\b\b\b\b\b\b\b\b\b\b\b\b\b\b\b\b\b\b\b\b\r110/500 [=====>........................] - ETA: 1s - loss: 480.8428 - acc: 0.4363",
                "stream": "stdout"
              },
              {
                "output_type": "stream",
                "metadata": {
                  "tags": []
                },
                "text": "\b\b\b\b\b\b\b\b\b\b\b\b\b\b\b\b\b\b\b\b\b\b\b\b\b\b\b\b\b\b\b\b\b\b\b\b\b\b\b\b\b\b\b\b\b\b\b\b\b\b\b\b\b\b\b\b\b\b\b\b\b\b\b\b\b\b\b\b\b\b\b\b\b\b\b\b\b\b\b\b\b\r125/500 [======>.......................] - ETA: 1s - loss: 480.8338 - acc: 0.4079",
                "stream": "stdout"
              },
              {
                "output_type": "stream",
                "metadata": {
                  "tags": []
                },
                "text": "\b\b\b\b\b\b\b\b\b\b\b\b\b\b\b\b\b\b\b\b\b\b\b\b\b\b\b\b\b\b\b\b\b\b\b\b\b\b\b\b\b\b\b\b\b\b\b\b\b\b\b\b\b\b\b\b\b\b\b\b\b\b\b\b\b\b\b\b\b\b\b\b\b\b\b\b\b\b\b\b\b\r142/500 [=======>......................] - ETA: 1s - loss: 480.8237 - acc: 0.4084",
                "stream": "stdout"
              },
              {
                "output_type": "stream",
                "metadata": {
                  "tags": []
                },
                "text": "\b\b\b\b\b\b\b\b\b\b\b\b\b\b\b\b\b\b\b\b\b\b\b\b\b\b\b\b\b\b\b\b\b\b\b\b\b\b\b\b\b\b\b\b\b\b\b\b\b\b\b\b\b\b\b\b\b\b\b\b\b\b\b\b\b\b\b\b\b\b\b\b\b\b\b\b\b\b\b\b\b\r159/500 [========>.....................] - ETA: 1s - loss: 480.8137 - acc: 0.3709",
                "stream": "stdout"
              },
              {
                "output_type": "stream",
                "metadata": {
                  "tags": []
                },
                "text": "\b\b\b\b\b\b\b\b\b\b\b\b\b\b\b\b\b\b\b\b\b\b\b\b\b\b\b\b\b\b\b\b\b\b\b\b\b\b\b\b\b\b\b\b\b\b\b\b\b\b\b\b\b\b\b\b\b\b\b\b\b\b\b\b\b\b\b\b\b\b\b\b\b\b\b\b\b\b\b\b\b\r174/500 [=========>....................] - ETA: 1s - loss: 480.8047 - acc: 0.3390",
                "stream": "stdout"
              },
              {
                "output_type": "stream",
                "metadata": {
                  "tags": []
                },
                "text": "\b\b\b\b\b\b\b\b\b\b\b\b\b\b\b\b\b\b\b\b\b\b\b\b\b\b\b\b\b\b\b\b\b\b\b\b\b\b\b\b\b\b\b\b\b\b\b\b\b\b\b\b\b\b\b\b\b\b\b\b\b\b\b\b\b\b\b\b\b\b\b\b\b\b\b\b\b\b\b\b\b\r189/500 [==========>...................] - ETA: 1s - loss: 480.7959 - acc: 0.3121",
                "stream": "stdout"
              },
              {
                "output_type": "stream",
                "metadata": {
                  "tags": []
                },
                "text": "\b\b\b\b\b\b\b\b\b\b\b\b\b\b\b\b\b\b\b\b\b\b\b\b\b\b\b\b\b\b\b\b\b\b\b\b\b\b\b\b\b\b\b\b\b\b\b\b\b\b\b\b\b\b\b\b\b\b\b\b\b\b\b\b\b\b\b\b\b\b\b\b\b\b\b\b\b\b\b\b\b\r204/500 [===========>..................] - ETA: 0s - loss: 480.7870 - acc: 0.2891",
                "stream": "stdout"
              },
              {
                "output_type": "stream",
                "metadata": {
                  "tags": []
                },
                "text": "\b\b\b\b\b\b\b\b\b\b\b\b\b\b\b\b\b\b\b\b\b\b\b\b\b\b\b\b\b\b\b\b\b\b\b\b\b\b\b\b\b\b\b\b\b\b\b\b\b\b\b\b\b\b\b\b\b\b\b\b\b\b\b\b\b\b\b\b\b\b\b\b\b\b\b\b\b\b\b\b\b\r221/500 [============>.................] - ETA: 0s - loss: 480.7769 - acc: 0.2669",
                "stream": "stdout"
              },
              {
                "output_type": "stream",
                "metadata": {
                  "tags": []
                },
                "text": "\b\b\b\b\b\b\b\b\b\b\b\b\b\b\b\b\b\b\b\b\b\b\b\b\b\b\b\b\b\b\b\b\b\b\b\b\b\b\b\b\b\b\b\b\b\b\b\b\b\b\b\b\b\b\b\b\b\b\b\b\b\b\b\b\b\b\b\b\b\b\b\b\b\b\b\b\b\b\b\b\b\r237/500 [=============>................] - ETA: 0s - loss: 480.7674 - acc: 0.2489",
                "stream": "stdout"
              },
              {
                "output_type": "stream",
                "metadata": {
                  "tags": []
                },
                "text": "\b\b\b\b\b\b\b\b\b\b\b\b\b\b\b\b\b\b\b\b\b\b\b\b\b\b\b\b\b\b\b\b\b\b\b\b\b\b\b\b\b\b\b\b\b\b\b\b\b\b\b\b\b\b\b\b\b\b\b\b\b\b\b\b\b\b\b\b\b\b\b\b\b\b\b\b\b\b\b\b\b\r253/500 [==============>...............] - ETA: 0s - loss: 480.7579 - acc: 0.2331",
                "stream": "stdout"
              },
              {
                "output_type": "stream",
                "metadata": {
                  "tags": []
                },
                "text": "\b\b\b\b\b\b\b\b\b\b\b\b\b\b\b\b\b\b\b\b\b\b\b\b\b\b\b\b\b\b\b\b\b\b\b\b\b\b\b\b\b\b\b\b\b\b\b\b\b\b\b\b\b\b\b\b\b\b\b\b\b\b\b\b\b\b\b\b\b\b\b\b\b\b\b\b\b\b\b\b\b\r269/500 [===============>..............] - ETA: 0s - loss: 480.7484 - acc: 0.2193",
                "stream": "stdout"
              },
              {
                "output_type": "stream",
                "metadata": {
                  "tags": []
                },
                "text": "\b\b\b\b\b\b\b\b\b\b\b\b\b\b\b\b\b\b\b\b\b\b\b\b\b\b\b\b\b\b\b\b\b\b\b\b\b\b\b\b\b\b\b\b\b\b\b\b\b\b\b\b\b\b\b\b\b\b\b\b\b\b\b\b\b\b\b\b\b\b\b\b\b\b\b\b\b\b\b\b\b\r285/500 [================>.............] - ETA: 0s - loss: 480.7389 - acc: 0.2069",
                "stream": "stdout"
              },
              {
                "output_type": "stream",
                "metadata": {
                  "tags": []
                },
                "text": "\b\b\b\b\b\b\b\b\b\b\b\b\b\b\b\b\b\b\b\b\b\b\b\b\b\b\b\b\b\b\b\b\b\b\b\b\b\b\b\b\b\b\b\b\b\b\b\b\b\b\b\b\b\b\b\b\b\b\b\b\b\b\b\b\b\b\b\b\b\b\b\b\b\b\b\b\b\b\b\b\b\r302/500 [=================>............] - ETA: 0s - loss: 480.7288 - acc: 0.1953",
                "stream": "stdout"
              },
              {
                "output_type": "stream",
                "metadata": {
                  "tags": []
                },
                "text": "\b\b\b\b\b\b\b\b\b\b\b\b\b\b\b\b\b\b\b\b\b\b\b\b\b\b\b\b\b\b\b\b\b\b\b\b\b\b\b\b\b\b\b\b\b\b\b\b\b\b\b\b\b\b\b\b\b\b\b\b\b\b\b\b\b\b\b\b\b\b\b\b\b\b\b\b\b\b\b\b\b\r318/500 [==================>...........] - ETA: 0s - loss: 480.7193 - acc: 0.1855",
                "stream": "stdout"
              },
              {
                "output_type": "stream",
                "metadata": {
                  "tags": []
                },
                "text": "\b\b\b\b\b\b\b\b\b\b\b\b\b\b\b\b\b\b\b\b\b\b\b\b\b\b\b\b\b\b\b\b\b\b\b\b\b\b\b\b\b\b\b\b\b\b\b\b\b\b\b\b\b\b\b\b\b\b\b\b\b\b\b\b\b\b\b\b\b\b\b\b\b\b\b\b\b\b\b\b\b\r334/500 [===================>..........] - ETA: 0s - loss: 480.7098 - acc: 0.1766",
                "stream": "stdout"
              },
              {
                "output_type": "stream",
                "metadata": {
                  "tags": []
                },
                "text": "\b\b\b\b\b\b\b\b\b\b\b\b\b\b\b\b\b\b\b\b\b\b\b\b\b\b\b\b\b\b\b\b\b\b\b\b\b\b\b\b\b\b\b\b\b\b\b\b\b\b\b\b\b\b\b\b\b\b\b\b\b\b\b\b\b\b\b\b\b\b\b\b\b\b\b\b\b\b\b\b\b\r349/500 [===================>..........] - ETA: 0s - loss: 480.7010 - acc: 0.1690",
                "stream": "stdout"
              },
              {
                "output_type": "stream",
                "metadata": {
                  "tags": []
                },
                "text": "\b\b\b\b\b\b\b\b\b\b\b\b\b\b\b\b\b\b\b\b\b\b\b\b\b\b\b\b\b\b\b\b\b\b\b\b\b\b\b\b\b\b\b\b\b\b\b\b\b\b\b\b\b\b\b\b\b\b\b\b\b\b\b\b\b\b\b\b\b\b\b\b\b\b\b\b\b\b\b\b\b\r365/500 [====================>.........] - ETA: 0s - loss: 480.6915 - acc: 0.1616",
                "stream": "stdout"
              },
              {
                "output_type": "stream",
                "metadata": {
                  "tags": []
                },
                "text": "\b\b\b\b\b\b\b\b\b\b\b\b\b\b\b\b\b\b\b\b\b\b\b\b\b\b\b\b\b\b\b\b\b\b\b\b\b\b\b\b\b\b\b\b\b\b\b\b\b\b\b\b\b\b\b\b\b\b\b\b\b\b\b\b\b\b\b\b\b\b\b\b\b\b\b\b\b\b\b\b\b\r380/500 [=====================>........] - ETA: 0s - loss: 480.6826 - acc: 0.1552",
                "stream": "stdout"
              },
              {
                "output_type": "stream",
                "metadata": {
                  "tags": []
                },
                "text": "\b\b\b\b\b\b\b\b\b\b\b\b\b\b\b\b\b\b\b\b\b\b\b\b\b\b\b\b\b\b\b\b\b\b\b\b\b\b\b\b\b\b\b\b\b\b\b\b\b\b\b\b\b\b\b\b\b\b\b\b\b\b\b\b\b\b\b\b\b\b\b\b\b\b\b\b\b\b\b\b\b\r396/500 [======================>.......] - ETA: 0s - loss: 480.6731 - acc: 0.1489",
                "stream": "stdout"
              },
              {
                "output_type": "stream",
                "metadata": {
                  "tags": []
                },
                "text": "\b\b\b\b\b\b\b\b\b\b\b\b\b\b\b\b\b\b\b\b\b\b\b\b\b\b\b\b\b\b\b\b\b\b\b\b\b\b\b\b\b\b\b\b\b\b\b\b\b\b\b\b\b\b\b\b\b\b\b\b\b\b\b\b\b\b\b\b\b\b\b\b\b\b\b\b\b\b\b\b\b\r412/500 [=======================>......] - ETA: 0s - loss: 480.6636 - acc: 0.1432",
                "stream": "stdout"
              },
              {
                "output_type": "stream",
                "metadata": {
                  "tags": []
                },
                "text": "\b\b\b\b\b\b\b\b\b\b\b\b\b\b\b\b\b\b\b\b\b\b\b\b\b\b\b\b\b\b\b\b\b\b\b\b\b\b\b\b\b\b\b\b\b\b\b\b\b\b\b\b\b\b\b\b\b\b\b\b\b\b\b\b\b\b\b\b\b\b\b\b\b\b\b\b\b\b\b\b\b\r427/500 [========================>.....] - ETA: 0s - loss: 480.6547 - acc: 0.1381",
                "stream": "stdout"
              },
              {
                "output_type": "stream",
                "metadata": {
                  "tags": []
                },
                "text": "\b\b\b\b\b\b\b\b\b\b\b\b\b\b\b\b\b\b\b\b\b\b\b\b\b\b\b\b\b\b\b\b\b\b\b\b\b\b\b\b\b\b\b\b\b\b\b\b\b\b\b\b\b\b\b\b\b\b\b\b\b\b\b\b\b\b\b\b\b\b\b\b\b\b\b\b\b\b\b\b\b\r442/500 [=========================>....] - ETA: 0s - loss: 480.6458 - acc: 0.1334",
                "stream": "stdout"
              },
              {
                "output_type": "stream",
                "metadata": {
                  "tags": []
                },
                "text": "\b\b\b\b\b\b\b\b\b\b\b\b\b\b\b\b\b\b\b\b\b\b\b\b\b\b\b\b\b\b\b\b\b\b\b\b\b\b\b\b\b\b\b\b\b\b\b\b\b\b\b\b\b\b\b\b\b\b\b\b\b\b\b\b\b\b\b\b\b\b\b\b\b\b\b\b\b\b\b\b\b\r458/500 [==========================>...] - ETA: 0s - loss: 480.6364 - acc: 0.1288",
                "stream": "stdout"
              },
              {
                "output_type": "stream",
                "metadata": {
                  "tags": []
                },
                "text": "\b\b\b\b\b\b\b\b\b\b\b\b\b\b\b\b\b\b\b\b\b\b\b\b\b\b\b\b\b\b\b\b\b\b\b\b\b\b\b\b\b\b\b\b\b\b\b\b\b\b\b\b\b\b\b\b\b\b\b\b\b\b\b\b\b\b\b\b\b\b\b\b\b\b\b\b\b\b\b\b\b\r473/500 [===========================>..] - ETA: 0s - loss: 480.6275 - acc: 0.1247",
                "stream": "stdout"
              },
              {
                "output_type": "stream",
                "metadata": {
                  "tags": []
                },
                "text": "\b\b\b\b\b\b\b\b\b\b\b\b\b\b\b\b\b\b\b\b\b\b\b\b\b\b\b\b\b\b\b\b\b\b\b\b\b\b\b\b\b\b\b\b\b\b\b\b\b\b\b\b\b\b\b\b\b\b\b\b\b\b\b\b\b\b\b\b\b\b\b\b\b\b\b\b\b\b\b\b\b\r488/500 [============================>.] - ETA: 0s - loss: 480.6187 - acc: 0.1209",
                "stream": "stdout"
              },
              {
                "output_type": "stream",
                "metadata": {
                  "tags": []
                },
                "text": "\b\b\b\b\b\b\b\b\b\b\b\b\b\b\b\b\b\b\b\b\b\b\b\b\b\b\b\b\b\b\b\b\b\b\b\b\b\b\b\b\b\b\b\b\b\b\b\b\b\b\b\b\b\b\b\b\b\b\b\b\b\b\b\b\b\b\b\b\b\b\b\b\b\b\b\b\b\b\b\b\b\r499/500 [============================>.] - ETA: 0s - loss: 480.6121 - acc: 0.1182",
                "stream": "stdout"
              },
              {
                "output_type": "stream",
                "metadata": {
                  "tags": []
                },
                "text": "\b\b\b\b\b\b\b\b\b\b\b\b\b\b\b\b\b\b\b\b\b\b\b\b\b\b\b\b\b\b\b\b\b\b\b\b\b\b\b\b\b\b\b\b\b\b\b\b\b\b\b\b\b\b\b\b\b\b\b\b\b\b\b\b\b\b\b\b\b\b\b\b\b\b\b\b\b\b\b\b\b\r500/500 [==============================] - 2s 4ms/step - loss: 480.6115 - acc: 0.1180 - val_loss: 480.3167 - val_acc: 0.0000e+00\n",
                "stream": "stdout"
              },
              {
                "output_type": "stream",
                "metadata": {
                  "tags": []
                },
                "text": "Epoch 9/20\n\r  1/500 [..............................] - ETA: 0s - loss: 480.3163 - acc: 0.0000e+00",
                "stream": "stdout"
              },
              {
                "output_type": "stream",
                "metadata": {
                  "tags": []
                },
                "text": "\b\b\b\b\b\b\b\b\b\b\b\b\b\b\b\b\b\b\b\b\b\b\b\b\b\b\b\b\b\b\b\b\b\b\b\b\b\b\b\b\b\b\b\b\b\b\b\b\b\b\b\b\b\b\b\b\b\b\b\b\b\b\b\b\b\b\b\b\b\b\b\b\b\b\b\b\b\b\b\b\b\b\b\b\b\r 17/500 [>.............................] - ETA: 1s - loss: 480.3065 - acc: 0.0000e+00",
                "stream": "stdout"
              },
              {
                "output_type": "stream",
                "metadata": {
                  "tags": []
                },
                "text": "\b\b\b\b\b\b\b\b\b\b\b\b\b\b\b\b\b\b\b\b\b\b\b\b\b\b\b\b\b\b\b\b\b\b\b\b\b\b\b\b\b\b\b\b\b\b\b\b\b\b\b\b\b\b\b\b\b\b\b\b\b\b\b\b\b\b\b\b\b\b\b\b\b\b\b\b\b\b\b\b\b\b\b\b\b\r 34/500 [=>............................] - ETA: 1s - loss: 480.2963 - acc: 0.0000e+00",
                "stream": "stdout"
              },
              {
                "output_type": "stream",
                "metadata": {
                  "tags": []
                },
                "text": "\b\b\b\b\b\b\b\b\b\b\b\b\b\b\b\b\b\b\b\b\b\b\b\b\b\b\b\b\b\b\b\b\b\b\b\b\b\b\b\b\b\b\b\b\b\b\b\b\b\b\b\b\b\b\b\b\b\b\b\b\b\b\b\b\b\b\b\b\b\b\b\b\b\b\b\b\b\b\b\b\b\b\b\b\b\r 50/500 [==>...........................] - ETA: 1s - loss: 480.2870 - acc: 0.0000e+00",
                "stream": "stdout"
              },
              {
                "output_type": "stream",
                "metadata": {
                  "tags": []
                },
                "text": "\b\b\b\b\b\b\b\b\b\b\b\b\b\b\b\b\b\b\b\b\b\b\b\b\b\b\b\b\b\b\b\b\b\b\b\b\b\b\b\b\b\b\b\b\b\b\b\b\b\b\b\b\b\b\b\b\b\b\b\b\b\b\b\b\b\b\b\b\b\b\b\b\b\b\b\b\b\b\b\b\b\b\b\b\b\r 66/500 [==>...........................] - ETA: 1s - loss: 480.2775 - acc: 0.0000e+00",
                "stream": "stdout"
              },
              {
                "output_type": "stream",
                "metadata": {
                  "tags": []
                },
                "text": "\b\b\b\b\b\b\b\b\b\b\b\b\b\b\b\b\b\b\b\b\b\b\b\b\b\b\b\b\b\b\b\b\b\b\b\b\b\b\b\b\b\b\b\b\b\b\b\b\b\b\b\b\b\b\b\b\b\b\b\b\b\b\b\b\b\b\b\b\b\b\b\b\b\b\b\b\b\b\b\b\b\b\b\b\b\r 82/500 [===>..........................] - ETA: 1s - loss: 480.2681 - acc: 0.0000e+00",
                "stream": "stdout"
              },
              {
                "output_type": "stream",
                "metadata": {
                  "tags": []
                },
                "text": "\b\b\b\b\b\b\b\b\b\b\b\b\b\b\b\b\b\b\b\b\b\b\b\b\b\b\b\b\b\b\b\b\b\b\b\b\b\b\b\b\b\b\b\b\b\b\b\b\b\b\b\b\b\b\b\b\b\b\b\b\b\b\b\b\b\b\b\b\b\b\b\b\b\b\b\b\b\b\b\b\b\b\b\b\b\r 98/500 [====>.........................] - ETA: 1s - loss: 480.2587 - acc: 0.0000e+00",
                "stream": "stdout"
              },
              {
                "output_type": "stream",
                "metadata": {
                  "tags": []
                },
                "text": "\b\b\b\b\b\b\b\b\b\b\b\b\b\b\b\b\b\b\b\b\b\b\b\b\b\b\b\b\b\b\b\b\b\b\b\b\b\b\b\b\b\b\b\b\b\b\b\b\b\b\b\b\b\b\b\b\b\b\b\b\b\b\b\b\b\b\b\b\b\b\b\b\b\b\b\b\b\b\b\b\b\b\b\b\b\r115/500 [=====>........................] - ETA: 1s - loss: 480.2487 - acc: 0.0000e+00",
                "stream": "stdout"
              },
              {
                "output_type": "stream",
                "metadata": {
                  "tags": []
                },
                "text": "\b\b\b\b\b\b\b\b\b\b\b\b\b\b\b\b\b\b\b\b\b\b\b\b\b\b\b\b\b\b\b\b\b\b\b\b\b\b\b\b\b\b\b\b\b\b\b\b\b\b\b\b\b\b\b\b\b\b\b\b\b\b\b\b\b\b\b\b\b\b\b\b\b\b\b\b\b\b\b\b\b\b\b\b\b\r131/500 [======>.......................] - ETA: 1s - loss: 480.2393 - acc: 0.0000e+00",
                "stream": "stdout"
              },
              {
                "output_type": "stream",
                "metadata": {
                  "tags": []
                },
                "text": "\b\b\b\b\b\b\b\b\b\b\b\b\b\b\b\b\b\b\b\b\b\b\b\b\b\b\b\b\b\b\b\b\b\b\b\b\b\b\b\b\b\b\b\b\b\b\b\b\b\b\b\b\b\b\b\b\b\b\b\b\b\b\b\b\b\b\b\b\b\b\b\b\b\b\b\b\b\b\b\b\b\b\b\b\b\r146/500 [=======>......................] - ETA: 1s - loss: 480.2306 - acc: 0.0000e+00",
                "stream": "stdout"
              },
              {
                "output_type": "stream",
                "metadata": {
                  "tags": []
                },
                "text": "\b\b\b\b\b\b\b\b\b\b\b\b\b\b\b\b\b\b\b\b\b\b\b\b\b\b\b\b\b\b\b\b\b\b\b\b\b\b\b\b\b\b\b\b\b\b\b\b\b\b\b\b\b\b\b\b\b\b\b\b\b\b\b\b\b\b\b\b\b\b\b\b\b\b\b\b\b\b\b\b\b\b\b\b\b\r161/500 [========>.....................] - ETA: 1s - loss: 480.2218 - acc: 0.0000e+00",
                "stream": "stdout"
              },
              {
                "output_type": "stream",
                "metadata": {
                  "tags": []
                },
                "text": "\b\b\b\b\b\b\b\b\b\b\b\b\b\b\b\b\b\b\b\b\b\b\b\b\b\b\b\b\b\b\b\b\b\b\b\b\b\b\b\b\b\b\b\b\b\b\b\b\b\b\b\b\b\b\b\b\b\b\b\b\b\b\b\b\b\b\b\b\b\b\b\b\b\b\b\b\b\b\b\b\b\b\b\b\b\r177/500 [=========>....................] - ETA: 1s - loss: 480.2124 - acc: 0.0000e+00",
                "stream": "stdout"
              },
              {
                "output_type": "stream",
                "metadata": {
                  "tags": []
                },
                "text": "\b\b\b\b\b\b\b\b\b\b\b\b\b\b\b\b\b\b\b\b\b\b\b\b\b\b\b\b\b\b\b\b\b\b\b\b\b\b\b\b\b\b\b\b\b\b\b\b\b\b\b\b\b\b\b\b\b\b\b\b\b\b\b\b\b\b\b\b\b\b\b\b\b\b\b\b\b\b\b\b\b\b\b\b\b\r192/500 [==========>...................] - ETA: 0s - loss: 480.2036 - acc: 0.0000e+00",
                "stream": "stdout"
              },
              {
                "output_type": "stream",
                "metadata": {
                  "tags": []
                },
                "text": "\b\b\b\b\b\b\b\b\b\b\b\b\b\b\b\b\b\b\b\b\b\b\b\b\b\b\b\b\b\b\b\b\b\b\b\b\b\b\b\b\b\b\b\b\b\b\b\b\b\b\b\b\b\b\b\b\b\b\b\b\b\b\b\b\b\b\b\b\b\b\b\b\b\b\b\b\b\b\b\b\b\b\b\b\b\r208/500 [===========>..................] - ETA: 0s - loss: 480.1942 - acc: 0.0000e+00",
                "stream": "stdout"
              },
              {
                "output_type": "stream",
                "metadata": {
                  "tags": []
                },
                "text": "\b\b\b\b\b\b\b\b\b\b\b\b\b\b\b\b\b\b\b\b\b\b\b\b\b\b\b\b\b\b\b\b\b\b\b\b\b\b\b\b\b\b\b\b\b\b\b\b\b\b\b\b\b\b\b\b\b\b\b\b\b\b\b\b\b\b\b\b\b\b\b\b\b\b\b\b\b\b\b\b\b\b\b\b\b\r223/500 [============>.................] - ETA: 0s - loss: 480.1855 - acc: 0.0000e+00",
                "stream": "stdout"
              },
              {
                "output_type": "stream",
                "metadata": {
                  "tags": []
                },
                "text": "\b\b\b\b\b\b\b\b\b\b\b\b\b\b\b\b\b\b\b\b\b\b\b\b\b\b\b\b\b\b\b\b\b\b\b\b\b\b\b\b\b\b\b\b\b\b\b\b\b\b\b\b\b\b\b\b\b\b\b\b\b\b\b\b\b\b\b\b\b\b\b\b\b\b\b\b\b\b\b\b\b\b\b\b\b\r239/500 [=============>................] - ETA: 0s - loss: 480.1761 - acc: 0.0000e+00",
                "stream": "stdout"
              },
              {
                "output_type": "stream",
                "metadata": {
                  "tags": []
                },
                "text": "\b\b\b\b\b\b\b\b\b\b\b\b\b\b\b\b\b\b\b\b\b\b\b\b\b\b\b\b\b\b\b\b\b\b\b\b\b\b\b\b\b\b\b\b\b\b\b\b\b\b\b\b\b\b\b\b\b\b\b\b\b\b\b\b\b\b\b\b\b\b\b\b\b\b\b\b\b\b\b\b\b\b\b\b\b\r252/500 [==============>...............] - ETA: 0s - loss: 480.1685 - acc: 0.0000e+00",
                "stream": "stdout"
              },
              {
                "output_type": "stream",
                "metadata": {
                  "tags": []
                },
                "text": "\b\b\b\b\b\b\b\b\b\b\b\b\b\b\b\b\b\b\b\b\b\b\b\b\b\b\b\b\b\b\b\b\b\b\b\b\b\b\b\b\b\b\b\b\b\b\b\b\b\b\b\b\b\b\b\b\b\b\b\b\b\b\b\b\b\b\b\b\b\b\b\b\b\b\b\b\b\b\b\b\b\b\b\b\b\r268/500 [===============>..............] - ETA: 0s - loss: 480.1592 - acc: 0.0000e+00",
                "stream": "stdout"
              },
              {
                "output_type": "stream",
                "metadata": {
                  "tags": []
                },
                "text": "\b\b\b\b\b\b\b\b\b\b\b\b\b\b\b\b\b\b\b\b\b\b\b\b\b\b\b\b\b\b\b\b\b\b\b\b\b\b\b\b\b\b\b\b\b\b\b\b\b\b\b\b\b\b\b\b\b\b\b\b\b\b\b\b\b\b\b\b\b\b\b\b\b\b\b\b\b\b\b\b\b\b\b\b\b\r285/500 [================>.............] - ETA: 0s - loss: 480.1493 - acc: 0.0000e+00",
                "stream": "stdout"
              },
              {
                "output_type": "stream",
                "metadata": {
                  "tags": []
                },
                "text": "\b\b\b\b\b\b\b\b\b\b\b\b\b\b\b\b\b\b\b\b\b\b\b\b\b\b\b\b\b\b\b\b\b\b\b\b\b\b\b\b\b\b\b\b\b\b\b\b\b\b\b\b\b\b\b\b\b\b\b\b\b\b\b\b\b\b\b\b\b\b\b\b\b\b\b\b\b\b\b\b\b\b\b\b\b\r301/500 [=================>............] - ETA: 0s - loss: 480.1400 - acc: 0.0000e+00",
                "stream": "stdout"
              },
              {
                "output_type": "stream",
                "metadata": {
                  "tags": []
                },
                "text": "\b\b\b\b\b\b\b\b\b\b\b\b\b\b\b\b\b\b\b\b\b\b\b\b\b\b\b\b\b\b\b\b\b\b\b\b\b\b\b\b\b\b\b\b\b\b\b\b\b\b\b\b\b\b\b\b\b\b\b\b\b\b\b\b\b\b\b\b\b\b\b\b\b\b\b\b\b\b\b\b\b\b\b\b\b\r317/500 [==================>...........] - ETA: 0s - loss: 480.1307 - acc: 0.0000e+00",
                "stream": "stdout"
              },
              {
                "output_type": "stream",
                "metadata": {
                  "tags": []
                },
                "text": "\b\b\b\b\b\b\b\b\b\b\b\b\b\b\b\b\b\b\b\b\b\b\b\b\b\b\b\b\b\b\b\b\b\b\b\b\b\b\b\b\b\b\b\b\b\b\b\b\b\b\b\b\b\b\b\b\b\b\b\b\b\b\b\b\b\b\b\b\b\b\b\b\b\b\b\b\b\b\b\b\b\b\b\b\b\r333/500 [==================>...........] - ETA: 0s - loss: 480.1214 - acc: 0.0000e+00",
                "stream": "stdout"
              },
              {
                "output_type": "stream",
                "metadata": {
                  "tags": []
                },
                "text": "\b\b\b\b\b\b\b\b\b\b\b\b\b\b\b\b\b\b\b\b\b\b\b\b\b\b\b\b\b\b\b\b\b\b\b\b\b\b\b\b\b\b\b\b\b\b\b\b\b\b\b\b\b\b\b\b\b\b\b\b\b\b\b\b\b\b\b\b\b\b\b\b\b\b\b\b\b\b\b\b\b\b\b\b\b\r348/500 [===================>..........] - ETA: 0s - loss: 480.1127 - acc: 0.0000e+00",
                "stream": "stdout"
              },
              {
                "output_type": "stream",
                "metadata": {
                  "tags": []
                },
                "text": "\b\b\b\b\b\b\b\b\b\b\b\b\b\b\b\b\b\b\b\b\b\b\b\b\b\b\b\b\b\b\b\b\b\b\b\b\b\b\b\b\b\b\b\b\b\b\b\b\b\b\b\b\b\b\b\b\b\b\b\b\b\b\b\b\b\b\b\b\b\b\b\b\b\b\b\b\b\b\b\b\b\b\b\b\b\r363/500 [====================>.........] - ETA: 0s - loss: 480.1040 - acc: 0.0000e+00",
                "stream": "stdout"
              },
              {
                "output_type": "stream",
                "metadata": {
                  "tags": []
                },
                "text": "\b\b\b\b\b\b\b\b\b\b\b\b\b\b\b\b\b\b\b\b\b\b\b\b\b\b\b\b\b\b\b\b\b\b\b\b\b\b\b\b\b\b\b\b\b\b\b\b\b\b\b\b\b\b\b\b\b\b\b\b\b\b\b\b\b\b\b\b\b\b\b\b\b\b\b\b\b\b\b\b\b\b\b\b\b\r378/500 [=====================>........] - ETA: 0s - loss: 480.0952 - acc: 0.0000e+00",
                "stream": "stdout"
              },
              {
                "output_type": "stream",
                "metadata": {
                  "tags": []
                },
                "text": "\b\b\b\b\b\b\b\b\b\b\b\b\b\b\b\b\b\b\b\b\b\b\b\b\b\b\b\b\b\b\b\b\b\b\b\b\b\b\b\b\b\b\b\b\b\b\b\b\b\b\b\b\b\b\b\b\b\b\b\b\b\b\b\b\b\b\b\b\b\b\b\b\b\b\b\b\b\b\b\b\b\b\b\b\b\r393/500 [======================>.......] - ETA: 0s - loss: 480.0866 - acc: 0.0000e+00",
                "stream": "stdout"
              },
              {
                "output_type": "stream",
                "metadata": {
                  "tags": []
                },
                "text": "\b\b\b\b\b\b\b\b\b\b\b\b\b\b\b\b\b\b\b\b\b\b\b\b\b\b\b\b\b\b\b\b\b\b\b\b\b\b\b\b\b\b\b\b\b\b\b\b\b\b\b\b\b\b\b\b\b\b\b\b\b\b\b\b\b\b\b\b\b\b\b\b\b\b\b\b\b\b\b\b\b\b\b\b\b\r409/500 [=======================>......] - ETA: 0s - loss: 480.0773 - acc: 0.0000e+00",
                "stream": "stdout"
              },
              {
                "output_type": "stream",
                "metadata": {
                  "tags": []
                },
                "text": "\b\b\b\b\b\b\b\b\b\b\b\b\b\b\b\b\b\b\b\b\b\b\b\b\b\b\b\b\b\b\b\b\b\b\b\b\b\b\b\b\b\b\b\b\b\b\b\b\b\b\b\b\b\b\b\b\b\b\b\b\b\b\b\b\b\b\b\b\b\b\b\b\b\b\b\b\b\b\b\b\b\b\b\b\b\r424/500 [========================>.....] - ETA: 0s - loss: 480.0687 - acc: 0.0000e+00",
                "stream": "stdout"
              },
              {
                "output_type": "stream",
                "metadata": {
                  "tags": []
                },
                "text": "\b\b\b\b\b\b\b\b\b\b\b\b\b\b\b\b\b\b\b\b\b\b\b\b\b\b\b\b\b\b\b\b\b\b\b\b\b\b\b\b\b\b\b\b\b\b\b\b\b\b\b\b\b\b\b\b\b\b\b\b\b\b\b\b\b\b\b\b\b\b\b\b\b\b\b\b\b\b\b\b\b\b\b\b\b\r438/500 [=========================>....] - ETA: 0s - loss: 480.0606 - acc: 0.0000e+00",
                "stream": "stdout"
              },
              {
                "output_type": "stream",
                "metadata": {
                  "tags": []
                },
                "text": "\b\b\b\b\b\b\b\b\b\b\b\b\b\b\b\b\b\b\b\b\b\b\b\b\b\b\b\b\b\b\b\b\b\b\b\b\b\b\b\b\b\b\b\b\b\b\b\b\b\b\b\b\b\b\b\b\b\b\b\b\b\b\b\b\b\b\b\b\b\b\b\b\b\b\b\b\b\b\b\b\b\b\b\b\b\r453/500 [==========================>...] - ETA: 0s - loss: 480.0520 - acc: 0.0000e+00",
                "stream": "stdout"
              },
              {
                "output_type": "stream",
                "metadata": {
                  "tags": []
                },
                "text": "\b\b\b\b\b\b\b\b\b\b\b\b\b\b\b\b\b\b\b\b\b\b\b\b\b\b\b\b\b\b\b\b\b\b\b\b\b\b\b\b\b\b\b\b\b\b\b\b\b\b\b\b\b\b\b\b\b\b\b\b\b\b\b\b\b\b\b\b\b\b\b\b\b\b\b\b\b\b\b\b\b\b\b\b\b\r468/500 [===========================>..] - ETA: 0s - loss: 480.0433 - acc: 0.0000e+00",
                "stream": "stdout"
              },
              {
                "output_type": "stream",
                "metadata": {
                  "tags": []
                },
                "text": "\b\b\b\b\b\b\b\b\b\b\b\b\b\b\b\b\b\b\b\b\b\b\b\b\b\b\b\b\b\b\b\b\b\b\b\b\b\b\b\b\b\b\b\b\b\b\b\b\b\b\b\b\b\b\b\b\b\b\b\b\b\b\b\b\b\b\b\b\b\b\b\b\b\b\b\b\b\b\b\b\b\b\b\b\b\r483/500 [===========================>..] - ETA: 0s - loss: 480.0347 - acc: 0.0000e+00",
                "stream": "stdout"
              },
              {
                "output_type": "stream",
                "metadata": {
                  "tags": []
                },
                "text": "\b\b\b\b\b\b\b\b\b\b\b\b\b\b\b\b\b\b\b\b\b\b\b\b\b\b\b\b\b\b\b\b\b\b\b\b\b\b\b\b\b\b\b\b\b\b\b\b\b\b\b\b\b\b\b\b\b\b\b\b\b\b\b\b\b\b\b\b\b\b\b\b\b\b\b\b\b\b\b\b\b\b\b\b\b\r498/500 [============================>.] - ETA: 0s - loss: 480.0260 - acc: 0.0000e+00",
                "stream": "stdout"
              },
              {
                "output_type": "stream",
                "metadata": {
                  "tags": []
                },
                "text": "\b\b\b\b\b\b\b\b\b\b\b\b\b\b\b\b\b\b\b\b\b\b\b\b\b\b\b\b\b\b\b\b\b\b\b\b\b\b\b\b\b\b\b\b\b\b\b\b\b\b\b\b\b\b\b\b\b\b\b\b\b\b\b\b\b\b\b\b\b\b\b\b\b\b\b\b\b\b\b\b\b\b\b\b\b\r500/500 [==============================] - 2s 4ms/step - loss: 480.0249 - acc: 0.0000e+00 - val_loss: 479.7371 - val_acc: 0.0000e+00\n",
                "stream": "stdout"
              },
              {
                "output_type": "stream",
                "metadata": {
                  "tags": []
                },
                "text": "Epoch 10/20\n\r  1/500 [..............................] - ETA: 0s - loss: 479.7371 - acc: 0.0000e+00",
                "stream": "stdout"
              },
              {
                "output_type": "stream",
                "metadata": {
                  "tags": []
                },
                "text": "\b\b\b\b\b\b\b\b\b\b\b\b\b\b\b\b\b\b\b\b\b\b\b\b\b\b\b\b\b\b\b\b\b\b\b\b\b\b\b\b\b\b\b\b\b\b\b\b\b\b\b\b\b\b\b\b\b\b\b\b\b\b\b\b\b\b\b\b\b\b\b\b\b\b\b\b\b\b\b\b\b\b\b\b\b\r 16/500 [..............................] - ETA: 1s - loss: 479.7287 - acc: 0.0000e+00",
                "stream": "stdout"
              },
              {
                "output_type": "stream",
                "metadata": {
                  "tags": []
                },
                "text": "\b\b\b\b\b\b\b\b\b\b\b\b\b\b\b\b\b\b\b\b\b\b\b\b\b\b\b\b\b\b\b\b\b\b\b\b\b\b\b\b\b\b\b\b\b\b\b\b\b\b\b\b\b\b\b\b\b\b\b\b\b\b\b\b\b\b\b\b\b\b\b\b\b\b\b\b\b\b\b\b\b\b\b\b\b\r 29/500 [>.............................] - ETA: 1s - loss: 479.7213 - acc: 0.0000e+00",
                "stream": "stdout"
              },
              {
                "output_type": "stream",
                "metadata": {
                  "tags": []
                },
                "text": "\b\b\b\b\b\b\b\b\b\b\b\b\b\b\b\b\b\b\b\b\b\b\b\b\b\b\b\b\b\b\b\b\b\b\b\b\b\b\b\b\b\b\b\b\b\b\b\b\b\b\b\b\b\b\b\b\b\b\b\b\b\b\b\b\b\b\b\b\b\b\b\b\b\b\b\b\b\b\b\b\b\b\b\b\b\r 44/500 [=>............................] - ETA: 1s - loss: 479.7129 - acc: 0.0000e+00",
                "stream": "stdout"
              },
              {
                "output_type": "stream",
                "metadata": {
                  "tags": []
                },
                "text": "\b\b\b\b\b\b\b\b\b\b\b\b\b\b\b\b\b\b\b\b\b\b\b\b\b\b\b\b\b\b\b\b\b\b\b\b\b\b\b\b\b\b\b\b\b\b\b\b\b\b\b\b\b\b\b\b\b\b\b\b\b\b\b\b\b\b\b\b\b\b\b\b\b\b\b\b\b\b\b\b\b\b\b\b\b\r 58/500 [==>...........................] - ETA: 1s - loss: 479.7050 - acc: 0.0000e+00",
                "stream": "stdout"
              },
              {
                "output_type": "stream",
                "metadata": {
                  "tags": []
                },
                "text": "\b\b\b\b\b\b\b\b\b\b\b\b\b\b\b\b\b\b\b\b\b\b\b\b\b\b\b\b\b\b\b\b\b\b\b\b\b\b\b\b\b\b\b\b\b\b\b\b\b\b\b\b\b\b\b\b\b\b\b\b\b\b\b\b\b\b\b\b\b\b\b\b\b\b\b\b\b\b\b\b\b\b\b\b\b\r 73/500 [===>..........................] - ETA: 1s - loss: 479.6966 - acc: 0.0000e+00",
                "stream": "stdout"
              },
              {
                "output_type": "stream",
                "metadata": {
                  "tags": []
                },
                "text": "\b\b\b\b\b\b\b\b\b\b\b\b\b\b\b\b\b\b\b\b\b\b\b\b\b\b\b\b\b\b\b\b\b\b\b\b\b\b\b\b\b\b\b\b\b\b\b\b\b\b\b\b\b\b\b\b\b\b\b\b\b\b\b\b\b\b\b\b\b\b\b\b\b\b\b\b\b\b\b\b\b\b\b\b\b\r 88/500 [====>.........................] - ETA: 1s - loss: 479.6882 - acc: 0.0000e+00",
                "stream": "stdout"
              },
              {
                "output_type": "stream",
                "metadata": {
                  "tags": []
                },
                "text": "\b\b\b\b\b\b\b\b\b\b\b\b\b\b\b\b\b\b\b\b\b\b\b\b\b\b\b\b\b\b\b\b\b\b\b\b\b\b\b\b\b\b\b\b\b\b\b\b\b\b\b\b\b\b\b\b\b\b\b\b\b\b\b\b\b\b\b\b\b\b\b\b\b\b\b\b\b\b\b\b\b\b\b\b\b\r102/500 [=====>........................] - ETA: 1s - loss: 479.6803 - acc: 0.0000e+00",
                "stream": "stdout"
              },
              {
                "output_type": "stream",
                "metadata": {
                  "tags": []
                },
                "text": "\b\b\b\b\b\b\b\b\b\b\b\b\b\b\b\b\b\b\b\b\b\b\b\b\b\b\b\b\b\b\b\b\b\b\b\b\b\b\b\b\b\b\b\b\b\b\b\b\b\b\b\b\b\b\b\b\b\b\b\b\b\b\b\b\b\b\b\b\b\b\b\b\b\b\b\b\b\b\b\b\b\b\b\b\b\r116/500 [=====>........................] - ETA: 1s - loss: 479.6724 - acc: 0.0000e+00",
                "stream": "stdout"
              },
              {
                "output_type": "stream",
                "metadata": {
                  "tags": []
                },
                "text": "\b\b\b\b\b\b\b\b\b\b\b\b\b\b\b\b\b\b\b\b\b\b\b\b\b\b\b\b\b\b\b\b\b\b\b\b\b\b\b\b\b\b\b\b\b\b\b\b\b\b\b\b\b\b\b\b\b\b\b\b\b\b\b\b\b\b\b\b\b\b\b\b\b\b\b\b\b\b\b\b\b\b\b\b\b\r131/500 [======>.......................] - ETA: 1s - loss: 479.6640 - acc: 0.0000e+00",
                "stream": "stdout"
              },
              {
                "output_type": "stream",
                "metadata": {
                  "tags": []
                },
                "text": "\b\b\b\b\b\b\b\b\b\b\b\b\b\b\b\b\b\b\b\b\b\b\b\b\b\b\b\b\b\b\b\b\b\b\b\b\b\b\b\b\b\b\b\b\b\b\b\b\b\b\b\b\b\b\b\b\b\b\b\b\b\b\b\b\b\b\b\b\b\b\b\b\b\b\b\b\b\b\b\b\b\b\b\b\b\r146/500 [=======>......................] - ETA: 1s - loss: 479.6556 - acc: 0.0000e+00",
                "stream": "stdout"
              },
              {
                "output_type": "stream",
                "metadata": {
                  "tags": []
                },
                "text": "\b\b\b\b\b\b\b\b\b\b\b\b\b\b\b\b\b\b\b\b\b\b\b\b\b\b\b\b\b\b\b\b\b\b\b\b\b\b\b\b\b\b\b\b\b\b\b\b\b\b\b\b\b\b\b\b\b\b\b\b\b\b\b\b\b\b\b\b\b\b\b\b\b\b\b\b\b\b\b\b\b\b\b\b\b\r160/500 [========>.....................] - ETA: 1s - loss: 479.6477 - acc: 0.0000e+00",
                "stream": "stdout"
              },
              {
                "output_type": "stream",
                "metadata": {
                  "tags": []
                },
                "text": "\b\b\b\b\b\b\b\b\b\b\b\b\b\b\b\b\b\b\b\b\b\b\b\b\b\b\b\b\b\b\b\b\b\b\b\b\b\b\b\b\b\b\b\b\b\b\b\b\b\b\b\b\b\b\b\b\b\b\b\b\b\b\b\b\b\b\b\b\b\b\b\b\b\b\b\b\b\b\b\b\b\b\b\b\b\r174/500 [=========>....................] - ETA: 1s - loss: 479.6400 - acc: 0.0000e+00",
                "stream": "stdout"
              },
              {
                "output_type": "stream",
                "metadata": {
                  "tags": []
                },
                "text": "\b\b\b\b\b\b\b\b\b\b\b\b\b\b\b\b\b\b\b\b\b\b\b\b\b\b\b\b\b\b\b\b\b\b\b\b\b\b\b\b\b\b\b\b\b\b\b\b\b\b\b\b\b\b\b\b\b\b\b\b\b\b\b\b\b\b\b\b\b\b\b\b\b\b\b\b\b\b\b\b\b\b\b\b\b\r188/500 [==========>...................] - ETA: 1s - loss: 479.6321 - acc: 0.0000e+00",
                "stream": "stdout"
              },
              {
                "output_type": "stream",
                "metadata": {
                  "tags": []
                },
                "text": "\b\b\b\b\b\b\b\b\b\b\b\b\b\b\b\b\b\b\b\b\b\b\b\b\b\b\b\b\b\b\b\b\b\b\b\b\b\b\b\b\b\b\b\b\b\b\b\b\b\b\b\b\b\b\b\b\b\b\b\b\b\b\b\b\b\b\b\b\b\b\b\b\b\b\b\b\b\b\b\b\b\b\b\b\b\r202/500 [===========>..................] - ETA: 1s - loss: 479.6243 - acc: 0.0000e+00",
                "stream": "stdout"
              },
              {
                "output_type": "stream",
                "metadata": {
                  "tags": []
                },
                "text": "\b\b\b\b\b\b\b\b\b\b\b\b\b\b\b\b\b\b\b\b\b\b\b\b\b\b\b\b\b\b\b\b\b\b\b\b\b\b\b\b\b\b\b\b\b\b\b\b\b\b\b\b\b\b\b\b\b\b\b\b\b\b\b\b\b\b\b\b\b\b\b\b\b\b\b\b\b\b\b\b\b\b\b\b\b\r216/500 [===========>..................] - ETA: 1s - loss: 479.6165 - acc: 0.0000e+00",
                "stream": "stdout"
              },
              {
                "output_type": "stream",
                "metadata": {
                  "tags": []
                },
                "text": "\b\b\b\b\b\b\b\b\b\b\b\b\b\b\b\b\b\b\b\b\b\b\b\b\b\b\b\b\b\b\b\b\b\b\b\b\b\b\b\b\b\b\b\b\b\b\b\b\b\b\b\b\b\b\b\b\b\b\b\b\b\b\b\b\b\b\b\b\b\b\b\b\b\b\b\b\b\b\b\b\b\b\b\b\b\r229/500 [============>.................] - ETA: 0s - loss: 479.6093 - acc: 0.0000e+00",
                "stream": "stdout"
              },
              {
                "output_type": "stream",
                "metadata": {
                  "tags": []
                },
                "text": "\b\b\b\b\b\b\b\b\b\b\b\b\b\b\b\b\b\b\b\b\b\b\b\b\b\b\b\b\b\b\b\b\b\b\b\b\b\b\b\b\b\b\b\b\b\b\b\b\b\b\b\b\b\b\b\b\b\b\b\b\b\b\b\b\b\b\b\b\b\b\b\b\b\b\b\b\b\b\b\b\b\b\b\b\b\r243/500 [=============>................] - ETA: 0s - loss: 479.6015 - acc: 0.0000e+00",
                "stream": "stdout"
              },
              {
                "output_type": "stream",
                "metadata": {
                  "tags": []
                },
                "text": "\b\b\b\b\b\b\b\b\b\b\b\b\b\b\b\b\b\b\b\b\b\b\b\b\b\b\b\b\b\b\b\b\b\b\b\b\b\b\b\b\b\b\b\b\b\b\b\b\b\b\b\b\b\b\b\b\b\b\b\b\b\b\b\b\b\b\b\b\b\b\b\b\b\b\b\b\b\b\b\b\b\b\b\b\b\r257/500 [==============>...............] - ETA: 0s - loss: 479.5937 - acc: 0.0000e+00",
                "stream": "stdout"
              },
              {
                "output_type": "stream",
                "metadata": {
                  "tags": []
                },
                "text": "\b\b\b\b\b\b\b\b\b\b\b\b\b\b\b\b\b\b\b\b\b\b\b\b\b\b\b\b\b\b\b\b\b\b\b\b\b\b\b\b\b\b\b\b\b\b\b\b\b\b\b\b\b\b\b\b\b\b\b\b\b\b\b\b\b\b\b\b\b\b\b\b\b\b\b\b\b\b\b\b\b\b\b\b\b\r269/500 [===============>..............] - ETA: 0s - loss: 479.5870 - acc: 0.0000e+00",
                "stream": "stdout"
              },
              {
                "output_type": "stream",
                "metadata": {
                  "tags": []
                },
                "text": "\b\b\b\b\b\b\b\b\b\b\b\b\b\b\b\b\b\b\b\b\b\b\b\b\b\b\b\b\b\b\b\b\b\b\b\b\b\b\b\b\b\b\b\b\b\b\b\b\b\b\b\b\b\b\b\b\b\b\b\b\b\b\b\b\b\b\b\b\b\b\b\b\b\b\b\b\b\b\b\b\b\b\b\b\b\r281/500 [===============>..............] - ETA: 0s - loss: 479.5803 - acc: 0.0000e+00",
                "stream": "stdout"
              },
              {
                "output_type": "stream",
                "metadata": {
                  "tags": []
                },
                "text": "\b\b\b\b\b\b\b\b\b\b\b\b\b\b\b\b\b\b\b\b\b\b\b\b\b\b\b\b\b\b\b\b\b\b\b\b\b\b\b\b\b\b\b\b\b\b\b\b\b\b\b\b\b\b\b\b\b\b\b\b\b\b\b\b\b\b\b\b\b\b\b\b\b\b\b\b\b\b\b\b\b\b\b\b\b\r295/500 [================>.............] - ETA: 0s - loss: 479.5725 - acc: 0.0000e+00",
                "stream": "stdout"
              },
              {
                "output_type": "stream",
                "metadata": {
                  "tags": []
                },
                "text": "\b\b\b\b\b\b\b\b\b\b\b\b\b\b\b\b\b\b\b\b\b\b\b\b\b\b\b\b\b\b\b\b\b\b\b\b\b\b\b\b\b\b\b\b\b\b\b\b\b\b\b\b\b\b\b\b\b\b\b\b\b\b\b\b\b\b\b\b\b\b\b\b\b\b\b\b\b\b\b\b\b\b\b\b\b\r310/500 [=================>............] - ETA: 0s - loss: 479.5643 - acc: 0.0000e+00",
                "stream": "stdout"
              },
              {
                "output_type": "stream",
                "metadata": {
                  "tags": []
                },
                "text": "\b\b\b\b\b\b\b\b\b\b\b\b\b\b\b\b\b\b\b\b\b\b\b\b\b\b\b\b\b\b\b\b\b\b\b\b\b\b\b\b\b\b\b\b\b\b\b\b\b\b\b\b\b\b\b\b\b\b\b\b\b\b\b\b\b\b\b\b\b\b\b\b\b\b\b\b\b\b\b\b\b\b\b\b\b\r325/500 [==================>...........] - ETA: 0s - loss: 479.5560 - acc: 0.0000e+00",
                "stream": "stdout"
              },
              {
                "output_type": "stream",
                "metadata": {
                  "tags": []
                },
                "text": "\b\b\b\b\b\b\b\b\b\b\b\b\b\b\b\b\b\b\b\b\b\b\b\b\b\b\b\b\b\b\b\b\b\b\b\b\b\b\b\b\b\b\b\b\b\b\b\b\b\b\b\b\b\b\b\b\b\b\b\b\b\b\b\b\b\b\b\b\b\b\b\b\b\b\b\b\b\b\b\b\b\b\b\b\b\r340/500 [===================>..........] - ETA: 0s - loss: 479.5476 - acc: 0.0086    ",
                "stream": "stdout"
              },
              {
                "output_type": "stream",
                "metadata": {
                  "tags": []
                },
                "text": "\b\b\b\b\b\b\b\b\b\b\b\b\b\b\b\b\b\b\b\b\b\b\b\b\b\b\b\b\b\b\b\b\b\b\b\b\b\b\b\b\b\b\b\b\b\b\b\b\b\b\b\b\b\b\b\b\b\b\b\b\b\b\b\b\b\b\b\b\b\b\b\b\b\b\b\b\b\b\b\b\b\r354/500 [====================>.........] - ETA: 0s - loss: 479.5398 - acc: 0.0305",
                "stream": "stdout"
              },
              {
                "output_type": "stream",
                "metadata": {
                  "tags": []
                },
                "text": "\b\b\b\b\b\b\b\b\b\b\b\b\b\b\b\b\b\b\b\b\b\b\b\b\b\b\b\b\b\b\b\b\b\b\b\b\b\b\b\b\b\b\b\b\b\b\b\b\b\b\b\b\b\b\b\b\b\b\b\b\b\b\b\b\b\b\b\b\b\b\b\b\b\b\b\b\b\b\b\b\b\r367/500 [=====================>........] - ETA: 0s - loss: 479.5327 - acc: 0.0483",
                "stream": "stdout"
              },
              {
                "output_type": "stream",
                "metadata": {
                  "tags": []
                },
                "text": "\b\b\b\b\b\b\b\b\b\b\b\b\b\b\b\b\b\b\b\b\b\b\b\b\b\b\b\b\b\b\b\b\b\b\b\b\b\b\b\b\b\b\b\b\b\b\b\b\b\b\b\b\b\b\b\b\b\b\b\b\b\b\b\b\b\b\b\b\b\b\b\b\b\b\b\b\b\b\b\b\b\r381/500 [=====================>........] - ETA: 0s - loss: 479.5249 - acc: 0.0647",
                "stream": "stdout"
              },
              {
                "output_type": "stream",
                "metadata": {
                  "tags": []
                },
                "text": "\b\b\b\b\b\b\b\b\b\b\b\b\b\b\b\b\b\b\b\b\b\b\b\b\b\b\b\b\b\b\b\b\b\b\b\b\b\b\b\b\b\b\b\b\b\b\b\b\b\b\b\b\b\b\b\b\b\b\b\b\b\b\b\b\b\b\b\b\b\b\b\b\b\b\b\b\b\b\b\b\b\r395/500 [======================>.......] - ETA: 0s - loss: 479.5172 - acc: 0.0800",
                "stream": "stdout"
              },
              {
                "output_type": "stream",
                "metadata": {
                  "tags": []
                },
                "text": "\b\b\b\b\b\b\b\b\b\b\b\b\b\b\b\b\b\b\b\b\b\b\b\b\b\b\b\b\b\b\b\b\b\b\b\b\b\b\b\b\b\b\b\b\b\b\b\b\b\b\b\b\b\b\b\b\b\b\b\b\b\b\b\b\b\b\b\b\b\b\b\b\b\b\b\b\b\b\b\b\b\r410/500 [=======================>......] - ETA: 0s - loss: 479.5090 - acc: 0.0940",
                "stream": "stdout"
              },
              {
                "output_type": "stream",
                "metadata": {
                  "tags": []
                },
                "text": "\b\b\b\b\b\b\b\b\b\b\b\b\b\b\b\b\b\b\b\b\b\b\b\b\b\b\b\b\b\b\b\b\b\b\b\b\b\b\b\b\b\b\b\b\b\b\b\b\b\b\b\b\b\b\b\b\b\b\b\b\b\b\b\b\b\b\b\b\b\b\b\b\b\b\b\b\b\b\b\b\b\r425/500 [========================>.....] - ETA: 0s - loss: 479.5008 - acc: 0.1092",
                "stream": "stdout"
              },
              {
                "output_type": "stream",
                "metadata": {
                  "tags": []
                },
                "text": "\b\b\b\b\b\b\b\b\b\b\b\b\b\b\b\b\b\b\b\b\b\b\b\b\b\b\b\b\b\b\b\b\b\b\b\b\b\b\b\b\b\b\b\b\b\b\b\b\b\b\b\b\b\b\b\b\b\b\b\b\b\b\b\b\b\b\b\b\b\b\b\b\b\b\b\b\b\b\b\b\b\r439/500 [=========================>....] - ETA: 0s - loss: 479.4931 - acc: 0.1215",
                "stream": "stdout"
              },
              {
                "output_type": "stream",
                "metadata": {
                  "tags": []
                },
                "text": "\b\b\b\b\b\b\b\b\b\b\b\b\b\b\b\b\b\b\b\b\b\b\b\b\b\b\b\b\b\b\b\b\b\b\b\b\b\b\b\b\b\b\b\b\b\b\b\b\b\b\b\b\b\b\b\b\b\b\b\b\b\b\b\b\b\b\b\b\b\b\b\b\b\b\b\b\b\b\b\b\b\r451/500 [==========================>...] - ETA: 0s - loss: 479.4865 - acc: 0.1335",
                "stream": "stdout"
              },
              {
                "output_type": "stream",
                "metadata": {
                  "tags": []
                },
                "text": "\b\b\b\b\b\b\b\b\b\b\b\b\b\b\b\b\b\b\b\b\b\b\b\b\b\b\b\b\b\b\b\b\b\b\b\b\b\b\b\b\b\b\b\b\b\b\b\b\b\b\b\b\b\b\b\b\b\b\b\b\b\b\b\b\b\b\b\b\b\b\b\b\b\b\b\b\b\b\b\b\b\r465/500 [==========================>...] - ETA: 0s - loss: 479.4789 - acc: 0.1442",
                "stream": "stdout"
              },
              {
                "output_type": "stream",
                "metadata": {
                  "tags": []
                },
                "text": "\b\b\b\b\b\b\b\b\b\b\b\b\b\b\b\b\b\b\b\b\b\b\b\b\b\b\b\b\b\b\b\b\b\b\b\b\b\b\b\b\b\b\b\b\b\b\b\b\b\b\b\b\b\b\b\b\b\b\b\b\b\b\b\b\b\b\b\b\b\b\b\b\b\b\b\b\b\b\b\b\b\r481/500 [===========================>..] - ETA: 0s - loss: 479.4701 - acc: 0.1559",
                "stream": "stdout"
              },
              {
                "output_type": "stream",
                "metadata": {
                  "tags": []
                },
                "text": "\b\b\b\b\b\b\b\b\b\b\b\b\b\b\b\b\b\b\b\b\b\b\b\b\b\b\b\b\b\b\b\b\b\b\b\b\b\b\b\b\b\b\b\b\b\b\b\b\b\b\b\b\b\b\b\b\b\b\b\b\b\b\b\b\b\b\b\b\b\b\b\b\b\b\b\b\b\b\b\b\b\r497/500 [============================>.] - ETA: 0s - loss: 479.4614 - acc: 0.1669",
                "stream": "stdout"
              },
              {
                "output_type": "stream",
                "metadata": {
                  "tags": []
                },
                "text": "\b\b\b\b\b\b\b\b\b\b\b\b\b\b\b\b\b\b\b\b\b\b\b\b\b\b\b\b\b\b\b\b\b\b\b\b\b\b\b\b\b\b\b\b\b\b\b\b\b\b\b\b\b\b\b\b\b\b\b\b\b\b\b\b\b\b\b\b\b\b\b\b\b\b\b\b\b\b\b\b\b\r500/500 [==============================] - 2s 4ms/step - loss: 479.4597 - acc: 0.1679 - val_loss: 479.1866 - val_acc: 0.9898\n",
                "stream": "stdout"
              },
              {
                "output_type": "stream",
                "metadata": {
                  "tags": []
                },
                "text": "Epoch 11/20\n\r  1/500 [..............................] - ETA: 0s - loss: 479.1863 - acc: 1.0000",
                "stream": "stdout"
              },
              {
                "output_type": "stream",
                "metadata": {
                  "tags": []
                },
                "text": "\b\b\b\b\b\b\b\b\b\b\b\b\b\b\b\b\b\b\b\b\b\b\b\b\b\b\b\b\b\b\b\b\b\b\b\b\b\b\b\b\b\b\b\b\b\b\b\b\b\b\b\b\b\b\b\b\b\b\b\b\b\b\b\b\b\b\b\b\b\b\b\b\b\b\b\b\b\b\b\b\b\r 15/500 [..............................] - ETA: 1s - loss: 479.1788 - acc: 0.5240",
                "stream": "stdout"
              },
              {
                "output_type": "stream",
                "metadata": {
                  "tags": []
                },
                "text": "\b\b\b\b\b\b\b\b\b\b\b\b\b\b\b\b\b\b\b\b\b\b\b\b\b\b\b\b\b\b\b\b\b\b\b\b\b\b\b\b\b\b\b\b\b\b\b\b\b\b\b\b\b\b\b\b\b\b\b\b\b\b\b\b\b\b\b\b\b\b\b\b\b\b\b\b\b\b\b\b\b\r 30/500 [>.............................] - ETA: 1s - loss: 479.1708 - acc: 0.5260",
                "stream": "stdout"
              },
              {
                "output_type": "stream",
                "metadata": {
                  "tags": []
                },
                "text": "\b\b\b\b\b\b\b\b\b\b\b\b\b\b\b\b\b\b\b\b\b\b\b\b\b\b\b\b\b\b\b\b\b\b\b\b\b\b\b\b\b\b\b\b\b\b\b\b\b\b\b\b\b\b\b\b\b\b\b\b\b\b\b\b\b\b\b\b\b\b\b\b\b\b\b\b\b\b\b\b\b\r 44/500 [=>............................] - ETA: 1s - loss: 479.1634 - acc: 0.5389",
                "stream": "stdout"
              },
              {
                "output_type": "stream",
                "metadata": {
                  "tags": []
                },
                "text": "\b\b\b\b\b\b\b\b\b\b\b\b\b\b\b\b\b\b\b\b\b\b\b\b\b\b\b\b\b\b\b\b\b\b\b\b\b\b\b\b\b\b\b\b\b\b\b\b\b\b\b\b\b\b\b\b\b\b\b\b\b\b\b\b\b\b\b\b\b\b\b\b\b\b\b\b\b\b\b\b\b\r 60/500 [==>...........................] - ETA: 1s - loss: 479.1549 - acc: 0.5260",
                "stream": "stdout"
              },
              {
                "output_type": "stream",
                "metadata": {
                  "tags": []
                },
                "text": "\b\b\b\b\b\b\b\b\b\b\b\b\b\b\b\b\b\b\b\b\b\b\b\b\b\b\b\b\b\b\b\b\b\b\b\b\b\b\b\b\b\b\b\b\b\b\b\b\b\b\b\b\b\b\b\b\b\b\b\b\b\b\b\b\b\b\b\b\b\b\b\b\b\b\b\b\b\b\b\b\b\r 75/500 [===>..........................] - ETA: 1s - loss: 479.1469 - acc: 0.5267",
                "stream": "stdout"
              },
              {
                "output_type": "stream",
                "metadata": {
                  "tags": []
                },
                "text": "\b\b\b\b\b\b\b\b\b\b\b\b\b\b\b\b\b\b\b\b\b\b\b\b\b\b\b\b\b\b\b\b\b\b\b\b\b\b\b\b\b\b\b\b\b\b\b\b\b\b\b\b\b\b\b\b\b\b\b\b\b\b\b\b\b\b\b\b\b\b\b\b\b\b\b\b\b\b\b\b\b\r 89/500 [====>.........................] - ETA: 1s - loss: 479.1395 - acc: 0.5219",
                "stream": "stdout"
              },
              {
                "output_type": "stream",
                "metadata": {
                  "tags": []
                },
                "text": "\b\b\b\b\b\b\b\b\b\b\b\b\b\b\b\b\b\b\b\b\b\b\b\b\b\b\b\b\b\b\b\b\b\b\b\b\b\b\b\b\b\b\b\b\b\b\b\b\b\b\b\b\b\b\b\b\b\b\b\b\b\b\b\b\b\b\b\b\b\b\b\b\b\b\b\b\b\b\b\b\b\r104/500 [=====>........................] - ETA: 1s - loss: 479.1315 - acc: 0.5131",
                "stream": "stdout"
              },
              {
                "output_type": "stream",
                "metadata": {
                  "tags": []
                },
                "text": "\b\b\b\b\b\b\b\b\b\b\b\b\b\b\b\b\b\b\b\b\b\b\b\b\b\b\b\b\b\b\b\b\b\b\b\b\b\b\b\b\b\b\b\b\b\b\b\b\b\b\b\b\b\b\b\b\b\b\b\b\b\b\b\b\b\b\b\b\b\b\b\b\b\b\b\b\b\b\b\b\b\r119/500 [======>.......................] - ETA: 1s - loss: 479.1236 - acc: 0.5146",
                "stream": "stdout"
              },
              {
                "output_type": "stream",
                "metadata": {
                  "tags": []
                },
                "text": "\b\b\b\b\b\b\b\b\b\b\b\b\b\b\b\b\b\b\b\b\b\b\b\b\b\b\b\b\b\b\b\b\b\b\b\b\b\b\b\b\b\b\b\b\b\b\b\b\b\b\b\b\b\b\b\b\b\b\b\b\b\b\b\b\b\b\b\b\b\b\b\b\b\b\b\b\b\b\b\b\b\r134/500 [=======>......................] - ETA: 1s - loss: 479.1157 - acc: 0.5155",
                "stream": "stdout"
              },
              {
                "output_type": "stream",
                "metadata": {
                  "tags": []
                },
                "text": "\b\b\b\b\b\b\b\b\b\b\b\b\b\b\b\b\b\b\b\b\b\b\b\b\b\b\b\b\b\b\b\b\b\b\b\b\b\b\b\b\b\b\b\b\b\b\b\b\b\b\b\b\b\b\b\b\b\b\b\b\b\b\b\b\b\b\b\b\b\b\b\b\b\b\b\b\b\b\b\b\b\r149/500 [=======>......................] - ETA: 1s - loss: 479.1078 - acc: 0.5168",
                "stream": "stdout"
              },
              {
                "output_type": "stream",
                "metadata": {
                  "tags": []
                },
                "text": "\b\b\b\b\b\b\b\b\b\b\b\b\b\b\b\b\b\b\b\b\b\b\b\b\b\b\b\b\b\b\b\b\b\b\b\b\b\b\b\b\b\b\b\b\b\b\b\b\b\b\b\b\b\b\b\b\b\b\b\b\b\b\b\b\b\b\b\b\b\b\b\b\b\b\b\b\b\b\b\b\b\r164/500 [========>.....................] - ETA: 1s - loss: 479.0999 - acc: 0.5118",
                "stream": "stdout"
              },
              {
                "output_type": "stream",
                "metadata": {
                  "tags": []
                },
                "text": "\b\b\b\b\b\b\b\b\b\b\b\b\b\b\b\b\b\b\b\b\b\b\b\b\b\b\b\b\b\b\b\b\b\b\b\b\b\b\b\b\b\b\b\b\b\b\b\b\b\b\b\b\b\b\b\b\b\b\b\b\b\b\b\b\b\b\b\b\b\b\b\b\b\b\b\b\b\b\b\b\b\r177/500 [=========>....................] - ETA: 1s - loss: 479.0930 - acc: 0.5134",
                "stream": "stdout"
              },
              {
                "output_type": "stream",
                "metadata": {
                  "tags": []
                },
                "text": "\b\b\b\b\b\b\b\b\b\b\b\b\b\b\b\b\b\b\b\b\b\b\b\b\b\b\b\b\b\b\b\b\b\b\b\b\b\b\b\b\b\b\b\b\b\b\b\b\b\b\b\b\b\b\b\b\b\b\b\b\b\b\b\b\b\b\b\b\b\b\b\b\b\b\b\b\b\b\b\b\b\r191/500 [==========>...................] - ETA: 1s - loss: 479.0858 - acc: 0.5121",
                "stream": "stdout"
              },
              {
                "output_type": "stream",
                "metadata": {
                  "tags": []
                },
                "text": "\b\b\b\b\b\b\b\b\b\b\b\b\b\b\b\b\b\b\b\b\b\b\b\b\b\b\b\b\b\b\b\b\b\b\b\b\b\b\b\b\b\b\b\b\b\b\b\b\b\b\b\b\b\b\b\b\b\b\b\b\b\b\b\b\b\b\b\b\b\b\b\b\b\b\b\b\b\b\b\b\b\r204/500 [===========>..................] - ETA: 1s - loss: 479.0789 - acc: 0.5135",
                "stream": "stdout"
              },
              {
                "output_type": "stream",
                "metadata": {
                  "tags": []
                },
                "text": "\b\b\b\b\b\b\b\b\b\b\b\b\b\b\b\b\b\b\b\b\b\b\b\b\b\b\b\b\b\b\b\b\b\b\b\b\b\b\b\b\b\b\b\b\b\b\b\b\b\b\b\b\b\b\b\b\b\b\b\b\b\b\b\b\b\b\b\b\b\b\b\b\b\b\b\b\b\b\b\b\b\r219/500 [============>.................] - ETA: 0s - loss: 479.0710 - acc: 0.5145",
                "stream": "stdout"
              },
              {
                "output_type": "stream",
                "metadata": {
                  "tags": []
                },
                "text": "\b\b\b\b\b\b\b\b\b\b\b\b\b\b\b\b\b\b\b\b\b\b\b\b\b\b\b\b\b\b\b\b\b\b\b\b\b\b\b\b\b\b\b\b\b\b\b\b\b\b\b\b\b\b\b\b\b\b\b\b\b\b\b\b\b\b\b\b\b\b\b\b\b\b\b\b\b\b\b\b\b\r234/500 [=============>................] - ETA: 0s - loss: 479.0632 - acc: 0.5112",
                "stream": "stdout"
              },
              {
                "output_type": "stream",
                "metadata": {
                  "tags": []
                },
                "text": "\b\b\b\b\b\b\b\b\b\b\b\b\b\b\b\b\b\b\b\b\b\b\b\b\b\b\b\b\b\b\b\b\b\b\b\b\b\b\b\b\b\b\b\b\b\b\b\b\b\b\b\b\b\b\b\b\b\b\b\b\b\b\b\b\b\b\b\b\b\b\b\b\b\b\b\b\b\b\b\b\b\r247/500 [=============>................] - ETA: 0s - loss: 479.0564 - acc: 0.5123",
                "stream": "stdout"
              },
              {
                "output_type": "stream",
                "metadata": {
                  "tags": []
                },
                "text": "\b\b\b\b\b\b\b\b\b\b\b\b\b\b\b\b\b\b\b\b\b\b\b\b\b\b\b\b\b\b\b\b\b\b\b\b\b\b\b\b\b\b\b\b\b\b\b\b\b\b\b\b\b\b\b\b\b\b\b\b\b\b\b\b\b\b\b\b\b\b\b\b\b\b\b\b\b\b\b\b\b\r262/500 [==============>...............] - ETA: 0s - loss: 479.0485 - acc: 0.5133",
                "stream": "stdout"
              },
              {
                "output_type": "stream",
                "metadata": {
                  "tags": []
                },
                "text": "\b\b\b\b\b\b\b\b\b\b\b\b\b\b\b\b\b\b\b\b\b\b\b\b\b\b\b\b\b\b\b\b\b\b\b\b\b\b\b\b\b\b\b\b\b\b\b\b\b\b\b\b\b\b\b\b\b\b\b\b\b\b\b\b\b\b\b\b\b\b\b\b\b\b\b\b\b\b\b\b\b\r275/500 [===============>..............] - ETA: 0s - loss: 479.0417 - acc: 0.5141",
                "stream": "stdout"
              },
              {
                "output_type": "stream",
                "metadata": {
                  "tags": []
                },
                "text": "\b\b\b\b\b\b\b\b\b\b\b\b\b\b\b\b\b\b\b\b\b\b\b\b\b\b\b\b\b\b\b\b\b\b\b\b\b\b\b\b\b\b\b\b\b\b\b\b\b\b\b\b\b\b\b\b\b\b\b\b\b\b\b\b\b\b\b\b\b\b\b\b\b\b\b\b\b\b\b\b\b\r289/500 [================>.............] - ETA: 0s - loss: 479.0344 - acc: 0.5132",
                "stream": "stdout"
              },
              {
                "output_type": "stream",
                "metadata": {
                  "tags": []
                },
                "text": "\b\b\b\b\b\b\b\b\b\b\b\b\b\b\b\b\b\b\b\b\b\b\b\b\b\b\b\b\b\b\b\b\b\b\b\b\b\b\b\b\b\b\b\b\b\b\b\b\b\b\b\b\b\b\b\b\b\b\b\b\b\b\b\b\b\b\b\b\b\b\b\b\b\b\b\b\b\b\b\b\b\r303/500 [=================>............] - ETA: 0s - loss: 479.0271 - acc: 0.5125",
                "stream": "stdout"
              },
              {
                "output_type": "stream",
                "metadata": {
                  "tags": []
                },
                "text": "\b\b\b\b\b\b\b\b\b\b\b\b\b\b\b\b\b\b\b\b\b\b\b\b\b\b\b\b\b\b\b\b\b\b\b\b\b\b\b\b\b\b\b\b\b\b\b\b\b\b\b\b\b\b\b\b\b\b\b\b\b\b\b\b\b\b\b\b\b\b\b\b\b\b\b\b\b\b\b\b\b\r318/500 [==================>...........] - ETA: 0s - loss: 479.0193 - acc: 0.5103",
                "stream": "stdout"
              },
              {
                "output_type": "stream",
                "metadata": {
                  "tags": []
                },
                "text": "\b\b\b\b\b\b\b\b\b\b\b\b\b\b\b\b\b\b\b\b\b\b\b\b\b\b\b\b\b\b\b\b\b\b\b\b\b\b\b\b\b\b\b\b\b\b\b\b\b\b\b\b\b\b\b\b\b\b\b\b\b\b\b\b\b\b\b\b\b\b\b\b\b\b\b\b\b\b\b\b\b\r331/500 [==================>...........] - ETA: 0s - loss: 479.0126 - acc: 0.5114",
                "stream": "stdout"
              },
              {
                "output_type": "stream",
                "metadata": {
                  "tags": []
                },
                "text": "\b\b\b\b\b\b\b\b\b\b\b\b\b\b\b\b\b\b\b\b\b\b\b\b\b\b\b\b\b\b\b\b\b\b\b\b\b\b\b\b\b\b\b\b\b\b\b\b\b\b\b\b\b\b\b\b\b\b\b\b\b\b\b\b\b\b\b\b\b\b\b\b\b\b\b\b\b\b\b\b\b\r346/500 [===================>..........] - ETA: 0s - loss: 479.0048 - acc: 0.5119",
                "stream": "stdout"
              },
              {
                "output_type": "stream",
                "metadata": {
                  "tags": []
                },
                "text": "\b\b\b\b\b\b\b\b\b\b\b\b\b\b\b\b\b\b\b\b\b\b\b\b\b\b\b\b\b\b\b\b\b\b\b\b\b\b\b\b\b\b\b\b\b\b\b\b\b\b\b\b\b\b\b\b\b\b\b\b\b\b\b\b\b\b\b\b\b\b\b\b\b\b\b\b\b\b\b\b\b\r361/500 [====================>.........] - ETA: 0s - loss: 478.9971 - acc: 0.5126",
                "stream": "stdout"
              },
              {
                "output_type": "stream",
                "metadata": {
                  "tags": []
                },
                "text": "\b\b\b\b\b\b\b\b\b\b\b\b\b\b\b\b\b\b\b\b\b\b\b\b\b\b\b\b\b\b\b\b\b\b\b\b\b\b\b\b\b\b\b\b\b\b\b\b\b\b\b\b\b\b\b\b\b\b\b\b\b\b\b\b\b\b\b\b\b\b\b\b\b\b\b\b\b\b\b\b\b\r376/500 [=====================>........] - ETA: 0s - loss: 478.9893 - acc: 0.5106",
                "stream": "stdout"
              },
              {
                "output_type": "stream",
                "metadata": {
                  "tags": []
                },
                "text": "\b\b\b\b\b\b\b\b\b\b\b\b\b\b\b\b\b\b\b\b\b\b\b\b\b\b\b\b\b\b\b\b\b\b\b\b\b\b\b\b\b\b\b\b\b\b\b\b\b\b\b\b\b\b\b\b\b\b\b\b\b\b\b\b\b\b\b\b\b\b\b\b\b\b\b\b\b\b\b\b\b\r390/500 [======================>.......] - ETA: 0s - loss: 478.9819 - acc: 0.5100",
                "stream": "stdout"
              },
              {
                "output_type": "stream",
                "metadata": {
                  "tags": []
                },
                "text": "\b\b\b\b\b\b\b\b\b\b\b\b\b\b\b\b\b\b\b\b\b\b\b\b\b\b\b\b\b\b\b\b\b\b\b\b\b\b\b\b\b\b\b\b\b\b\b\b\b\b\b\b\b\b\b\b\b\b\b\b\b\b\b\b\b\b\b\b\b\b\b\b\b\b\b\b\b\b\b\b\b\r404/500 [=======================>......] - ETA: 0s - loss: 478.9748 - acc: 0.5118",
                "stream": "stdout"
              },
              {
                "output_type": "stream",
                "metadata": {
                  "tags": []
                },
                "text": "\b\b\b\b\b\b\b\b\b\b\b\b\b\b\b\b\b\b\b\b\b\b\b\b\b\b\b\b\b\b\b\b\b\b\b\b\b\b\b\b\b\b\b\b\b\b\b\b\b\b\b\b\b\b\b\b\b\b\b\b\b\b\b\b\b\b\b\b\b\b\b\b\b\b\b\b\b\b\b\b\b\r417/500 [========================>.....] - ETA: 0s - loss: 478.9680 - acc: 0.5101",
                "stream": "stdout"
              },
              {
                "output_type": "stream",
                "metadata": {
                  "tags": []
                },
                "text": "\b\b\b\b\b\b\b\b\b\b\b\b\b\b\b\b\b\b\b\b\b\b\b\b\b\b\b\b\b\b\b\b\b\b\b\b\b\b\b\b\b\b\b\b\b\b\b\b\b\b\b\b\b\b\b\b\b\b\b\b\b\b\b\b\b\b\b\b\b\b\b\b\b\b\b\b\b\b\b\b\b\r430/500 [========================>.....] - ETA: 0s - loss: 478.9613 - acc: 0.5108",
                "stream": "stdout"
              },
              {
                "output_type": "stream",
                "metadata": {
                  "tags": []
                },
                "text": "\b\b\b\b\b\b\b\b\b\b\b\b\b\b\b\b\b\b\b\b\b\b\b\b\b\b\b\b\b\b\b\b\b\b\b\b\b\b\b\b\b\b\b\b\b\b\b\b\b\b\b\b\b\b\b\b\b\b\b\b\b\b\b\b\b\b\b\b\b\b\b\b\b\b\b\b\b\b\b\b\b\r444/500 [=========================>....] - ETA: 0s - loss: 478.9541 - acc: 0.5103",
                "stream": "stdout"
              },
              {
                "output_type": "stream",
                "metadata": {
                  "tags": []
                },
                "text": "\b\b\b\b\b\b\b\b\b\b\b\b\b\b\b\b\b\b\b\b\b\b\b\b\b\b\b\b\b\b\b\b\b\b\b\b\b\b\b\b\b\b\b\b\b\b\b\b\b\b\b\b\b\b\b\b\b\b\b\b\b\b\b\b\b\b\b\b\b\b\b\b\b\b\b\b\b\b\b\b\b\r457/500 [==========================>...] - ETA: 0s - loss: 478.9474 - acc: 0.5110",
                "stream": "stdout"
              },
              {
                "output_type": "stream",
                "metadata": {
                  "tags": []
                },
                "text": "\b\b\b\b\b\b\b\b\b\b\b\b\b\b\b\b\b\b\b\b\b\b\b\b\b\b\b\b\b\b\b\b\b\b\b\b\b\b\b\b\b\b\b\b\b\b\b\b\b\b\b\b\b\b\b\b\b\b\b\b\b\b\b\b\b\b\b\b\b\b\b\b\b\b\b\b\b\b\b\b\b\r469/500 [===========================>..] - ETA: 0s - loss: 478.9412 - acc: 0.5106",
                "stream": "stdout"
              },
              {
                "output_type": "stream",
                "metadata": {
                  "tags": []
                },
                "text": "\b\b\b\b\b\b\b\b\b\b\b\b\b\b\b\b\b\b\b\b\b\b\b\b\b\b\b\b\b\b\b\b\b\b\b\b\b\b\b\b\b\b\b\b\b\b\b\b\b\b\b\b\b\b\b\b\b\b\b\b\b\b\b\b\b\b\b\b\b\b\b\b\b\b\b\b\b\b\b\b\b\r484/500 [============================>.] - ETA: 0s - loss: 478.9335 - acc: 0.5091",
                "stream": "stdout"
              },
              {
                "output_type": "stream",
                "metadata": {
                  "tags": []
                },
                "text": "\b\b\b\b\b\b\b\b\b\b\b\b\b\b\b\b\b\b\b\b\b\b\b\b\b\b\b\b\b\b\b\b\b\b\b\b\b\b\b\b\b\b\b\b\b\b\b\b\b\b\b\b\b\b\b\b\b\b\b\b\b\b\b\b\b\b\b\b\b\b\b\b\b\b\b\b\b\b\b\b\b\r498/500 [============================>.] - ETA: 0s - loss: 478.9264 - acc: 0.5086",
                "stream": "stdout"
              },
              {
                "output_type": "stream",
                "metadata": {
                  "tags": []
                },
                "text": "\b\b\b\b\b\b\b\b\b\b\b\b\b\b\b\b\b\b\b\b\b\b\b\b\b\b\b\b\b\b\b\b\b\b\b\b\b\b\b\b\b\b\b\b\b\b\b\b\b\b\b\b\b\b\b\b\b\b\b\b\b\b\b\b\b\b\b\b\b\b\b\b\b\b\b\b\b\b\b\b\b\r500/500 [==============================] - 2s 4ms/step - loss: 478.9254 - acc: 0.5085 - val_loss: 478.6679 - val_acc: 0.9899\n",
                "stream": "stdout"
              },
              {
                "output_type": "stream",
                "metadata": {
                  "tags": []
                },
                "text": "Epoch 12/20\n\r  1/500 [..............................] - ETA: 0s - loss: 478.6681 - acc: 1.0000",
                "stream": "stdout"
              },
              {
                "output_type": "stream",
                "metadata": {
                  "tags": []
                },
                "text": "\b\b\b\b\b\b\b\b\b\b\b\b\b\b\b\b\b\b\b\b\b\b\b\b\b\b\b\b\b\b\b\b\b\b\b\b\b\b\b\b\b\b\b\b\b\b\b\b\b\b\b\b\b\b\b\b\b\b\b\b\b\b\b\b\b\b\b\b\b\b\b\b\b\b\b\b\b\b\b\b\b\r 15/500 [..............................] - ETA: 1s - loss: 478.6610 - acc: 0.5260",
                "stream": "stdout"
              },
              {
                "output_type": "stream",
                "metadata": {
                  "tags": []
                },
                "text": "\b\b\b\b\b\b\b\b\b\b\b\b\b\b\b\b\b\b\b\b\b\b\b\b\b\b\b\b\b\b\b\b\b\b\b\b\b\b\b\b\b\b\b\b\b\b\b\b\b\b\b\b\b\b\b\b\b\b\b\b\b\b\b\b\b\b\b\b\b\b\b\b\b\b\b\b\b\b\b\b\b\r 29/500 [>.............................] - ETA: 1s - loss: 478.6540 - acc: 0.5438",
                "stream": "stdout"
              },
              {
                "output_type": "stream",
                "metadata": {
                  "tags": []
                },
                "text": "\b\b\b\b\b\b\b\b\b\b\b\b\b\b\b\b\b\b\b\b\b\b\b\b\b\b\b\b\b\b\b\b\b\b\b\b\b\b\b\b\b\b\b\b\b\b\b\b\b\b\b\b\b\b\b\b\b\b\b\b\b\b\b\b\b\b\b\b\b\b\b\b\b\b\b\b\b\b\b\b\b\r 44/500 [=>............................] - ETA: 1s - loss: 478.6464 - acc: 0.5164",
                "stream": "stdout"
              },
              {
                "output_type": "stream",
                "metadata": {
                  "tags": []
                },
                "text": "\b\b\b\b\b\b\b\b\b\b\b\b\b\b\b\b\b\b\b\b\b\b\b\b\b\b\b\b\b\b\b\b\b\b\b\b\b\b\b\b\b\b\b\b\b\b\b\b\b\b\b\b\b\b\b\b\b\b\b\b\b\b\b\b\b\b\b\b\b\b\b\b\b\b\b\b\b\b\b\b\b\r 59/500 [==>...........................] - ETA: 1s - loss: 478.6389 - acc: 0.5181",
                "stream": "stdout"
              },
              {
                "output_type": "stream",
                "metadata": {
                  "tags": []
                },
                "text": "\b\b\b\b\b\b\b\b\b\b\b\b\b\b\b\b\b\b\b\b\b\b\b\b\b\b\b\b\b\b\b\b\b\b\b\b\b\b\b\b\b\b\b\b\b\b\b\b\b\b\b\b\b\b\b\b\b\b\b\b\b\b\b\b\b\b\b\b\b\b\b\b\b\b\b\b\b\b\b\b\b\r 73/500 [===>..........................] - ETA: 1s - loss: 478.6319 - acc: 0.5273",
                "stream": "stdout"
              },
              {
                "output_type": "stream",
                "metadata": {
                  "tags": []
                },
                "text": "\b\b\b\b\b\b\b\b\b\b\b\b\b\b\b\b\b\b\b\b\b\b\b\b\b\b\b\b\b\b\b\b\b\b\b\b\b\b\b\b\b\b\b\b\b\b\b\b\b\b\b\b\b\b\b\b\b\b\b\b\b\b\b\b\b\b\b\b\b\b\b\b\b\b\b\b\b\b\b\b\b\r 88/500 [====>.........................] - ETA: 1s - loss: 478.6243 - acc: 0.5160",
                "stream": "stdout"
              },
              {
                "output_type": "stream",
                "metadata": {
                  "tags": []
                },
                "text": "\b\b\b\b\b\b\b\b\b\b\b\b\b\b\b\b\b\b\b\b\b\b\b\b\b\b\b\b\b\b\b\b\b\b\b\b\b\b\b\b\b\b\b\b\b\b\b\b\b\b\b\b\b\b\b\b\b\b\b\b\b\b\b\b\b\b\b\b\b\b\b\b\b\b\b\b\b\b\b\b\b\r103/500 [=====>........................] - ETA: 1s - loss: 478.6169 - acc: 0.5180",
                "stream": "stdout"
              },
              {
                "output_type": "stream",
                "metadata": {
                  "tags": []
                },
                "text": "\b\b\b\b\b\b\b\b\b\b\b\b\b\b\b\b\b\b\b\b\b\b\b\b\b\b\b\b\b\b\b\b\b\b\b\b\b\b\b\b\b\b\b\b\b\b\b\b\b\b\b\b\b\b\b\b\b\b\b\b\b\b\b\b\b\b\b\b\b\b\b\b\b\b\b\b\b\b\b\b\b\r118/500 [======>.......................] - ETA: 1s - loss: 478.6094 - acc: 0.5109",
                "stream": "stdout"
              },
              {
                "output_type": "stream",
                "metadata": {
                  "tags": []
                },
                "text": "\b\b\b\b\b\b\b\b\b\b\b\b\b\b\b\b\b\b\b\b\b\b\b\b\b\b\b\b\b\b\b\b\b\b\b\b\b\b\b\b\b\b\b\b\b\b\b\b\b\b\b\b\b\b\b\b\b\b\b\b\b\b\b\b\b\b\b\b\b\b\b\b\b\b\b\b\b\b\b\b\b\r133/500 [======>.......................] - ETA: 1s - loss: 478.6019 - acc: 0.5124",
                "stream": "stdout"
              },
              {
                "output_type": "stream",
                "metadata": {
                  "tags": []
                },
                "text": "\b\b\b\b\b\b\b\b\b\b\b\b\b\b\b\b\b\b\b\b\b\b\b\b\b\b\b\b\b\b\b\b\b\b\b\b\b\b\b\b\b\b\b\b\b\b\b\b\b\b\b\b\b\b\b\b\b\b\b\b\b\b\b\b\b\b\b\b\b\b\b\b\b\b\b\b\b\b\b\b\b\r147/500 [=======>......................] - ETA: 1s - loss: 478.5949 - acc: 0.5107",
                "stream": "stdout"
              },
              {
                "output_type": "stream",
                "metadata": {
                  "tags": []
                },
                "text": "\b\b\b\b\b\b\b\b\b\b\b\b\b\b\b\b\b\b\b\b\b\b\b\b\b\b\b\b\b\b\b\b\b\b\b\b\b\b\b\b\b\b\b\b\b\b\b\b\b\b\b\b\b\b\b\b\b\b\b\b\b\b\b\b\b\b\b\b\b\b\b\b\b\b\b\b\b\b\b\b\b\r162/500 [========>.....................] - ETA: 1s - loss: 478.5874 - acc: 0.5121",
                "stream": "stdout"
              },
              {
                "output_type": "stream",
                "metadata": {
                  "tags": []
                },
                "text": "\b\b\b\b\b\b\b\b\b\b\b\b\b\b\b\b\b\b\b\b\b\b\b\b\b\b\b\b\b\b\b\b\b\b\b\b\b\b\b\b\b\b\b\b\b\b\b\b\b\b\b\b\b\b\b\b\b\b\b\b\b\b\b\b\b\b\b\b\b\b\b\b\b\b\b\b\b\b\b\b\b\r176/500 [=========>....................] - ETA: 1s - loss: 478.5804 - acc: 0.5108",
                "stream": "stdout"
              },
              {
                "output_type": "stream",
                "metadata": {
                  "tags": []
                },
                "text": "\b\b\b\b\b\b\b\b\b\b\b\b\b\b\b\b\b\b\b\b\b\b\b\b\b\b\b\b\b\b\b\b\b\b\b\b\b\b\b\b\b\b\b\b\b\b\b\b\b\b\b\b\b\b\b\b\b\b\b\b\b\b\b\b\b\b\b\b\b\b\b\b\b\b\b\b\b\b\b\b\b\r191/500 [==========>...................] - ETA: 1s - loss: 478.5729 - acc: 0.5121",
                "stream": "stdout"
              },
              {
                "output_type": "stream",
                "metadata": {
                  "tags": []
                },
                "text": "\b\b\b\b\b\b\b\b\b\b\b\b\b\b\b\b\b\b\b\b\b\b\b\b\b\b\b\b\b\b\b\b\b\b\b\b\b\b\b\b\b\b\b\b\b\b\b\b\b\b\b\b\b\b\b\b\b\b\b\b\b\b\b\b\b\b\b\b\b\b\b\b\b\b\b\b\b\b\b\b\b\r205/500 [===========>..................] - ETA: 1s - loss: 478.5660 - acc: 0.5110",
                "stream": "stdout"
              },
              {
                "output_type": "stream",
                "metadata": {
                  "tags": []
                },
                "text": "\b\b\b\b\b\b\b\b\b\b\b\b\b\b\b\b\b\b\b\b\b\b\b\b\b\b\b\b\b\b\b\b\b\b\b\b\b\b\b\b\b\b\b\b\b\b\b\b\b\b\b\b\b\b\b\b\b\b\b\b\b\b\b\b\b\b\b\b\b\b\b\b\b\b\b\b\b\b\b\b\b\r220/500 [============>.................] - ETA: 0s - loss: 478.5585 - acc: 0.5076",
                "stream": "stdout"
              },
              {
                "output_type": "stream",
                "metadata": {
                  "tags": []
                },
                "text": "\b\b\b\b\b\b\b\b\b\b\b\b\b\b\b\b\b\b\b\b\b\b\b\b\b\b\b\b\b\b\b\b\b\b\b\b\b\b\b\b\b\b\b\b\b\b\b\b\b\b\b\b\b\b\b\b\b\b\b\b\b\b\b\b\b\b\b\b\b\b\b\b\b\b\b\b\b\b\b\b\b\r233/500 [============>.................] - ETA: 0s - loss: 478.5521 - acc: 0.5089",
                "stream": "stdout"
              },
              {
                "output_type": "stream",
                "metadata": {
                  "tags": []
                },
                "text": "\b\b\b\b\b\b\b\b\b\b\b\b\b\b\b\b\b\b\b\b\b\b\b\b\b\b\b\b\b\b\b\b\b\b\b\b\b\b\b\b\b\b\b\b\b\b\b\b\b\b\b\b\b\b\b\b\b\b\b\b\b\b\b\b\b\b\b\b\b\b\b\b\b\b\b\b\b\b\b\b\b\r246/500 [=============>................] - ETA: 0s - loss: 478.5456 - acc: 0.5062",
                "stream": "stdout"
              },
              {
                "output_type": "stream",
                "metadata": {
                  "tags": []
                },
                "text": "\b\b\b\b\b\b\b\b\b\b\b\b\b\b\b\b\b\b\b\b\b\b\b\b\b\b\b\b\b\b\b\b\b\b\b\b\b\b\b\b\b\b\b\b\b\b\b\b\b\b\b\b\b\b\b\b\b\b\b\b\b\b\b\b\b\b\b\b\b\b\b\b\b\b\b\b\b\b\b\b\b\r261/500 [==============>...............] - ETA: 0s - loss: 478.5381 - acc: 0.5074",
                "stream": "stdout"
              },
              {
                "output_type": "stream",
                "metadata": {
                  "tags": []
                },
                "text": "\b\b\b\b\b\b\b\b\b\b\b\b\b\b\b\b\b\b\b\b\b\b\b\b\b\b\b\b\b\b\b\b\b\b\b\b\b\b\b\b\b\b\b\b\b\b\b\b\b\b\b\b\b\b\b\b\b\b\b\b\b\b\b\b\b\b\b\b\b\b\b\b\b\b\b\b\b\b\b\b\b\r273/500 [===============>..............] - ETA: 0s - loss: 478.5322 - acc: 0.5213",
                "stream": "stdout"
              },
              {
                "output_type": "stream",
                "metadata": {
                  "tags": []
                },
                "text": "\b\b\b\b\b\b\b\b\b\b\b\b\b\b\b\b\b\b\b\b\b\b\b\b\b\b\b\b\b\b\b\b\b\b\b\b\b\b\b\b\b\b\b\b\b\b\b\b\b\b\b\b\b\b\b\b\b\b\b\b\b\b\b\b\b\b\b\b\b\b\b\b\b\b\b\b\b\b\b\b\b\r288/500 [================>.............] - ETA: 0s - loss: 478.5247 - acc: 0.5456",
                "stream": "stdout"
              },
              {
                "output_type": "stream",
                "metadata": {
                  "tags": []
                },
                "text": "\b\b\b\b\b\b\b\b\b\b\b\b\b\b\b\b\b\b\b\b\b\b\b\b\b\b\b\b\b\b\b\b\b\b\b\b\b\b\b\b\b\b\b\b\b\b\b\b\b\b\b\b\b\b\b\b\b\b\b\b\b\b\b\b\b\b\b\b\b\b\b\b\b\b\b\b\b\b\b\b\b\r303/500 [=================>............] - ETA: 0s - loss: 478.5173 - acc: 0.5674",
                "stream": "stdout"
              },
              {
                "output_type": "stream",
                "metadata": {
                  "tags": []
                },
                "text": "\b\b\b\b\b\b\b\b\b\b\b\b\b\b\b\b\b\b\b\b\b\b\b\b\b\b\b\b\b\b\b\b\b\b\b\b\b\b\b\b\b\b\b\b\b\b\b\b\b\b\b\b\b\b\b\b\b\b\b\b\b\b\b\b\b\b\b\b\b\b\b\b\b\b\b\b\b\b\b\b\b\r316/500 [=================>............] - ETA: 0s - loss: 478.5109 - acc: 0.5847",
                "stream": "stdout"
              },
              {
                "output_type": "stream",
                "metadata": {
                  "tags": []
                },
                "text": "\b\b\b\b\b\b\b\b\b\b\b\b\b\b\b\b\b\b\b\b\b\b\b\b\b\b\b\b\b\b\b\b\b\b\b\b\b\b\b\b\b\b\b\b\b\b\b\b\b\b\b\b\b\b\b\b\b\b\b\b\b\b\b\b\b\b\b\b\b\b\b\b\b\b\b\b\b\b\b\b\b\r331/500 [==================>...........] - ETA: 0s - loss: 478.5034 - acc: 0.6030",
                "stream": "stdout"
              },
              {
                "output_type": "stream",
                "metadata": {
                  "tags": []
                },
                "text": "\b\b\b\b\b\b\b\b\b\b\b\b\b\b\b\b\b\b\b\b\b\b\b\b\b\b\b\b\b\b\b\b\b\b\b\b\b\b\b\b\b\b\b\b\b\b\b\b\b\b\b\b\b\b\b\b\b\b\b\b\b\b\b\b\b\b\b\b\b\b\b\b\b\b\b\b\b\b\b\b\b\r346/500 [===================>..........] - ETA: 0s - loss: 478.4961 - acc: 0.6198",
                "stream": "stdout"
              },
              {
                "output_type": "stream",
                "metadata": {
                  "tags": []
                },
                "text": "\b\b\b\b\b\b\b\b\b\b\b\b\b\b\b\b\b\b\b\b\b\b\b\b\b\b\b\b\b\b\b\b\b\b\b\b\b\b\b\b\b\b\b\b\b\b\b\b\b\b\b\b\b\b\b\b\b\b\b\b\b\b\b\b\b\b\b\b\b\b\b\b\b\b\b\b\b\b\b\b\b\r362/500 [====================>.........] - ETA: 0s - loss: 478.4882 - acc: 0.6360",
                "stream": "stdout"
              },
              {
                "output_type": "stream",
                "metadata": {
                  "tags": []
                },
                "text": "\b\b\b\b\b\b\b\b\b\b\b\b\b\b\b\b\b\b\b\b\b\b\b\b\b\b\b\b\b\b\b\b\b\b\b\b\b\b\b\b\b\b\b\b\b\b\b\b\b\b\b\b\b\b\b\b\b\b\b\b\b\b\b\b\b\b\b\b\b\b\b\b\b\b\b\b\b\b\b\b\b\r378/500 [=====================>........] - ETA: 0s - loss: 478.4803 - acc: 0.6507",
                "stream": "stdout"
              },
              {
                "output_type": "stream",
                "metadata": {
                  "tags": []
                },
                "text": "\b\b\b\b\b\b\b\b\b\b\b\b\b\b\b\b\b\b\b\b\b\b\b\b\b\b\b\b\b\b\b\b\b\b\b\b\b\b\b\b\b\b\b\b\b\b\b\b\b\b\b\b\b\b\b\b\b\b\b\b\b\b\b\b\b\b\b\b\b\b\b\b\b\b\b\b\b\b\b\b\b\r393/500 [======================>.......] - ETA: 0s - loss: 478.4728 - acc: 0.6634",
                "stream": "stdout"
              },
              {
                "output_type": "stream",
                "metadata": {
                  "tags": []
                },
                "text": "\b\b\b\b\b\b\b\b\b\b\b\b\b\b\b\b\b\b\b\b\b\b\b\b\b\b\b\b\b\b\b\b\b\b\b\b\b\b\b\b\b\b\b\b\b\b\b\b\b\b\b\b\b\b\b\b\b\b\b\b\b\b\b\b\b\b\b\b\b\b\b\b\b\b\b\b\b\b\b\b\b\r408/500 [=======================>......] - ETA: 0s - loss: 478.4655 - acc: 0.6753",
                "stream": "stdout"
              },
              {
                "output_type": "stream",
                "metadata": {
                  "tags": []
                },
                "text": "\b\b\b\b\b\b\b\b\b\b\b\b\b\b\b\b\b\b\b\b\b\b\b\b\b\b\b\b\b\b\b\b\b\b\b\b\b\b\b\b\b\b\b\b\b\b\b\b\b\b\b\b\b\b\b\b\b\b\b\b\b\b\b\b\b\b\b\b\b\b\b\b\b\b\b\b\b\b\b\b\b\r421/500 [========================>.....] - ETA: 0s - loss: 478.4591 - acc: 0.6734",
                "stream": "stdout"
              },
              {
                "output_type": "stream",
                "metadata": {
                  "tags": []
                },
                "text": "\b\b\b\b\b\b\b\b\b\b\b\b\b\b\b\b\b\b\b\b\b\b\b\b\b\b\b\b\b\b\b\b\b\b\b\b\b\b\b\b\b\b\b\b\b\b\b\b\b\b\b\b\b\b\b\b\b\b\b\b\b\b\b\b\b\b\b\b\b\b\b\b\b\b\b\b\b\b\b\b\b\r435/500 [=========================>....] - ETA: 0s - loss: 478.4521 - acc: 0.6676",
                "stream": "stdout"
              },
              {
                "output_type": "stream",
                "metadata": {
                  "tags": []
                },
                "text": "\b\b\b\b\b\b\b\b\b\b\b\b\b\b\b\b\b\b\b\b\b\b\b\b\b\b\b\b\b\b\b\b\b\b\b\b\b\b\b\b\b\b\b\b\b\b\b\b\b\b\b\b\b\b\b\b\b\b\b\b\b\b\b\b\b\b\b\b\b\b\b\b\b\b\b\b\b\b\b\b\b\r448/500 [=========================>....] - ETA: 0s - loss: 478.4458 - acc: 0.6615",
                "stream": "stdout"
              },
              {
                "output_type": "stream",
                "metadata": {
                  "tags": []
                },
                "text": "\b\b\b\b\b\b\b\b\b\b\b\b\b\b\b\b\b\b\b\b\b\b\b\b\b\b\b\b\b\b\b\b\b\b\b\b\b\b\b\b\b\b\b\b\b\b\b\b\b\b\b\b\b\b\b\b\b\b\b\b\b\b\b\b\b\b\b\b\b\b\b\b\b\b\b\b\b\b\b\b\b\r462/500 [==========================>...] - ETA: 0s - loss: 478.4389 - acc: 0.6586",
                "stream": "stdout"
              },
              {
                "output_type": "stream",
                "metadata": {
                  "tags": []
                },
                "text": "\b\b\b\b\b\b\b\b\b\b\b\b\b\b\b\b\b\b\b\b\b\b\b\b\b\b\b\b\b\b\b\b\b\b\b\b\b\b\b\b\b\b\b\b\b\b\b\b\b\b\b\b\b\b\b\b\b\b\b\b\b\b\b\b\b\b\b\b\b\b\b\b\b\b\b\b\b\b\b\b\b\r477/500 [===========================>..] - ETA: 0s - loss: 478.4315 - acc: 0.6565",
                "stream": "stdout"
              },
              {
                "output_type": "stream",
                "metadata": {
                  "tags": []
                },
                "text": "\b\b\b\b\b\b\b\b\b\b\b\b\b\b\b\b\b\b\b\b\b\b\b\b\b\b\b\b\b\b\b\b\b\b\b\b\b\b\b\b\b\b\b\b\b\b\b\b\b\b\b\b\b\b\b\b\b\b\b\b\b\b\b\b\b\b\b\b\b\b\b\b\b\b\b\b\b\b\b\b\b\r490/500 [============================>.] - ETA: 0s - loss: 478.4254 - acc: 0.6650",
                "stream": "stdout"
              },
              {
                "output_type": "stream",
                "metadata": {
                  "tags": []
                },
                "text": "\b\b\b\b\b\b\b\b\b\b\b\b\b\b\b\b\b\b\b\b\b\b\b\b\b\b\b\b\b\b\b\b\b\b\b\b\b\b\b\b\b\b\b\b\b\b\b\b\b\b\b\b\b\b\b\b\b\b\b\b\b\b\b\b\b\b\b\b\b\b\b\b\b\b\b\b\b\b\b\b\b\r500/500 [==============================] - 2s 4ms/step - loss: 478.4204 - acc: 0.6713 - val_loss: 478.1795 - val_acc: 0.9873\n",
                "stream": "stdout"
              },
              {
                "output_type": "stream",
                "metadata": {
                  "tags": []
                },
                "text": "Epoch 13/20\n\r  1/500 [..............................] - ETA: 0s - loss: 478.1791 - acc: 0.9900",
                "stream": "stdout"
              },
              {
                "output_type": "stream",
                "metadata": {
                  "tags": []
                },
                "text": "\b\b\b\b\b\b\b\b\b\b\b\b\b\b\b\b\b\b\b\b\b\b\b\b\b\b\b\b\b\b\b\b\b\b\b\b\b\b\b\b\b\b\b\b\b\b\b\b\b\b\b\b\b\b\b\b\b\b\b\b\b\b\b\b\b\b\b\b\b\b\b\b\b\b\b\b\b\b\b\b\b\r 14/500 [..............................] - ETA: 1s - loss: 478.1719 - acc: 0.9921",
                "stream": "stdout"
              },
              {
                "output_type": "stream",
                "metadata": {
                  "tags": []
                },
                "text": "\b\b\b\b\b\b\b\b\b\b\b\b\b\b\b\b\b\b\b\b\b\b\b\b\b\b\b\b\b\b\b\b\b\b\b\b\b\b\b\b\b\b\b\b\b\b\b\b\b\b\b\b\b\b\b\b\b\b\b\b\b\b\b\b\b\b\b\b\b\b\b\b\b\b\b\b\b\b\b\b\b\r 28/500 [>.............................] - ETA: 1s - loss: 478.1642 - acc: 0.9893",
                "stream": "stdout"
              },
              {
                "output_type": "stream",
                "metadata": {
                  "tags": []
                },
                "text": "\b\b\b\b\b\b\b\b\b\b\b\b\b\b\b\b\b\b\b\b\b\b\b\b\b\b\b\b\b\b\b\b\b\b\b\b\b\b\b\b\b\b\b\b\b\b\b\b\b\b\b\b\b\b\b\b\b\b\b\b\b\b\b\b\b\b\b\b\b\b\b\b\b\b\b\b\b\b\b\b\b\r 42/500 [=>............................] - ETA: 1s - loss: 478.1567 - acc: 0.9895",
                "stream": "stdout"
              },
              {
                "output_type": "stream",
                "metadata": {
                  "tags": []
                },
                "text": "\b\b\b\b\b\b\b\b\b\b\b\b\b\b\b\b\b\b\b\b\b\b\b\b\b\b\b\b\b\b\b\b\b\b\b\b\b\b\b\b\b\b\b\b\b\b\b\b\b\b\b\b\b\b\b\b\b\b\b\b\b\b\b\b\b\b\b\b\b\b\b\b\b\b\b\b\b\b\b\b\b\r 57/500 [==>...........................] - ETA: 1s - loss: 478.1488 - acc: 0.9879",
                "stream": "stdout"
              },
              {
                "output_type": "stream",
                "metadata": {
                  "tags": []
                },
                "text": "\b\b\b\b\b\b\b\b\b\b\b\b\b\b\b\b\b\b\b\b\b\b\b\b\b\b\b\b\b\b\b\b\b\b\b\b\b\b\b\b\b\b\b\b\b\b\b\b\b\b\b\b\b\b\b\b\b\b\b\b\b\b\b\b\b\b\b\b\b\b\b\b\b\b\b\b\b\b\b\b\b\r 72/500 [===>..........................] - ETA: 1s - loss: 478.1411 - acc: 0.9869",
                "stream": "stdout"
              },
              {
                "output_type": "stream",
                "metadata": {
                  "tags": []
                },
                "text": "\b\b\b\b\b\b\b\b\b\b\b\b\b\b\b\b\b\b\b\b\b\b\b\b\b\b\b\b\b\b\b\b\b\b\b\b\b\b\b\b\b\b\b\b\b\b\b\b\b\b\b\b\b\b\b\b\b\b\b\b\b\b\b\b\b\b\b\b\b\b\b\b\b\b\b\b\b\b\b\b\b\r 87/500 [====>.........................] - ETA: 1s - loss: 478.1338 - acc: 0.9864",
                "stream": "stdout"
              },
              {
                "output_type": "stream",
                "metadata": {
                  "tags": []
                },
                "text": "\b\b\b\b\b\b\b\b\b\b\b\b\b\b\b\b\b\b\b\b\b\b\b\b\b\b\b\b\b\b\b\b\b\b\b\b\b\b\b\b\b\b\b\b\b\b\b\b\b\b\b\b\b\b\b\b\b\b\b\b\b\b\b\b\b\b\b\b\b\b\b\b\b\b\b\b\b\b\b\b\b\r101/500 [=====>........................] - ETA: 1s - loss: 478.1271 - acc: 0.9859",
                "stream": "stdout"
              },
              {
                "output_type": "stream",
                "metadata": {
                  "tags": []
                },
                "text": "\b\b\b\b\b\b\b\b\b\b\b\b\b\b\b\b\b\b\b\b\b\b\b\b\b\b\b\b\b\b\b\b\b\b\b\b\b\b\b\b\b\b\b\b\b\b\b\b\b\b\b\b\b\b\b\b\b\b\b\b\b\b\b\b\b\b\b\b\b\b\b\b\b\b\b\b\b\b\b\b\b\r115/500 [=====>........................] - ETA: 1s - loss: 478.1202 - acc: 0.9862",
                "stream": "stdout"
              },
              {
                "output_type": "stream",
                "metadata": {
                  "tags": []
                },
                "text": "\b\b\b\b\b\b\b\b\b\b\b\b\b\b\b\b\b\b\b\b\b\b\b\b\b\b\b\b\b\b\b\b\b\b\b\b\b\b\b\b\b\b\b\b\b\b\b\b\b\b\b\b\b\b\b\b\b\b\b\b\b\b\b\b\b\b\b\b\b\b\b\b\b\b\b\b\b\b\b\b\b\r130/500 [======>.......................] - ETA: 1s - loss: 478.1128 - acc: 0.9785",
                "stream": "stdout"
              },
              {
                "output_type": "stream",
                "metadata": {
                  "tags": []
                },
                "text": "\b\b\b\b\b\b\b\b\b\b\b\b\b\b\b\b\b\b\b\b\b\b\b\b\b\b\b\b\b\b\b\b\b\b\b\b\b\b\b\b\b\b\b\b\b\b\b\b\b\b\b\b\b\b\b\b\b\b\b\b\b\b\b\b\b\b\b\b\b\b\b\b\b\b\b\b\b\b\b\b\b\r145/500 [=======>......................] - ETA: 1s - loss: 478.1054 - acc: 0.9788",
                "stream": "stdout"
              },
              {
                "output_type": "stream",
                "metadata": {
                  "tags": []
                },
                "text": "\b\b\b\b\b\b\b\b\b\b\b\b\b\b\b\b\b\b\b\b\b\b\b\b\b\b\b\b\b\b\b\b\b\b\b\b\b\b\b\b\b\b\b\b\b\b\b\b\b\b\b\b\b\b\b\b\b\b\b\b\b\b\b\b\b\b\b\b\b\b\b\b\b\b\b\b\b\b\b\b\b\r159/500 [========>.....................] - ETA: 1s - loss: 478.1010 - acc: 0.9669",
                "stream": "stdout"
              },
              {
                "output_type": "stream",
                "metadata": {
                  "tags": []
                },
                "text": "\b\b\b\b\b\b\b\b\b\b\b\b\b\b\b\b\b\b\b\b\b\b\b\b\b\b\b\b\b\b\b\b\b\b\b\b\b\b\b\b\b\b\b\b\b\b\b\b\b\b\b\b\b\b\b\b\b\b\b\b\b\b\b\b\b\b\b\b\b\b\b\b\b\b\b\b\b\b\b\b\b\r173/500 [=========>....................] - ETA: 1s - loss: 478.1253 - acc: 0.9558",
                "stream": "stdout"
              },
              {
                "output_type": "stream",
                "metadata": {
                  "tags": []
                },
                "text": "\b\b\b\b\b\b\b\b\b\b\b\b\b\b\b\b\b\b\b\b\b\b\b\b\b\b\b\b\b\b\b\b\b\b\b\b\b\b\b\b\b\b\b\b\b\b\b\b\b\b\b\b\b\b\b\b\b\b\b\b\b\b\b\b\b\b\b\b\b\b\b\b\b\b\b\b\b\b\b\b\b\r187/500 [==========>...................] - ETA: 1s - loss: 478.1447 - acc: 0.9515",
                "stream": "stdout"
              },
              {
                "output_type": "stream",
                "metadata": {
                  "tags": []
                },
                "text": "\b\b\b\b\b\b\b\b\b\b\b\b\b\b\b\b\b\b\b\b\b\b\b\b\b\b\b\b\b\b\b\b\b\b\b\b\b\b\b\b\b\b\b\b\b\b\b\b\b\b\b\b\b\b\b\b\b\b\b\b\b\b\b\b\b\b\b\b\b\b\b\b\b\b\b\b\b\b\b\b\b\r202/500 [===========>..................] - ETA: 1s - loss: 478.1614 - acc: 0.9487",
                "stream": "stdout"
              },
              {
                "output_type": "stream",
                "metadata": {
                  "tags": []
                },
                "text": "\b\b\b\b\b\b\b\b\b\b\b\b\b\b\b\b\b\b\b\b\b\b\b\b\b\b\b\b\b\b\b\b\b\b\b\b\b\b\b\b\b\b\b\b\b\b\b\b\b\b\b\b\b\b\b\b\b\b\b\b\b\b\b\b\b\b\b\b\b\b\b\b\b\b\b\b\b\b\b\b\b\r216/500 [===========>..................] - ETA: 1s - loss: 478.1738 - acc: 0.9455",
                "stream": "stdout"
              },
              {
                "output_type": "stream",
                "metadata": {
                  "tags": []
                },
                "text": "\b\b\b\b\b\b\b\b\b\b\b\b\b\b\b\b\b\b\b\b\b\b\b\b\b\b\b\b\b\b\b\b\b\b\b\b\b\b\b\b\b\b\b\b\b\b\b\b\b\b\b\b\b\b\b\b\b\b\b\b\b\b\b\b\b\b\b\b\b\b\b\b\b\b\b\b\b\b\b\b\b\r230/500 [============>.................] - ETA: 0s - loss: 478.1837 - acc: 0.9473",
                "stream": "stdout"
              },
              {
                "output_type": "stream",
                "metadata": {
                  "tags": []
                },
                "text": "\b\b\b\b\b\b\b\b\b\b\b\b\b\b\b\b\b\b\b\b\b\b\b\b\b\b\b\b\b\b\b\b\b\b\b\b\b\b\b\b\b\b\b\b\b\b\b\b\b\b\b\b\b\b\b\b\b\b\b\b\b\b\b\b\b\b\b\b\b\b\b\b\b\b\b\b\b\b\b\b\b\r244/500 [=============>................] - ETA: 0s - loss: 478.1915 - acc: 0.9492",
                "stream": "stdout"
              },
              {
                "output_type": "stream",
                "metadata": {
                  "tags": []
                },
                "text": "\b\b\b\b\b\b\b\b\b\b\b\b\b\b\b\b\b\b\b\b\b\b\b\b\b\b\b\b\b\b\b\b\b\b\b\b\b\b\b\b\b\b\b\b\b\b\b\b\b\b\b\b\b\b\b\b\b\b\b\b\b\b\b\b\b\b\b\b\b\b\b\b\b\b\b\b\b\b\b\b\b\r259/500 [==============>...............] - ETA: 0s - loss: 478.1981 - acc: 0.9509",
                "stream": "stdout"
              },
              {
                "output_type": "stream",
                "metadata": {
                  "tags": []
                },
                "text": "\b\b\b\b\b\b\b\b\b\b\b\b\b\b\b\b\b\b\b\b\b\b\b\b\b\b\b\b\b\b\b\b\b\b\b\b\b\b\b\b\b\b\b\b\b\b\b\b\b\b\b\b\b\b\b\b\b\b\b\b\b\b\b\b\b\b\b\b\b\b\b\b\b\b\b\b\b\b\b\b\b\r271/500 [===============>..............] - ETA: 0s - loss: 478.2021 - acc: 0.9521",
                "stream": "stdout"
              },
              {
                "output_type": "stream",
                "metadata": {
                  "tags": []
                },
                "text": "\b\b\b\b\b\b\b\b\b\b\b\b\b\b\b\b\b\b\b\b\b\b\b\b\b\b\b\b\b\b\b\b\b\b\b\b\b\b\b\b\b\b\b\b\b\b\b\b\b\b\b\b\b\b\b\b\b\b\b\b\b\b\b\b\b\b\b\b\b\b\b\b\b\b\b\b\b\b\b\b\b\r285/500 [================>.............] - ETA: 0s - loss: 478.2057 - acc: 0.9496",
                "stream": "stdout"
              },
              {
                "output_type": "stream",
                "metadata": {
                  "tags": []
                },
                "text": "\b\b\b\b\b\b\b\b\b\b\b\b\b\b\b\b\b\b\b\b\b\b\b\b\b\b\b\b\b\b\b\b\b\b\b\b\b\b\b\b\b\b\b\b\b\b\b\b\b\b\b\b\b\b\b\b\b\b\b\b\b\b\b\b\b\b\b\b\b\b\b\b\b\b\b\b\b\b\b\b\b\r298/500 [================>.............] - ETA: 0s - loss: 478.2080 - acc: 0.9510",
                "stream": "stdout"
              },
              {
                "output_type": "stream",
                "metadata": {
                  "tags": []
                },
                "text": "\b\b\b\b\b\b\b\b\b\b\b\b\b\b\b\b\b\b\b\b\b\b\b\b\b\b\b\b\b\b\b\b\b\b\b\b\b\b\b\b\b\b\b\b\b\b\b\b\b\b\b\b\b\b\b\b\b\b\b\b\b\b\b\b\b\b\b\b\b\b\b\b\b\b\b\b\b\b\b\b\b\r313/500 [=================>............] - ETA: 0s - loss: 478.2097 - acc: 0.9492",
                "stream": "stdout"
              },
              {
                "output_type": "stream",
                "metadata": {
                  "tags": []
                },
                "text": "\b\b\b\b\b\b\b\b\b\b\b\b\b\b\b\b\b\b\b\b\b\b\b\b\b\b\b\b\b\b\b\b\b\b\b\b\b\b\b\b\b\b\b\b\b\b\b\b\b\b\b\b\b\b\b\b\b\b\b\b\b\b\b\b\b\b\b\b\b\b\b\b\b\b\b\b\b\b\b\b\b\r327/500 [==================>...........] - ETA: 0s - loss: 478.2104 - acc: 0.9507",
                "stream": "stdout"
              },
              {
                "output_type": "stream",
                "metadata": {
                  "tags": []
                },
                "text": "\b\b\b\b\b\b\b\b\b\b\b\b\b\b\b\b\b\b\b\b\b\b\b\b\b\b\b\b\b\b\b\b\b\b\b\b\b\b\b\b\b\b\b\b\b\b\b\b\b\b\b\b\b\b\b\b\b\b\b\b\b\b\b\b\b\b\b\b\b\b\b\b\b\b\b\b\b\b\b\b\b\r341/500 [===================>..........] - ETA: 0s - loss: 478.2105 - acc: 0.9517",
                "stream": "stdout"
              },
              {
                "output_type": "stream",
                "metadata": {
                  "tags": []
                },
                "text": "\b\b\b\b\b\b\b\b\b\b\b\b\b\b\b\b\b\b\b\b\b\b\b\b\b\b\b\b\b\b\b\b\b\b\b\b\b\b\b\b\b\b\b\b\b\b\b\b\b\b\b\b\b\b\b\b\b\b\b\b\b\b\b\b\b\b\b\b\b\b\b\b\b\b\b\b\b\b\b\b\b\r355/500 [====================>.........] - ETA: 0s - loss: 478.2100 - acc: 0.9525",
                "stream": "stdout"
              },
              {
                "output_type": "stream",
                "metadata": {
                  "tags": []
                },
                "text": "\b\b\b\b\b\b\b\b\b\b\b\b\b\b\b\b\b\b\b\b\b\b\b\b\b\b\b\b\b\b\b\b\b\b\b\b\b\b\b\b\b\b\b\b\b\b\b\b\b\b\b\b\b\b\b\b\b\b\b\b\b\b\b\b\b\b\b\b\b\b\b\b\b\b\b\b\b\b\b\b\b\r369/500 [=====================>........] - ETA: 0s - loss: 478.2088 - acc: 0.9535",
                "stream": "stdout"
              },
              {
                "output_type": "stream",
                "metadata": {
                  "tags": []
                },
                "text": "\b\b\b\b\b\b\b\b\b\b\b\b\b\b\b\b\b\b\b\b\b\b\b\b\b\b\b\b\b\b\b\b\b\b\b\b\b\b\b\b\b\b\b\b\b\b\b\b\b\b\b\b\b\b\b\b\b\b\b\b\b\b\b\b\b\b\b\b\b\b\b\b\b\b\b\b\b\b\b\b\b\r382/500 [=====================>........] - ETA: 0s - loss: 478.2073 - acc: 0.9540",
                "stream": "stdout"
              },
              {
                "output_type": "stream",
                "metadata": {
                  "tags": []
                },
                "text": "\b\b\b\b\b\b\b\b\b\b\b\b\b\b\b\b\b\b\b\b\b\b\b\b\b\b\b\b\b\b\b\b\b\b\b\b\b\b\b\b\b\b\b\b\b\b\b\b\b\b\b\b\b\b\b\b\b\b\b\b\b\b\b\b\b\b\b\b\b\b\b\b\b\b\b\b\b\b\b\b\b\r392/500 [======================>.......] - ETA: 0s - loss: 478.2059 - acc: 0.9545",
                "stream": "stdout"
              },
              {
                "output_type": "stream",
                "metadata": {
                  "tags": []
                },
                "text": "\b\b\b\b\b\b\b\b\b\b\b\b\b\b\b\b\b\b\b\b\b\b\b\b\b\b\b\b\b\b\b\b\b\b\b\b\b\b\b\b\b\b\b\b\b\b\b\b\b\b\b\b\b\b\b\b\b\b\b\b\b\b\b\b\b\b\b\b\b\b\b\b\b\b\b\b\b\b\b\b\b\r405/500 [=======================>......] - ETA: 0s - loss: 478.2038 - acc: 0.9553",
                "stream": "stdout"
              },
              {
                "output_type": "stream",
                "metadata": {
                  "tags": []
                },
                "text": "\b\b\b\b\b\b\b\b\b\b\b\b\b\b\b\b\b\b\b\b\b\b\b\b\b\b\b\b\b\b\b\b\b\b\b\b\b\b\b\b\b\b\b\b\b\b\b\b\b\b\b\b\b\b\b\b\b\b\b\b\b\b\b\b\b\b\b\b\b\b\b\b\b\b\b\b\b\b\b\b\b\r418/500 [========================>.....] - ETA: 0s - loss: 478.2013 - acc: 0.9557",
                "stream": "stdout"
              },
              {
                "output_type": "stream",
                "metadata": {
                  "tags": []
                },
                "text": "\b\b\b\b\b\b\b\b\b\b\b\b\b\b\b\b\b\b\b\b\b\b\b\b\b\b\b\b\b\b\b\b\b\b\b\b\b\b\b\b\b\b\b\b\b\b\b\b\b\b\b\b\b\b\b\b\b\b\b\b\b\b\b\b\b\b\b\b\b\b\b\b\b\b\b\b\b\b\b\b\b\r432/500 [========================>.....] - ETA: 0s - loss: 478.1983 - acc: 0.9562",
                "stream": "stdout"
              },
              {
                "output_type": "stream",
                "metadata": {
                  "tags": []
                },
                "text": "\b\b\b\b\b\b\b\b\b\b\b\b\b\b\b\b\b\b\b\b\b\b\b\b\b\b\b\b\b\b\b\b\b\b\b\b\b\b\b\b\b\b\b\b\b\b\b\b\b\b\b\b\b\b\b\b\b\b\b\b\b\b\b\b\b\b\b\b\b\b\b\b\b\b\b\b\b\b\b\b\b\r446/500 [=========================>....] - ETA: 0s - loss: 478.1951 - acc: 0.9569",
                "stream": "stdout"
              },
              {
                "output_type": "stream",
                "metadata": {
                  "tags": []
                },
                "text": "\b\b\b\b\b\b\b\b\b\b\b\b\b\b\b\b\b\b\b\b\b\b\b\b\b\b\b\b\b\b\b\b\b\b\b\b\b\b\b\b\b\b\b\b\b\b\b\b\b\b\b\b\b\b\b\b\b\b\b\b\b\b\b\b\b\b\b\b\b\b\b\b\b\b\b\b\b\b\b\b\b\r460/500 [==========================>...] - ETA: 0s - loss: 478.1916 - acc: 0.9574",
                "stream": "stdout"
              },
              {
                "output_type": "stream",
                "metadata": {
                  "tags": []
                },
                "text": "\b\b\b\b\b\b\b\b\b\b\b\b\b\b\b\b\b\b\b\b\b\b\b\b\b\b\b\b\b\b\b\b\b\b\b\b\b\b\b\b\b\b\b\b\b\b\b\b\b\b\b\b\b\b\b\b\b\b\b\b\b\b\b\b\b\b\b\b\b\b\b\b\b\b\b\b\b\b\b\b\b\r474/500 [===========================>..] - ETA: 0s - loss: 478.1877 - acc: 0.9580",
                "stream": "stdout"
              },
              {
                "output_type": "stream",
                "metadata": {
                  "tags": []
                },
                "text": "\b\b\b\b\b\b\b\b\b\b\b\b\b\b\b\b\b\b\b\b\b\b\b\b\b\b\b\b\b\b\b\b\b\b\b\b\b\b\b\b\b\b\b\b\b\b\b\b\b\b\b\b\b\b\b\b\b\b\b\b\b\b\b\b\b\b\b\b\b\b\b\b\b\b\b\b\b\b\b\b\b\r487/500 [============================>.] - ETA: 0s - loss: 478.1839 - acc: 0.9583",
                "stream": "stdout"
              },
              {
                "output_type": "stream",
                "metadata": {
                  "tags": []
                },
                "text": "\b\b\b\b\b\b\b\b\b\b\b\b\b\b\b\b\b\b\b\b\b\b\b\b\b\b\b\b\b\b\b\b\b\b\b\b\b\b\b\b\b\b\b\b\b\b\b\b\b\b\b\b\b\b\b\b\b\b\b\b\b\b\b\b\b\b\b\b\b\b\b\b\b\b\b\b\b\b\b\b\b\r500/500 [==============================] - ETA: 0s - loss: 478.1800 - acc: 0.9586",
                "stream": "stdout"
              },
              {
                "output_type": "stream",
                "metadata": {
                  "tags": []
                },
                "text": "\b\b\b\b\b\b\b\b\b\b\b\b\b\b\b\b\b\b\b\b\b\b\b\b\b\b\b\b\b\b\b\b\b\b\b\b\b\b\b\b\b\b\b\b\b\b\b\b\b\b\b\b\b\b\b\b\b\b\b\b\b\b\b\b\b\b\b\b\b\b\b\b\b\b\b\b\b\b\b\b\b\r500/500 [==============================] - 2s 4ms/step - loss: 478.1800 - acc: 0.9586 - val_loss: 478.0250 - val_acc: 0.9852\n",
                "stream": "stdout"
              },
              {
                "output_type": "stream",
                "metadata": {
                  "tags": []
                },
                "text": "Epoch 14/20\n\r  1/500 [..............................] - ETA: 0s - loss: 478.0250 - acc: 0.9900",
                "stream": "stdout"
              },
              {
                "output_type": "stream",
                "metadata": {
                  "tags": []
                },
                "text": "\b\b\b\b\b\b\b\b\b\b\b\b\b\b\b\b\b\b\b\b\b\b\b\b\b\b\b\b\b\b\b\b\b\b\b\b\b\b\b\b\b\b\b\b\b\b\b\b\b\b\b\b\b\b\b\b\b\b\b\b\b\b\b\b\b\b\b\b\b\b\b\b\b\b\b\b\b\b\b\b\b\r 16/500 [..............................] - ETA: 1s - loss: 478.0165 - acc: 0.9731",
                "stream": "stdout"
              },
              {
                "output_type": "stream",
                "metadata": {
                  "tags": []
                },
                "text": "\b\b\b\b\b\b\b\b\b\b\b\b\b\b\b\b\b\b\b\b\b\b\b\b\b\b\b\b\b\b\b\b\b\b\b\b\b\b\b\b\b\b\b\b\b\b\b\b\b\b\b\b\b\b\b\b\b\b\b\b\b\b\b\b\b\b\b\b\b\b\b\b\b\b\b\b\b\b\b\b\b\r 31/500 [>.............................] - ETA: 1s - loss: 478.0081 - acc: 0.9748",
                "stream": "stdout"
              },
              {
                "output_type": "stream",
                "metadata": {
                  "tags": []
                },
                "text": "\b\b\b\b\b\b\b\b\b\b\b\b\b\b\b\b\b\b\b\b\b\b\b\b\b\b\b\b\b\b\b\b\b\b\b\b\b\b\b\b\b\b\b\b\b\b\b\b\b\b\b\b\b\b\b\b\b\b\b\b\b\b\b\b\b\b\b\b\b\b\b\b\b\b\b\b\b\b\b\b\b\r 45/500 [=>............................] - ETA: 1s - loss: 478.0003 - acc: 0.9744",
                "stream": "stdout"
              },
              {
                "output_type": "stream",
                "metadata": {
                  "tags": []
                },
                "text": "\b\b\b\b\b\b\b\b\b\b\b\b\b\b\b\b\b\b\b\b\b\b\b\b\b\b\b\b\b\b\b\b\b\b\b\b\b\b\b\b\b\b\b\b\b\b\b\b\b\b\b\b\b\b\b\b\b\b\b\b\b\b\b\b\b\b\b\b\b\b\b\b\b\b\b\b\b\b\b\b\b\r 60/500 [==>...........................] - ETA: 1s - loss: 477.9919 - acc: 0.9735",
                "stream": "stdout"
              },
              {
                "output_type": "stream",
                "metadata": {
                  "tags": []
                },
                "text": "\b\b\b\b\b\b\b\b\b\b\b\b\b\b\b\b\b\b\b\b\b\b\b\b\b\b\b\b\b\b\b\b\b\b\b\b\b\b\b\b\b\b\b\b\b\b\b\b\b\b\b\b\b\b\b\b\b\b\b\b\b\b\b\b\b\b\b\b\b\b\b\b\b\b\b\b\b\b\b\b\b\r 74/500 [===>..........................] - ETA: 1s - loss: 477.9841 - acc: 0.9716",
                "stream": "stdout"
              },
              {
                "output_type": "stream",
                "metadata": {
                  "tags": []
                },
                "text": "\b\b\b\b\b\b\b\b\b\b\b\b\b\b\b\b\b\b\b\b\b\b\b\b\b\b\b\b\b\b\b\b\b\b\b\b\b\b\b\b\b\b\b\b\b\b\b\b\b\b\b\b\b\b\b\b\b\b\b\b\b\b\b\b\b\b\b\b\b\b\b\b\b\b\b\b\b\b\b\b\b\r 89/500 [====>.........................] - ETA: 1s - loss: 477.9757 - acc: 0.9608",
                "stream": "stdout"
              },
              {
                "output_type": "stream",
                "metadata": {
                  "tags": []
                },
                "text": "\b\b\b\b\b\b\b\b\b\b\b\b\b\b\b\b\b\b\b\b\b\b\b\b\b\b\b\b\b\b\b\b\b\b\b\b\b\b\b\b\b\b\b\b\b\b\b\b\b\b\b\b\b\b\b\b\b\b\b\b\b\b\b\b\b\b\b\b\b\b\b\b\b\b\b\b\b\b\b\b\b\r104/500 [=====>........................] - ETA: 1s - loss: 477.9673 - acc: 0.9623",
                "stream": "stdout"
              },
              {
                "output_type": "stream",
                "metadata": {
                  "tags": []
                },
                "text": "\b\b\b\b\b\b\b\b\b\b\b\b\b\b\b\b\b\b\b\b\b\b\b\b\b\b\b\b\b\b\b\b\b\b\b\b\b\b\b\b\b\b\b\b\b\b\b\b\b\b\b\b\b\b\b\b\b\b\b\b\b\b\b\b\b\b\b\b\b\b\b\b\b\b\b\b\b\b\b\b\b\r118/500 [======>.......................] - ETA: 1s - loss: 477.9596 - acc: 0.9633",
                "stream": "stdout"
              },
              {
                "output_type": "stream",
                "metadata": {
                  "tags": []
                },
                "text": "\b\b\b\b\b\b\b\b\b\b\b\b\b\b\b\b\b\b\b\b\b\b\b\b\b\b\b\b\b\b\b\b\b\b\b\b\b\b\b\b\b\b\b\b\b\b\b\b\b\b\b\b\b\b\b\b\b\b\b\b\b\b\b\b\b\b\b\b\b\b\b\b\b\b\b\b\b\b\b\b\b\r131/500 [======>.......................] - ETA: 1s - loss: 477.9523 - acc: 0.9645",
                "stream": "stdout"
              },
              {
                "output_type": "stream",
                "metadata": {
                  "tags": []
                },
                "text": "\b\b\b\b\b\b\b\b\b\b\b\b\b\b\b\b\b\b\b\b\b\b\b\b\b\b\b\b\b\b\b\b\b\b\b\b\b\b\b\b\b\b\b\b\b\b\b\b\b\b\b\b\b\b\b\b\b\b\b\b\b\b\b\b\b\b\b\b\b\b\b\b\b\b\b\b\b\b\b\b\b\r146/500 [=======>......................] - ETA: 1s - loss: 477.9440 - acc: 0.9653",
                "stream": "stdout"
              },
              {
                "output_type": "stream",
                "metadata": {
                  "tags": []
                },
                "text": "\b\b\b\b\b\b\b\b\b\b\b\b\b\b\b\b\b\b\b\b\b\b\b\b\b\b\b\b\b\b\b\b\b\b\b\b\b\b\b\b\b\b\b\b\b\b\b\b\b\b\b\b\b\b\b\b\b\b\b\b\b\b\b\b\b\b\b\b\b\b\b\b\b\b\b\b\b\b\b\b\b\r160/500 [========>.....................] - ETA: 1s - loss: 477.9362 - acc: 0.9659",
                "stream": "stdout"
              },
              {
                "output_type": "stream",
                "metadata": {
                  "tags": []
                },
                "text": "\b\b\b\b\b\b\b\b\b\b\b\b\b\b\b\b\b\b\b\b\b\b\b\b\b\b\b\b\b\b\b\b\b\b\b\b\b\b\b\b\b\b\b\b\b\b\b\b\b\b\b\b\b\b\b\b\b\b\b\b\b\b\b\b\b\b\b\b\b\b\b\b\b\b\b\b\b\b\b\b\b\r175/500 [=========>....................] - ETA: 1s - loss: 477.9278 - acc: 0.9669",
                "stream": "stdout"
              },
              {
                "output_type": "stream",
                "metadata": {
                  "tags": []
                },
                "text": "\b\b\b\b\b\b\b\b\b\b\b\b\b\b\b\b\b\b\b\b\b\b\b\b\b\b\b\b\b\b\b\b\b\b\b\b\b\b\b\b\b\b\b\b\b\b\b\b\b\b\b\b\b\b\b\b\b\b\b\b\b\b\b\b\b\b\b\b\b\b\b\b\b\b\b\b\b\b\b\b\b\r189/500 [==========>...................] - ETA: 1s - loss: 477.9200 - acc: 0.9674",
                "stream": "stdout"
              },
              {
                "output_type": "stream",
                "metadata": {
                  "tags": []
                },
                "text": "\b\b\b\b\b\b\b\b\b\b\b\b\b\b\b\b\b\b\b\b\b\b\b\b\b\b\b\b\b\b\b\b\b\b\b\b\b\b\b\b\b\b\b\b\b\b\b\b\b\b\b\b\b\b\b\b\b\b\b\b\b\b\b\b\b\b\b\b\b\b\b\b\b\b\b\b\b\b\b\b\b\r202/500 [===========>..................] - ETA: 1s - loss: 477.9128 - acc: 0.9676",
                "stream": "stdout"
              },
              {
                "output_type": "stream",
                "metadata": {
                  "tags": []
                },
                "text": "\b\b\b\b\b\b\b\b\b\b\b\b\b\b\b\b\b\b\b\b\b\b\b\b\b\b\b\b\b\b\b\b\b\b\b\b\b\b\b\b\b\b\b\b\b\b\b\b\b\b\b\b\b\b\b\b\b\b\b\b\b\b\b\b\b\b\b\b\b\b\b\b\b\b\b\b\b\b\b\b\b\r216/500 [===========>..................] - ETA: 1s - loss: 477.9051 - acc: 0.9686",
                "stream": "stdout"
              },
              {
                "output_type": "stream",
                "metadata": {
                  "tags": []
                },
                "text": "\b\b\b\b\b\b\b\b\b\b\b\b\b\b\b\b\b\b\b\b\b\b\b\b\b\b\b\b\b\b\b\b\b\b\b\b\b\b\b\b\b\b\b\b\b\b\b\b\b\b\b\b\b\b\b\b\b\b\b\b\b\b\b\b\b\b\b\b\b\b\b\b\b\b\b\b\b\b\b\b\b\r231/500 [============>.................] - ETA: 0s - loss: 477.8967 - acc: 0.9693",
                "stream": "stdout"
              },
              {
                "output_type": "stream",
                "metadata": {
                  "tags": []
                },
                "text": "\b\b\b\b\b\b\b\b\b\b\b\b\b\b\b\b\b\b\b\b\b\b\b\b\b\b\b\b\b\b\b\b\b\b\b\b\b\b\b\b\b\b\b\b\b\b\b\b\b\b\b\b\b\b\b\b\b\b\b\b\b\b\b\b\b\b\b\b\b\b\b\b\b\b\b\b\b\b\b\b\b\r244/500 [=============>................] - ETA: 0s - loss: 477.8895 - acc: 0.9699",
                "stream": "stdout"
              },
              {
                "output_type": "stream",
                "metadata": {
                  "tags": []
                },
                "text": "\b\b\b\b\b\b\b\b\b\b\b\b\b\b\b\b\b\b\b\b\b\b\b\b\b\b\b\b\b\b\b\b\b\b\b\b\b\b\b\b\b\b\b\b\b\b\b\b\b\b\b\b\b\b\b\b\b\b\b\b\b\b\b\b\b\b\b\b\b\b\b\b\b\b\b\b\b\b\b\b\b\r256/500 [==============>...............] - ETA: 0s - loss: 477.8828 - acc: 0.9699",
                "stream": "stdout"
              },
              {
                "output_type": "stream",
                "metadata": {
                  "tags": []
                },
                "text": "\b\b\b\b\b\b\b\b\b\b\b\b\b\b\b\b\b\b\b\b\b\b\b\b\b\b\b\b\b\b\b\b\b\b\b\b\b\b\b\b\b\b\b\b\b\b\b\b\b\b\b\b\b\b\b\b\b\b\b\b\b\b\b\b\b\b\b\b\b\b\b\b\b\b\b\b\b\b\b\b\b\r270/500 [===============>..............] - ETA: 0s - loss: 477.8750 - acc: 0.9701",
                "stream": "stdout"
              },
              {
                "output_type": "stream",
                "metadata": {
                  "tags": []
                },
                "text": "\b\b\b\b\b\b\b\b\b\b\b\b\b\b\b\b\b\b\b\b\b\b\b\b\b\b\b\b\b\b\b\b\b\b\b\b\b\b\b\b\b\b\b\b\b\b\b\b\b\b\b\b\b\b\b\b\b\b\b\b\b\b\b\b\b\b\b\b\b\b\b\b\b\b\b\b\b\b\b\b\b\r284/500 [================>.............] - ETA: 0s - loss: 477.8672 - acc: 0.9710",
                "stream": "stdout"
              },
              {
                "output_type": "stream",
                "metadata": {
                  "tags": []
                },
                "text": "\b\b\b\b\b\b\b\b\b\b\b\b\b\b\b\b\b\b\b\b\b\b\b\b\b\b\b\b\b\b\b\b\b\b\b\b\b\b\b\b\b\b\b\b\b\b\b\b\b\b\b\b\b\b\b\b\b\b\b\b\b\b\b\b\b\b\b\b\b\b\b\b\b\b\b\b\b\b\b\b\b\r298/500 [================>.............] - ETA: 0s - loss: 477.8595 - acc: 0.9711",
                "stream": "stdout"
              },
              {
                "output_type": "stream",
                "metadata": {
                  "tags": []
                },
                "text": "\b\b\b\b\b\b\b\b\b\b\b\b\b\b\b\b\b\b\b\b\b\b\b\b\b\b\b\b\b\b\b\b\b\b\b\b\b\b\b\b\b\b\b\b\b\b\b\b\b\b\b\b\b\b\b\b\b\b\b\b\b\b\b\b\b\b\b\b\b\b\b\b\b\b\b\b\b\b\b\b\b\r312/500 [=================>............] - ETA: 0s - loss: 477.8517 - acc: 0.9713",
                "stream": "stdout"
              },
              {
                "output_type": "stream",
                "metadata": {
                  "tags": []
                },
                "text": "\b\b\b\b\b\b\b\b\b\b\b\b\b\b\b\b\b\b\b\b\b\b\b\b\b\b\b\b\b\b\b\b\b\b\b\b\b\b\b\b\b\b\b\b\b\b\b\b\b\b\b\b\b\b\b\b\b\b\b\b\b\b\b\b\b\b\b\b\b\b\b\b\b\b\b\b\b\b\b\b\b\r326/500 [==================>...........] - ETA: 0s - loss: 477.8439 - acc: 0.9717",
                "stream": "stdout"
              },
              {
                "output_type": "stream",
                "metadata": {
                  "tags": []
                },
                "text": "\b\b\b\b\b\b\b\b\b\b\b\b\b\b\b\b\b\b\b\b\b\b\b\b\b\b\b\b\b\b\b\b\b\b\b\b\b\b\b\b\b\b\b\b\b\b\b\b\b\b\b\b\b\b\b\b\b\b\b\b\b\b\b\b\b\b\b\b\b\b\b\b\b\b\b\b\b\b\b\b\b\r341/500 [===================>..........] - ETA: 0s - loss: 477.8356 - acc: 0.9717",
                "stream": "stdout"
              },
              {
                "output_type": "stream",
                "metadata": {
                  "tags": []
                },
                "text": "\b\b\b\b\b\b\b\b\b\b\b\b\b\b\b\b\b\b\b\b\b\b\b\b\b\b\b\b\b\b\b\b\b\b\b\b\b\b\b\b\b\b\b\b\b\b\b\b\b\b\b\b\b\b\b\b\b\b\b\b\b\b\b\b\b\b\b\b\b\b\b\b\b\b\b\b\b\b\b\b\b\r355/500 [====================>.........] - ETA: 0s - loss: 477.8279 - acc: 0.9583",
                "stream": "stdout"
              },
              {
                "output_type": "stream",
                "metadata": {
                  "tags": []
                },
                "text": "\b\b\b\b\b\b\b\b\b\b\b\b\b\b\b\b\b\b\b\b\b\b\b\b\b\b\b\b\b\b\b\b\b\b\b\b\b\b\b\b\b\b\b\b\b\b\b\b\b\b\b\b\b\b\b\b\b\b\b\b\b\b\b\b\b\b\b\b\b\b\b\b\b\b\b\b\b\b\b\b\b\r369/500 [=====================>........] - ETA: 0s - loss: 477.8200 - acc: 0.9432",
                "stream": "stdout"
              },
              {
                "output_type": "stream",
                "metadata": {
                  "tags": []
                },
                "text": "\b\b\b\b\b\b\b\b\b\b\b\b\b\b\b\b\b\b\b\b\b\b\b\b\b\b\b\b\b\b\b\b\b\b\b\b\b\b\b\b\b\b\b\b\b\b\b\b\b\b\b\b\b\b\b\b\b\b\b\b\b\b\b\b\b\b\b\b\b\b\b\b\b\b\b\b\b\b\b\b\b\r383/500 [=====================>........] - ETA: 0s - loss: 477.8122 - acc: 0.9269",
                "stream": "stdout"
              },
              {
                "output_type": "stream",
                "metadata": {
                  "tags": []
                },
                "text": "\b\b\b\b\b\b\b\b\b\b\b\b\b\b\b\b\b\b\b\b\b\b\b\b\b\b\b\b\b\b\b\b\b\b\b\b\b\b\b\b\b\b\b\b\b\b\b\b\b\b\b\b\b\b\b\b\b\b\b\b\b\b\b\b\b\b\b\b\b\b\b\b\b\b\b\b\b\b\b\b\b\r398/500 [======================>.......] - ETA: 0s - loss: 477.8038 - acc: 0.9117",
                "stream": "stdout"
              },
              {
                "output_type": "stream",
                "metadata": {
                  "tags": []
                },
                "text": "\b\b\b\b\b\b\b\b\b\b\b\b\b\b\b\b\b\b\b\b\b\b\b\b\b\b\b\b\b\b\b\b\b\b\b\b\b\b\b\b\b\b\b\b\b\b\b\b\b\b\b\b\b\b\b\b\b\b\b\b\b\b\b\b\b\b\b\b\b\b\b\b\b\b\b\b\b\b\b\b\b\r413/500 [=======================>......] - ETA: 0s - loss: 477.7955 - acc: 0.8974",
                "stream": "stdout"
              },
              {
                "output_type": "stream",
                "metadata": {
                  "tags": []
                },
                "text": "\b\b\b\b\b\b\b\b\b\b\b\b\b\b\b\b\b\b\b\b\b\b\b\b\b\b\b\b\b\b\b\b\b\b\b\b\b\b\b\b\b\b\b\b\b\b\b\b\b\b\b\b\b\b\b\b\b\b\b\b\b\b\b\b\b\b\b\b\b\b\b\b\b\b\b\b\b\b\b\b\b\r428/500 [========================>.....] - ETA: 0s - loss: 477.7872 - acc: 0.8820",
                "stream": "stdout"
              },
              {
                "output_type": "stream",
                "metadata": {
                  "tags": []
                },
                "text": "\b\b\b\b\b\b\b\b\b\b\b\b\b\b\b\b\b\b\b\b\b\b\b\b\b\b\b\b\b\b\b\b\b\b\b\b\b\b\b\b\b\b\b\b\b\b\b\b\b\b\b\b\b\b\b\b\b\b\b\b\b\b\b\b\b\b\b\b\b\b\b\b\b\b\b\b\b\b\b\b\b\r443/500 [=========================>....] - ETA: 0s - loss: 477.7789 - acc: 0.8700",
                "stream": "stdout"
              },
              {
                "output_type": "stream",
                "metadata": {
                  "tags": []
                },
                "text": "\b\b\b\b\b\b\b\b\b\b\b\b\b\b\b\b\b\b\b\b\b\b\b\b\b\b\b\b\b\b\b\b\b\b\b\b\b\b\b\b\b\b\b\b\b\b\b\b\b\b\b\b\b\b\b\b\b\b\b\b\b\b\b\b\b\b\b\b\b\b\b\b\b\b\b\b\b\b\b\b\b\r459/500 [==========================>...] - ETA: 0s - loss: 477.7700 - acc: 0.8569",
                "stream": "stdout"
              },
              {
                "output_type": "stream",
                "metadata": {
                  "tags": []
                },
                "text": "\b\b\b\b\b\b\b\b\b\b\b\b\b\b\b\b\b\b\b\b\b\b\b\b\b\b\b\b\b\b\b\b\b\b\b\b\b\b\b\b\b\b\b\b\b\b\b\b\b\b\b\b\b\b\b\b\b\b\b\b\b\b\b\b\b\b\b\b\b\b\b\b\b\b\b\b\b\b\b\b\b\r475/500 [===========================>..] - ETA: 0s - loss: 477.7611 - acc: 0.8445",
                "stream": "stdout"
              },
              {
                "output_type": "stream",
                "metadata": {
                  "tags": []
                },
                "text": "\b\b\b\b\b\b\b\b\b\b\b\b\b\b\b\b\b\b\b\b\b\b\b\b\b\b\b\b\b\b\b\b\b\b\b\b\b\b\b\b\b\b\b\b\b\b\b\b\b\b\b\b\b\b\b\b\b\b\b\b\b\b\b\b\b\b\b\b\b\b\b\b\b\b\b\b\b\b\b\b\b\r490/500 [============================>.] - ETA: 0s - loss: 477.7528 - acc: 0.8327",
                "stream": "stdout"
              },
              {
                "output_type": "stream",
                "metadata": {
                  "tags": []
                },
                "text": "\b\b\b\b\b\b\b\b\b\b\b\b\b\b\b\b\b\b\b\b\b\b\b\b\b\b\b\b\b\b\b\b\b\b\b\b\b\b\b\b\b\b\b\b\b\b\b\b\b\b\b\b\b\b\b\b\b\b\b\b\b\b\b\b\b\b\b\b\b\b\b\b\b\b\b\b\b\b\b\b\b\r500/500 [==============================] - 2s 4ms/step - loss: 477.7473 - acc: 0.8278 - val_loss: 477.4698 - val_acc: 0.0077\n",
                "stream": "stdout"
              },
              {
                "output_type": "stream",
                "metadata": {
                  "tags": []
                },
                "text": "Epoch 15/20\n\r  1/500 [..............................] - ETA: 0s - loss: 477.4695 - acc: 0.0300",
                "stream": "stdout"
              },
              {
                "output_type": "stream",
                "metadata": {
                  "tags": []
                },
                "text": "\b\b\b\b\b\b\b\b\b\b\b\b\b\b\b\b\b\b\b\b\b\b\b\b\b\b\b\b\b\b\b\b\b\b\b\b\b\b\b\b\b\b\b\b\b\b\b\b\b\b\b\b\b\b\b\b\b\b\b\b\b\b\b\b\b\b\b\b\b\b\b\b\b\b\b\b\b\b\b\b\b\r 16/500 [..............................] - ETA: 1s - loss: 477.4613 - acc: 0.4881",
                "stream": "stdout"
              },
              {
                "output_type": "stream",
                "metadata": {
                  "tags": []
                },
                "text": "\b\b\b\b\b\b\b\b\b\b\b\b\b\b\b\b\b\b\b\b\b\b\b\b\b\b\b\b\b\b\b\b\b\b\b\b\b\b\b\b\b\b\b\b\b\b\b\b\b\b\b\b\b\b\b\b\b\b\b\b\b\b\b\b\b\b\b\b\b\b\b\b\b\b\b\b\b\b\b\b\b\r 32/500 [>.............................] - ETA: 1s - loss: 477.4524 - acc: 0.4913",
                "stream": "stdout"
              },
              {
                "output_type": "stream",
                "metadata": {
                  "tags": []
                },
                "text": "\b\b\b\b\b\b\b\b\b\b\b\b\b\b\b\b\b\b\b\b\b\b\b\b\b\b\b\b\b\b\b\b\b\b\b\b\b\b\b\b\b\b\b\b\b\b\b\b\b\b\b\b\b\b\b\b\b\b\b\b\b\b\b\b\b\b\b\b\b\b\b\b\b\b\b\b\b\b\b\b\b\r 47/500 [=>............................] - ETA: 1s - loss: 477.4442 - acc: 0.5021",
                "stream": "stdout"
              },
              {
                "output_type": "stream",
                "metadata": {
                  "tags": []
                },
                "text": "\b\b\b\b\b\b\b\b\b\b\b\b\b\b\b\b\b\b\b\b\b\b\b\b\b\b\b\b\b\b\b\b\b\b\b\b\b\b\b\b\b\b\b\b\b\b\b\b\b\b\b\b\b\b\b\b\b\b\b\b\b\b\b\b\b\b\b\b\b\b\b\b\b\b\b\b\b\b\b\b\b\r 62/500 [==>...........................] - ETA: 1s - loss: 477.4359 - acc: 0.4919",
                "stream": "stdout"
              },
              {
                "output_type": "stream",
                "metadata": {
                  "tags": []
                },
                "text": "\b\b\b\b\b\b\b\b\b\b\b\b\b\b\b\b\b\b\b\b\b\b\b\b\b\b\b\b\b\b\b\b\b\b\b\b\b\b\b\b\b\b\b\b\b\b\b\b\b\b\b\b\b\b\b\b\b\b\b\b\b\b\b\b\b\b\b\b\b\b\b\b\b\b\b\b\b\b\b\b\b\r 77/500 [===>..........................] - ETA: 1s - loss: 477.4276 - acc: 0.4984",
                "stream": "stdout"
              },
              {
                "output_type": "stream",
                "metadata": {
                  "tags": []
                },
                "text": "\b\b\b\b\b\b\b\b\b\b\b\b\b\b\b\b\b\b\b\b\b\b\b\b\b\b\b\b\b\b\b\b\b\b\b\b\b\b\b\b\b\b\b\b\b\b\b\b\b\b\b\b\b\b\b\b\b\b\b\b\b\b\b\b\b\b\b\b\b\b\b\b\b\b\b\b\b\b\b\b\b\r 92/500 [====>.........................] - ETA: 1s - loss: 477.4194 - acc: 0.4922",
                "stream": "stdout"
              },
              {
                "output_type": "stream",
                "metadata": {
                  "tags": []
                },
                "text": "\b\b\b\b\b\b\b\b\b\b\b\b\b\b\b\b\b\b\b\b\b\b\b\b\b\b\b\b\b\b\b\b\b\b\b\b\b\b\b\b\b\b\b\b\b\b\b\b\b\b\b\b\b\b\b\b\b\b\b\b\b\b\b\b\b\b\b\b\b\b\b\b\b\b\b\b\b\b\b\b\b\r106/500 [=====>........................] - ETA: 1s - loss: 477.4117 - acc: 0.4924",
                "stream": "stdout"
              },
              {
                "output_type": "stream",
                "metadata": {
                  "tags": []
                },
                "text": "\b\b\b\b\b\b\b\b\b\b\b\b\b\b\b\b\b\b\b\b\b\b\b\b\b\b\b\b\b\b\b\b\b\b\b\b\b\b\b\b\b\b\b\b\b\b\b\b\b\b\b\b\b\b\b\b\b\b\b\b\b\b\b\b\b\b\b\b\b\b\b\b\b\b\b\b\b\b\b\b\b\r122/500 [======>.......................] - ETA: 1s - loss: 477.4029 - acc: 0.5004",
                "stream": "stdout"
              },
              {
                "output_type": "stream",
                "metadata": {
                  "tags": []
                },
                "text": "\b\b\b\b\b\b\b\b\b\b\b\b\b\b\b\b\b\b\b\b\b\b\b\b\b\b\b\b\b\b\b\b\b\b\b\b\b\b\b\b\b\b\b\b\b\b\b\b\b\b\b\b\b\b\b\b\b\b\b\b\b\b\b\b\b\b\b\b\b\b\b\b\b\b\b\b\b\b\b\b\b\r137/500 [=======>......................] - ETA: 1s - loss: 477.3946 - acc: 0.5027",
                "stream": "stdout"
              },
              {
                "output_type": "stream",
                "metadata": {
                  "tags": []
                },
                "text": "\b\b\b\b\b\b\b\b\b\b\b\b\b\b\b\b\b\b\b\b\b\b\b\b\b\b\b\b\b\b\b\b\b\b\b\b\b\b\b\b\b\b\b\b\b\b\b\b\b\b\b\b\b\b\b\b\b\b\b\b\b\b\b\b\b\b\b\b\b\b\b\b\b\b\b\b\b\b\b\b\b\r154/500 [========>.....................] - ETA: 1s - loss: 477.3853 - acc: 0.4988",
                "stream": "stdout"
              },
              {
                "output_type": "stream",
                "metadata": {
                  "tags": []
                },
                "text": "\b\b\b\b\b\b\b\b\b\b\b\b\b\b\b\b\b\b\b\b\b\b\b\b\b\b\b\b\b\b\b\b\b\b\b\b\b\b\b\b\b\b\b\b\b\b\b\b\b\b\b\b\b\b\b\b\b\b\b\b\b\b\b\b\b\b\b\b\b\b\b\b\b\b\b\b\b\b\b\b\b\r170/500 [=========>....................] - ETA: 1s - loss: 477.3765 - acc: 0.4986",
                "stream": "stdout"
              },
              {
                "output_type": "stream",
                "metadata": {
                  "tags": []
                },
                "text": "\b\b\b\b\b\b\b\b\b\b\b\b\b\b\b\b\b\b\b\b\b\b\b\b\b\b\b\b\b\b\b\b\b\b\b\b\b\b\b\b\b\b\b\b\b\b\b\b\b\b\b\b\b\b\b\b\b\b\b\b\b\b\b\b\b\b\b\b\b\b\b\b\b\b\b\b\b\b\b\b\b\r185/500 [==========>...................] - ETA: 1s - loss: 477.3683 - acc: 0.5009",
                "stream": "stdout"
              },
              {
                "output_type": "stream",
                "metadata": {
                  "tags": []
                },
                "text": "\b\b\b\b\b\b\b\b\b\b\b\b\b\b\b\b\b\b\b\b\b\b\b\b\b\b\b\b\b\b\b\b\b\b\b\b\b\b\b\b\b\b\b\b\b\b\b\b\b\b\b\b\b\b\b\b\b\b\b\b\b\b\b\b\b\b\b\b\b\b\b\b\b\b\b\b\b\b\b\b\b\r201/500 [===========>..................] - ETA: 0s - loss: 477.3595 - acc: 0.5005",
                "stream": "stdout"
              },
              {
                "output_type": "stream",
                "metadata": {
                  "tags": []
                },
                "text": "\b\b\b\b\b\b\b\b\b\b\b\b\b\b\b\b\b\b\b\b\b\b\b\b\b\b\b\b\b\b\b\b\b\b\b\b\b\b\b\b\b\b\b\b\b\b\b\b\b\b\b\b\b\b\b\b\b\b\b\b\b\b\b\b\b\b\b\b\b\b\b\b\b\b\b\b\b\b\b\b\b\r217/500 [============>.................] - ETA: 0s - loss: 477.3507 - acc: 0.5001",
                "stream": "stdout"
              },
              {
                "output_type": "stream",
                "metadata": {
                  "tags": []
                },
                "text": "\b\b\b\b\b\b\b\b\b\b\b\b\b\b\b\b\b\b\b\b\b\b\b\b\b\b\b\b\b\b\b\b\b\b\b\b\b\b\b\b\b\b\b\b\b\b\b\b\b\b\b\b\b\b\b\b\b\b\b\b\b\b\b\b\b\b\b\b\b\b\b\b\b\b\b\b\b\b\b\b\b\r232/500 [============>.................] - ETA: 0s - loss: 477.3425 - acc: 0.4976",
                "stream": "stdout"
              },
              {
                "output_type": "stream",
                "metadata": {
                  "tags": []
                },
                "text": "\b\b\b\b\b\b\b\b\b\b\b\b\b\b\b\b\b\b\b\b\b\b\b\b\b\b\b\b\b\b\b\b\b\b\b\b\b\b\b\b\b\b\b\b\b\b\b\b\b\b\b\b\b\b\b\b\b\b\b\b\b\b\b\b\b\b\b\b\b\b\b\b\b\b\b\b\b\b\b\b\b\r248/500 [=============>................] - ETA: 0s - loss: 477.3337 - acc: 0.4973",
                "stream": "stdout"
              },
              {
                "output_type": "stream",
                "metadata": {
                  "tags": []
                },
                "text": "\b\b\b\b\b\b\b\b\b\b\b\b\b\b\b\b\b\b\b\b\b\b\b\b\b\b\b\b\b\b\b\b\b\b\b\b\b\b\b\b\b\b\b\b\b\b\b\b\b\b\b\b\b\b\b\b\b\b\b\b\b\b\b\b\b\b\b\b\b\b\b\b\b\b\b\b\b\b\b\b\b\r263/500 [==============>...............] - ETA: 0s - loss: 477.3254 - acc: 0.4990",
                "stream": "stdout"
              },
              {
                "output_type": "stream",
                "metadata": {
                  "tags": []
                },
                "text": "\b\b\b\b\b\b\b\b\b\b\b\b\b\b\b\b\b\b\b\b\b\b\b\b\b\b\b\b\b\b\b\b\b\b\b\b\b\b\b\b\b\b\b\b\b\b\b\b\b\b\b\b\b\b\b\b\b\b\b\b\b\b\b\b\b\b\b\b\b\b\b\b\b\b\b\b\b\b\b\b\b\r276/500 [===============>..............] - ETA: 0s - loss: 477.3183 - acc: 0.4969",
                "stream": "stdout"
              },
              {
                "output_type": "stream",
                "metadata": {
                  "tags": []
                },
                "text": "\b\b\b\b\b\b\b\b\b\b\b\b\b\b\b\b\b\b\b\b\b\b\b\b\b\b\b\b\b\b\b\b\b\b\b\b\b\b\b\b\b\b\b\b\b\b\b\b\b\b\b\b\b\b\b\b\b\b\b\b\b\b\b\b\b\b\b\b\b\b\b\b\b\b\b\b\b\b\b\b\b\r292/500 [================>.............] - ETA: 0s - loss: 477.3095 - acc: 0.4968",
                "stream": "stdout"
              },
              {
                "output_type": "stream",
                "metadata": {
                  "tags": []
                },
                "text": "\b\b\b\b\b\b\b\b\b\b\b\b\b\b\b\b\b\b\b\b\b\b\b\b\b\b\b\b\b\b\b\b\b\b\b\b\b\b\b\b\b\b\b\b\b\b\b\b\b\b\b\b\b\b\b\b\b\b\b\b\b\b\b\b\b\b\b\b\b\b\b\b\b\b\b\b\b\b\b\b\b\r307/500 [=================>............] - ETA: 0s - loss: 477.3013 - acc: 0.4982",
                "stream": "stdout"
              },
              {
                "output_type": "stream",
                "metadata": {
                  "tags": []
                },
                "text": "\b\b\b\b\b\b\b\b\b\b\b\b\b\b\b\b\b\b\b\b\b\b\b\b\b\b\b\b\b\b\b\b\b\b\b\b\b\b\b\b\b\b\b\b\b\b\b\b\b\b\b\b\b\b\b\b\b\b\b\b\b\b\b\b\b\b\b\b\b\b\b\b\b\b\b\b\b\b\b\b\b\r322/500 [==================>...........] - ETA: 0s - loss: 477.2931 - acc: 0.4994",
                "stream": "stdout"
              },
              {
                "output_type": "stream",
                "metadata": {
                  "tags": []
                },
                "text": "\b\b\b\b\b\b\b\b\b\b\b\b\b\b\b\b\b\b\b\b\b\b\b\b\b\b\b\b\b\b\b\b\b\b\b\b\b\b\b\b\b\b\b\b\b\b\b\b\b\b\b\b\b\b\b\b\b\b\b\b\b\b\b\b\b\b\b\b\b\b\b\b\b\b\b\b\b\b\b\b\b\r339/500 [===================>..........] - ETA: 0s - loss: 477.2838 - acc: 0.5001",
                "stream": "stdout"
              },
              {
                "output_type": "stream",
                "metadata": {
                  "tags": []
                },
                "text": "\b\b\b\b\b\b\b\b\b\b\b\b\b\b\b\b\b\b\b\b\b\b\b\b\b\b\b\b\b\b\b\b\b\b\b\b\b\b\b\b\b\b\b\b\b\b\b\b\b\b\b\b\b\b\b\b\b\b\b\b\b\b\b\b\b\b\b\b\b\b\b\b\b\b\b\b\b\b\b\b\b\r355/500 [====================>.........] - ETA: 0s - loss: 477.2751 - acc: 0.4997",
                "stream": "stdout"
              },
              {
                "output_type": "stream",
                "metadata": {
                  "tags": []
                },
                "text": "\b\b\b\b\b\b\b\b\b\b\b\b\b\b\b\b\b\b\b\b\b\b\b\b\b\b\b\b\b\b\b\b\b\b\b\b\b\b\b\b\b\b\b\b\b\b\b\b\b\b\b\b\b\b\b\b\b\b\b\b\b\b\b\b\b\b\b\b\b\b\b\b\b\b\b\b\b\b\b\b\b\r371/500 [=====================>........] - ETA: 0s - loss: 477.2663 - acc: 0.4996",
                "stream": "stdout"
              },
              {
                "output_type": "stream",
                "metadata": {
                  "tags": []
                },
                "text": "\b\b\b\b\b\b\b\b\b\b\b\b\b\b\b\b\b\b\b\b\b\b\b\b\b\b\b\b\b\b\b\b\b\b\b\b\b\b\b\b\b\b\b\b\b\b\b\b\b\b\b\b\b\b\b\b\b\b\b\b\b\b\b\b\b\b\b\b\b\b\b\b\b\b\b\b\b\b\b\b\b\r387/500 [======================>.......] - ETA: 0s - loss: 477.2576 - acc: 0.4993",
                "stream": "stdout"
              },
              {
                "output_type": "stream",
                "metadata": {
                  "tags": []
                },
                "text": "\b\b\b\b\b\b\b\b\b\b\b\b\b\b\b\b\b\b\b\b\b\b\b\b\b\b\b\b\b\b\b\b\b\b\b\b\b\b\b\b\b\b\b\b\b\b\b\b\b\b\b\b\b\b\b\b\b\b\b\b\b\b\b\b\b\b\b\b\b\b\b\b\b\b\b\b\b\b\b\b\b\r401/500 [=======================>......] - ETA: 0s - loss: 477.2500 - acc: 0.4991",
                "stream": "stdout"
              },
              {
                "output_type": "stream",
                "metadata": {
                  "tags": []
                },
                "text": "\b\b\b\b\b\b\b\b\b\b\b\b\b\b\b\b\b\b\b\b\b\b\b\b\b\b\b\b\b\b\b\b\b\b\b\b\b\b\b\b\b\b\b\b\b\b\b\b\b\b\b\b\b\b\b\b\b\b\b\b\b\b\b\b\b\b\b\b\b\b\b\b\b\b\b\b\b\b\b\b\b\r415/500 [=======================>......] - ETA: 0s - loss: 477.2423 - acc: 0.4989",
                "stream": "stdout"
              },
              {
                "output_type": "stream",
                "metadata": {
                  "tags": []
                },
                "text": "\b\b\b\b\b\b\b\b\b\b\b\b\b\b\b\b\b\b\b\b\b\b\b\b\b\b\b\b\b\b\b\b\b\b\b\b\b\b\b\b\b\b\b\b\b\b\b\b\b\b\b\b\b\b\b\b\b\b\b\b\b\b\b\b\b\b\b\b\b\b\b\b\b\b\b\b\b\b\b\b\b\r429/500 [========================>.....] - ETA: 0s - loss: 477.2346 - acc: 0.4987",
                "stream": "stdout"
              },
              {
                "output_type": "stream",
                "metadata": {
                  "tags": []
                },
                "text": "\b\b\b\b\b\b\b\b\b\b\b\b\b\b\b\b\b\b\b\b\b\b\b\b\b\b\b\b\b\b\b\b\b\b\b\b\b\b\b\b\b\b\b\b\b\b\b\b\b\b\b\b\b\b\b\b\b\b\b\b\b\b\b\b\b\b\b\b\b\b\b\b\b\b\b\b\b\b\b\b\b\r446/500 [=========================>....] - ETA: 0s - loss: 477.2253 - acc: 0.4975",
                "stream": "stdout"
              },
              {
                "output_type": "stream",
                "metadata": {
                  "tags": []
                },
                "text": "\b\b\b\b\b\b\b\b\b\b\b\b\b\b\b\b\b\b\b\b\b\b\b\b\b\b\b\b\b\b\b\b\b\b\b\b\b\b\b\b\b\b\b\b\b\b\b\b\b\b\b\b\b\b\b\b\b\b\b\b\b\b\b\b\b\b\b\b\b\b\b\b\b\b\b\b\b\b\b\b\b\r463/500 [==========================>...] - ETA: 0s - loss: 477.2160 - acc: 0.4985",
                "stream": "stdout"
              },
              {
                "output_type": "stream",
                "metadata": {
                  "tags": []
                },
                "text": "\b\b\b\b\b\b\b\b\b\b\b\b\b\b\b\b\b\b\b\b\b\b\b\b\b\b\b\b\b\b\b\b\b\b\b\b\b\b\b\b\b\b\b\b\b\b\b\b\b\b\b\b\b\b\b\b\b\b\b\b\b\b\b\b\b\b\b\b\b\b\b\b\b\b\b\b\b\b\b\b\b\r478/500 [===========================>..] - ETA: 0s - loss: 477.2079 - acc: 0.4992",
                "stream": "stdout"
              },
              {
                "output_type": "stream",
                "metadata": {
                  "tags": []
                },
                "text": "\b\b\b\b\b\b\b\b\b\b\b\b\b\b\b\b\b\b\b\b\b\b\b\b\b\b\b\b\b\b\b\b\b\b\b\b\b\b\b\b\b\b\b\b\b\b\b\b\b\b\b\b\b\b\b\b\b\b\b\b\b\b\b\b\b\b\b\b\b\b\b\b\b\b\b\b\b\b\b\b\b\r492/500 [============================>.] - ETA: 0s - loss: 477.2003 - acc: 0.4987",
                "stream": "stdout"
              },
              {
                "output_type": "stream",
                "metadata": {
                  "tags": []
                },
                "text": "\b\b\b\b\b\b\b\b\b\b\b\b\b\b\b\b\b\b\b\b\b\b\b\b\b\b\b\b\b\b\b\b\b\b\b\b\b\b\b\b\b\b\b\b\b\b\b\b\b\b\b\b\b\b\b\b\b\b\b\b\b\b\b\b\b\b\b\b\b\b\b\b\b\b\b\b\b\b\b\b\b\r500/500 [==============================] - 2s 4ms/step - loss: 477.1958 - acc: 0.4985 - val_loss: 476.9221 - val_acc: 0.9877\n",
                "stream": "stdout"
              },
              {
                "output_type": "stream",
                "metadata": {
                  "tags": []
                },
                "text": "Epoch 16/20\n\r  1/500 [..............................] - ETA: 0s - loss: 476.9225 - acc: 0.9900",
                "stream": "stdout"
              },
              {
                "output_type": "stream",
                "metadata": {
                  "tags": []
                },
                "text": "\b\b\b\b\b\b\b\b\b\b\b\b\b\b\b\b\b\b\b\b\b\b\b\b\b\b\b\b\b\b\b\b\b\b\b\b\b\b\b\b\b\b\b\b\b\b\b\b\b\b\b\b\b\b\b\b\b\b\b\b\b\b\b\b\b\b\b\b\b\b\b\b\b\b\b\b\b\b\b\b\b\r 16/500 [..............................] - ETA: 1s - loss: 476.9143 - acc: 0.4913",
                "stream": "stdout"
              },
              {
                "output_type": "stream",
                "metadata": {
                  "tags": []
                },
                "text": "\b\b\b\b\b\b\b\b\b\b\b\b\b\b\b\b\b\b\b\b\b\b\b\b\b\b\b\b\b\b\b\b\b\b\b\b\b\b\b\b\b\b\b\b\b\b\b\b\b\b\b\b\b\b\b\b\b\b\b\b\b\b\b\b\b\b\b\b\b\b\b\b\b\b\b\b\b\b\b\b\b\r 31/500 [>.............................] - ETA: 1s - loss: 476.9062 - acc: 0.5074",
                "stream": "stdout"
              },
              {
                "output_type": "stream",
                "metadata": {
                  "tags": []
                },
                "text": "\b\b\b\b\b\b\b\b\b\b\b\b\b\b\b\b\b\b\b\b\b\b\b\b\b\b\b\b\b\b\b\b\b\b\b\b\b\b\b\b\b\b\b\b\b\b\b\b\b\b\b\b\b\b\b\b\b\b\b\b\b\b\b\b\b\b\b\b\b\b\b\b\b\b\b\b\b\b\b\b\b\r 46/500 [=>............................] - ETA: 1s - loss: 476.8980 - acc: 0.4924",
                "stream": "stdout"
              },
              {
                "output_type": "stream",
                "metadata": {
                  "tags": []
                },
                "text": "\b\b\b\b\b\b\b\b\b\b\b\b\b\b\b\b\b\b\b\b\b\b\b\b\b\b\b\b\b\b\b\b\b\b\b\b\b\b\b\b\b\b\b\b\b\b\b\b\b\b\b\b\b\b\b\b\b\b\b\b\b\b\b\b\b\b\b\b\b\b\b\b\b\b\b\b\b\b\b\b\b\r 62/500 [==>...........................] - ETA: 1s - loss: 476.8894 - acc: 0.4927",
                "stream": "stdout"
              },
              {
                "output_type": "stream",
                "metadata": {
                  "tags": []
                },
                "text": "\b\b\b\b\b\b\b\b\b\b\b\b\b\b\b\b\b\b\b\b\b\b\b\b\b\b\b\b\b\b\b\b\b\b\b\b\b\b\b\b\b\b\b\b\b\b\b\b\b\b\b\b\b\b\b\b\b\b\b\b\b\b\b\b\b\b\b\b\b\b\b\b\b\b\b\b\b\b\b\b\b\r 78/500 [===>..........................] - ETA: 1s - loss: 476.8807 - acc: 0.4929",
                "stream": "stdout"
              },
              {
                "output_type": "stream",
                "metadata": {
                  "tags": []
                },
                "text": "\b\b\b\b\b\b\b\b\b\b\b\b\b\b\b\b\b\b\b\b\b\b\b\b\b\b\b\b\b\b\b\b\b\b\b\b\b\b\b\b\b\b\b\b\b\b\b\b\b\b\b\b\b\b\b\b\b\b\b\b\b\b\b\b\b\b\b\b\b\b\b\b\b\b\b\b\b\b\b\b\b\r 94/500 [====>.........................] - ETA: 1s - loss: 476.8720 - acc: 0.4935",
                "stream": "stdout"
              },
              {
                "output_type": "stream",
                "metadata": {
                  "tags": []
                },
                "text": "\b\b\b\b\b\b\b\b\b\b\b\b\b\b\b\b\b\b\b\b\b\b\b\b\b\b\b\b\b\b\b\b\b\b\b\b\b\b\b\b\b\b\b\b\b\b\b\b\b\b\b\b\b\b\b\b\b\b\b\b\b\b\b\b\b\b\b\b\b\b\b\b\b\b\b\b\b\b\b\b\b\r109/500 [=====>........................] - ETA: 1s - loss: 476.8639 - acc: 0.4984",
                "stream": "stdout"
              },
              {
                "output_type": "stream",
                "metadata": {
                  "tags": []
                },
                "text": "\b\b\b\b\b\b\b\b\b\b\b\b\b\b\b\b\b\b\b\b\b\b\b\b\b\b\b\b\b\b\b\b\b\b\b\b\b\b\b\b\b\b\b\b\b\b\b\b\b\b\b\b\b\b\b\b\b\b\b\b\b\b\b\b\b\b\b\b\b\b\b\b\b\b\b\b\b\b\b\b\b\r125/500 [======>.......................] - ETA: 1s - loss: 476.8553 - acc: 0.4982",
                "stream": "stdout"
              },
              {
                "output_type": "stream",
                "metadata": {
                  "tags": []
                },
                "text": "\b\b\b\b\b\b\b\b\b\b\b\b\b\b\b\b\b\b\b\b\b\b\b\b\b\b\b\b\b\b\b\b\b\b\b\b\b\b\b\b\b\b\b\b\b\b\b\b\b\b\b\b\b\b\b\b\b\b\b\b\b\b\b\b\b\b\b\b\b\b\b\b\b\b\b\b\b\b\b\b\b\r141/500 [=======>......................] - ETA: 1s - loss: 476.8466 - acc: 0.4974",
                "stream": "stdout"
              },
              {
                "output_type": "stream",
                "metadata": {
                  "tags": []
                },
                "text": "\b\b\b\b\b\b\b\b\b\b\b\b\b\b\b\b\b\b\b\b\b\b\b\b\b\b\b\b\b\b\b\b\b\b\b\b\b\b\b\b\b\b\b\b\b\b\b\b\b\b\b\b\b\b\b\b\b\b\b\b\b\b\b\b\b\b\b\b\b\b\b\b\b\b\b\b\b\b\b\b\b\r157/500 [========>.....................] - ETA: 1s - loss: 476.8380 - acc: 0.4971",
                "stream": "stdout"
              },
              {
                "output_type": "stream",
                "metadata": {
                  "tags": []
                },
                "text": "\b\b\b\b\b\b\b\b\b\b\b\b\b\b\b\b\b\b\b\b\b\b\b\b\b\b\b\b\b\b\b\b\b\b\b\b\b\b\b\b\b\b\b\b\b\b\b\b\b\b\b\b\b\b\b\b\b\b\b\b\b\b\b\b\b\b\b\b\b\b\b\b\b\b\b\b\b\b\b\b\b\r173/500 [=========>....................] - ETA: 1s - loss: 476.8293 - acc: 0.4966",
                "stream": "stdout"
              },
              {
                "output_type": "stream",
                "metadata": {
                  "tags": []
                },
                "text": "\b\b\b\b\b\b\b\b\b\b\b\b\b\b\b\b\b\b\b\b\b\b\b\b\b\b\b\b\b\b\b\b\b\b\b\b\b\b\b\b\b\b\b\b\b\b\b\b\b\b\b\b\b\b\b\b\b\b\b\b\b\b\b\b\b\b\b\b\b\b\b\b\b\b\b\b\b\b\b\b\b\r189/500 [==========>...................] - ETA: 1s - loss: 476.8207 - acc: 0.4958",
                "stream": "stdout"
              },
              {
                "output_type": "stream",
                "metadata": {
                  "tags": []
                },
                "text": "\b\b\b\b\b\b\b\b\b\b\b\b\b\b\b\b\b\b\b\b\b\b\b\b\b\b\b\b\b\b\b\b\b\b\b\b\b\b\b\b\b\b\b\b\b\b\b\b\b\b\b\b\b\b\b\b\b\b\b\b\b\b\b\b\b\b\b\b\b\b\b\b\b\b\b\b\b\b\b\b\b\r205/500 [===========>..................] - ETA: 0s - loss: 476.8120 - acc: 0.5003",
                "stream": "stdout"
              },
              {
                "output_type": "stream",
                "metadata": {
                  "tags": []
                },
                "text": "\b\b\b\b\b\b\b\b\b\b\b\b\b\b\b\b\b\b\b\b\b\b\b\b\b\b\b\b\b\b\b\b\b\b\b\b\b\b\b\b\b\b\b\b\b\b\b\b\b\b\b\b\b\b\b\b\b\b\b\b\b\b\b\b\b\b\b\b\b\b\b\b\b\b\b\b\b\b\b\b\b\r221/500 [============>.................] - ETA: 0s - loss: 476.8034 - acc: 0.5000",
                "stream": "stdout"
              },
              {
                "output_type": "stream",
                "metadata": {
                  "tags": []
                },
                "text": "\b\b\b\b\b\b\b\b\b\b\b\b\b\b\b\b\b\b\b\b\b\b\b\b\b\b\b\b\b\b\b\b\b\b\b\b\b\b\b\b\b\b\b\b\b\b\b\b\b\b\b\b\b\b\b\b\b\b\b\b\b\b\b\b\b\b\b\b\b\b\b\b\b\b\b\b\b\b\b\b\b\r236/500 [=============>................] - ETA: 0s - loss: 476.7953 - acc: 0.4976",
                "stream": "stdout"
              },
              {
                "output_type": "stream",
                "metadata": {
                  "tags": []
                },
                "text": "\b\b\b\b\b\b\b\b\b\b\b\b\b\b\b\b\b\b\b\b\b\b\b\b\b\b\b\b\b\b\b\b\b\b\b\b\b\b\b\b\b\b\b\b\b\b\b\b\b\b\b\b\b\b\b\b\b\b\b\b\b\b\b\b\b\b\b\b\b\b\b\b\b\b\b\b\b\b\b\b\b\r252/500 [==============>...............] - ETA: 0s - loss: 476.7867 - acc: 0.4975",
                "stream": "stdout"
              },
              {
                "output_type": "stream",
                "metadata": {
                  "tags": []
                },
                "text": "\b\b\b\b\b\b\b\b\b\b\b\b\b\b\b\b\b\b\b\b\b\b\b\b\b\b\b\b\b\b\b\b\b\b\b\b\b\b\b\b\b\b\b\b\b\b\b\b\b\b\b\b\b\b\b\b\b\b\b\b\b\b\b\b\b\b\b\b\b\b\b\b\b\b\b\b\b\b\b\b\b\r268/500 [===============>..............] - ETA: 0s - loss: 476.7780 - acc: 0.4973",
                "stream": "stdout"
              },
              {
                "output_type": "stream",
                "metadata": {
                  "tags": []
                },
                "text": "\b\b\b\b\b\b\b\b\b\b\b\b\b\b\b\b\b\b\b\b\b\b\b\b\b\b\b\b\b\b\b\b\b\b\b\b\b\b\b\b\b\b\b\b\b\b\b\b\b\b\b\b\b\b\b\b\b\b\b\b\b\b\b\b\b\b\b\b\b\b\b\b\b\b\b\b\b\b\b\b\b\r283/500 [===============>..............] - ETA: 0s - loss: 476.7700 - acc: 0.4990",
                "stream": "stdout"
              },
              {
                "output_type": "stream",
                "metadata": {
                  "tags": []
                },
                "text": "\b\b\b\b\b\b\b\b\b\b\b\b\b\b\b\b\b\b\b\b\b\b\b\b\b\b\b\b\b\b\b\b\b\b\b\b\b\b\b\b\b\b\b\b\b\b\b\b\b\b\b\b\b\b\b\b\b\b\b\b\b\b\b\b\b\b\b\b\b\b\b\b\b\b\b\b\b\b\b\b\b\r298/500 [================>.............] - ETA: 0s - loss: 476.7619 - acc: 0.4971",
                "stream": "stdout"
              },
              {
                "output_type": "stream",
                "metadata": {
                  "tags": []
                },
                "text": "\b\b\b\b\b\b\b\b\b\b\b\b\b\b\b\b\b\b\b\b\b\b\b\b\b\b\b\b\b\b\b\b\b\b\b\b\b\b\b\b\b\b\b\b\b\b\b\b\b\b\b\b\b\b\b\b\b\b\b\b\b\b\b\b\b\b\b\b\b\b\b\b\b\b\b\b\b\b\b\b\b\r313/500 [=================>............] - ETA: 0s - loss: 476.7538 - acc: 0.4987",
                "stream": "stdout"
              },
              {
                "output_type": "stream",
                "metadata": {
                  "tags": []
                },
                "text": "\b\b\b\b\b\b\b\b\b\b\b\b\b\b\b\b\b\b\b\b\b\b\b\b\b\b\b\b\b\b\b\b\b\b\b\b\b\b\b\b\b\b\b\b\b\b\b\b\b\b\b\b\b\b\b\b\b\b\b\b\b\b\b\b\b\b\b\b\b\b\b\b\b\b\b\b\b\b\b\b\b\r326/500 [==================>...........] - ETA: 0s - loss: 476.7468 - acc: 0.4970",
                "stream": "stdout"
              },
              {
                "output_type": "stream",
                "metadata": {
                  "tags": []
                },
                "text": "\b\b\b\b\b\b\b\b\b\b\b\b\b\b\b\b\b\b\b\b\b\b\b\b\b\b\b\b\b\b\b\b\b\b\b\b\b\b\b\b\b\b\b\b\b\b\b\b\b\b\b\b\b\b\b\b\b\b\b\b\b\b\b\b\b\b\b\b\b\b\b\b\b\b\b\b\b\b\b\b\b\r341/500 [===================>..........] - ETA: 0s - loss: 476.7388 - acc: 0.4984",
                "stream": "stdout"
              },
              {
                "output_type": "stream",
                "metadata": {
                  "tags": []
                },
                "text": "\b\b\b\b\b\b\b\b\b\b\b\b\b\b\b\b\b\b\b\b\b\b\b\b\b\b\b\b\b\b\b\b\b\b\b\b\b\b\b\b\b\b\b\b\b\b\b\b\b\b\b\b\b\b\b\b\b\b\b\b\b\b\b\b\b\b\b\b\b\b\b\b\b\b\b\b\b\b\b\b\b\r357/500 [====================>.........] - ETA: 0s - loss: 476.7301 - acc: 0.4983",
                "stream": "stdout"
              },
              {
                "output_type": "stream",
                "metadata": {
                  "tags": []
                },
                "text": "\b\b\b\b\b\b\b\b\b\b\b\b\b\b\b\b\b\b\b\b\b\b\b\b\b\b\b\b\b\b\b\b\b\b\b\b\b\b\b\b\b\b\b\b\b\b\b\b\b\b\b\b\b\b\b\b\b\b\b\b\b\b\b\b\b\b\b\b\b\b\b\b\b\b\b\b\b\b\b\b\b\r373/500 [=====================>........] - ETA: 0s - loss: 476.7216 - acc: 0.4982",
                "stream": "stdout"
              },
              {
                "output_type": "stream",
                "metadata": {
                  "tags": []
                },
                "text": "\b\b\b\b\b\b\b\b\b\b\b\b\b\b\b\b\b\b\b\b\b\b\b\b\b\b\b\b\b\b\b\b\b\b\b\b\b\b\b\b\b\b\b\b\b\b\b\b\b\b\b\b\b\b\b\b\b\b\b\b\b\b\b\b\b\b\b\b\b\b\b\b\b\b\b\b\b\b\b\b\b\r388/500 [======================>.......] - ETA: 0s - loss: 476.7135 - acc: 0.4968",
                "stream": "stdout"
              },
              {
                "output_type": "stream",
                "metadata": {
                  "tags": []
                },
                "text": "\b\b\b\b\b\b\b\b\b\b\b\b\b\b\b\b\b\b\b\b\b\b\b\b\b\b\b\b\b\b\b\b\b\b\b\b\b\b\b\b\b\b\b\b\b\b\b\b\b\b\b\b\b\b\b\b\b\b\b\b\b\b\b\b\b\b\b\b\b\b\b\b\b\b\b\b\b\b\b\b\b\r404/500 [=======================>......] - ETA: 0s - loss: 476.7050 - acc: 0.4967",
                "stream": "stdout"
              },
              {
                "output_type": "stream",
                "metadata": {
                  "tags": []
                },
                "text": "\b\b\b\b\b\b\b\b\b\b\b\b\b\b\b\b\b\b\b\b\b\b\b\b\b\b\b\b\b\b\b\b\b\b\b\b\b\b\b\b\b\b\b\b\b\b\b\b\b\b\b\b\b\b\b\b\b\b\b\b\b\b\b\b\b\b\b\b\b\b\b\b\b\b\b\b\b\b\b\b\b\r420/500 [========================>.....] - ETA: 0s - loss: 476.6964 - acc: 0.4967",
                "stream": "stdout"
              },
              {
                "output_type": "stream",
                "metadata": {
                  "tags": []
                },
                "text": "\b\b\b\b\b\b\b\b\b\b\b\b\b\b\b\b\b\b\b\b\b\b\b\b\b\b\b\b\b\b\b\b\b\b\b\b\b\b\b\b\b\b\b\b\b\b\b\b\b\b\b\b\b\b\b\b\b\b\b\b\b\b\b\b\b\b\b\b\b\b\b\b\b\b\b\b\b\b\b\b\b\r437/500 [=========================>....] - ETA: 0s - loss: 476.6872 - acc: 0.4977",
                "stream": "stdout"
              },
              {
                "output_type": "stream",
                "metadata": {
                  "tags": []
                },
                "text": "\b\b\b\b\b\b\b\b\b\b\b\b\b\b\b\b\b\b\b\b\b\b\b\b\b\b\b\b\b\b\b\b\b\b\b\b\b\b\b\b\b\b\b\b\b\b\b\b\b\b\b\b\b\b\b\b\b\b\b\b\b\b\b\b\b\b\b\b\b\b\b\b\b\b\b\b\b\b\b\b\b\r452/500 [==========================>...] - ETA: 0s - loss: 476.6792 - acc: 0.4965",
                "stream": "stdout"
              },
              {
                "output_type": "stream",
                "metadata": {
                  "tags": []
                },
                "text": "\b\b\b\b\b\b\b\b\b\b\b\b\b\b\b\b\b\b\b\b\b\b\b\b\b\b\b\b\b\b\b\b\b\b\b\b\b\b\b\b\b\b\b\b\b\b\b\b\b\b\b\b\b\b\b\b\b\b\b\b\b\b\b\b\b\b\b\b\b\b\b\b\b\b\b\b\b\b\b\b\b\r468/500 [===========================>..] - ETA: 0s - loss: 476.6706 - acc: 0.4964",
                "stream": "stdout"
              },
              {
                "output_type": "stream",
                "metadata": {
                  "tags": []
                },
                "text": "\b\b\b\b\b\b\b\b\b\b\b\b\b\b\b\b\b\b\b\b\b\b\b\b\b\b\b\b\b\b\b\b\b\b\b\b\b\b\b\b\b\b\b\b\b\b\b\b\b\b\b\b\b\b\b\b\b\b\b\b\b\b\b\b\b\b\b\b\b\b\b\b\b\b\b\b\b\b\b\b\b\r483/500 [===========================>..] - ETA: 0s - loss: 476.6626 - acc: 0.4974",
                "stream": "stdout"
              },
              {
                "output_type": "stream",
                "metadata": {
                  "tags": []
                },
                "text": "\b\b\b\b\b\b\b\b\b\b\b\b\b\b\b\b\b\b\b\b\b\b\b\b\b\b\b\b\b\b\b\b\b\b\b\b\b\b\b\b\b\b\b\b\b\b\b\b\b\b\b\b\b\b\b\b\b\b\b\b\b\b\b\b\b\b\b\b\b\b\b\b\b\b\b\b\b\b\b\b\b\r499/500 [============================>.] - ETA: 0s - loss: 476.6540 - acc: 0.4973",
                "stream": "stdout"
              },
              {
                "output_type": "stream",
                "metadata": {
                  "tags": []
                },
                "text": "\b\b\b\b\b\b\b\b\b\b\b\b\b\b\b\b\b\b\b\b\b\b\b\b\b\b\b\b\b\b\b\b\b\b\b\b\b\b\b\b\b\b\b\b\b\b\b\b\b\b\b\b\b\b\b\b\b\b\b\b\b\b\b\b\b\b\b\b\b\b\b\b\b\b\b\b\b\b\b\b\b\r500/500 [==============================] - 2s 4ms/step - loss: 476.6535 - acc: 0.4963 - val_loss: 476.3852 - val_acc: 0.9894\n",
                "stream": "stdout"
              },
              {
                "output_type": "stream",
                "metadata": {
                  "tags": []
                },
                "text": "Epoch 17/20\n\r  1/500 [..............................] - ETA: 0s - loss: 476.3856 - acc: 1.0000",
                "stream": "stdout"
              },
              {
                "output_type": "stream",
                "metadata": {
                  "tags": []
                },
                "text": "\b\b\b\b\b\b\b\b\b\b\b\b\b\b\b\b\b\b\b\b\b\b\b\b\b\b\b\b\b\b\b\b\b\b\b\b\b\b\b\b\b\b\b\b\b\b\b\b\b\b\b\b\b\b\b\b\b\b\b\b\b\b\b\b\b\b\b\b\b\b\b\b\b\b\b\b\b\b\b\b\b\r 14/500 [..............................] - ETA: 1s - loss: 476.3787 - acc: 0.4907",
                "stream": "stdout"
              },
              {
                "output_type": "stream",
                "metadata": {
                  "tags": []
                },
                "text": "\b\b\b\b\b\b\b\b\b\b\b\b\b\b\b\b\b\b\b\b\b\b\b\b\b\b\b\b\b\b\b\b\b\b\b\b\b\b\b\b\b\b\b\b\b\b\b\b\b\b\b\b\b\b\b\b\b\b\b\b\b\b\b\b\b\b\b\b\b\b\b\b\b\b\b\b\b\b\b\b\b\r 29/500 [>.............................] - ETA: 1s - loss: 476.3708 - acc: 0.5100",
                "stream": "stdout"
              },
              {
                "output_type": "stream",
                "metadata": {
                  "tags": []
                },
                "text": "\b\b\b\b\b\b\b\b\b\b\b\b\b\b\b\b\b\b\b\b\b\b\b\b\b\b\b\b\b\b\b\b\b\b\b\b\b\b\b\b\b\b\b\b\b\b\b\b\b\b\b\b\b\b\b\b\b\b\b\b\b\b\b\b\b\b\b\b\b\b\b\b\b\b\b\b\b\b\b\b\b\r 45/500 [=>............................] - ETA: 1s - loss: 476.3623 - acc: 0.5042",
                "stream": "stdout"
              },
              {
                "output_type": "stream",
                "metadata": {
                  "tags": []
                },
                "text": "\b\b\b\b\b\b\b\b\b\b\b\b\b\b\b\b\b\b\b\b\b\b\b\b\b\b\b\b\b\b\b\b\b\b\b\b\b\b\b\b\b\b\b\b\b\b\b\b\b\b\b\b\b\b\b\b\b\b\b\b\b\b\b\b\b\b\b\b\b\b\b\b\b\b\b\b\b\b\b\b\b\r 60/500 [==>...........................] - ETA: 1s - loss: 476.3544 - acc: 0.4937",
                "stream": "stdout"
              },
              {
                "output_type": "stream",
                "metadata": {
                  "tags": []
                },
                "text": "\b\b\b\b\b\b\b\b\b\b\b\b\b\b\b\b\b\b\b\b\b\b\b\b\b\b\b\b\b\b\b\b\b\b\b\b\b\b\b\b\b\b\b\b\b\b\b\b\b\b\b\b\b\b\b\b\b\b\b\b\b\b\b\b\b\b\b\b\b\b\b\b\b\b\b\b\b\b\b\b\b\r 69/500 [===>..........................] - ETA: 1s - loss: 476.3497 - acc: 0.5010",
                "stream": "stdout"
              },
              {
                "output_type": "stream",
                "metadata": {
                  "tags": []
                },
                "text": "\b\b\b\b\b\b\b\b\b\b\b\b\b\b\b\b\b\b\b\b\b\b\b\b\b\b\b\b\b\b\b\b\b\b\b\b\b\b\b\b\b\b\b\b\b\b\b\b\b\b\b\b\b\b\b\b\b\b\b\b\b\b\b\b\b\b\b\b\b\b\b\b\b\b\b\b\b\b\b\b\b\r 84/500 [====>.........................] - ETA: 1s - loss: 476.3418 - acc: 0.4938",
                "stream": "stdout"
              },
              {
                "output_type": "stream",
                "metadata": {
                  "tags": []
                },
                "text": "\b\b\b\b\b\b\b\b\b\b\b\b\b\b\b\b\b\b\b\b\b\b\b\b\b\b\b\b\b\b\b\b\b\b\b\b\b\b\b\b\b\b\b\b\b\b\b\b\b\b\b\b\b\b\b\b\b\b\b\b\b\b\b\b\b\b\b\b\b\b\b\b\b\b\b\b\b\b\b\b\b\r100/500 [=====>........................] - ETA: 1s - loss: 476.3334 - acc: 0.4943",
                "stream": "stdout"
              },
              {
                "output_type": "stream",
                "metadata": {
                  "tags": []
                },
                "text": "\b\b\b\b\b\b\b\b\b\b\b\b\b\b\b\b\b\b\b\b\b\b\b\b\b\b\b\b\b\b\b\b\b\b\b\b\b\b\b\b\b\b\b\b\b\b\b\b\b\b\b\b\b\b\b\b\b\b\b\b\b\b\b\b\b\b\b\b\b\b\b\b\b\b\b\b\b\b\b\b\b\r116/500 [=====>........................] - ETA: 1s - loss: 476.3250 - acc: 0.4949",
                "stream": "stdout"
              },
              {
                "output_type": "stream",
                "metadata": {
                  "tags": []
                },
                "text": "\b\b\b\b\b\b\b\b\b\b\b\b\b\b\b\b\b\b\b\b\b\b\b\b\b\b\b\b\b\b\b\b\b\b\b\b\b\b\b\b\b\b\b\b\b\b\b\b\b\b\b\b\b\b\b\b\b\b\b\b\b\b\b\b\b\b\b\b\b\b\b\b\b\b\b\b\b\b\b\b\b\r132/500 [======>.......................] - ETA: 1s - loss: 476.3166 - acc: 0.4945",
                "stream": "stdout"
              },
              {
                "output_type": "stream",
                "metadata": {
                  "tags": []
                },
                "text": "\b\b\b\b\b\b\b\b\b\b\b\b\b\b\b\b\b\b\b\b\b\b\b\b\b\b\b\b\b\b\b\b\b\b\b\b\b\b\b\b\b\b\b\b\b\b\b\b\b\b\b\b\b\b\b\b\b\b\b\b\b\b\b\b\b\b\b\b\b\b\b\b\b\b\b\b\b\b\b\b\b\r148/500 [=======>......................] - ETA: 1s - loss: 476.3082 - acc: 0.4948",
                "stream": "stdout"
              },
              {
                "output_type": "stream",
                "metadata": {
                  "tags": []
                },
                "text": "\b\b\b\b\b\b\b\b\b\b\b\b\b\b\b\b\b\b\b\b\b\b\b\b\b\b\b\b\b\b\b\b\b\b\b\b\b\b\b\b\b\b\b\b\b\b\b\b\b\b\b\b\b\b\b\b\b\b\b\b\b\b\b\b\b\b\b\b\b\b\b\b\b\b\b\b\b\b\b\b\b\r164/500 [========>.....................] - ETA: 1s - loss: 476.2998 - acc: 0.4947",
                "stream": "stdout"
              },
              {
                "output_type": "stream",
                "metadata": {
                  "tags": []
                },
                "text": "\b\b\b\b\b\b\b\b\b\b\b\b\b\b\b\b\b\b\b\b\b\b\b\b\b\b\b\b\b\b\b\b\b\b\b\b\b\b\b\b\b\b\b\b\b\b\b\b\b\b\b\b\b\b\b\b\b\b\b\b\b\b\b\b\b\b\b\b\b\b\b\b\b\b\b\b\b\b\b\b\b\r181/500 [=========>....................] - ETA: 1s - loss: 476.2909 - acc: 0.4973",
                "stream": "stdout"
              },
              {
                "output_type": "stream",
                "metadata": {
                  "tags": []
                },
                "text": "\b\b\b\b\b\b\b\b\b\b\b\b\b\b\b\b\b\b\b\b\b\b\b\b\b\b\b\b\b\b\b\b\b\b\b\b\b\b\b\b\b\b\b\b\b\b\b\b\b\b\b\b\b\b\b\b\b\b\b\b\b\b\b\b\b\b\b\b\b\b\b\b\b\b\b\b\b\b\b\b\b\r197/500 [==========>...................] - ETA: 1s - loss: 476.2825 - acc: 0.4972",
                "stream": "stdout"
              },
              {
                "output_type": "stream",
                "metadata": {
                  "tags": []
                },
                "text": "\b\b\b\b\b\b\b\b\b\b\b\b\b\b\b\b\b\b\b\b\b\b\b\b\b\b\b\b\b\b\b\b\b\b\b\b\b\b\b\b\b\b\b\b\b\b\b\b\b\b\b\b\b\b\b\b\b\b\b\b\b\b\b\b\b\b\b\b\b\b\b\b\b\b\b\b\b\b\b\b\b\r213/500 [===========>..................] - ETA: 0s - loss: 476.2742 - acc: 0.4969",
                "stream": "stdout"
              },
              {
                "output_type": "stream",
                "metadata": {
                  "tags": []
                },
                "text": "\b\b\b\b\b\b\b\b\b\b\b\b\b\b\b\b\b\b\b\b\b\b\b\b\b\b\b\b\b\b\b\b\b\b\b\b\b\b\b\b\b\b\b\b\b\b\b\b\b\b\b\b\b\b\b\b\b\b\b\b\b\b\b\b\b\b\b\b\b\b\b\b\b\b\b\b\b\b\b\b\b\r228/500 [============>.................] - ETA: 0s - loss: 476.2664 - acc: 0.4946",
                "stream": "stdout"
              },
              {
                "output_type": "stream",
                "metadata": {
                  "tags": []
                },
                "text": "\b\b\b\b\b\b\b\b\b\b\b\b\b\b\b\b\b\b\b\b\b\b\b\b\b\b\b\b\b\b\b\b\b\b\b\b\b\b\b\b\b\b\b\b\b\b\b\b\b\b\b\b\b\b\b\b\b\b\b\b\b\b\b\b\b\b\b\b\b\b\b\b\b\b\b\b\b\b\b\b\b\r245/500 [=============>................] - ETA: 0s - loss: 476.2575 - acc: 0.4966",
                "stream": "stdout"
              },
              {
                "output_type": "stream",
                "metadata": {
                  "tags": []
                },
                "text": "\b\b\b\b\b\b\b\b\b\b\b\b\b\b\b\b\b\b\b\b\b\b\b\b\b\b\b\b\b\b\b\b\b\b\b\b\b\b\b\b\b\b\b\b\b\b\b\b\b\b\b\b\b\b\b\b\b\b\b\b\b\b\b\b\b\b\b\b\b\b\b\b\b\b\b\b\b\b\b\b\b\r262/500 [==============>...............] - ETA: 0s - loss: 476.2486 - acc: 0.4946",
                "stream": "stdout"
              },
              {
                "output_type": "stream",
                "metadata": {
                  "tags": []
                },
                "text": "\b\b\b\b\b\b\b\b\b\b\b\b\b\b\b\b\b\b\b\b\b\b\b\b\b\b\b\b\b\b\b\b\b\b\b\b\b\b\b\b\b\b\b\b\b\b\b\b\b\b\b\b\b\b\b\b\b\b\b\b\b\b\b\b\b\b\b\b\b\b\b\b\b\b\b\b\b\b\b\b\b\r278/500 [===============>..............] - ETA: 0s - loss: 476.2403 - acc: 0.4946",
                "stream": "stdout"
              },
              {
                "output_type": "stream",
                "metadata": {
                  "tags": []
                },
                "text": "\b\b\b\b\b\b\b\b\b\b\b\b\b\b\b\b\b\b\b\b\b\b\b\b\b\b\b\b\b\b\b\b\b\b\b\b\b\b\b\b\b\b\b\b\b\b\b\b\b\b\b\b\b\b\b\b\b\b\b\b\b\b\b\b\b\b\b\b\b\b\b\b\b\b\b\b\b\b\b\b\b\r294/500 [================>.............] - ETA: 0s - loss: 476.2319 - acc: 0.4947",
                "stream": "stdout"
              },
              {
                "output_type": "stream",
                "metadata": {
                  "tags": []
                },
                "text": "\b\b\b\b\b\b\b\b\b\b\b\b\b\b\b\b\b\b\b\b\b\b\b\b\b\b\b\b\b\b\b\b\b\b\b\b\b\b\b\b\b\b\b\b\b\b\b\b\b\b\b\b\b\b\b\b\b\b\b\b\b\b\b\b\b\b\b\b\b\b\b\b\b\b\b\b\b\b\b\b\b\r309/500 [=================>............] - ETA: 0s - loss: 476.2242 - acc: 0.4964",
                "stream": "stdout"
              },
              {
                "output_type": "stream",
                "metadata": {
                  "tags": []
                },
                "text": "\b\b\b\b\b\b\b\b\b\b\b\b\b\b\b\b\b\b\b\b\b\b\b\b\b\b\b\b\b\b\b\b\b\b\b\b\b\b\b\b\b\b\b\b\b\b\b\b\b\b\b\b\b\b\b\b\b\b\b\b\b\b\b\b\b\b\b\b\b\b\b\b\b\b\b\b\b\b\b\b\b\r325/500 [==================>...........] - ETA: 0s - loss: 476.2158 - acc: 0.4964",
                "stream": "stdout"
              },
              {
                "output_type": "stream",
                "metadata": {
                  "tags": []
                },
                "text": "\b\b\b\b\b\b\b\b\b\b\b\b\b\b\b\b\b\b\b\b\b\b\b\b\b\b\b\b\b\b\b\b\b\b\b\b\b\b\b\b\b\b\b\b\b\b\b\b\b\b\b\b\b\b\b\b\b\b\b\b\b\b\b\b\b\b\b\b\b\b\b\b\b\b\b\b\b\b\b\b\b\r341/500 [===================>..........] - ETA: 0s - loss: 476.2075 - acc: 0.4963",
                "stream": "stdout"
              },
              {
                "output_type": "stream",
                "metadata": {
                  "tags": []
                },
                "text": "\b\b\b\b\b\b\b\b\b\b\b\b\b\b\b\b\b\b\b\b\b\b\b\b\b\b\b\b\b\b\b\b\b\b\b\b\b\b\b\b\b\b\b\b\b\b\b\b\b\b\b\b\b\b\b\b\b\b\b\b\b\b\b\b\b\b\b\b\b\b\b\b\b\b\b\b\b\b\b\b\b\r357/500 [====================>.........] - ETA: 0s - loss: 476.1993 - acc: 0.4963",
                "stream": "stdout"
              },
              {
                "output_type": "stream",
                "metadata": {
                  "tags": []
                },
                "text": "\b\b\b\b\b\b\b\b\b\b\b\b\b\b\b\b\b\b\b\b\b\b\b\b\b\b\b\b\b\b\b\b\b\b\b\b\b\b\b\b\b\b\b\b\b\b\b\b\b\b\b\b\b\b\b\b\b\b\b\b\b\b\b\b\b\b\b\b\b\b\b\b\b\b\b\b\b\b\b\b\b\r374/500 [=====================>........] - ETA: 0s - loss: 476.1904 - acc: 0.4949",
                "stream": "stdout"
              },
              {
                "output_type": "stream",
                "metadata": {
                  "tags": []
                },
                "text": "\b\b\b\b\b\b\b\b\b\b\b\b\b\b\b\b\b\b\b\b\b\b\b\b\b\b\b\b\b\b\b\b\b\b\b\b\b\b\b\b\b\b\b\b\b\b\b\b\b\b\b\b\b\b\b\b\b\b\b\b\b\b\b\b\b\b\b\b\b\b\b\b\b\b\b\b\b\b\b\b\b\r388/500 [======================>.......] - ETA: 0s - loss: 476.1832 - acc: 0.4949",
                "stream": "stdout"
              },
              {
                "output_type": "stream",
                "metadata": {
                  "tags": []
                },
                "text": "\b\b\b\b\b\b\b\b\b\b\b\b\b\b\b\b\b\b\b\b\b\b\b\b\b\b\b\b\b\b\b\b\b\b\b\b\b\b\b\b\b\b\b\b\b\b\b\b\b\b\b\b\b\b\b\b\b\b\b\b\b\b\b\b\b\b\b\b\b\b\b\b\b\b\b\b\b\b\b\b\b\r404/500 [=======================>......] - ETA: 0s - loss: 476.1750 - acc: 0.4950",
                "stream": "stdout"
              },
              {
                "output_type": "stream",
                "metadata": {
                  "tags": []
                },
                "text": "\b\b\b\b\b\b\b\b\b\b\b\b\b\b\b\b\b\b\b\b\b\b\b\b\b\b\b\b\b\b\b\b\b\b\b\b\b\b\b\b\b\b\b\b\b\b\b\b\b\b\b\b\b\b\b\b\b\b\b\b\b\b\b\b\b\b\b\b\b\b\b\b\b\b\b\b\b\b\b\b\b\r420/500 [========================>.....] - ETA: 0s - loss: 476.1668 - acc: 0.4951",
                "stream": "stdout"
              },
              {
                "output_type": "stream",
                "metadata": {
                  "tags": []
                },
                "text": "\b\b\b\b\b\b\b\b\b\b\b\b\b\b\b\b\b\b\b\b\b\b\b\b\b\b\b\b\b\b\b\b\b\b\b\b\b\b\b\b\b\b\b\b\b\b\b\b\b\b\b\b\b\b\b\b\b\b\b\b\b\b\b\b\b\b\b\b\b\b\b\b\b\b\b\b\b\b\b\b\b\r435/500 [=========================>....] - ETA: 0s - loss: 476.1590 - acc: 0.4964",
                "stream": "stdout"
              },
              {
                "output_type": "stream",
                "metadata": {
                  "tags": []
                },
                "text": "\b\b\b\b\b\b\b\b\b\b\b\b\b\b\b\b\b\b\b\b\b\b\b\b\b\b\b\b\b\b\b\b\b\b\b\b\b\b\b\b\b\b\b\b\b\b\b\b\b\b\b\b\b\b\b\b\b\b\b\b\b\b\b\b\b\b\b\b\b\b\b\b\b\b\b\b\b\b\b\b\b\r452/500 [==========================>...] - ETA: 0s - loss: 476.1502 - acc: 0.4953",
                "stream": "stdout"
              },
              {
                "output_type": "stream",
                "metadata": {
                  "tags": []
                },
                "text": "\b\b\b\b\b\b\b\b\b\b\b\b\b\b\b\b\b\b\b\b\b\b\b\b\b\b\b\b\b\b\b\b\b\b\b\b\b\b\b\b\b\b\b\b\b\b\b\b\b\b\b\b\b\b\b\b\b\b\b\b\b\b\b\b\b\b\b\b\b\b\b\b\b\b\b\b\b\b\b\b\b\r468/500 [===========================>..] - ETA: 0s - loss: 476.1420 - acc: 0.4953",
                "stream": "stdout"
              },
              {
                "output_type": "stream",
                "metadata": {
                  "tags": []
                },
                "text": "\b\b\b\b\b\b\b\b\b\b\b\b\b\b\b\b\b\b\b\b\b\b\b\b\b\b\b\b\b\b\b\b\b\b\b\b\b\b\b\b\b\b\b\b\b\b\b\b\b\b\b\b\b\b\b\b\b\b\b\b\b\b\b\b\b\b\b\b\b\b\b\b\b\b\b\b\b\b\b\b\b\r485/500 [============================>.] - ETA: 0s - loss: 476.1333 - acc: 0.4962",
                "stream": "stdout"
              },
              {
                "output_type": "stream",
                "metadata": {
                  "tags": []
                },
                "text": "\b\b\b\b\b\b\b\b\b\b\b\b\b\b\b\b\b\b\b\b\b\b\b\b\b\b\b\b\b\b\b\b\b\b\b\b\b\b\b\b\b\b\b\b\b\b\b\b\b\b\b\b\b\b\b\b\b\b\b\b\b\b\b\b\b\b\b\b\b\b\b\b\b\b\b\b\b\b\b\b\b\r500/500 [==============================] - 2s 4ms/step - loss: 476.1257 - acc: 0.4953 - val_loss: 475.8695 - val_acc: 0.9916\n",
                "stream": "stdout"
              },
              {
                "output_type": "stream",
                "metadata": {
                  "tags": []
                },
                "text": "Epoch 18/20\n\r  1/500 [..............................] - ETA: 0s - loss: 475.8693 - acc: 0.9700",
                "stream": "stdout"
              },
              {
                "output_type": "stream",
                "metadata": {
                  "tags": []
                },
                "text": "\b\b\b\b\b\b\b\b\b\b\b\b\b\b\b\b\b\b\b\b\b\b\b\b\b\b\b\b\b\b\b\b\b\b\b\b\b\b\b\b\b\b\b\b\b\b\b\b\b\b\b\b\b\b\b\b\b\b\b\b\b\b\b\b\b\b\b\b\b\b\b\b\b\b\b\b\b\b\b\b\b\r 18/500 [>.............................] - ETA: 1s - loss: 475.8608 - acc: 0.4956",
                "stream": "stdout"
              },
              {
                "output_type": "stream",
                "metadata": {
                  "tags": []
                },
                "text": "\b\b\b\b\b\b\b\b\b\b\b\b\b\b\b\b\b\b\b\b\b\b\b\b\b\b\b\b\b\b\b\b\b\b\b\b\b\b\b\b\b\b\b\b\b\b\b\b\b\b\b\b\b\b\b\b\b\b\b\b\b\b\b\b\b\b\b\b\b\b\b\b\b\b\b\b\b\b\b\b\b\r 34/500 [=>............................] - ETA: 1s - loss: 475.8528 - acc: 0.4950",
                "stream": "stdout"
              },
              {
                "output_type": "stream",
                "metadata": {
                  "tags": []
                },
                "text": "\b\b\b\b\b\b\b\b\b\b\b\b\b\b\b\b\b\b\b\b\b\b\b\b\b\b\b\b\b\b\b\b\b\b\b\b\b\b\b\b\b\b\b\b\b\b\b\b\b\b\b\b\b\b\b\b\b\b\b\b\b\b\b\b\b\b\b\b\b\b\b\b\b\b\b\b\b\b\b\b\b\r 50/500 [==>...........................] - ETA: 1s - loss: 475.8448 - acc: 0.4944",
                "stream": "stdout"
              },
              {
                "output_type": "stream",
                "metadata": {
                  "tags": []
                },
                "text": "\b\b\b\b\b\b\b\b\b\b\b\b\b\b\b\b\b\b\b\b\b\b\b\b\b\b\b\b\b\b\b\b\b\b\b\b\b\b\b\b\b\b\b\b\b\b\b\b\b\b\b\b\b\b\b\b\b\b\b\b\b\b\b\b\b\b\b\b\b\b\b\b\b\b\b\b\b\b\b\b\b\r 66/500 [==>...........................] - ETA: 1s - loss: 475.8369 - acc: 0.4942",
                "stream": "stdout"
              },
              {
                "output_type": "stream",
                "metadata": {
                  "tags": []
                },
                "text": "\b\b\b\b\b\b\b\b\b\b\b\b\b\b\b\b\b\b\b\b\b\b\b\b\b\b\b\b\b\b\b\b\b\b\b\b\b\b\b\b\b\b\b\b\b\b\b\b\b\b\b\b\b\b\b\b\b\b\b\b\b\b\b\b\b\b\b\b\b\b\b\b\b\b\b\b\b\b\b\b\b\r 81/500 [===>..........................] - ETA: 1s - loss: 475.8294 - acc: 0.5007",
                "stream": "stdout"
              },
              {
                "output_type": "stream",
                "metadata": {
                  "tags": []
                },
                "text": "\b\b\b\b\b\b\b\b\b\b\b\b\b\b\b\b\b\b\b\b\b\b\b\b\b\b\b\b\b\b\b\b\b\b\b\b\b\b\b\b\b\b\b\b\b\b\b\b\b\b\b\b\b\b\b\b\b\b\b\b\b\b\b\b\b\b\b\b\b\b\b\b\b\b\b\b\b\b\b\b\b\r 97/500 [====>.........................] - ETA: 1s - loss: 475.8214 - acc: 0.5004",
                "stream": "stdout"
              },
              {
                "output_type": "stream",
                "metadata": {
                  "tags": []
                },
                "text": "\b\b\b\b\b\b\b\b\b\b\b\b\b\b\b\b\b\b\b\b\b\b\b\b\b\b\b\b\b\b\b\b\b\b\b\b\b\b\b\b\b\b\b\b\b\b\b\b\b\b\b\b\b\b\b\b\b\b\b\b\b\b\b\b\b\b\b\b\b\b\b\b\b\b\b\b\b\b\b\b\b\r113/500 [=====>........................] - ETA: 1s - loss: 475.8135 - acc: 0.4997",
                "stream": "stdout"
              },
              {
                "output_type": "stream",
                "metadata": {
                  "tags": []
                },
                "text": "\b\b\b\b\b\b\b\b\b\b\b\b\b\b\b\b\b\b\b\b\b\b\b\b\b\b\b\b\b\b\b\b\b\b\b\b\b\b\b\b\b\b\b\b\b\b\b\b\b\b\b\b\b\b\b\b\b\b\b\b\b\b\b\b\b\b\b\b\b\b\b\b\b\b\b\b\b\b\b\b\b\r129/500 [======>.......................] - ETA: 1s - loss: 475.8056 - acc: 0.4993",
                "stream": "stdout"
              },
              {
                "output_type": "stream",
                "metadata": {
                  "tags": []
                },
                "text": "\b\b\b\b\b\b\b\b\b\b\b\b\b\b\b\b\b\b\b\b\b\b\b\b\b\b\b\b\b\b\b\b\b\b\b\b\b\b\b\b\b\b\b\b\b\b\b\b\b\b\b\b\b\b\b\b\b\b\b\b\b\b\b\b\b\b\b\b\b\b\b\b\b\b\b\b\b\b\b\b\b\r143/500 [=======>......................] - ETA: 1s - loss: 475.7986 - acc: 0.4992",
                "stream": "stdout"
              },
              {
                "output_type": "stream",
                "metadata": {
                  "tags": []
                },
                "text": "\b\b\b\b\b\b\b\b\b\b\b\b\b\b\b\b\b\b\b\b\b\b\b\b\b\b\b\b\b\b\b\b\b\b\b\b\b\b\b\b\b\b\b\b\b\b\b\b\b\b\b\b\b\b\b\b\b\b\b\b\b\b\b\b\b\b\b\b\b\b\b\b\b\b\b\b\b\b\b\b\b\r160/500 [========>.....................] - ETA: 1s - loss: 475.7903 - acc: 0.4960",
                "stream": "stdout"
              },
              {
                "output_type": "stream",
                "metadata": {
                  "tags": []
                },
                "text": "\b\b\b\b\b\b\b\b\b\b\b\b\b\b\b\b\b\b\b\b\b\b\b\b\b\b\b\b\b\b\b\b\b\b\b\b\b\b\b\b\b\b\b\b\b\b\b\b\b\b\b\b\b\b\b\b\b\b\b\b\b\b\b\b\b\b\b\b\b\b\b\b\b\b\b\b\b\b\b\b\b\r177/500 [=========>....................] - ETA: 1s - loss: 475.7819 - acc: 0.4988",
                "stream": "stdout"
              },
              {
                "output_type": "stream",
                "metadata": {
                  "tags": []
                },
                "text": "\b\b\b\b\b\b\b\b\b\b\b\b\b\b\b\b\b\b\b\b\b\b\b\b\b\b\b\b\b\b\b\b\b\b\b\b\b\b\b\b\b\b\b\b\b\b\b\b\b\b\b\b\b\b\b\b\b\b\b\b\b\b\b\b\b\b\b\b\b\b\b\b\b\b\b\b\b\b\b\b\b\r192/500 [==========>...................] - ETA: 0s - loss: 475.7744 - acc: 0.4960",
                "stream": "stdout"
              },
              {
                "output_type": "stream",
                "metadata": {
                  "tags": []
                },
                "text": "\b\b\b\b\b\b\b\b\b\b\b\b\b\b\b\b\b\b\b\b\b\b\b\b\b\b\b\b\b\b\b\b\b\b\b\b\b\b\b\b\b\b\b\b\b\b\b\b\b\b\b\b\b\b\b\b\b\b\b\b\b\b\b\b\b\b\b\b\b\b\b\b\b\b\b\b\b\b\b\b\b\r207/500 [===========>..................] - ETA: 0s - loss: 475.7671 - acc: 0.4986",
                "stream": "stdout"
              },
              {
                "output_type": "stream",
                "metadata": {
                  "tags": []
                },
                "text": "\b\b\b\b\b\b\b\b\b\b\b\b\b\b\b\b\b\b\b\b\b\b\b\b\b\b\b\b\b\b\b\b\b\b\b\b\b\b\b\b\b\b\b\b\b\b\b\b\b\b\b\b\b\b\b\b\b\b\b\b\b\b\b\b\b\b\b\b\b\b\b\b\b\b\b\b\b\b\b\b\b\r223/500 [============>.................] - ETA: 0s - loss: 475.7592 - acc: 0.4983",
                "stream": "stdout"
              },
              {
                "output_type": "stream",
                "metadata": {
                  "tags": []
                },
                "text": "\b\b\b\b\b\b\b\b\b\b\b\b\b\b\b\b\b\b\b\b\b\b\b\b\b\b\b\b\b\b\b\b\b\b\b\b\b\b\b\b\b\b\b\b\b\b\b\b\b\b\b\b\b\b\b\b\b\b\b\b\b\b\b\b\b\b\b\b\b\b\b\b\b\b\b\b\b\b\b\b\b\r239/500 [=============>................] - ETA: 0s - loss: 475.7515 - acc: 0.4982",
                "stream": "stdout"
              },
              {
                "output_type": "stream",
                "metadata": {
                  "tags": []
                },
                "text": "\b\b\b\b\b\b\b\b\b\b\b\b\b\b\b\b\b\b\b\b\b\b\b\b\b\b\b\b\b\b\b\b\b\b\b\b\b\b\b\b\b\b\b\b\b\b\b\b\b\b\b\b\b\b\b\b\b\b\b\b\b\b\b\b\b\b\b\b\b\b\b\b\b\b\b\b\b\b\b\b\b\r255/500 [==============>...............] - ETA: 0s - loss: 475.7437 - acc: 0.4981",
                "stream": "stdout"
              },
              {
                "output_type": "stream",
                "metadata": {
                  "tags": []
                },
                "text": "\b\b\b\b\b\b\b\b\b\b\b\b\b\b\b\b\b\b\b\b\b\b\b\b\b\b\b\b\b\b\b\b\b\b\b\b\b\b\b\b\b\b\b\b\b\b\b\b\b\b\b\b\b\b\b\b\b\b\b\b\b\b\b\b\b\b\b\b\b\b\b\b\b\b\b\b\b\b\b\b\b\r269/500 [===============>..............] - ETA: 0s - loss: 475.7369 - acc: 0.4981",
                "stream": "stdout"
              },
              {
                "output_type": "stream",
                "metadata": {
                  "tags": []
                },
                "text": "\b\b\b\b\b\b\b\b\b\b\b\b\b\b\b\b\b\b\b\b\b\b\b\b\b\b\b\b\b\b\b\b\b\b\b\b\b\b\b\b\b\b\b\b\b\b\b\b\b\b\b\b\b\b\b\b\b\b\b\b\b\b\b\b\b\b\b\b\b\b\b\b\b\b\b\b\b\b\b\b\b\r283/500 [===============>..............] - ETA: 0s - loss: 475.7301 - acc: 0.4980",
                "stream": "stdout"
              },
              {
                "output_type": "stream",
                "metadata": {
                  "tags": []
                },
                "text": "\b\b\b\b\b\b\b\b\b\b\b\b\b\b\b\b\b\b\b\b\b\b\b\b\b\b\b\b\b\b\b\b\b\b\b\b\b\b\b\b\b\b\b\b\b\b\b\b\b\b\b\b\b\b\b\b\b\b\b\b\b\b\b\b\b\b\b\b\b\b\b\b\b\b\b\b\b\b\b\b\b\r298/500 [================>.............] - ETA: 0s - loss: 475.7228 - acc: 0.4963",
                "stream": "stdout"
              },
              {
                "output_type": "stream",
                "metadata": {
                  "tags": []
                },
                "text": "\b\b\b\b\b\b\b\b\b\b\b\b\b\b\b\b\b\b\b\b\b\b\b\b\b\b\b\b\b\b\b\b\b\b\b\b\b\b\b\b\b\b\b\b\b\b\b\b\b\b\b\b\b\b\b\b\b\b\b\b\b\b\b\b\b\b\b\b\b\b\b\b\b\b\b\b\b\b\b\b\b\r313/500 [=================>............] - ETA: 0s - loss: 475.7157 - acc: 0.4980",
                "stream": "stdout"
              },
              {
                "output_type": "stream",
                "metadata": {
                  "tags": []
                },
                "text": "\b\b\b\b\b\b\b\b\b\b\b\b\b\b\b\b\b\b\b\b\b\b\b\b\b\b\b\b\b\b\b\b\b\b\b\b\b\b\b\b\b\b\b\b\b\b\b\b\b\b\b\b\b\b\b\b\b\b\b\b\b\b\b\b\b\b\b\b\b\b\b\b\b\b\b\b\b\b\b\b\b\r329/500 [==================>...........] - ETA: 0s - loss: 475.7079 - acc: 0.4979",
                "stream": "stdout"
              },
              {
                "output_type": "stream",
                "metadata": {
                  "tags": []
                },
                "text": "\b\b\b\b\b\b\b\b\b\b\b\b\b\b\b\b\b\b\b\b\b\b\b\b\b\b\b\b\b\b\b\b\b\b\b\b\b\b\b\b\b\b\b\b\b\b\b\b\b\b\b\b\b\b\b\b\b\b\b\b\b\b\b\b\b\b\b\b\b\b\b\b\b\b\b\b\b\b\b\b\b\r344/500 [===================>..........] - ETA: 0s - loss: 475.7007 - acc: 0.4964",
                "stream": "stdout"
              },
              {
                "output_type": "stream",
                "metadata": {
                  "tags": []
                },
                "text": "\b\b\b\b\b\b\b\b\b\b\b\b\b\b\b\b\b\b\b\b\b\b\b\b\b\b\b\b\b\b\b\b\b\b\b\b\b\b\b\b\b\b\b\b\b\b\b\b\b\b\b\b\b\b\b\b\b\b\b\b\b\b\b\b\b\b\b\b\b\b\b\b\b\b\b\b\b\b\b\b\b\r360/500 [====================>.........] - ETA: 0s - loss: 475.6929 - acc: 0.4964",
                "stream": "stdout"
              },
              {
                "output_type": "stream",
                "metadata": {
                  "tags": []
                },
                "text": "\b\b\b\b\b\b\b\b\b\b\b\b\b\b\b\b\b\b\b\b\b\b\b\b\b\b\b\b\b\b\b\b\b\b\b\b\b\b\b\b\b\b\b\b\b\b\b\b\b\b\b\b\b\b\b\b\b\b\b\b\b\b\b\b\b\b\b\b\b\b\b\b\b\b\b\b\b\b\b\b\b\r377/500 [=====================>........] - ETA: 0s - loss: 475.6849 - acc: 0.4978",
                "stream": "stdout"
              },
              {
                "output_type": "stream",
                "metadata": {
                  "tags": []
                },
                "text": "\b\b\b\b\b\b\b\b\b\b\b\b\b\b\b\b\b\b\b\b\b\b\b\b\b\b\b\b\b\b\b\b\b\b\b\b\b\b\b\b\b\b\b\b\b\b\b\b\b\b\b\b\b\b\b\b\b\b\b\b\b\b\b\b\b\b\b\b\b\b\b\b\b\b\b\b\b\b\b\b\b\r393/500 [======================>.......] - ETA: 0s - loss: 475.6774 - acc: 0.4977",
                "stream": "stdout"
              },
              {
                "output_type": "stream",
                "metadata": {
                  "tags": []
                },
                "text": "\b\b\b\b\b\b\b\b\b\b\b\b\b\b\b\b\b\b\b\b\b\b\b\b\b\b\b\b\b\b\b\b\b\b\b\b\b\b\b\b\b\b\b\b\b\b\b\b\b\b\b\b\b\b\b\b\b\b\b\b\b\b\b\b\b\b\b\b\b\b\b\b\b\b\b\b\b\b\b\b\b\r408/500 [=======================>......] - ETA: 0s - loss: 475.6701 - acc: 0.4965",
                "stream": "stdout"
              },
              {
                "output_type": "stream",
                "metadata": {
                  "tags": []
                },
                "text": "\b\b\b\b\b\b\b\b\b\b\b\b\b\b\b\b\b\b\b\b\b\b\b\b\b\b\b\b\b\b\b\b\b\b\b\b\b\b\b\b\b\b\b\b\b\b\b\b\b\b\b\b\b\b\b\b\b\b\b\b\b\b\b\b\b\b\b\b\b\b\b\b\b\b\b\b\b\b\b\b\b\r424/500 [========================>.....] - ETA: 0s - loss: 475.6625 - acc: 0.4964",
                "stream": "stdout"
              },
              {
                "output_type": "stream",
                "metadata": {
                  "tags": []
                },
                "text": "\b\b\b\b\b\b\b\b\b\b\b\b\b\b\b\b\b\b\b\b\b\b\b\b\b\b\b\b\b\b\b\b\b\b\b\b\b\b\b\b\b\b\b\b\b\b\b\b\b\b\b\b\b\b\b\b\b\b\b\b\b\b\b\b\b\b\b\b\b\b\b\b\b\b\b\b\b\b\b\b\b\r441/500 [=========================>....] - ETA: 0s - loss: 475.6545 - acc: 0.4976",
                "stream": "stdout"
              },
              {
                "output_type": "stream",
                "metadata": {
                  "tags": []
                },
                "text": "\b\b\b\b\b\b\b\b\b\b\b\b\b\b\b\b\b\b\b\b\b\b\b\b\b\b\b\b\b\b\b\b\b\b\b\b\b\b\b\b\b\b\b\b\b\b\b\b\b\b\b\b\b\b\b\b\b\b\b\b\b\b\b\b\b\b\b\b\b\b\b\b\b\b\b\b\b\b\b\b\b\r454/500 [==========================>...] - ETA: 0s - loss: 475.6484 - acc: 0.4964",
                "stream": "stdout"
              },
              {
                "output_type": "stream",
                "metadata": {
                  "tags": []
                },
                "text": "\b\b\b\b\b\b\b\b\b\b\b\b\b\b\b\b\b\b\b\b\b\b\b\b\b\b\b\b\b\b\b\b\b\b\b\b\b\b\b\b\b\b\b\b\b\b\b\b\b\b\b\b\b\b\b\b\b\b\b\b\b\b\b\b\b\b\b\b\b\b\b\b\b\b\b\b\b\b\b\b\b\r470/500 [===========================>..] - ETA: 0s - loss: 475.6408 - acc: 0.4964",
                "stream": "stdout"
              },
              {
                "output_type": "stream",
                "metadata": {
                  "tags": []
                },
                "text": "\b\b\b\b\b\b\b\b\b\b\b\b\b\b\b\b\b\b\b\b\b\b\b\b\b\b\b\b\b\b\b\b\b\b\b\b\b\b\b\b\b\b\b\b\b\b\b\b\b\b\b\b\b\b\b\b\b\b\b\b\b\b\b\b\b\b\b\b\b\b\b\b\b\b\b\b\b\b\b\b\b\r485/500 [============================>.] - ETA: 0s - loss: 475.6339 - acc: 0.4975",
                "stream": "stdout"
              },
              {
                "output_type": "stream",
                "metadata": {
                  "tags": []
                },
                "text": "\b\b\b\b\b\b\b\b\b\b\b\b\b\b\b\b\b\b\b\b\b\b\b\b\b\b\b\b\b\b\b\b\b\b\b\b\b\b\b\b\b\b\b\b\b\b\b\b\b\b\b\b\b\b\b\b\b\b\b\b\b\b\b\b\b\b\b\b\b\b\b\b\b\b\b\b\b\b\b\b\b\r500/500 [==============================] - ETA: 0s - loss: 475.6268 - acc: 0.4965",
                "stream": "stdout"
              },
              {
                "output_type": "stream",
                "metadata": {
                  "tags": []
                },
                "text": "\b\b\b\b\b\b\b\b\b\b\b\b\b\b\b\b\b\b\b\b\b\b\b\b\b\b\b\b\b\b\b\b\b\b\b\b\b\b\b\b\b\b\b\b\b\b\b\b\b\b\b\b\b\b\b\b\b\b\b\b\b\b\b\b\b\b\b\b\b\b\b\b\b\b\b\b\b\b\b\b\b\r500/500 [==============================] - 2s 4ms/step - loss: 475.6268 - acc: 0.4965 - val_loss: 475.3929 - val_acc: 0.9937\n",
                "stream": "stdout"
              },
              {
                "output_type": "stream",
                "metadata": {
                  "tags": []
                },
                "text": "Epoch 19/20\n\r  1/500 [..............................] - ETA: 0s - loss: 475.3930 - acc: 1.0000",
                "stream": "stdout"
              },
              {
                "output_type": "stream",
                "metadata": {
                  "tags": []
                },
                "text": "\b\b\b\b\b\b\b\b\b\b\b\b\b\b\b\b\b\b\b\b\b\b\b\b\b\b\b\b\b\b\b\b\b\b\b\b\b\b\b\b\b\b\b\b\b\b\b\b\b\b\b\b\b\b\b\b\b\b\b\b\b\b\b\b\b\b\b\b\b\b\b\b\b\b\b\b\b\b\b\b\b\r 16/500 [..............................] - ETA: 1s - loss: 475.3863 - acc: 0.4981",
                "stream": "stdout"
              },
              {
                "output_type": "stream",
                "metadata": {
                  "tags": []
                },
                "text": "\b\b\b\b\b\b\b\b\b\b\b\b\b\b\b\b\b\b\b\b\b\b\b\b\b\b\b\b\b\b\b\b\b\b\b\b\b\b\b\b\b\b\b\b\b\b\b\b\b\b\b\b\b\b\b\b\b\b\b\b\b\b\b\b\b\b\b\b\b\b\b\b\b\b\b\b\b\b\b\b\b\r 32/500 [>.............................] - ETA: 1s - loss: 475.3792 - acc: 0.4988",
                "stream": "stdout"
              },
              {
                "output_type": "stream",
                "metadata": {
                  "tags": []
                },
                "text": "\b\b\b\b\b\b\b\b\b\b\b\b\b\b\b\b\b\b\b\b\b\b\b\b\b\b\b\b\b\b\b\b\b\b\b\b\b\b\b\b\b\b\b\b\b\b\b\b\b\b\b\b\b\b\b\b\b\b\b\b\b\b\b\b\b\b\b\b\b\b\b\b\b\b\b\b\b\b\b\b\b\r 48/500 [=>............................] - ETA: 1s - loss: 475.3720 - acc: 0.4971",
                "stream": "stdout"
              },
              {
                "output_type": "stream",
                "metadata": {
                  "tags": []
                },
                "text": "\b\b\b\b\b\b\b\b\b\b\b\b\b\b\b\b\b\b\b\b\b\b\b\b\b\b\b\b\b\b\b\b\b\b\b\b\b\b\b\b\b\b\b\b\b\b\b\b\b\b\b\b\b\b\b\b\b\b\b\b\b\b\b\b\b\b\b\b\b\b\b\b\b\b\b\b\b\b\b\b\b\r 64/500 [==>...........................] - ETA: 1s - loss: 475.3649 - acc: 0.4970",
                "stream": "stdout"
              },
              {
                "output_type": "stream",
                "metadata": {
                  "tags": []
                },
                "text": "\b\b\b\b\b\b\b\b\b\b\b\b\b\b\b\b\b\b\b\b\b\b\b\b\b\b\b\b\b\b\b\b\b\b\b\b\b\b\b\b\b\b\b\b\b\b\b\b\b\b\b\b\b\b\b\b\b\b\b\b\b\b\b\b\b\b\b\b\b\b\b\b\b\b\b\b\b\b\b\b\b\r 80/500 [===>..........................] - ETA: 1s - loss: 475.3578 - acc: 0.4974",
                "stream": "stdout"
              },
              {
                "output_type": "stream",
                "metadata": {
                  "tags": []
                },
                "text": "\b\b\b\b\b\b\b\b\b\b\b\b\b\b\b\b\b\b\b\b\b\b\b\b\b\b\b\b\b\b\b\b\b\b\b\b\b\b\b\b\b\b\b\b\b\b\b\b\b\b\b\b\b\b\b\b\b\b\b\b\b\b\b\b\b\b\b\b\b\b\b\b\b\b\b\b\b\b\b\b\b\r 95/500 [====>.........................] - ETA: 1s - loss: 475.3512 - acc: 0.5028",
                "stream": "stdout"
              },
              {
                "output_type": "stream",
                "metadata": {
                  "tags": []
                },
                "text": "\b\b\b\b\b\b\b\b\b\b\b\b\b\b\b\b\b\b\b\b\b\b\b\b\b\b\b\b\b\b\b\b\b\b\b\b\b\b\b\b\b\b\b\b\b\b\b\b\b\b\b\b\b\b\b\b\b\b\b\b\b\b\b\b\b\b\b\b\b\b\b\b\b\b\b\b\b\b\b\b\b\r110/500 [=====>........................] - ETA: 1s - loss: 475.3445 - acc: 0.4976",
                "stream": "stdout"
              },
              {
                "output_type": "stream",
                "metadata": {
                  "tags": []
                },
                "text": "\b\b\b\b\b\b\b\b\b\b\b\b\b\b\b\b\b\b\b\b\b\b\b\b\b\b\b\b\b\b\b\b\b\b\b\b\b\b\b\b\b\b\b\b\b\b\b\b\b\b\b\b\b\b\b\b\b\b\b\b\b\b\b\b\b\b\b\b\b\b\b\b\b\b\b\b\b\b\b\b\b\r126/500 [======>.......................] - ETA: 1s - loss: 475.3375 - acc: 0.4976",
                "stream": "stdout"
              },
              {
                "output_type": "stream",
                "metadata": {
                  "tags": []
                },
                "text": "\b\b\b\b\b\b\b\b\b\b\b\b\b\b\b\b\b\b\b\b\b\b\b\b\b\b\b\b\b\b\b\b\b\b\b\b\b\b\b\b\b\b\b\b\b\b\b\b\b\b\b\b\b\b\b\b\b\b\b\b\b\b\b\b\b\b\b\b\b\b\b\b\b\b\b\b\b\b\b\b\b\r142/500 [=======>......................] - ETA: 1s - loss: 475.3304 - acc: 0.4977",
                "stream": "stdout"
              },
              {
                "output_type": "stream",
                "metadata": {
                  "tags": []
                },
                "text": "\b\b\b\b\b\b\b\b\b\b\b\b\b\b\b\b\b\b\b\b\b\b\b\b\b\b\b\b\b\b\b\b\b\b\b\b\b\b\b\b\b\b\b\b\b\b\b\b\b\b\b\b\b\b\b\b\b\b\b\b\b\b\b\b\b\b\b\b\b\b\b\b\b\b\b\b\b\b\b\b\b\r159/500 [========>.....................] - ETA: 1s - loss: 475.3230 - acc: 0.5009",
                "stream": "stdout"
              },
              {
                "output_type": "stream",
                "metadata": {
                  "tags": []
                },
                "text": "\b\b\b\b\b\b\b\b\b\b\b\b\b\b\b\b\b\b\b\b\b\b\b\b\b\b\b\b\b\b\b\b\b\b\b\b\b\b\b\b\b\b\b\b\b\b\b\b\b\b\b\b\b\b\b\b\b\b\b\b\b\b\b\b\b\b\b\b\b\b\b\b\b\b\b\b\b\b\b\b\b\r176/500 [=========>....................] - ETA: 1s - loss: 475.3155 - acc: 0.5019",
                "stream": "stdout"
              },
              {
                "output_type": "stream",
                "metadata": {
                  "tags": []
                },
                "text": "\b\b\b\b\b\b\b\b\b\b\b\b\b\b\b\b\b\b\b\b\b\b\b\b\b\b\b\b\b\b\b\b\b\b\b\b\b\b\b\b\b\b\b\b\b\b\b\b\b\b\b\b\b\b\b\b\b\b\b\b\b\b\b\b\b\b\b\b\b\b\b\b\b\b\b\b\b\b\b\b\b\r191/500 [==========>...................] - ETA: 0s - loss: 475.3090 - acc: 0.5078",
                "stream": "stdout"
              },
              {
                "output_type": "stream",
                "metadata": {
                  "tags": []
                },
                "text": "\b\b\b\b\b\b\b\b\b\b\b\b\b\b\b\b\b\b\b\b\b\b\b\b\b\b\b\b\b\b\b\b\b\b\b\b\b\b\b\b\b\b\b\b\b\b\b\b\b\b\b\b\b\b\b\b\b\b\b\b\b\b\b\b\b\b\b\b\b\b\b\b\b\b\b\b\b\b\b\b\b\r204/500 [===========>..................] - ETA: 0s - loss: 475.3032 - acc: 0.5259",
                "stream": "stdout"
              },
              {
                "output_type": "stream",
                "metadata": {
                  "tags": []
                },
                "text": "\b\b\b\b\b\b\b\b\b\b\b\b\b\b\b\b\b\b\b\b\b\b\b\b\b\b\b\b\b\b\b\b\b\b\b\b\b\b\b\b\b\b\b\b\b\b\b\b\b\b\b\b\b\b\b\b\b\b\b\b\b\b\b\b\b\b\b\b\b\b\b\b\b\b\b\b\b\b\b\b\b\r217/500 [============>.................] - ETA: 0s - loss: 475.2975 - acc: 0.5387",
                "stream": "stdout"
              },
              {
                "output_type": "stream",
                "metadata": {
                  "tags": []
                },
                "text": "\b\b\b\b\b\b\b\b\b\b\b\b\b\b\b\b\b\b\b\b\b\b\b\b\b\b\b\b\b\b\b\b\b\b\b\b\b\b\b\b\b\b\b\b\b\b\b\b\b\b\b\b\b\b\b\b\b\b\b\b\b\b\b\b\b\b\b\b\b\b\b\b\b\b\b\b\b\b\b\b\b\r231/500 [============>.................] - ETA: 0s - loss: 475.2914 - acc: 0.5293",
                "stream": "stdout"
              },
              {
                "output_type": "stream",
                "metadata": {
                  "tags": []
                },
                "text": "\b\b\b\b\b\b\b\b\b\b\b\b\b\b\b\b\b\b\b\b\b\b\b\b\b\b\b\b\b\b\b\b\b\b\b\b\b\b\b\b\b\b\b\b\b\b\b\b\b\b\b\b\b\b\b\b\b\b\b\b\b\b\b\b\b\b\b\b\b\b\b\b\b\b\b\b\b\b\b\b\b\r247/500 [=============>................] - ETA: 0s - loss: 475.2844 - acc: 0.5057",
                "stream": "stdout"
              },
              {
                "output_type": "stream",
                "metadata": {
                  "tags": []
                },
                "text": "\b\b\b\b\b\b\b\b\b\b\b\b\b\b\b\b\b\b\b\b\b\b\b\b\b\b\b\b\b\b\b\b\b\b\b\b\b\b\b\b\b\b\b\b\b\b\b\b\b\b\b\b\b\b\b\b\b\b\b\b\b\b\b\b\b\b\b\b\b\b\b\b\b\b\b\b\b\b\b\b\b\r263/500 [==============>...............] - ETA: 0s - loss: 475.2774 - acc: 0.4804",
                "stream": "stdout"
              },
              {
                "output_type": "stream",
                "metadata": {
                  "tags": []
                },
                "text": "\b\b\b\b\b\b\b\b\b\b\b\b\b\b\b\b\b\b\b\b\b\b\b\b\b\b\b\b\b\b\b\b\b\b\b\b\b\b\b\b\b\b\b\b\b\b\b\b\b\b\b\b\b\b\b\b\b\b\b\b\b\b\b\b\b\b\b\b\b\b\b\b\b\b\b\b\b\b\b\b\b\r280/500 [===============>..............] - ETA: 0s - loss: 475.2700 - acc: 0.4695",
                "stream": "stdout"
              },
              {
                "output_type": "stream",
                "metadata": {
                  "tags": []
                },
                "text": "\b\b\b\b\b\b\b\b\b\b\b\b\b\b\b\b\b\b\b\b\b\b\b\b\b\b\b\b\b\b\b\b\b\b\b\b\b\b\b\b\b\b\b\b\b\b\b\b\b\b\b\b\b\b\b\b\b\b\b\b\b\b\b\b\b\b\b\b\b\b\b\b\b\b\b\b\b\b\b\b\b\r296/500 [================>.............] - ETA: 0s - loss: 475.2631 - acc: 0.4573",
                "stream": "stdout"
              },
              {
                "output_type": "stream",
                "metadata": {
                  "tags": []
                },
                "text": "\b\b\b\b\b\b\b\b\b\b\b\b\b\b\b\b\b\b\b\b\b\b\b\b\b\b\b\b\b\b\b\b\b\b\b\b\b\b\b\b\b\b\b\b\b\b\b\b\b\b\b\b\b\b\b\b\b\b\b\b\b\b\b\b\b\b\b\b\b\b\b\b\b\b\b\b\b\b\b\b\b\r312/500 [=================>............] - ETA: 0s - loss: 475.2560 - acc: 0.4627",
                "stream": "stdout"
              },
              {
                "output_type": "stream",
                "metadata": {
                  "tags": []
                },
                "text": "\b\b\b\b\b\b\b\b\b\b\b\b\b\b\b\b\b\b\b\b\b\b\b\b\b\b\b\b\b\b\b\b\b\b\b\b\b\b\b\b\b\b\b\b\b\b\b\b\b\b\b\b\b\b\b\b\b\b\b\b\b\b\b\b\b\b\b\b\b\b\b\b\b\b\b\b\b\b\b\b\b\r327/500 [==================>...........] - ETA: 0s - loss: 475.2495 - acc: 0.4617",
                "stream": "stdout"
              },
              {
                "output_type": "stream",
                "metadata": {
                  "tags": []
                },
                "text": "\b\b\b\b\b\b\b\b\b\b\b\b\b\b\b\b\b\b\b\b\b\b\b\b\b\b\b\b\b\b\b\b\b\b\b\b\b\b\b\b\b\b\b\b\b\b\b\b\b\b\b\b\b\b\b\b\b\b\b\b\b\b\b\b\b\b\b\b\b\b\b\b\b\b\b\b\b\b\b\b\b\r342/500 [===================>..........] - ETA: 0s - loss: 475.2430 - acc: 0.4627",
                "stream": "stdout"
              },
              {
                "output_type": "stream",
                "metadata": {
                  "tags": []
                },
                "text": "\b\b\b\b\b\b\b\b\b\b\b\b\b\b\b\b\b\b\b\b\b\b\b\b\b\b\b\b\b\b\b\b\b\b\b\b\b\b\b\b\b\b\b\b\b\b\b\b\b\b\b\b\b\b\b\b\b\b\b\b\b\b\b\b\b\b\b\b\b\b\b\b\b\b\b\b\b\b\b\b\b\r357/500 [====================>.........] - ETA: 0s - loss: 475.2364 - acc: 0.4625",
                "stream": "stdout"
              },
              {
                "output_type": "stream",
                "metadata": {
                  "tags": []
                },
                "text": "\b\b\b\b\b\b\b\b\b\b\b\b\b\b\b\b\b\b\b\b\b\b\b\b\b\b\b\b\b\b\b\b\b\b\b\b\b\b\b\b\b\b\b\b\b\b\b\b\b\b\b\b\b\b\b\b\b\b\b\b\b\b\b\b\b\b\b\b\b\b\b\b\b\b\b\b\b\b\b\b\b\r372/500 [=====================>........] - ETA: 0s - loss: 475.2299 - acc: 0.4660",
                "stream": "stdout"
              },
              {
                "output_type": "stream",
                "metadata": {
                  "tags": []
                },
                "text": "\b\b\b\b\b\b\b\b\b\b\b\b\b\b\b\b\b\b\b\b\b\b\b\b\b\b\b\b\b\b\b\b\b\b\b\b\b\b\b\b\b\b\b\b\b\b\b\b\b\b\b\b\b\b\b\b\b\b\b\b\b\b\b\b\b\b\b\b\b\b\b\b\b\b\b\b\b\b\b\b\b\r385/500 [======================>.......] - ETA: 0s - loss: 475.2242 - acc: 0.4579",
                "stream": "stdout"
              },
              {
                "output_type": "stream",
                "metadata": {
                  "tags": []
                },
                "text": "\b\b\b\b\b\b\b\b\b\b\b\b\b\b\b\b\b\b\b\b\b\b\b\b\b\b\b\b\b\b\b\b\b\b\b\b\b\b\b\b\b\b\b\b\b\b\b\b\b\b\b\b\b\b\b\b\b\b\b\b\b\b\b\b\b\b\b\b\b\b\b\b\b\b\b\b\b\b\b\b\b\r401/500 [=======================>......] - ETA: 0s - loss: 475.2172 - acc: 0.4633",
                "stream": "stdout"
              },
              {
                "output_type": "stream",
                "metadata": {
                  "tags": []
                },
                "text": "\b\b\b\b\b\b\b\b\b\b\b\b\b\b\b\b\b\b\b\b\b\b\b\b\b\b\b\b\b\b\b\b\b\b\b\b\b\b\b\b\b\b\b\b\b\b\b\b\b\b\b\b\b\b\b\b\b\b\b\b\b\b\b\b\b\b\b\b\b\b\b\b\b\b\b\b\b\b\b\b\b\r416/500 [=======================>......] - ETA: 0s - loss: 475.2108 - acc: 0.4592",
                "stream": "stdout"
              },
              {
                "output_type": "stream",
                "metadata": {
                  "tags": []
                },
                "text": "\b\b\b\b\b\b\b\b\b\b\b\b\b\b\b\b\b\b\b\b\b\b\b\b\b\b\b\b\b\b\b\b\b\b\b\b\b\b\b\b\b\b\b\b\b\b\b\b\b\b\b\b\b\b\b\b\b\b\b\b\b\b\b\b\b\b\b\b\b\b\b\b\b\b\b\b\b\b\b\b\b\r431/500 [========================>.....] - ETA: 0s - loss: 475.2041 - acc: 0.4497",
                "stream": "stdout"
              },
              {
                "output_type": "stream",
                "metadata": {
                  "tags": []
                },
                "text": "\b\b\b\b\b\b\b\b\b\b\b\b\b\b\b\b\b\b\b\b\b\b\b\b\b\b\b\b\b\b\b\b\b\b\b\b\b\b\b\b\b\b\b\b\b\b\b\b\b\b\b\b\b\b\b\b\b\b\b\b\b\b\b\b\b\b\b\b\b\b\b\b\b\b\b\b\b\b\b\b\b\r444/500 [=========================>....] - ETA: 0s - loss: 475.1985 - acc: 0.4533",
                "stream": "stdout"
              },
              {
                "output_type": "stream",
                "metadata": {
                  "tags": []
                },
                "text": "\b\b\b\b\b\b\b\b\b\b\b\b\b\b\b\b\b\b\b\b\b\b\b\b\b\b\b\b\b\b\b\b\b\b\b\b\b\b\b\b\b\b\b\b\b\b\b\b\b\b\b\b\b\b\b\b\b\b\b\b\b\b\b\b\b\b\b\b\b\b\b\b\b\b\b\b\b\b\b\b\b\r458/500 [==========================>...] - ETA: 0s - loss: 475.1924 - acc: 0.4579",
                "stream": "stdout"
              },
              {
                "output_type": "stream",
                "metadata": {
                  "tags": []
                },
                "text": "\b\b\b\b\b\b\b\b\b\b\b\b\b\b\b\b\b\b\b\b\b\b\b\b\b\b\b\b\b\b\b\b\b\b\b\b\b\b\b\b\b\b\b\b\b\b\b\b\b\b\b\b\b\b\b\b\b\b\b\b\b\b\b\b\b\b\b\b\b\b\b\b\b\b\b\b\b\b\b\b\b\r474/500 [===========================>..] - ETA: 0s - loss: 475.1855 - acc: 0.4631",
                "stream": "stdout"
              },
              {
                "output_type": "stream",
                "metadata": {
                  "tags": []
                },
                "text": "\b\b\b\b\b\b\b\b\b\b\b\b\b\b\b\b\b\b\b\b\b\b\b\b\b\b\b\b\b\b\b\b\b\b\b\b\b\b\b\b\b\b\b\b\b\b\b\b\b\b\b\b\b\b\b\b\b\b\b\b\b\b\b\b\b\b\b\b\b\b\b\b\b\b\b\b\b\b\b\b\b\r488/500 [============================>.] - ETA: 0s - loss: 475.1794 - acc: 0.4679",
                "stream": "stdout"
              },
              {
                "output_type": "stream",
                "metadata": {
                  "tags": []
                },
                "text": "\b\b\b\b\b\b\b\b\b\b\b\b\b\b\b\b\b\b\b\b\b\b\b\b\b\b\b\b\b\b\b\b\b\b\b\b\b\b\b\b\b\b\b\b\b\b\b\b\b\b\b\b\b\b\b\b\b\b\b\b\b\b\b\b\b\b\b\b\b\b\b\b\b\b\b\b\b\b\b\b\b\r500/500 [==============================] - 2s 4ms/step - loss: 475.1742 - acc: 0.4716 - val_loss: 474.9567 - val_acc: 0.9454\n",
                "stream": "stdout"
              },
              {
                "output_type": "stream",
                "metadata": {
                  "tags": []
                },
                "text": "Epoch 20/20\n\r  1/500 [..............................] - ETA: 0s - loss: 474.9565 - acc: 0.9800",
                "stream": "stdout"
              },
              {
                "output_type": "stream",
                "metadata": {
                  "tags": []
                },
                "text": "\b\b\b\b\b\b\b\b\b\b\b\b\b\b\b\b\b\b\b\b\b\b\b\b\b\b\b\b\b\b\b\b\b\b\b\b\b\b\b\b\b\b\b\b\b\b\b\b\b\b\b\b\b\b\b\b\b\b\b\b\b\b\b\b\b\b\b\b\b\b\b\b\b\b\b\b\b\b\b\b\b\r 16/500 [..............................] - ETA: 1s - loss: 474.9500 - acc: 0.2800",
                "stream": "stdout"
              },
              {
                "output_type": "stream",
                "metadata": {
                  "tags": []
                },
                "text": "\b\b\b\b\b\b\b\b\b\b\b\b\b\b\b\b\b\b\b\b\b\b\b\b\b\b\b\b\b\b\b\b\b\b\b\b\b\b\b\b\b\b\b\b\b\b\b\b\b\b\b\b\b\b\b\b\b\b\b\b\b\b\b\b\b\b\b\b\b\b\b\b\b\b\b\b\b\b\b\b\b\r 32/500 [>.............................] - ETA: 1s - loss: 474.9431 - acc: 0.2303",
                "stream": "stdout"
              },
              {
                "output_type": "stream",
                "metadata": {
                  "tags": []
                },
                "text": "\b\b\b\b\b\b\b\b\b\b\b\b\b\b\b\b\b\b\b\b\b\b\b\b\b\b\b\b\b\b\b\b\b\b\b\b\b\b\b\b\b\b\b\b\b\b\b\b\b\b\b\b\b\b\b\b\b\b\b\b\b\b\b\b\b\b\b\b\b\b\b\b\b\b\b\b\b\b\b\b\b\r 47/500 [=>............................] - ETA: 1s - loss: 474.9366 - acc: 0.2123",
                "stream": "stdout"
              },
              {
                "output_type": "stream",
                "metadata": {
                  "tags": []
                },
                "text": "\b\b\b\b\b\b\b\b\b\b\b\b\b\b\b\b\b\b\b\b\b\b\b\b\b\b\b\b\b\b\b\b\b\b\b\b\b\b\b\b\b\b\b\b\b\b\b\b\b\b\b\b\b\b\b\b\b\b\b\b\b\b\b\b\b\b\b\b\b\b\b\b\b\b\b\b\b\b\b\b\b\r 62/500 [==>...........................] - ETA: 1s - loss: 474.9302 - acc: 0.2018",
                "stream": "stdout"
              },
              {
                "output_type": "stream",
                "metadata": {
                  "tags": []
                },
                "text": "\b\b\b\b\b\b\b\b\b\b\b\b\b\b\b\b\b\b\b\b\b\b\b\b\b\b\b\b\b\b\b\b\b\b\b\b\b\b\b\b\b\b\b\b\b\b\b\b\b\b\b\b\b\b\b\b\b\b\b\b\b\b\b\b\b\b\b\b\b\b\b\b\b\b\b\b\b\b\b\b\b\r 77/500 [===>..........................] - ETA: 1s - loss: 474.9236 - acc: 0.2006",
                "stream": "stdout"
              },
              {
                "output_type": "stream",
                "metadata": {
                  "tags": []
                },
                "text": "\b\b\b\b\b\b\b\b\b\b\b\b\b\b\b\b\b\b\b\b\b\b\b\b\b\b\b\b\b\b\b\b\b\b\b\b\b\b\b\b\b\b\b\b\b\b\b\b\b\b\b\b\b\b\b\b\b\b\b\b\b\b\b\b\b\b\b\b\b\b\b\b\b\b\b\b\b\b\b\b\b\r 90/500 [====>.........................] - ETA: 1s - loss: 474.9181 - acc: 0.2597",
                "stream": "stdout"
              },
              {
                "output_type": "stream",
                "metadata": {
                  "tags": []
                },
                "text": "\b\b\b\b\b\b\b\b\b\b\b\b\b\b\b\b\b\b\b\b\b\b\b\b\b\b\b\b\b\b\b\b\b\b\b\b\b\b\b\b\b\b\b\b\b\b\b\b\b\b\b\b\b\b\b\b\b\b\b\b\b\b\b\b\b\b\b\b\b\b\b\b\b\b\b\b\b\b\b\b\b\r105/500 [=====>........................] - ETA: 1s - loss: 474.9116 - acc: 0.3070",
                "stream": "stdout"
              },
              {
                "output_type": "stream",
                "metadata": {
                  "tags": []
                },
                "text": "\b\b\b\b\b\b\b\b\b\b\b\b\b\b\b\b\b\b\b\b\b\b\b\b\b\b\b\b\b\b\b\b\b\b\b\b\b\b\b\b\b\b\b\b\b\b\b\b\b\b\b\b\b\b\b\b\b\b\b\b\b\b\b\b\b\b\b\b\b\b\b\b\b\b\b\b\b\b\b\b\b\r120/500 [======>.......................] - ETA: 1s - loss: 474.9051 - acc: 0.3202",
                "stream": "stdout"
              },
              {
                "output_type": "stream",
                "metadata": {
                  "tags": []
                },
                "text": "\b\b\b\b\b\b\b\b\b\b\b\b\b\b\b\b\b\b\b\b\b\b\b\b\b\b\b\b\b\b\b\b\b\b\b\b\b\b\b\b\b\b\b\b\b\b\b\b\b\b\b\b\b\b\b\b\b\b\b\b\b\b\b\b\b\b\b\b\b\b\b\b\b\b\b\b\b\b\b\b\b\r135/500 [=======>......................] - ETA: 1s - loss: 474.8987 - acc: 0.3447",
                "stream": "stdout"
              },
              {
                "output_type": "stream",
                "metadata": {
                  "tags": []
                },
                "text": "\b\b\b\b\b\b\b\b\b\b\b\b\b\b\b\b\b\b\b\b\b\b\b\b\b\b\b\b\b\b\b\b\b\b\b\b\b\b\b\b\b\b\b\b\b\b\b\b\b\b\b\b\b\b\b\b\b\b\b\b\b\b\b\b\b\b\b\b\b\b\b\b\b\b\b\b\b\b\b\b\b\r150/500 [========>.....................] - ETA: 1s - loss: 474.8922 - acc: 0.3487",
                "stream": "stdout"
              },
              {
                "output_type": "stream",
                "metadata": {
                  "tags": []
                },
                "text": "\b\b\b\b\b\b\b\b\b\b\b\b\b\b\b\b\b\b\b\b\b\b\b\b\b\b\b\b\b\b\b\b\b\b\b\b\b\b\b\b\b\b\b\b\b\b\b\b\b\b\b\b\b\b\b\b\b\b\b\b\b\b\b\b\b\b\b\b\b\b\b\b\b\b\b\b\b\b\b\b\b\r166/500 [========>.....................] - ETA: 1s - loss: 474.8853 - acc: 0.3561",
                "stream": "stdout"
              },
              {
                "output_type": "stream",
                "metadata": {
                  "tags": []
                },
                "text": "\b\b\b\b\b\b\b\b\b\b\b\b\b\b\b\b\b\b\b\b\b\b\b\b\b\b\b\b\b\b\b\b\b\b\b\b\b\b\b\b\b\b\b\b\b\b\b\b\b\b\b\b\b\b\b\b\b\b\b\b\b\b\b\b\b\b\b\b\b\b\b\b\b\b\b\b\b\b\b\b\b\r179/500 [=========>....................] - ETA: 1s - loss: 474.8797 - acc: 0.3593",
                "stream": "stdout"
              },
              {
                "output_type": "stream",
                "metadata": {
                  "tags": []
                },
                "text": "\b\b\b\b\b\b\b\b\b\b\b\b\b\b\b\b\b\b\b\b\b\b\b\b\b\b\b\b\b\b\b\b\b\b\b\b\b\b\b\b\b\b\b\b\b\b\b\b\b\b\b\b\b\b\b\b\b\b\b\b\b\b\b\b\b\b\b\b\b\b\b\b\b\b\b\b\b\b\b\b\b\r194/500 [==========>...................] - ETA: 1s - loss: 474.8732 - acc: 0.3744",
                "stream": "stdout"
              },
              {
                "output_type": "stream",
                "metadata": {
                  "tags": []
                },
                "text": "\b\b\b\b\b\b\b\b\b\b\b\b\b\b\b\b\b\b\b\b\b\b\b\b\b\b\b\b\b\b\b\b\b\b\b\b\b\b\b\b\b\b\b\b\b\b\b\b\b\b\b\b\b\b\b\b\b\b\b\b\b\b\b\b\b\b\b\b\b\b\b\b\b\b\b\b\b\b\b\b\b\r209/500 [===========>..................] - ETA: 0s - loss: 474.8668 - acc: 0.3853",
                "stream": "stdout"
              },
              {
                "output_type": "stream",
                "metadata": {
                  "tags": []
                },
                "text": "\b\b\b\b\b\b\b\b\b\b\b\b\b\b\b\b\b\b\b\b\b\b\b\b\b\b\b\b\b\b\b\b\b\b\b\b\b\b\b\b\b\b\b\b\b\b\b\b\b\b\b\b\b\b\b\b\b\b\b\b\b\b\b\b\b\b\b\b\b\b\b\b\b\b\b\b\b\b\b\b\b\r224/500 [============>.................] - ETA: 0s - loss: 474.8604 - acc: 0.3908",
                "stream": "stdout"
              },
              {
                "output_type": "stream",
                "metadata": {
                  "tags": []
                },
                "text": "\b\b\b\b\b\b\b\b\b\b\b\b\b\b\b\b\b\b\b\b\b\b\b\b\b\b\b\b\b\b\b\b\b\b\b\b\b\b\b\b\b\b\b\b\b\b\b\b\b\b\b\b\b\b\b\b\b\b\b\b\b\b\b\b\b\b\b\b\b\b\b\b\b\b\b\b\b\b\b\b\b\r237/500 [=============>................] - ETA: 0s - loss: 474.8548 - acc: 0.4040",
                "stream": "stdout"
              },
              {
                "output_type": "stream",
                "metadata": {
                  "tags": []
                },
                "text": "\b\b\b\b\b\b\b\b\b\b\b\b\b\b\b\b\b\b\b\b\b\b\b\b\b\b\b\b\b\b\b\b\b\b\b\b\b\b\b\b\b\b\b\b\b\b\b\b\b\b\b\b\b\b\b\b\b\b\b\b\b\b\b\b\b\b\b\b\b\b\b\b\b\b\b\b\b\b\b\b\b\r252/500 [==============>...............] - ETA: 0s - loss: 474.8483 - acc: 0.4048",
                "stream": "stdout"
              },
              {
                "output_type": "stream",
                "metadata": {
                  "tags": []
                },
                "text": "\b\b\b\b\b\b\b\b\b\b\b\b\b\b\b\b\b\b\b\b\b\b\b\b\b\b\b\b\b\b\b\b\b\b\b\b\b\b\b\b\b\b\b\b\b\b\b\b\b\b\b\b\b\b\b\b\b\b\b\b\b\b\b\b\b\b\b\b\b\b\b\b\b\b\b\b\b\b\b\b\b\r267/500 [===============>..............] - ETA: 0s - loss: 474.8419 - acc: 0.4149",
                "stream": "stdout"
              },
              {
                "output_type": "stream",
                "metadata": {
                  "tags": []
                },
                "text": "\b\b\b\b\b\b\b\b\b\b\b\b\b\b\b\b\b\b\b\b\b\b\b\b\b\b\b\b\b\b\b\b\b\b\b\b\b\b\b\b\b\b\b\b\b\b\b\b\b\b\b\b\b\b\b\b\b\b\b\b\b\b\b\b\b\b\b\b\b\b\b\b\b\b\b\b\b\b\b\b\b\r283/500 [===============>..............] - ETA: 0s - loss: 474.8350 - acc: 0.4223",
                "stream": "stdout"
              },
              {
                "output_type": "stream",
                "metadata": {
                  "tags": []
                },
                "text": "\b\b\b\b\b\b\b\b\b\b\b\b\b\b\b\b\b\b\b\b\b\b\b\b\b\b\b\b\b\b\b\b\b\b\b\b\b\b\b\b\b\b\b\b\b\b\b\b\b\b\b\b\b\b\b\b\b\b\b\b\b\b\b\b\b\b\b\b\b\b\b\b\b\b\b\b\b\b\b\b\b\r298/500 [================>.............] - ETA: 0s - loss: 474.8286 - acc: 0.4304",
                "stream": "stdout"
              },
              {
                "output_type": "stream",
                "metadata": {
                  "tags": []
                },
                "text": "\b\b\b\b\b\b\b\b\b\b\b\b\b\b\b\b\b\b\b\b\b\b\b\b\b\b\b\b\b\b\b\b\b\b\b\b\b\b\b\b\b\b\b\b\b\b\b\b\b\b\b\b\b\b\b\b\b\b\b\b\b\b\b\b\b\b\b\b\b\b\b\b\b\b\b\b\b\b\b\b\b\r314/500 [=================>............] - ETA: 0s - loss: 474.8217 - acc: 0.4382",
                "stream": "stdout"
              },
              {
                "output_type": "stream",
                "metadata": {
                  "tags": []
                },
                "text": "\b\b\b\b\b\b\b\b\b\b\b\b\b\b\b\b\b\b\b\b\b\b\b\b\b\b\b\b\b\b\b\b\b\b\b\b\b\b\b\b\b\b\b\b\b\b\b\b\b\b\b\b\b\b\b\b\b\b\b\b\b\b\b\b\b\b\b\b\b\b\b\b\b\b\b\b\b\b\b\b\b\r329/500 [==================>...........] - ETA: 0s - loss: 474.8153 - acc: 0.4429",
                "stream": "stdout"
              },
              {
                "output_type": "stream",
                "metadata": {
                  "tags": []
                },
                "text": "\b\b\b\b\b\b\b\b\b\b\b\b\b\b\b\b\b\b\b\b\b\b\b\b\b\b\b\b\b\b\b\b\b\b\b\b\b\b\b\b\b\b\b\b\b\b\b\b\b\b\b\b\b\b\b\b\b\b\b\b\b\b\b\b\b\b\b\b\b\b\b\b\b\b\b\b\b\b\b\b\b\r345/500 [===================>..........] - ETA: 0s - loss: 474.8084 - acc: 0.4497",
                "stream": "stdout"
              },
              {
                "output_type": "stream",
                "metadata": {
                  "tags": []
                },
                "text": "\b\b\b\b\b\b\b\b\b\b\b\b\b\b\b\b\b\b\b\b\b\b\b\b\b\b\b\b\b\b\b\b\b\b\b\b\b\b\b\b\b\b\b\b\b\b\b\b\b\b\b\b\b\b\b\b\b\b\b\b\b\b\b\b\b\b\b\b\b\b\b\b\b\b\b\b\b\b\b\b\b\r359/500 [====================>.........] - ETA: 0s - loss: 474.8025 - acc: 0.4558",
                "stream": "stdout"
              },
              {
                "output_type": "stream",
                "metadata": {
                  "tags": []
                },
                "text": "\b\b\b\b\b\b\b\b\b\b\b\b\b\b\b\b\b\b\b\b\b\b\b\b\b\b\b\b\b\b\b\b\b\b\b\b\b\b\b\b\b\b\b\b\b\b\b\b\b\b\b\b\b\b\b\b\b\b\b\b\b\b\b\b\b\b\b\b\b\b\b\b\b\b\b\b\b\b\b\b\b\r375/500 [=====================>........] - ETA: 0s - loss: 474.7955 - acc: 0.4619",
                "stream": "stdout"
              },
              {
                "output_type": "stream",
                "metadata": {
                  "tags": []
                },
                "text": "\b\b\b\b\b\b\b\b\b\b\b\b\b\b\b\b\b\b\b\b\b\b\b\b\b\b\b\b\b\b\b\b\b\b\b\b\b\b\b\b\b\b\b\b\b\b\b\b\b\b\b\b\b\b\b\b\b\b\b\b\b\b\b\b\b\b\b\b\b\b\b\b\b\b\b\b\b\b\b\b\b\r391/500 [======================>.......] - ETA: 0s - loss: 474.7886 - acc: 0.4680",
                "stream": "stdout"
              },
              {
                "output_type": "stream",
                "metadata": {
                  "tags": []
                },
                "text": "\b\b\b\b\b\b\b\b\b\b\b\b\b\b\b\b\b\b\b\b\b\b\b\b\b\b\b\b\b\b\b\b\b\b\b\b\b\b\b\b\b\b\b\b\b\b\b\b\b\b\b\b\b\b\b\b\b\b\b\b\b\b\b\b\b\b\b\b\b\b\b\b\b\b\b\b\b\b\b\b\b\r407/500 [=======================>......] - ETA: 0s - loss: 474.7819 - acc: 0.4726",
                "stream": "stdout"
              },
              {
                "output_type": "stream",
                "metadata": {
                  "tags": []
                },
                "text": "\b\b\b\b\b\b\b\b\b\b\b\b\b\b\b\b\b\b\b\b\b\b\b\b\b\b\b\b\b\b\b\b\b\b\b\b\b\b\b\b\b\b\b\b\b\b\b\b\b\b\b\b\b\b\b\b\b\b\b\b\b\b\b\b\b\b\b\b\b\b\b\b\b\b\b\b\b\b\b\b\b\r422/500 [========================>.....] - ETA: 0s - loss: 474.7754 - acc: 0.4771",
                "stream": "stdout"
              },
              {
                "output_type": "stream",
                "metadata": {
                  "tags": []
                },
                "text": "\b\b\b\b\b\b\b\b\b\b\b\b\b\b\b\b\b\b\b\b\b\b\b\b\b\b\b\b\b\b\b\b\b\b\b\b\b\b\b\b\b\b\b\b\b\b\b\b\b\b\b\b\b\b\b\b\b\b\b\b\b\b\b\b\b\b\b\b\b\b\b\b\b\b\b\b\b\b\b\b\b\r437/500 [=========================>....] - ETA: 0s - loss: 474.7690 - acc: 0.4829",
                "stream": "stdout"
              },
              {
                "output_type": "stream",
                "metadata": {
                  "tags": []
                },
                "text": "\b\b\b\b\b\b\b\b\b\b\b\b\b\b\b\b\b\b\b\b\b\b\b\b\b\b\b\b\b\b\b\b\b\b\b\b\b\b\b\b\b\b\b\b\b\b\b\b\b\b\b\b\b\b\b\b\b\b\b\b\b\b\b\b\b\b\b\b\b\b\b\b\b\b\b\b\b\b\b\b\b\r453/500 [==========================>...] - ETA: 0s - loss: 474.7622 - acc: 0.4892",
                "stream": "stdout"
              },
              {
                "output_type": "stream",
                "metadata": {
                  "tags": []
                },
                "text": "\b\b\b\b\b\b\b\b\b\b\b\b\b\b\b\b\b\b\b\b\b\b\b\b\b\b\b\b\b\b\b\b\b\b\b\b\b\b\b\b\b\b\b\b\b\b\b\b\b\b\b\b\b\b\b\b\b\b\b\b\b\b\b\b\b\b\b\b\b\b\b\b\b\b\b\b\b\b\b\b\b\r469/500 [===========================>..] - ETA: 0s - loss: 474.7553 - acc: 0.4946",
                "stream": "stdout"
              },
              {
                "output_type": "stream",
                "metadata": {
                  "tags": []
                },
                "text": "\b\b\b\b\b\b\b\b\b\b\b\b\b\b\b\b\b\b\b\b\b\b\b\b\b\b\b\b\b\b\b\b\b\b\b\b\b\b\b\b\b\b\b\b\b\b\b\b\b\b\b\b\b\b\b\b\b\b\b\b\b\b\b\b\b\b\b\b\b\b\b\b\b\b\b\b\b\b\b\b\b\r484/500 [============================>.] - ETA: 0s - loss: 474.7489 - acc: 0.4989",
                "stream": "stdout"
              },
              {
                "output_type": "stream",
                "metadata": {
                  "tags": []
                },
                "text": "\b\b\b\b\b\b\b\b\b\b\b\b\b\b\b\b\b\b\b\b\b\b\b\b\b\b\b\b\b\b\b\b\b\b\b\b\b\b\b\b\b\b\b\b\b\b\b\b\b\b\b\b\b\b\b\b\b\b\b\b\b\b\b\b\b\b\b\b\b\b\b\b\b\b\b\b\b\b\b\b\b\r500/500 [==============================] - ETA: 0s - loss: 474.7421 - acc: 0.5041",
                "stream": "stdout"
              },
              {
                "output_type": "stream",
                "metadata": {
                  "tags": []
                },
                "text": "\b\b\b\b\b\b\b\b\b\b\b\b\b\b\b\b\b\b\b\b\b\b\b\b\b\b\b\b\b\b\b\b\b\b\b\b\b\b\b\b\b\b\b\b\b\b\b\b\b\b\b\b\b\b\b\b\b\b\b\b\b\b\b\b\b\b\b\b\b\b\b\b\b\b\b\b\b\b\b\b\b\r500/500 [==============================] - 2s 4ms/step - loss: 474.7421 - acc: 0.5041 - val_loss: 474.5279 - val_acc: 0.9363\n",
                "stream": "stdout"
              },
              {
                "output_type": "stream",
                "metadata": {
                  "tags": []
                },
                "text": "Accuracy:  0.9362999796867371\n",
                "stream": "stdout"
              },
              {
                "output_type": "display_data",
                "metadata": {
                  "tags": [],
                  "needs_background": "light"
                },
                "image/png": "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\n",
                "text/plain": "<Figure size 432x288 with 1 Axes>"
              },
              {
                "output_type": "display_data",
                "metadata": {
                  "tags": [],
                  "needs_background": "light"
                },
                "image/png": "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\n",
                "text/plain": "<Figure size 432x288 with 1 Axes>"
              }
            ],
            "_view_module": "@jupyter-widgets/output",
            "_model_module_version": "1.0.0",
            "_view_count": null,
            "_view_module_version": "1.0.0",
            "layout": "IPY_MODEL_744597c7e3f44279a047cef708d38d07",
            "_model_module": "@jupyter-widgets/output"
          }
        },
        "eea291d63cfb40458e69b74133f423ce": {
          "model_module": "@jupyter-widgets/controls",
          "model_name": "SliderStyleModel",
          "state": {
            "_view_name": "StyleView",
            "handle_color": null,
            "_model_name": "SliderStyleModel",
            "description_width": "",
            "_view_module": "@jupyter-widgets/base",
            "_model_module_version": "1.5.0",
            "_view_count": null,
            "_view_module_version": "1.2.0",
            "_model_module": "@jupyter-widgets/controls"
          }
        },
        "1c96418ba37b4c6885c1bbe35e96d8dd": {
          "model_module": "@jupyter-widgets/base",
          "model_name": "LayoutModel",
          "state": {
            "_view_name": "LayoutView",
            "grid_template_rows": null,
            "right": null,
            "justify_content": null,
            "_view_module": "@jupyter-widgets/base",
            "overflow": null,
            "_model_module_version": "1.2.0",
            "_view_count": null,
            "flex_flow": null,
            "width": null,
            "min_width": null,
            "border": null,
            "align_items": null,
            "bottom": null,
            "_model_module": "@jupyter-widgets/base",
            "top": null,
            "grid_column": null,
            "overflow_y": null,
            "overflow_x": null,
            "grid_auto_flow": null,
            "grid_area": null,
            "grid_template_columns": null,
            "flex": null,
            "_model_name": "LayoutModel",
            "justify_items": null,
            "grid_row": null,
            "max_height": null,
            "align_content": null,
            "visibility": null,
            "align_self": null,
            "height": null,
            "min_height": null,
            "padding": null,
            "grid_auto_rows": null,
            "grid_gap": null,
            "max_width": null,
            "order": null,
            "_view_module_version": "1.2.0",
            "grid_template_areas": null,
            "object_position": null,
            "object_fit": null,
            "grid_auto_columns": null,
            "margin": null,
            "display": null,
            "left": null
          }
        },
        "a070a67c5836420eafaf07fe5cb10398": {
          "model_module": "@jupyter-widgets/controls",
          "model_name": "DescriptionStyleModel",
          "state": {
            "_view_name": "StyleView",
            "_model_name": "DescriptionStyleModel",
            "description_width": "initial",
            "_view_module": "@jupyter-widgets/base",
            "_model_module_version": "1.5.0",
            "_view_count": null,
            "_view_module_version": "1.2.0",
            "_model_module": "@jupyter-widgets/controls"
          }
        },
        "fc16ecaeaa064ce1a85e85b717f76450": {
          "model_module": "@jupyter-widgets/base",
          "model_name": "LayoutModel",
          "state": {
            "_view_name": "LayoutView",
            "grid_template_rows": null,
            "right": null,
            "justify_content": null,
            "_view_module": "@jupyter-widgets/base",
            "overflow": null,
            "_model_module_version": "1.2.0",
            "_view_count": null,
            "flex_flow": null,
            "width": null,
            "min_width": null,
            "border": null,
            "align_items": null,
            "bottom": null,
            "_model_module": "@jupyter-widgets/base",
            "top": null,
            "grid_column": null,
            "overflow_y": null,
            "overflow_x": null,
            "grid_auto_flow": null,
            "grid_area": null,
            "grid_template_columns": null,
            "flex": null,
            "_model_name": "LayoutModel",
            "justify_items": null,
            "grid_row": null,
            "max_height": null,
            "align_content": null,
            "visibility": null,
            "align_self": null,
            "height": null,
            "min_height": null,
            "padding": null,
            "grid_auto_rows": null,
            "grid_gap": null,
            "max_width": null,
            "order": null,
            "_view_module_version": "1.2.0",
            "grid_template_areas": null,
            "object_position": null,
            "object_fit": null,
            "grid_auto_columns": null,
            "margin": null,
            "display": null,
            "left": null
          }
        },
        "f1a77be3a8d54a3198e09966721d06ae": {
          "model_module": "@jupyter-widgets/controls",
          "model_name": "DescriptionStyleModel",
          "state": {
            "_view_name": "StyleView",
            "_model_name": "DescriptionStyleModel",
            "description_width": "initial",
            "_view_module": "@jupyter-widgets/base",
            "_model_module_version": "1.5.0",
            "_view_count": null,
            "_view_module_version": "1.2.0",
            "_model_module": "@jupyter-widgets/controls"
          }
        },
        "1817a9dd15004baf9243bd0341b12376": {
          "model_module": "@jupyter-widgets/base",
          "model_name": "LayoutModel",
          "state": {
            "_view_name": "LayoutView",
            "grid_template_rows": null,
            "right": null,
            "justify_content": null,
            "_view_module": "@jupyter-widgets/base",
            "overflow": null,
            "_model_module_version": "1.2.0",
            "_view_count": null,
            "flex_flow": null,
            "width": null,
            "min_width": null,
            "border": null,
            "align_items": null,
            "bottom": null,
            "_model_module": "@jupyter-widgets/base",
            "top": null,
            "grid_column": null,
            "overflow_y": null,
            "overflow_x": null,
            "grid_auto_flow": null,
            "grid_area": null,
            "grid_template_columns": null,
            "flex": null,
            "_model_name": "LayoutModel",
            "justify_items": null,
            "grid_row": null,
            "max_height": null,
            "align_content": null,
            "visibility": null,
            "align_self": null,
            "height": null,
            "min_height": null,
            "padding": null,
            "grid_auto_rows": null,
            "grid_gap": null,
            "max_width": null,
            "order": null,
            "_view_module_version": "1.2.0",
            "grid_template_areas": null,
            "object_position": null,
            "object_fit": null,
            "grid_auto_columns": null,
            "margin": null,
            "display": null,
            "left": null
          }
        },
        "4af9133d1c324a5aa384540a35741251": {
          "model_module": "@jupyter-widgets/controls",
          "model_name": "ToggleButtonsStyleModel",
          "state": {
            "_view_name": "StyleView",
            "button_width": "",
            "_model_name": "ToggleButtonsStyleModel",
            "description_width": "initial",
            "_view_module": "@jupyter-widgets/base",
            "_model_module_version": "1.5.0",
            "_view_count": null,
            "font_weight": "",
            "_view_module_version": "1.2.0",
            "_model_module": "@jupyter-widgets/controls"
          }
        },
        "138717f827754fd89250952ef3f65d31": {
          "model_module": "@jupyter-widgets/base",
          "model_name": "LayoutModel",
          "state": {
            "_view_name": "LayoutView",
            "grid_template_rows": null,
            "right": null,
            "justify_content": null,
            "_view_module": "@jupyter-widgets/base",
            "overflow": null,
            "_model_module_version": "1.2.0",
            "_view_count": null,
            "flex_flow": null,
            "width": null,
            "min_width": null,
            "border": null,
            "align_items": null,
            "bottom": null,
            "_model_module": "@jupyter-widgets/base",
            "top": null,
            "grid_column": null,
            "overflow_y": null,
            "overflow_x": null,
            "grid_auto_flow": null,
            "grid_area": null,
            "grid_template_columns": null,
            "flex": null,
            "_model_name": "LayoutModel",
            "justify_items": null,
            "grid_row": null,
            "max_height": null,
            "align_content": null,
            "visibility": null,
            "align_self": null,
            "height": null,
            "min_height": null,
            "padding": null,
            "grid_auto_rows": null,
            "grid_gap": null,
            "max_width": null,
            "order": null,
            "_view_module_version": "1.2.0",
            "grid_template_areas": null,
            "object_position": null,
            "object_fit": null,
            "grid_auto_columns": null,
            "margin": null,
            "display": null,
            "left": null
          }
        },
        "23e7f2c07b1747c9b741452f586ec568": {
          "model_module": "@jupyter-widgets/controls",
          "model_name": "ToggleButtonsStyleModel",
          "state": {
            "_view_name": "StyleView",
            "button_width": "",
            "_model_name": "ToggleButtonsStyleModel",
            "description_width": "initial",
            "_view_module": "@jupyter-widgets/base",
            "_model_module_version": "1.5.0",
            "_view_count": null,
            "font_weight": "",
            "_view_module_version": "1.2.0",
            "_model_module": "@jupyter-widgets/controls"
          }
        },
        "daeee090910b40dcbeb547755c6154a8": {
          "model_module": "@jupyter-widgets/base",
          "model_name": "LayoutModel",
          "state": {
            "_view_name": "LayoutView",
            "grid_template_rows": null,
            "right": null,
            "justify_content": null,
            "_view_module": "@jupyter-widgets/base",
            "overflow": null,
            "_model_module_version": "1.2.0",
            "_view_count": null,
            "flex_flow": null,
            "width": null,
            "min_width": null,
            "border": null,
            "align_items": null,
            "bottom": null,
            "_model_module": "@jupyter-widgets/base",
            "top": null,
            "grid_column": null,
            "overflow_y": null,
            "overflow_x": null,
            "grid_auto_flow": null,
            "grid_area": null,
            "grid_template_columns": null,
            "flex": null,
            "_model_name": "LayoutModel",
            "justify_items": null,
            "grid_row": null,
            "max_height": null,
            "align_content": null,
            "visibility": null,
            "align_self": null,
            "height": null,
            "min_height": null,
            "padding": null,
            "grid_auto_rows": null,
            "grid_gap": null,
            "max_width": null,
            "order": null,
            "_view_module_version": "1.2.0",
            "grid_template_areas": null,
            "object_position": null,
            "object_fit": null,
            "grid_auto_columns": null,
            "margin": null,
            "display": null,
            "left": null
          }
        },
        "a1a389cbde2f4451af374674e21d0cd5": {
          "model_module": "@jupyter-widgets/controls",
          "model_name": "ToggleButtonsStyleModel",
          "state": {
            "_view_name": "StyleView",
            "button_width": "",
            "_model_name": "ToggleButtonsStyleModel",
            "description_width": "initial",
            "_view_module": "@jupyter-widgets/base",
            "_model_module_version": "1.5.0",
            "_view_count": null,
            "font_weight": "",
            "_view_module_version": "1.2.0",
            "_model_module": "@jupyter-widgets/controls"
          }
        },
        "66383874aa34457f90a350842c05ede9": {
          "model_module": "@jupyter-widgets/base",
          "model_name": "LayoutModel",
          "state": {
            "_view_name": "LayoutView",
            "grid_template_rows": null,
            "right": null,
            "justify_content": null,
            "_view_module": "@jupyter-widgets/base",
            "overflow": null,
            "_model_module_version": "1.2.0",
            "_view_count": null,
            "flex_flow": null,
            "width": null,
            "min_width": null,
            "border": null,
            "align_items": null,
            "bottom": null,
            "_model_module": "@jupyter-widgets/base",
            "top": null,
            "grid_column": null,
            "overflow_y": null,
            "overflow_x": null,
            "grid_auto_flow": null,
            "grid_area": null,
            "grid_template_columns": null,
            "flex": null,
            "_model_name": "LayoutModel",
            "justify_items": null,
            "grid_row": null,
            "max_height": null,
            "align_content": null,
            "visibility": null,
            "align_self": null,
            "height": null,
            "min_height": null,
            "padding": null,
            "grid_auto_rows": null,
            "grid_gap": null,
            "max_width": null,
            "order": null,
            "_view_module_version": "1.2.0",
            "grid_template_areas": null,
            "object_position": null,
            "object_fit": null,
            "grid_auto_columns": null,
            "margin": null,
            "display": null,
            "left": null
          }
        },
        "15f3546688274871adb9d7be244e2a06": {
          "model_module": "@jupyter-widgets/controls",
          "model_name": "DescriptionStyleModel",
          "state": {
            "_view_name": "StyleView",
            "_model_name": "DescriptionStyleModel",
            "description_width": "initial",
            "_view_module": "@jupyter-widgets/base",
            "_model_module_version": "1.5.0",
            "_view_count": null,
            "_view_module_version": "1.2.0",
            "_model_module": "@jupyter-widgets/controls"
          }
        },
        "dd9a08cd49334af0b9d34dd239a3a6b5": {
          "model_module": "@jupyter-widgets/base",
          "model_name": "LayoutModel",
          "state": {
            "_view_name": "LayoutView",
            "grid_template_rows": null,
            "right": null,
            "justify_content": null,
            "_view_module": "@jupyter-widgets/base",
            "overflow": null,
            "_model_module_version": "1.2.0",
            "_view_count": null,
            "flex_flow": null,
            "width": null,
            "min_width": null,
            "border": null,
            "align_items": null,
            "bottom": null,
            "_model_module": "@jupyter-widgets/base",
            "top": null,
            "grid_column": null,
            "overflow_y": null,
            "overflow_x": null,
            "grid_auto_flow": null,
            "grid_area": null,
            "grid_template_columns": null,
            "flex": null,
            "_model_name": "LayoutModel",
            "justify_items": null,
            "grid_row": null,
            "max_height": null,
            "align_content": null,
            "visibility": null,
            "align_self": null,
            "height": null,
            "min_height": null,
            "padding": null,
            "grid_auto_rows": null,
            "grid_gap": null,
            "max_width": null,
            "order": null,
            "_view_module_version": "1.2.0",
            "grid_template_areas": null,
            "object_position": null,
            "object_fit": null,
            "grid_auto_columns": null,
            "margin": null,
            "display": null,
            "left": null
          }
        },
        "fd5eb77bffc74afeadf50c4d9d21666b": {
          "model_module": "@jupyter-widgets/controls",
          "model_name": "SliderStyleModel",
          "state": {
            "_view_name": "StyleView",
            "handle_color": null,
            "_model_name": "SliderStyleModel",
            "description_width": "initial",
            "_view_module": "@jupyter-widgets/base",
            "_model_module_version": "1.5.0",
            "_view_count": null,
            "_view_module_version": "1.2.0",
            "_model_module": "@jupyter-widgets/controls"
          }
        },
        "d9d4c0c33a604ef89c1ef3ac5a037b18": {
          "model_module": "@jupyter-widgets/base",
          "model_name": "LayoutModel",
          "state": {
            "_view_name": "LayoutView",
            "grid_template_rows": null,
            "right": null,
            "justify_content": null,
            "_view_module": "@jupyter-widgets/base",
            "overflow": null,
            "_model_module_version": "1.2.0",
            "_view_count": null,
            "flex_flow": null,
            "width": null,
            "min_width": null,
            "border": null,
            "align_items": null,
            "bottom": null,
            "_model_module": "@jupyter-widgets/base",
            "top": null,
            "grid_column": null,
            "overflow_y": null,
            "overflow_x": null,
            "grid_auto_flow": null,
            "grid_area": null,
            "grid_template_columns": null,
            "flex": null,
            "_model_name": "LayoutModel",
            "justify_items": null,
            "grid_row": null,
            "max_height": null,
            "align_content": null,
            "visibility": null,
            "align_self": null,
            "height": null,
            "min_height": null,
            "padding": null,
            "grid_auto_rows": null,
            "grid_gap": null,
            "max_width": null,
            "order": null,
            "_view_module_version": "1.2.0",
            "grid_template_areas": null,
            "object_position": null,
            "object_fit": null,
            "grid_auto_columns": null,
            "margin": null,
            "display": null,
            "left": null
          }
        },
        "4cc15571cd87422583aacdbd4614be14": {
          "model_module": "@jupyter-widgets/controls",
          "model_name": "SliderStyleModel",
          "state": {
            "_view_name": "StyleView",
            "handle_color": null,
            "_model_name": "SliderStyleModel",
            "description_width": "initial",
            "_view_module": "@jupyter-widgets/base",
            "_model_module_version": "1.5.0",
            "_view_count": null,
            "_view_module_version": "1.2.0",
            "_model_module": "@jupyter-widgets/controls"
          }
        },
        "34ba58c128104f87b7136661bce32a11": {
          "model_module": "@jupyter-widgets/base",
          "model_name": "LayoutModel",
          "state": {
            "_view_name": "LayoutView",
            "grid_template_rows": null,
            "right": null,
            "justify_content": null,
            "_view_module": "@jupyter-widgets/base",
            "overflow": null,
            "_model_module_version": "1.2.0",
            "_view_count": null,
            "flex_flow": null,
            "width": null,
            "min_width": null,
            "border": null,
            "align_items": null,
            "bottom": null,
            "_model_module": "@jupyter-widgets/base",
            "top": null,
            "grid_column": null,
            "overflow_y": null,
            "overflow_x": null,
            "grid_auto_flow": null,
            "grid_area": null,
            "grid_template_columns": null,
            "flex": null,
            "_model_name": "LayoutModel",
            "justify_items": null,
            "grid_row": null,
            "max_height": null,
            "align_content": null,
            "visibility": null,
            "align_self": null,
            "height": null,
            "min_height": null,
            "padding": null,
            "grid_auto_rows": null,
            "grid_gap": null,
            "max_width": null,
            "order": null,
            "_view_module_version": "1.2.0",
            "grid_template_areas": null,
            "object_position": null,
            "object_fit": null,
            "grid_auto_columns": null,
            "margin": null,
            "display": null,
            "left": null
          }
        },
        "913772231c47408b9ca4f6a9b9f1f05d": {
          "model_module": "@jupyter-widgets/controls",
          "model_name": "DescriptionStyleModel",
          "state": {
            "_view_name": "StyleView",
            "_model_name": "DescriptionStyleModel",
            "description_width": "initial",
            "_view_module": "@jupyter-widgets/base",
            "_model_module_version": "1.5.0",
            "_view_count": null,
            "_view_module_version": "1.2.0",
            "_model_module": "@jupyter-widgets/controls"
          }
        },
        "ca588d8228a449fbba28c9d7985facce": {
          "model_module": "@jupyter-widgets/base",
          "model_name": "LayoutModel",
          "state": {
            "_view_name": "LayoutView",
            "grid_template_rows": null,
            "right": null,
            "justify_content": null,
            "_view_module": "@jupyter-widgets/base",
            "overflow": null,
            "_model_module_version": "1.2.0",
            "_view_count": null,
            "flex_flow": null,
            "width": null,
            "min_width": null,
            "border": null,
            "align_items": null,
            "bottom": null,
            "_model_module": "@jupyter-widgets/base",
            "top": null,
            "grid_column": null,
            "overflow_y": null,
            "overflow_x": null,
            "grid_auto_flow": null,
            "grid_area": null,
            "grid_template_columns": null,
            "flex": null,
            "_model_name": "LayoutModel",
            "justify_items": null,
            "grid_row": null,
            "max_height": null,
            "align_content": null,
            "visibility": null,
            "align_self": null,
            "height": null,
            "min_height": null,
            "padding": null,
            "grid_auto_rows": null,
            "grid_gap": null,
            "max_width": null,
            "order": null,
            "_view_module_version": "1.2.0",
            "grid_template_areas": null,
            "object_position": null,
            "object_fit": null,
            "grid_auto_columns": null,
            "margin": null,
            "display": null,
            "left": null
          }
        },
        "3ec96ef3b8e74601ae035f1014213da1": {
          "model_module": "@jupyter-widgets/controls",
          "model_name": "DescriptionStyleModel",
          "state": {
            "_view_name": "StyleView",
            "_model_name": "DescriptionStyleModel",
            "description_width": "initial",
            "_view_module": "@jupyter-widgets/base",
            "_model_module_version": "1.5.0",
            "_view_count": null,
            "_view_module_version": "1.2.0",
            "_model_module": "@jupyter-widgets/controls"
          }
        },
        "833eed881528428e887d3ba5fbeda857": {
          "model_module": "@jupyter-widgets/base",
          "model_name": "LayoutModel",
          "state": {
            "_view_name": "LayoutView",
            "grid_template_rows": null,
            "right": null,
            "justify_content": null,
            "_view_module": "@jupyter-widgets/base",
            "overflow": null,
            "_model_module_version": "1.2.0",
            "_view_count": null,
            "flex_flow": null,
            "width": null,
            "min_width": null,
            "border": null,
            "align_items": null,
            "bottom": null,
            "_model_module": "@jupyter-widgets/base",
            "top": null,
            "grid_column": null,
            "overflow_y": null,
            "overflow_x": null,
            "grid_auto_flow": null,
            "grid_area": null,
            "grid_template_columns": null,
            "flex": null,
            "_model_name": "LayoutModel",
            "justify_items": null,
            "grid_row": null,
            "max_height": null,
            "align_content": null,
            "visibility": null,
            "align_self": null,
            "height": null,
            "min_height": null,
            "padding": null,
            "grid_auto_rows": null,
            "grid_gap": null,
            "max_width": null,
            "order": null,
            "_view_module_version": "1.2.0",
            "grid_template_areas": null,
            "object_position": null,
            "object_fit": null,
            "grid_auto_columns": null,
            "margin": null,
            "display": null,
            "left": null
          }
        },
        "0f157a4b95334974893ae0dbd7a5d1a0": {
          "model_module": "@jupyter-widgets/controls",
          "model_name": "DescriptionStyleModel",
          "state": {
            "_view_name": "StyleView",
            "_model_name": "DescriptionStyleModel",
            "description_width": "initial",
            "_view_module": "@jupyter-widgets/base",
            "_model_module_version": "1.5.0",
            "_view_count": null,
            "_view_module_version": "1.2.0",
            "_model_module": "@jupyter-widgets/controls"
          }
        },
        "43693ec71f134eafae4b5b5cc601176d": {
          "model_module": "@jupyter-widgets/base",
          "model_name": "LayoutModel",
          "state": {
            "_view_name": "LayoutView",
            "grid_template_rows": null,
            "right": null,
            "justify_content": null,
            "_view_module": "@jupyter-widgets/base",
            "overflow": null,
            "_model_module_version": "1.2.0",
            "_view_count": null,
            "flex_flow": null,
            "width": null,
            "min_width": null,
            "border": null,
            "align_items": null,
            "bottom": null,
            "_model_module": "@jupyter-widgets/base",
            "top": null,
            "grid_column": null,
            "overflow_y": null,
            "overflow_x": null,
            "grid_auto_flow": null,
            "grid_area": null,
            "grid_template_columns": null,
            "flex": null,
            "_model_name": "LayoutModel",
            "justify_items": null,
            "grid_row": null,
            "max_height": null,
            "align_content": null,
            "visibility": null,
            "align_self": null,
            "height": null,
            "min_height": null,
            "padding": null,
            "grid_auto_rows": null,
            "grid_gap": null,
            "max_width": null,
            "order": null,
            "_view_module_version": "1.2.0",
            "grid_template_areas": null,
            "object_position": null,
            "object_fit": null,
            "grid_auto_columns": null,
            "margin": null,
            "display": null,
            "left": null
          }
        },
        "b2d3a8da3a1d4b4995c95a5f78e20b0c": {
          "model_module": "@jupyter-widgets/controls",
          "model_name": "DescriptionStyleModel",
          "state": {
            "_view_name": "StyleView",
            "_model_name": "DescriptionStyleModel",
            "description_width": "initial",
            "_view_module": "@jupyter-widgets/base",
            "_model_module_version": "1.5.0",
            "_view_count": null,
            "_view_module_version": "1.2.0",
            "_model_module": "@jupyter-widgets/controls"
          }
        },
        "25d3044071c843d381fb80e72d3a53ce": {
          "model_module": "@jupyter-widgets/base",
          "model_name": "LayoutModel",
          "state": {
            "_view_name": "LayoutView",
            "grid_template_rows": null,
            "right": null,
            "justify_content": null,
            "_view_module": "@jupyter-widgets/base",
            "overflow": null,
            "_model_module_version": "1.2.0",
            "_view_count": null,
            "flex_flow": null,
            "width": null,
            "min_width": null,
            "border": null,
            "align_items": null,
            "bottom": null,
            "_model_module": "@jupyter-widgets/base",
            "top": null,
            "grid_column": null,
            "overflow_y": null,
            "overflow_x": null,
            "grid_auto_flow": null,
            "grid_area": null,
            "grid_template_columns": null,
            "flex": null,
            "_model_name": "LayoutModel",
            "justify_items": null,
            "grid_row": null,
            "max_height": null,
            "align_content": null,
            "visibility": null,
            "align_self": null,
            "height": null,
            "min_height": null,
            "padding": null,
            "grid_auto_rows": null,
            "grid_gap": null,
            "max_width": null,
            "order": null,
            "_view_module_version": "1.2.0",
            "grid_template_areas": null,
            "object_position": null,
            "object_fit": null,
            "grid_auto_columns": null,
            "margin": null,
            "display": null,
            "left": null
          }
        },
        "314f02f2d0a04d6c9ffdc26927eda03e": {
          "model_module": "@jupyter-widgets/controls",
          "model_name": "ButtonStyleModel",
          "state": {
            "_view_name": "StyleView",
            "_model_name": "ButtonStyleModel",
            "_view_module": "@jupyter-widgets/base",
            "_model_module_version": "1.5.0",
            "_view_count": null,
            "button_color": null,
            "font_weight": "",
            "_view_module_version": "1.2.0",
            "_model_module": "@jupyter-widgets/controls"
          }
        },
        "69da50080ee4493c8b3d213697045763": {
          "model_module": "@jupyter-widgets/base",
          "model_name": "LayoutModel",
          "state": {
            "_view_name": "LayoutView",
            "grid_template_rows": null,
            "right": null,
            "justify_content": null,
            "_view_module": "@jupyter-widgets/base",
            "overflow": null,
            "_model_module_version": "1.2.0",
            "_view_count": null,
            "flex_flow": null,
            "width": null,
            "min_width": null,
            "border": null,
            "align_items": null,
            "bottom": null,
            "_model_module": "@jupyter-widgets/base",
            "top": null,
            "grid_column": null,
            "overflow_y": null,
            "overflow_x": null,
            "grid_auto_flow": null,
            "grid_area": null,
            "grid_template_columns": null,
            "flex": null,
            "_model_name": "LayoutModel",
            "justify_items": null,
            "grid_row": null,
            "max_height": null,
            "align_content": null,
            "visibility": null,
            "align_self": null,
            "height": null,
            "min_height": null,
            "padding": null,
            "grid_auto_rows": null,
            "grid_gap": null,
            "max_width": null,
            "order": null,
            "_view_module_version": "1.2.0",
            "grid_template_areas": null,
            "object_position": null,
            "object_fit": null,
            "grid_auto_columns": null,
            "margin": null,
            "display": null,
            "left": null
          }
        },
        "744597c7e3f44279a047cef708d38d07": {
          "model_module": "@jupyter-widgets/base",
          "model_name": "LayoutModel",
          "state": {
            "_view_name": "LayoutView",
            "grid_template_rows": null,
            "right": null,
            "justify_content": null,
            "_view_module": "@jupyter-widgets/base",
            "overflow": null,
            "_model_module_version": "1.2.0",
            "_view_count": null,
            "flex_flow": null,
            "width": null,
            "min_width": null,
            "border": null,
            "align_items": null,
            "bottom": null,
            "_model_module": "@jupyter-widgets/base",
            "top": null,
            "grid_column": null,
            "overflow_y": null,
            "overflow_x": null,
            "grid_auto_flow": null,
            "grid_area": null,
            "grid_template_columns": null,
            "flex": null,
            "_model_name": "LayoutModel",
            "justify_items": null,
            "grid_row": null,
            "max_height": null,
            "align_content": null,
            "visibility": null,
            "align_self": null,
            "height": null,
            "min_height": null,
            "padding": null,
            "grid_auto_rows": null,
            "grid_gap": null,
            "max_width": null,
            "order": null,
            "_view_module_version": "1.2.0",
            "grid_template_areas": null,
            "object_position": null,
            "object_fit": null,
            "grid_auto_columns": null,
            "margin": null,
            "display": null,
            "left": null
          }
        }
      }
    }
  },
  "cells": [
    {
      "cell_type": "markdown",
      "metadata": {
        "id": "aswBKuPetAZr"
      },
      "source": [
        "# Import dependencies"
      ]
    },
    {
      "cell_type": "code",
      "metadata": {
        "id": "FgxfIMUrtAZu"
      },
      "source": [
        "#import os\n",
        "#os.environ['THEANO_FLAGS'] = \"device=cuda,force_device=True,floatX=float32\"\n",
        "#import theano\n",
        "\n",
        "from keras.models import Sequential\n",
        "from keras.layers import Dense, Activation\n",
        "from keras.callbacks import Callback\n",
        "from keras import regularizers\n",
        "from keras import optimizers\n",
        "\n",
        "from functools import partial\n",
        "\n",
        "%matplotlib inline\n",
        "import matplotlib.pyplot as plt\n",
        "from ipywidgets import *\n",
        "\n",
        "import numpy as np"
      ],
      "execution_count": 19,
      "outputs": []
    },
    {
      "cell_type": "markdown",
      "metadata": {
        "id": "r-AMh7EOtAZ5"
      },
      "source": [
        "# Import data"
      ]
    },
    {
      "cell_type": "code",
      "metadata": {
        "id": "dkYtrNN7tAZ6"
      },
      "source": [
        "def one_hot(y):\n",
        "    t = np.zeros((len(y), np.max(y) + 1))\n",
        "    t[np.arange(len(y)), y] = 1\n",
        "    return t"
      ],
      "execution_count": 21,
      "outputs": []
    },
    {
      "cell_type": "code",
      "metadata": {
        "id": "HDKiqUmttAZ_",
        "outputId": "93f7eda4-035f-44fa-f0ba-d241c0edbbd6",
        "colab": {
          "base_uri": "https://localhost:8080/",
          "height": 73
        }
      },
      "source": [
        "#PUT HERE DATA FROM https://keras.io/datasets/ \n",
        "\n",
        "from keras.datasets import mnist\n",
        "from keras.datasets import cifar100\n",
        "\n",
        "(x_train, y_train), (x_test, y_test) = cifar100.load_data(label_mode=\"fine\")\n",
        "\n",
        "# flatten data\n",
        "x_train = x_train.reshape((x_train.shape[0], -1))\n",
        "x_test = x_test.reshape((x_test.shape[0], -1))\n",
        "\n",
        "# transform decimal to unitary code\n",
        "y_train = one_hot(y_train)\n",
        "y_test = one_hot(y_test)\n",
        "\n",
        "print(x_train.shape)\n",
        "print(y_train.shape)\n",
        "print(x_train[1])"
      ],
      "execution_count": 22,
      "outputs": [
        {
          "output_type": "stream",
          "text": [
            "(50000, 3072)\n",
            "(50000, 100)\n",
            "[255 255 255 ... 255 255 255]\n"
          ],
          "name": "stdout"
        }
      ]
    },
    {
      "cell_type": "markdown",
      "metadata": {
        "id": "paPYKkUBtAaH"
      },
      "source": [
        "## Experimentation"
      ]
    },
    {
      "cell_type": "markdown",
      "metadata": {
        "id": "RjbdBoygtAaI"
      },
      "source": [
        "Plot drawing"
      ]
    },
    {
      "cell_type": "code",
      "metadata": {
        "id": "iQpk-WwZtAaK"
      },
      "source": [
        "def plot_accuracy(history):\n",
        "    # Plot training & validation accuracy values\n",
        "    plt.plot(history.history['acc'])\n",
        "    plt.plot(history.history['val_acc'])\n",
        "    plt.title('Model accuracy')\n",
        "    plt.ylabel('Accuracy')\n",
        "    plt.xlabel('Epoch')\n",
        "    plt.legend(['Train', 'Test'], loc='upper left')\n",
        "    plt.show()\n",
        "\n",
        "    # Plot training & validation loss values\n",
        "    plt.plot(history.history['loss'])\n",
        "    plt.plot(history.history['val_loss'])\n",
        "    plt.title('Model loss')\n",
        "    plt.ylabel('Loss')\n",
        "    plt.xlabel('Epoch')\n",
        "    plt.legend(['Train', 'Test'], loc='upper left')\n",
        "    plt.show()"
      ],
      "execution_count": 23,
      "outputs": []
    },
    {
      "cell_type": "markdown",
      "metadata": {
        "id": "cE9PuHsVtAaP"
      },
      "source": [
        "Setting parameters"
      ]
    },
    {
      "cell_type": "code",
      "metadata": {
        "scrolled": false,
        "id": "34RfbyoRtAaQ",
        "outputId": "20393d1c-66ac-4cd3-f69c-50d634075636",
        "colab": {
          "base_uri": "https://localhost:8080/",
          "height": 1000,
          "referenced_widgets": [
            "a57698cc9b004c4a9a1f6f9e2ee0e97d",
            "328c29c1b42b4dd4aeced4495ef2a5d7",
            "82b488e69dcd42f1b700ec8736c321e0",
            "b10abf0165a24358b671019676643fcd",
            "9095027fc2764a4fbfe58ba00bda47b4",
            "7314543e3f3f4715971d4f32ffc2b46d",
            "f92e3a8be6b944e2b9203415ba8d0f24",
            "adfa8a831e0e48668b2fd455f2285989",
            "71947344282c4cffb83a52dd9f530602",
            "23e2b8d086254f70b1795cff82bbee0c",
            "521dd3662e794421b11c2ee916126a98",
            "17212b4cb8b047ae85051db6b949d977",
            "bb45c32d75884745bef8fd7d9291ca5b",
            "b6816ef9056245998bff2ef52a43e438",
            "8b88819c32cf457c8d5fdcb9742352fb",
            "e37c9f3d8733454f89c93f0bca389459",
            "c4b4a5a638ba46049fda7f8487bcaa8e",
            "eea291d63cfb40458e69b74133f423ce",
            "1c96418ba37b4c6885c1bbe35e96d8dd",
            "a070a67c5836420eafaf07fe5cb10398",
            "fc16ecaeaa064ce1a85e85b717f76450",
            "f1a77be3a8d54a3198e09966721d06ae",
            "1817a9dd15004baf9243bd0341b12376",
            "4af9133d1c324a5aa384540a35741251",
            "138717f827754fd89250952ef3f65d31",
            "23e7f2c07b1747c9b741452f586ec568",
            "daeee090910b40dcbeb547755c6154a8",
            "a1a389cbde2f4451af374674e21d0cd5",
            "66383874aa34457f90a350842c05ede9",
            "15f3546688274871adb9d7be244e2a06",
            "dd9a08cd49334af0b9d34dd239a3a6b5",
            "fd5eb77bffc74afeadf50c4d9d21666b",
            "d9d4c0c33a604ef89c1ef3ac5a037b18",
            "4cc15571cd87422583aacdbd4614be14",
            "34ba58c128104f87b7136661bce32a11",
            "913772231c47408b9ca4f6a9b9f1f05d",
            "ca588d8228a449fbba28c9d7985facce",
            "3ec96ef3b8e74601ae035f1014213da1",
            "833eed881528428e887d3ba5fbeda857",
            "0f157a4b95334974893ae0dbd7a5d1a0",
            "43693ec71f134eafae4b5b5cc601176d",
            "b2d3a8da3a1d4b4995c95a5f78e20b0c",
            "25d3044071c843d381fb80e72d3a53ce",
            "314f02f2d0a04d6c9ffdc26927eda03e",
            "69da50080ee4493c8b3d213697045763",
            "744597c7e3f44279a047cef708d38d07"
          ]
        }
      },
      "source": [
        "style = {'description_width': 'initial'}\n",
        "@interact_manual(\n",
        "    n_layers=IntSlider(min=0, max=4, value=2, description='Layers: '),\n",
        "    layer_size=IntSlider(min=0, max=20, value=6, description='Neurons per layer: ', style=style),\n",
        "    layer1_type=Dropdown(options=['softmax', 'relu', 'tanh', 'sigmoid', 'linear'], value='relu',\n",
        "                          description='Layer 1 activation type: ', style=style),\n",
        "    layer2_type=Dropdown(options=['softmax', 'relu', 'tanh', 'sigmoid', 'linear'], value='relu',\n",
        "                          description='Layer 2 activation type ', style=style),\n",
        "    layer3_type=Dropdown(options=['softmax', 'relu', 'tanh', 'sigmoid', 'linear'], value='relu',\n",
        "                          description='Layer 3 activation type: ', style=style),\n",
        "    layer4_type=Dropdown(options=['softmax', 'relu', 'tanh', 'sigmoid', 'linear'], value='relu',\n",
        "                          description='Layer 4 activation type: ', style=style),\n",
        "    layer_out_type=Dropdown(options=['softmax', 'relu', 'tanh', 'sigmoid', 'linear'], value='sigmoid',\n",
        "                          description='Output layer activation type: ', style=style),\n",
        "    loss_func=Dropdown(options={\n",
        "        'Standard deviation': 'mse', \n",
        "        'Mean absolute deviation': 'mae',\n",
        "        'Binary crossentropy': 'binary_crossentropy',\n",
        "        'Categorical crossentropy': 'categorical_crossentropy'\n",
        "    }, value='categorical_crossentropy', description='Loss function: ', style=style),\n",
        "    batch_size = BoundedIntText(min=0, max=len(x_train), value=100, description='Batch size: ', style=style),\n",
        "    lr=ToggleButtons(options=[\"-0.1\", \"0\", \"0.001\", \"0.01\", \"0.05\", \"0.1\", \"0.5\", \"1\", \"5\"], \n",
        "                               value=\"0.01\", description='Learn rate: ', style=style),\n",
        "    l1=ToggleButtons(options=[\"-0.1\", \"0\", \"0.0001\", \"0.0005\", \"0.001\", \"0.005\", \"0.01\", \"0.05\", \"0.1\"], \n",
        "                               value=\"0.0001\", description='Regularization  L1: ', style=style),\n",
        "    l2=ToggleButtons(options=[\"-0.1\", \"0\", \"0.0001\", \"0.0005\", \"0.001\", \"0.005\", \"0.01\", \"0.05\", \"0.1\"], \n",
        "                               value=\"0.0001\", description='Regularization  L2: ', style=style),\n",
        "    epochs=IntSlider(min=10, max=100, step=10, value=20, description='Epoch count: ', style=style),\n",
        ")\n",
        "def interactive_learning(n_layers, loss_func, batch_size, lr, l1, l2, \n",
        "                         layer_out_type, epochs,\n",
        "                         layer_size,\n",
        "                         layer1_type, layer2_type, layer3_type, layer4_type):\n",
        "    layer_sizes = [layer_size, layer_size, layer_size, layer_size]\n",
        "    layer_types = [layer1_type, layer2_type, layer3_type, layer4_type]\n",
        "    lr = float(lr)\n",
        "    l1 = float(l1)\n",
        "    l2 = float(l2)\n",
        "    \n",
        "    model = Sequential()\n",
        "    \n",
        "    if n_layers == 0:\n",
        "        model.add(Dense(len(y_train[0]), activation=layer_out_type, \n",
        "                        input_shape=x_train[0].shape, kernel_regularizer=regularizers.l1_l2(l1=l1, l2=l2)))\n",
        "    else:\n",
        "        model.add(Dense(layer_sizes[0], activation=layer_types[0], \n",
        "                        input_shape=x_train[0].shape, kernel_regularizer=regularizers.l1_l2(l1=l1, l2=l2)))\n",
        "        for i in range(1, n_layers):\n",
        "            model.add(Dense(layer_sizes[i], activation=layer_types[i],\n",
        "                           kernel_regularizer=regularizers.l1_l2(l1=l1, l2=l2)))\n",
        "        model.add(Dense(len(y_train[0]), activation=layer_out_type, kernel_regularizer=regularizers.l1_l2(l1=l1, l2=l2)))\n",
        "    \n",
        "    model.compile(\n",
        "     optimizer = optimizers.SGD(lr=lr),\n",
        "     loss = loss_func,\n",
        "     metrics = [\"acc\"]\n",
        "    )\n",
        "    \n",
        "    history = model.fit(\n",
        "     x_train, y_train,\n",
        "     epochs=epochs,\n",
        "     batch_size=batch_size,\n",
        "     validation_data=(x_test, y_test),\n",
        "     verbose=1\n",
        "    )\n",
        "    \n",
        "    print('Accuracy: ', history.history['val_acc'][-1])\n",
        "    plot_accuracy(history)\n",
        "    #plot_contour_graph(model)"
      ],
      "execution_count": 25,
      "outputs": [
        {
          "output_type": "display_data",
          "data": {
            "application/vnd.jupyter.widget-view+json": {
              "model_id": "a57698cc9b004c4a9a1f6f9e2ee0e97d",
              "version_minor": 0,
              "version_major": 2
            },
            "text/plain": [
              "interactive(children=(IntSlider(value=2, description='Layers: ', max=4), Dropdown(description='Loss function: …"
            ]
          },
          "metadata": {
            "tags": []
          }
        }
      ]
    },
    {
      "cell_type": "code",
      "metadata": {
        "id": "9b1OPwAztAaY"
      },
      "source": [
        "display(x_train[1])\n"
      ],
      "execution_count": null,
      "outputs": []
    },
    {
      "cell_type": "code",
      "metadata": {
        "id": "GC1VKhM3tAae"
      },
      "source": [
        ""
      ],
      "execution_count": null,
      "outputs": []
    },
    {
      "cell_type": "code",
      "metadata": {
        "id": "D48766Y-tAai"
      },
      "source": [
        ""
      ],
      "execution_count": null,
      "outputs": []
    }
  ]
}