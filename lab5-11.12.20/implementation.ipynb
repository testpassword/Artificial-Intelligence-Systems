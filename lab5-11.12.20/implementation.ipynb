{
  "nbformat": 4,
  "nbformat_minor": 0,
  "metadata": {
    "kernelspec": {
      "display_name": "Python 3",
      "language": "python",
      "name": "python3"
    },
    "language_info": {
      "codemirror_mode": {
        "name": "ipython",
        "version": 3
      },
      "file_extension": ".py",
      "mimetype": "text/x-python",
      "name": "python",
      "nbconvert_exporter": "python",
      "pygments_lexer": "ipython3",
      "version": "3.7.3"
    },
    "colab": {
      "name": "Task5.ipynb",
      "provenance": [],
      "collapsed_sections": []
    },
    "accelerator": "GPU"
  },
  "cells": [
    {
      "cell_type": "code",
      "metadata": {
        "id": "AvUk9EYy3cp6",
        "colab": {
          "base_uri": "https://localhost:8080/"
        },
        "outputId": "ba27e54b-da15-4f01-e500-b1a65ae363d9"
      },
      "source": [
        "!pip install --upgrade pip\n",
        "!pip install --upgrade scikit-learn==0.23.0\n",
        "import numpy as np\n",
        "import matplotlib\n",
        "import matplotlib.pyplot as plt\n",
        "%matplotlib inline"
      ],
      "execution_count": 1,
      "outputs": [
        {
          "output_type": "stream",
          "text": [
            "Collecting pip\n",
            "\u001b[?25l  Downloading https://files.pythonhosted.org/packages/ab/11/2dc62c5263d9eb322f2f028f7b56cd9d096bb8988fcf82d65fa2e4057afe/pip-20.3.1-py2.py3-none-any.whl (1.5MB)\n",
            "\r\u001b[K     |▏                               | 10kB 29.2MB/s eta 0:00:01\r\u001b[K     |▍                               | 20kB 35.0MB/s eta 0:00:01\r\u001b[K     |▋                               | 30kB 21.1MB/s eta 0:00:01\r\u001b[K     |▉                               | 40kB 17.6MB/s eta 0:00:01\r\u001b[K     |█                               | 51kB 12.9MB/s eta 0:00:01\r\u001b[K     |█▎                              | 61kB 14.1MB/s eta 0:00:01\r\u001b[K     |█▌                              | 71kB 13.2MB/s eta 0:00:01\r\u001b[K     |█▊                              | 81kB 13.4MB/s eta 0:00:01\r\u001b[K     |██                              | 92kB 13.6MB/s eta 0:00:01\r\u001b[K     |██▏                             | 102kB 13.9MB/s eta 0:00:01\r\u001b[K     |██▍                             | 112kB 13.9MB/s eta 0:00:01\r\u001b[K     |██▋                             | 122kB 13.9MB/s eta 0:00:01\r\u001b[K     |██▉                             | 133kB 13.9MB/s eta 0:00:01\r\u001b[K     |███                             | 143kB 13.9MB/s eta 0:00:01\r\u001b[K     |███▎                            | 153kB 13.9MB/s eta 0:00:01\r\u001b[K     |███▌                            | 163kB 13.9MB/s eta 0:00:01\r\u001b[K     |███▊                            | 174kB 13.9MB/s eta 0:00:01\r\u001b[K     |███▉                            | 184kB 13.9MB/s eta 0:00:01\r\u001b[K     |████                            | 194kB 13.9MB/s eta 0:00:01\r\u001b[K     |████▎                           | 204kB 13.9MB/s eta 0:00:01\r\u001b[K     |████▌                           | 215kB 13.9MB/s eta 0:00:01\r\u001b[K     |████▊                           | 225kB 13.9MB/s eta 0:00:01\r\u001b[K     |█████                           | 235kB 13.9MB/s eta 0:00:01\r\u001b[K     |█████▏                          | 245kB 13.9MB/s eta 0:00:01\r\u001b[K     |█████▍                          | 256kB 13.9MB/s eta 0:00:01\r\u001b[K     |█████▋                          | 266kB 13.9MB/s eta 0:00:01\r\u001b[K     |█████▉                          | 276kB 13.9MB/s eta 0:00:01\r\u001b[K     |██████                          | 286kB 13.9MB/s eta 0:00:01\r\u001b[K     |██████▎                         | 296kB 13.9MB/s eta 0:00:01\r\u001b[K     |██████▌                         | 307kB 13.9MB/s eta 0:00:01\r\u001b[K     |██████▊                         | 317kB 13.9MB/s eta 0:00:01\r\u001b[K     |███████                         | 327kB 13.9MB/s eta 0:00:01\r\u001b[K     |███████▏                        | 337kB 13.9MB/s eta 0:00:01\r\u001b[K     |███████▍                        | 348kB 13.9MB/s eta 0:00:01\r\u001b[K     |███████▌                        | 358kB 13.9MB/s eta 0:00:01\r\u001b[K     |███████▊                        | 368kB 13.9MB/s eta 0:00:01\r\u001b[K     |████████                        | 378kB 13.9MB/s eta 0:00:01\r\u001b[K     |████████▏                       | 389kB 13.9MB/s eta 0:00:01\r\u001b[K     |████████▍                       | 399kB 13.9MB/s eta 0:00:01\r\u001b[K     |████████▋                       | 409kB 13.9MB/s eta 0:00:01\r\u001b[K     |████████▉                       | 419kB 13.9MB/s eta 0:00:01\r\u001b[K     |█████████                       | 430kB 13.9MB/s eta 0:00:01\r\u001b[K     |█████████▎                      | 440kB 13.9MB/s eta 0:00:01\r\u001b[K     |█████████▌                      | 450kB 13.9MB/s eta 0:00:01\r\u001b[K     |█████████▊                      | 460kB 13.9MB/s eta 0:00:01\r\u001b[K     |██████████                      | 471kB 13.9MB/s eta 0:00:01\r\u001b[K     |██████████▏                     | 481kB 13.9MB/s eta 0:00:01\r\u001b[K     |██████████▍                     | 491kB 13.9MB/s eta 0:00:01\r\u001b[K     |██████████▋                     | 501kB 13.9MB/s eta 0:00:01\r\u001b[K     |██████████▉                     | 512kB 13.9MB/s eta 0:00:01\r\u001b[K     |███████████                     | 522kB 13.9MB/s eta 0:00:01\r\u001b[K     |███████████▏                    | 532kB 13.9MB/s eta 0:00:01\r\u001b[K     |███████████▍                    | 542kB 13.9MB/s eta 0:00:01\r\u001b[K     |███████████▋                    | 552kB 13.9MB/s eta 0:00:01\r\u001b[K     |███████████▉                    | 563kB 13.9MB/s eta 0:00:01\r\u001b[K     |████████████                    | 573kB 13.9MB/s eta 0:00:01\r\u001b[K     |████████████▎                   | 583kB 13.9MB/s eta 0:00:01\r\u001b[K     |████████████▌                   | 593kB 13.9MB/s eta 0:00:01\r\u001b[K     |████████████▊                   | 604kB 13.9MB/s eta 0:00:01\r\u001b[K     |█████████████                   | 614kB 13.9MB/s eta 0:00:01\r\u001b[K     |█████████████▏                  | 624kB 13.9MB/s eta 0:00:01\r\u001b[K     |█████████████▍                  | 634kB 13.9MB/s eta 0:00:01\r\u001b[K     |█████████████▋                  | 645kB 13.9MB/s eta 0:00:01\r\u001b[K     |█████████████▉                  | 655kB 13.9MB/s eta 0:00:01\r\u001b[K     |██████████████                  | 665kB 13.9MB/s eta 0:00:01\r\u001b[K     |██████████████▎                 | 675kB 13.9MB/s eta 0:00:01\r\u001b[K     |██████████████▌                 | 686kB 13.9MB/s eta 0:00:01\r\u001b[K     |██████████████▊                 | 696kB 13.9MB/s eta 0:00:01\r\u001b[K     |███████████████                 | 706kB 13.9MB/s eta 0:00:01\r\u001b[K     |███████████████                 | 716kB 13.9MB/s eta 0:00:01\r\u001b[K     |███████████████▎                | 727kB 13.9MB/s eta 0:00:01\r\u001b[K     |███████████████▌                | 737kB 13.9MB/s eta 0:00:01\r\u001b[K     |███████████████▊                | 747kB 13.9MB/s eta 0:00:01\r\u001b[K     |████████████████                | 757kB 13.9MB/s eta 0:00:01\r\u001b[K     |████████████████▏               | 768kB 13.9MB/s eta 0:00:01\r\u001b[K     |████████████████▍               | 778kB 13.9MB/s eta 0:00:01\r\u001b[K     |████████████████▋               | 788kB 13.9MB/s eta 0:00:01\r\u001b[K     |████████████████▉               | 798kB 13.9MB/s eta 0:00:01\r\u001b[K     |█████████████████               | 808kB 13.9MB/s eta 0:00:01\r\u001b[K     |█████████████████▎              | 819kB 13.9MB/s eta 0:00:01\r\u001b[K     |█████████████████▌              | 829kB 13.9MB/s eta 0:00:01\r\u001b[K     |█████████████████▊              | 839kB 13.9MB/s eta 0:00:01\r\u001b[K     |██████████████████              | 849kB 13.9MB/s eta 0:00:01\r\u001b[K     |██████████████████▏             | 860kB 13.9MB/s eta 0:00:01\r\u001b[K     |██████████████████▍             | 870kB 13.9MB/s eta 0:00:01\r\u001b[K     |██████████████████▋             | 880kB 13.9MB/s eta 0:00:01\r\u001b[K     |██████████████████▊             | 890kB 13.9MB/s eta 0:00:01\r\u001b[K     |███████████████████             | 901kB 13.9MB/s eta 0:00:01\r\u001b[K     |███████████████████▏            | 911kB 13.9MB/s eta 0:00:01\r\u001b[K     |███████████████████▍            | 921kB 13.9MB/s eta 0:00:01\r\u001b[K     |███████████████████▋            | 931kB 13.9MB/s eta 0:00:01\r\u001b[K     |███████████████████▉            | 942kB 13.9MB/s eta 0:00:01\r\u001b[K     |████████████████████            | 952kB 13.9MB/s eta 0:00:01\r\u001b[K     |████████████████████▎           | 962kB 13.9MB/s eta 0:00:01\r\u001b[K     |████████████████████▌           | 972kB 13.9MB/s eta 0:00:01\r\u001b[K     |████████████████████▊           | 983kB 13.9MB/s eta 0:00:01\r\u001b[K     |█████████████████████           | 993kB 13.9MB/s eta 0:00:01\r\u001b[K     |█████████████████████▏          | 1.0MB 13.9MB/s eta 0:00:01\r\u001b[K     |█████████████████████▍          | 1.0MB 13.9MB/s eta 0:00:01\r\u001b[K     |█████████████████████▋          | 1.0MB 13.9MB/s eta 0:00:01\r\u001b[K     |█████████████████████▉          | 1.0MB 13.9MB/s eta 0:00:01\r\u001b[K     |██████████████████████          | 1.0MB 13.9MB/s eta 0:00:01\r\u001b[K     |██████████████████████▎         | 1.1MB 13.9MB/s eta 0:00:01\r\u001b[K     |██████████████████████▍         | 1.1MB 13.9MB/s eta 0:00:01\r\u001b[K     |██████████████████████▋         | 1.1MB 13.9MB/s eta 0:00:01\r\u001b[K     |██████████████████████▉         | 1.1MB 13.9MB/s eta 0:00:01\r\u001b[K     |███████████████████████         | 1.1MB 13.9MB/s eta 0:00:01\r\u001b[K     |███████████████████████▎        | 1.1MB 13.9MB/s eta 0:00:01\r\u001b[K     |███████████████████████▌        | 1.1MB 13.9MB/s eta 0:00:01\r\u001b[K     |███████████████████████▊        | 1.1MB 13.9MB/s eta 0:00:01\r\u001b[K     |████████████████████████        | 1.1MB 13.9MB/s eta 0:00:01\r\u001b[K     |████████████████████████▏       | 1.1MB 13.9MB/s eta 0:00:01\r\u001b[K     |████████████████████████▍       | 1.2MB 13.9MB/s eta 0:00:01\r\u001b[K     |████████████████████████▋       | 1.2MB 13.9MB/s eta 0:00:01\r\u001b[K     |████████████████████████▉       | 1.2MB 13.9MB/s eta 0:00:01\r\u001b[K     |█████████████████████████       | 1.2MB 13.9MB/s eta 0:00:01\r\u001b[K     |█████████████████████████▎      | 1.2MB 13.9MB/s eta 0:00:01\r\u001b[K     |█████████████████████████▌      | 1.2MB 13.9MB/s eta 0:00:01\r\u001b[K     |█████████████████████████▊      | 1.2MB 13.9MB/s eta 0:00:01\r\u001b[K     |██████████████████████████      | 1.2MB 13.9MB/s eta 0:00:01\r\u001b[K     |██████████████████████████      | 1.2MB 13.9MB/s eta 0:00:01\r\u001b[K     |██████████████████████████▎     | 1.2MB 13.9MB/s eta 0:00:01\r\u001b[K     |██████████████████████████▌     | 1.3MB 13.9MB/s eta 0:00:01\r\u001b[K     |██████████████████████████▊     | 1.3MB 13.9MB/s eta 0:00:01\r\u001b[K     |███████████████████████████     | 1.3MB 13.9MB/s eta 0:00:01\r\u001b[K     |███████████████████████████▏    | 1.3MB 13.9MB/s eta 0:00:01\r\u001b[K     |███████████████████████████▍    | 1.3MB 13.9MB/s eta 0:00:01\r\u001b[K     |███████████████████████████▋    | 1.3MB 13.9MB/s eta 0:00:01\r\u001b[K     |███████████████████████████▉    | 1.3MB 13.9MB/s eta 0:00:01\r\u001b[K     |████████████████████████████    | 1.3MB 13.9MB/s eta 0:00:01\r\u001b[K     |████████████████████████████▎   | 1.3MB 13.9MB/s eta 0:00:01\r\u001b[K     |████████████████████████████▌   | 1.4MB 13.9MB/s eta 0:00:01\r\u001b[K     |████████████████████████████▊   | 1.4MB 13.9MB/s eta 0:00:01\r\u001b[K     |█████████████████████████████   | 1.4MB 13.9MB/s eta 0:00:01\r\u001b[K     |█████████████████████████████▏  | 1.4MB 13.9MB/s eta 0:00:01\r\u001b[K     |█████████████████████████████▍  | 1.4MB 13.9MB/s eta 0:00:01\r\u001b[K     |█████████████████████████████▋  | 1.4MB 13.9MB/s eta 0:00:01\r\u001b[K     |█████████████████████████████▉  | 1.4MB 13.9MB/s eta 0:00:01\r\u001b[K     |██████████████████████████████  | 1.4MB 13.9MB/s eta 0:00:01\r\u001b[K     |██████████████████████████████▏ | 1.4MB 13.9MB/s eta 0:00:01\r\u001b[K     |██████████████████████████████▍ | 1.4MB 13.9MB/s eta 0:00:01\r\u001b[K     |██████████████████████████████▋ | 1.5MB 13.9MB/s eta 0:00:01\r\u001b[K     |██████████████████████████████▉ | 1.5MB 13.9MB/s eta 0:00:01\r\u001b[K     |███████████████████████████████ | 1.5MB 13.9MB/s eta 0:00:01\r\u001b[K     |███████████████████████████████▎| 1.5MB 13.9MB/s eta 0:00:01\r\u001b[K     |███████████████████████████████▌| 1.5MB 13.9MB/s eta 0:00:01\r\u001b[K     |███████████████████████████████▊| 1.5MB 13.9MB/s eta 0:00:01\r\u001b[K     |████████████████████████████████| 1.5MB 13.9MB/s eta 0:00:01\r\u001b[K     |████████████████████████████████| 1.5MB 13.9MB/s \n",
            "\u001b[?25hInstalling collected packages: pip\n",
            "  Found existing installation: pip 19.3.1\n",
            "    Uninstalling pip-19.3.1:\n",
            "      Successfully uninstalled pip-19.3.1\n",
            "Successfully installed pip-20.3.1\n",
            "Collecting scikit-learn==0.23.0\n",
            "  Downloading scikit_learn-0.23.0-cp36-cp36m-manylinux1_x86_64.whl (7.3 MB)\n",
            "\u001b[K     |████████████████████████████████| 7.3 MB 9.2 MB/s \n",
            "\u001b[?25hRequirement already satisfied: joblib>=0.11 in /usr/local/lib/python3.6/dist-packages (from scikit-learn==0.23.0) (0.17.0)\n",
            "Requirement already satisfied: scipy>=0.19.1 in /usr/local/lib/python3.6/dist-packages (from scikit-learn==0.23.0) (1.4.1)\n",
            "Requirement already satisfied: numpy>=1.13.3 in /usr/local/lib/python3.6/dist-packages (from scikit-learn==0.23.0) (1.18.5)\n",
            "Requirement already satisfied: numpy>=1.13.3 in /usr/local/lib/python3.6/dist-packages (from scikit-learn==0.23.0) (1.18.5)\n",
            "Collecting threadpoolctl>=2.0.0\n",
            "  Downloading threadpoolctl-2.1.0-py3-none-any.whl (12 kB)\n",
            "Installing collected packages: threadpoolctl, scikit-learn\n",
            "  Attempting uninstall: scikit-learn\n",
            "    Found existing installation: scikit-learn 0.22.2.post1\n",
            "    Uninstalling scikit-learn-0.22.2.post1:\n",
            "      Successfully uninstalled scikit-learn-0.22.2.post1\n",
            "Successfully installed scikit-learn-0.23.0 threadpoolctl-2.1.0\n"
          ],
          "name": "stdout"
        }
      ]
    },
    {
      "cell_type": "markdown",
      "metadata": {
        "id": "B1Vr0ffQ3cp6"
      },
      "source": [
        "MNIST - датасет образцов рукописного написания цифр, является стандартом, предложенным Национальным институтом стандартов и технологий США с целью калибрации и сопоставления методов распознавания изображений с помощью машинного обучения. Образцы из набора NIST были нормализированы, прошли сглаживание и приведены к серому полутоновому изображению размером 28x28 пикселей. "
      ]
    },
    {
      "cell_type": "code",
      "metadata": {
        "id": "04tTG0XO3cp6",
        "colab": {
          "base_uri": "https://localhost:8080/"
        },
        "outputId": "7251922f-444b-42e0-9c6d-9f0bbcd70afb"
      },
      "source": [
        "from keras.datasets import mnist\n",
        "(X_train, y_train), (X_pred, y_pred) = mnist.load_data()"
      ],
      "execution_count": 2,
      "outputs": [
        {
          "output_type": "stream",
          "text": [
            "Downloading data from https://storage.googleapis.com/tensorflow/tf-keras-datasets/mnist.npz\n",
            "11493376/11490434 [==============================] - 0s 0us/step\n"
          ],
          "name": "stdout"
        }
      ]
    },
    {
      "cell_type": "markdown",
      "metadata": {
        "id": "O5Qz9EiJ3cp6"
      },
      "source": [
        "Первый элемент и его отклик"
      ]
    },
    {
      "cell_type": "code",
      "metadata": {
        "colab": {
          "base_uri": "https://localhost:8080/",
          "height": 300
        },
        "id": "XYBTecgL3cp6",
        "outputId": "adef6ba8-b4c7-4dc6-97ab-6a901f68cbd8"
      },
      "source": [
        "plt.title(\"Нулевой объект из тренировочного набора:\")\n",
        "plt.imshow(X_train[0], cmap=\"gray\")\n",
        "y_train[0]"
      ],
      "execution_count": 3,
      "outputs": [
        {
          "output_type": "execute_result",
          "data": {
            "text/plain": [
              "5"
            ]
          },
          "metadata": {
            "tags": []
          },
          "execution_count": 3
        },
        {
          "output_type": "display_data",
          "data": {
            "image/png": "[encoded data removed]",
            "text/plain": [
              "<Figure size 432x288 with 1 Axes>"
            ]
          },
          "metadata": {
            "tags": [],
            "needs_background": "light"
          }
        }
      ]
    },
    {
      "cell_type": "markdown",
      "metadata": {
        "id": "K5jhSdT33cp7"
      },
      "source": [
        "Для разделения данных используем функцию train_test_split из библиотеки sklearn. Следующий код разделяет исходные данные в отношении 70/30."
      ]
    },
    {
      "cell_type": "code",
      "metadata": {
        "id": "LDl12GsP3cp7"
      },
      "source": [
        "from sklearn.model_selection import train_test_split\n",
        "X_train, X_test, y_train, y_test = train_test_split(X_train, y_train, test_size=0.3, random_state=2020)"
      ],
      "execution_count": 4,
      "outputs": []
    },
    {
      "cell_type": "markdown",
      "metadata": {
        "id": "IaaXle7B3cp7"
      },
      "source": [
        "Преобразуем данные"
      ]
    },
    {
      "cell_type": "code",
      "metadata": {
        "id": "l2GZJJqL3cp7"
      },
      "source": [
        "dim = 784 # 28*28 \n",
        "X_train = X_train.reshape(len(X_train), dim)\n",
        "X_test = X_test.reshape(len(X_test), dim)"
      ],
      "execution_count": 5,
      "outputs": []
    },
    {
      "cell_type": "markdown",
      "metadata": {
        "id": "IfPpPNjj3cp8"
      },
      "source": [
        "Уменьшим размерность тестовых данных и найдем долю объясненной дисперсии в зависимости от количества используемых ГК\r\n",
        "\r\n"
      ]
    },
    {
      "cell_type": "code",
      "metadata": {
        "id": "52fZ0_M03cp8",
        "colab": {
          "base_uri": "https://localhost:8080/",
          "height": 395
        },
        "outputId": "952d43b6-03b9-4cc7-c901-ccc14b184968"
      },
      "source": [
        "from sklearn.decomposition import PCA\n",
        "gold_disp = 0.8 + 265570 % 10 # необходимая долю объясненной дисперсии\n",
        "pca = PCA(n_components=50, svd_solver='full') # перебираем n_components, пока один из элементов explained_variance не станет больше gold_disp\n",
        "modelPCA = pca.fit(X_train) \n",
        "X_train = modelPCA.transform(X_train)\n",
        "explained_variance = np.round(np.cumsum(pca.explained_variance_ratio_),3)\n",
        "print(any(i >= gold_disp for i in explained_variance)) # функция, которая выведет True если Д.О.С. достигла нужного значения\n",
        "print(explained_variance)\n",
        "plt.plot(np.arange(50), explained_variance, ls = '-')"
      ],
      "execution_count": 6,
      "outputs": [
        {
          "output_type": "stream",
          "text": [
            "True\n",
            "[0.098 0.168 0.23  0.284 0.333 0.375 0.408 0.437 0.464 0.488 0.509 0.53\n",
            " 0.547 0.564 0.579 0.594 0.608 0.62  0.632 0.644 0.654 0.664 0.674 0.683\n",
            " 0.692 0.7   0.708 0.716 0.724 0.731 0.737 0.744 0.75  0.756 0.761 0.767\n",
            " 0.772 0.777 0.781 0.786 0.791 0.795 0.799 0.803 0.807 0.811 0.815 0.818\n",
            " 0.821 0.825]\n"
          ],
          "name": "stdout"
        },
        {
          "output_type": "execute_result",
          "data": {
            "text/plain": [
              "[<matplotlib.lines.Line2D at 0x7fe184ab19e8>]"
            ]
          },
          "metadata": {
            "tags": []
          },
          "execution_count": 6
        },
        {
          "output_type": "display_data",
          "data": {
            "image/png": "[encoded data removed]",
            "text/plain": [
              "<Figure size 432x288 with 1 Axes>"
            ]
          },
          "metadata": {
            "tags": [],
            "needs_background": "light"
          }
        }
      ]
    },
    {
      "cell_type": "markdown",
      "metadata": {
        "id": "ru2WBzZL3cp8"
      },
      "source": [
        "Подключаем библиотеку для обучения многоклассового классификатора методом One-vs-All и дерево принятия решений"
      ]
    },
    {
      "cell_type": "code",
      "metadata": {
        "id": "NQ3lis-Y3cp8"
      },
      "source": [
        "from sklearn.multiclass import OneVsRestClassifier\n",
        "from sklearn.tree import DecisionTreeClassifier\n",
        "from sklearn.ensemble import RandomForestClassifier\n",
        "tree = RandomForestClassifier(criterion='gini', min_samples_leaf=10, max_depth=20, n_estimators=10, random_state=2020)\n",
        "clf = OneVsRestClassifier(tree).fit(X_train, y_train)"
      ],
      "execution_count": 7,
      "outputs": []
    },
    {
      "cell_type": "markdown",
      "metadata": {
        "id": "UYQJhBK93cp-"
      },
      "source": [
        "Примените полученное ранее преобразование метода главных компонент к тестовым данным"
      ]
    },
    {
      "cell_type": "code",
      "metadata": {
        "id": "7kIwDVOt3cp-",
        "colab": {
          "base_uri": "https://localhost:8080/"
        },
        "outputId": "55cfc455-20c3-4f0e-ef07-222357494370"
      },
      "source": [
        "modelPCA = pca.fit(X_test) \n",
        "X_test = modelPCA.transform(X_test)\n",
        "y_pred = clf.predict(X_test)\n",
        "from sklearn.metrics import confusion_matrix\n",
        "CM = confusion_matrix(y_test, y_pred)\n",
        "CM"
      ],
      "execution_count": 8,
      "outputs": [
        {
          "output_type": "execute_result",
          "data": {
            "text/plain": [
              "array([[1368,    2,   77,   58,    3,   82,   39,   18,   44,    2],\n",
              "       [   0, 1792,   56,   21,    2,    9,  135,   39,   18,    3],\n",
              "       [  51,    7,  962,   65,   36,   78,  403,   20,  125,   16],\n",
              "       [  34,   13,   51, 1491,   15,   83,    9,   40,  109,   28],\n",
              "       [   8,   11,   86,    6, 1291,   29,   74,   39,   61,  151],\n",
              "       [ 103,   11,  168,  231,   53,  593,   25,   45,  333,   29],\n",
              "       [  39,   27,  810,   17,   42,   24,  599,   42,  147,   19],\n",
              "       [  79,   34,   20,    5,   69,   24,   92, 1362,   34,  167],\n",
              "       [  31,   39,  124,  320,   48,  506,   42,   27,  546,   90],\n",
              "       [  29,   31,   27,   64,  397,   44,   40,  178,  124,  890]])"
            ]
          },
          "metadata": {
            "tags": []
          },
          "execution_count": 8
        }
      ]
    },
    {
      "cell_type": "markdown",
      "metadata": {
        "id": "xSc8moVV3cp-"
      },
      "source": [
        "Число объектов класс 0 отнесенных к классу `номер в ису %9`"
      ]
    },
    {
      "cell_type": "code",
      "metadata": {
        "colab": {
          "base_uri": "https://localhost:8080/"
        },
        "id": "NTWRhL_s3cp-",
        "outputId": "2961f46c-652a-4a41-f1b7-f86e305f037f"
      },
      "source": [
        "var_class = 265570 % 9\r\n",
        "CM[var_class][var_class]"
      ],
      "execution_count": 9,
      "outputs": [
        {
          "output_type": "execute_result",
          "data": {
            "text/plain": [
              "1362"
            ]
          },
          "metadata": {
            "tags": []
          },
          "execution_count": 9
        }
      ]
    },
    {
      "cell_type": "markdown",
      "metadata": {
        "id": "RU0qnbtLHdBV"
      },
      "source": [
        "Определите `Accuracy, Precision, Recall` или `F1` для обученной модели"
      ]
    },
    {
      "cell_type": "code",
      "metadata": {
        "colab": {
          "base_uri": "https://localhost:8080/"
        },
        "id": "ft0y--BIHmAr",
        "outputId": "b1f74d09-8dfc-4d14-91c8-f0d296707af9"
      },
      "source": [
        "from sklearn.metrics import classification_report\r\n",
        "print(classification_report(y_test, y_pred))"
      ],
      "execution_count": 10,
      "outputs": [
        {
          "output_type": "stream",
          "text": [
            "              precision    recall  f1-score   support\n",
            "\n",
            "           0       0.79      0.81      0.80      1693\n",
            "           1       0.91      0.86      0.89      2075\n",
            "           2       0.40      0.55      0.46      1763\n",
            "           3       0.65      0.80      0.72      1873\n",
            "           4       0.66      0.74      0.70      1756\n",
            "           5       0.40      0.37      0.39      1591\n",
            "           6       0.41      0.34      0.37      1766\n",
            "           7       0.75      0.72      0.74      1886\n",
            "           8       0.35      0.31      0.33      1773\n",
            "           9       0.64      0.49      0.55      1824\n",
            "\n",
            "    accuracy                           0.61     18000\n",
            "   macro avg       0.60      0.60      0.59     18000\n",
            "weighted avg       0.61      0.61      0.60     18000\n",
            "\n"
          ],
          "name": "stdout"
        }
      ]
    }
  ]
}